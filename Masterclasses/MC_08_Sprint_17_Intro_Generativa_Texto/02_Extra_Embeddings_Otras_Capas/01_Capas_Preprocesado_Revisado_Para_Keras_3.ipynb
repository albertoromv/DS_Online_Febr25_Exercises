{
 "cells": [
  {
   "cell_type": "markdown",
   "metadata": {},
   "source": [
    "<img src=\"img/cabecera.png?raw=1\">"
   ]
  },
  {
   "cell_type": "markdown",
   "metadata": {
    "id": "4LXippqHUYq9"
   },
   "source": [
    "### CAPAS DE PREPROCESADO DE KERAS"
   ]
  },
  {
   "cell_type": "markdown",
   "metadata": {
    "id": "MwT8WgdgUYq9"
   },
   "source": [
    "Igual que sklearn tenemos \"transformers\" y diferentes funciones para poder procesar los datos si queremos incluirlos en un pipeline, en Keras existen \"capas\" de preprocesamiento que podemos incluir en el modelo de forma análoga."
   ]
  },
  {
   "cell_type": "markdown",
   "metadata": {
    "id": "wD1EYu08UYq-"
   },
   "source": [
    "### El problema y el dataset"
   ]
  },
  {
   "cell_type": "markdown",
   "metadata": {
    "id": "WIgy1ARgUYq-"
   },
   "source": [
    "En este caso nuestro problema será clasificar una serie de fármacos a partir de features numéricas y features de texto, que tendremos que convertir para poder utilizar."
   ]
  },
  {
   "cell_type": "markdown",
   "metadata": {
    "id": "xR-eW7QGUYq-"
   },
   "source": [
    "Vamos a trabajar con un dataset que hemos empleado antes con reviews de medicinas, pero en el que no utilizamos los campos de texto. Sobre él vamos a hacer el preprocesado usando esas capas equivalentes a lo que ya hemos empleado con sklearn. Eso nos permitirá introducir las capas de Embedding y de ahí a revisar un ejemplo de clasificación con texto en lenguaje natural que ahora haremos con modelos DL."
   ]
  },
  {
   "cell_type": "markdown",
   "metadata": {
    "id": "oWIuX6yHUYq_"
   },
   "source": [
    "Primero, las importaciones y cargar el dataset, y echar un \"vistazo\":"
   ]
  },
  {
   "cell_type": "code",
   "execution_count": 1,
   "metadata": {
    "id": "u1TFncIbUYq_"
   },
   "outputs": [],
   "source": [
    "import numpy as np\n",
    "import pandas as pd\n",
    "import random as rm\n",
    "import re\n",
    "import tensorflow as tf\n",
    "\n",
    "from sklearn.metrics import classification_report\n",
    "from sklearn.model_selection import train_test_split\n"
   ]
  },
  {
   "cell_type": "code",
   "execution_count": 2,
   "metadata": {
    "colab": {
     "base_uri": "https://localhost:8080/",
     "height": 486
    },
    "id": "5o94KpqUUYrA",
    "outputId": "c2894807-3c5a-420d-dcf7-24f64e1a2a9e"
   },
   "outputs": [
    {
     "data": {
      "application/vnd.google.colaboratory.intrinsic+json": {
       "summary": "{\n  \"name\": \"df\",\n  \"rows\": 3107,\n  \"fields\": [\n    {\n      \"column\": \"urlDrugName\",\n      \"properties\": {\n        \"dtype\": \"category\",\n        \"num_unique_values\": 502,\n        \"samples\": [\n          \"avapro\",\n          \"lipitor\",\n          \"noroxin\"\n        ],\n        \"semantic_type\": \"\",\n        \"description\": \"\"\n      }\n    },\n    {\n      \"column\": \"rating\",\n      \"properties\": {\n        \"dtype\": \"number\",\n        \"std\": 2,\n        \"min\": 1,\n        \"max\": 10,\n        \"num_unique_values\": 10,\n        \"samples\": [\n          6,\n          1,\n          9\n        ],\n        \"semantic_type\": \"\",\n        \"description\": \"\"\n      }\n    },\n    {\n      \"column\": \"effectiveness\",\n      \"properties\": {\n        \"dtype\": \"category\",\n        \"num_unique_values\": 5,\n        \"samples\": [\n          \"Marginally Effective\",\n          \"Moderately Effective\",\n          \"Ineffective\"\n        ],\n        \"semantic_type\": \"\",\n        \"description\": \"\"\n      }\n    },\n    {\n      \"column\": \"sideEffects\",\n      \"properties\": {\n        \"dtype\": \"category\",\n        \"num_unique_values\": 5,\n        \"samples\": [\n          \"Severe Side Effects\",\n          \"Moderate Side Effects\",\n          \"No Side Effects\"\n        ],\n        \"semantic_type\": \"\",\n        \"description\": \"\"\n      }\n    },\n    {\n      \"column\": \"condition\",\n      \"properties\": {\n        \"dtype\": \"category\",\n        \"num_unique_values\": 1426,\n        \"samples\": [\n          \"rosacea\",\n          \"allergy to trauma to the face.\",\n          \"asthma - repeated chest infections\"\n        ],\n        \"semantic_type\": \"\",\n        \"description\": \"\"\n      }\n    },\n    {\n      \"column\": \"benefitsReview\",\n      \"properties\": {\n        \"dtype\": \"string\",\n        \"num_unique_values\": 3031,\n        \"samples\": [\n          \"Zovirax is a highly effective treatment of cold sores.  I take it in significantly higher dosages than the package indicates and 70% of the time, the cold sore diseappear within a day.\",\n          \"resolved depression within one week. I was told it did not work that fast, but I know it did. It is\",\n          \"Candida rashes did not disappear. I was doing an anti-candida diet at the same time. i.e cutting out sugars, refined carbs etc. and taking oregano oil, probiotics, pau d'arco tea, caprylic acid. Cream did not work any better than ti tree oil.\"\n        ],\n        \"semantic_type\": \"\",\n        \"description\": \"\"\n      }\n    },\n    {\n      \"column\": \"sideEffectsReview\",\n      \"properties\": {\n        \"dtype\": \"string\",\n        \"num_unique_values\": 2813,\n        \"samples\": [\n          \"Positive side effects: see above\",\n          \"The main side effect is dizziness.  For example just sitting and then the room begins to spin.  This only began to happen when I started the medication.  Also I would not advise stopping the medication all of a sudden.  When this happened I began to have terrible headaches, became very dizzy and moody even more so than when I began the medication.\",\n          \"Severe cramping, headaches, incredible nausea, muscle cramps, vomiting blood (not once but on 2 occasions due to doctor's orders).  I now am facing something wrong with my digestive tract and no doctor has been able to figure out what is wrong.  Since this is the area where the medication was injected, and only there, I believe that the byetta is the perfect suspect.  Now, if I could only find a doctor that will listen to me.  The count is 5 and still increasing.  Recently, I lost 4 pounds in 3 days!!!!  This is not normal!\"\n        ],\n        \"semantic_type\": \"\",\n        \"description\": \"\"\n      }\n    },\n    {\n      \"column\": \"commentsReview\",\n      \"properties\": {\n        \"dtype\": \"string\",\n        \"num_unique_values\": 3046,\n        \"samples\": [\n          \"Treatment entails applying one patch per week.\",\n          \"Couldn't focus ,stay on task, due to this  caused lack of motivation. Tried Ritalin, and others . They did not work. Went on 1 yr ago. Maintaining same daily dosage.\",\n          \"I spent years shuttling between SSRI's, which I know know were the key element in tipping me into mania several times. After the psychiatrist determined the problem was BiPolar 2, the first treatment she considered was Lamictal. I did get some headaches at first, and unfortunately, at some point the effects were negated by the addition of Adderal. Once the Adderal was stopped, it was all good again. I would recommend this drug to anyone, with the proviso that if the SJS rash shows up, you must stop it immediately. Despite that, I really feel it is worth trying.\"\n        ],\n        \"semantic_type\": \"\",\n        \"description\": \"\"\n      }\n    },\n    {\n      \"column\": \"Sales\",\n      \"properties\": {\n        \"dtype\": \"number\",\n        \"std\": 260653,\n        \"min\": 55,\n        \"max\": 2100431,\n        \"num_unique_values\": 3106,\n        \"samples\": [\n          712369,\n          696811,\n          1014117\n        ],\n        \"semantic_type\": \"\",\n        \"description\": \"\"\n      }\n    },\n    {\n      \"column\": \"Production\",\n      \"properties\": {\n        \"dtype\": \"number\",\n        \"std\": 267.6719266144859,\n        \"min\": 20.0,\n        \"max\": 2300.0,\n        \"num_unique_values\": 983,\n        \"samples\": [\n          950.0,\n          850.0,\n          495.0\n        ],\n        \"semantic_type\": \"\",\n        \"description\": \"\"\n      }\n    }\n  ]\n}",
       "type": "dataframe",
       "variable_name": "df"
      },
      "text/html": [
       "\n",
       "  <div id=\"df-b4c176d0-2a9b-408d-ad0f-2bf3b39d83da\" class=\"colab-df-container\">\n",
       "    <div>\n",
       "<style scoped>\n",
       "    .dataframe tbody tr th:only-of-type {\n",
       "        vertical-align: middle;\n",
       "    }\n",
       "\n",
       "    .dataframe tbody tr th {\n",
       "        vertical-align: top;\n",
       "    }\n",
       "\n",
       "    .dataframe thead th {\n",
       "        text-align: right;\n",
       "    }\n",
       "</style>\n",
       "<table border=\"1\" class=\"dataframe\">\n",
       "  <thead>\n",
       "    <tr style=\"text-align: right;\">\n",
       "      <th></th>\n",
       "      <th>urlDrugName</th>\n",
       "      <th>rating</th>\n",
       "      <th>effectiveness</th>\n",
       "      <th>sideEffects</th>\n",
       "      <th>condition</th>\n",
       "      <th>benefitsReview</th>\n",
       "      <th>sideEffectsReview</th>\n",
       "      <th>commentsReview</th>\n",
       "      <th>Sales</th>\n",
       "      <th>Production</th>\n",
       "    </tr>\n",
       "  </thead>\n",
       "  <tbody>\n",
       "    <tr>\n",
       "      <th>0</th>\n",
       "      <td>enalapril</td>\n",
       "      <td>4</td>\n",
       "      <td>Highly Effective</td>\n",
       "      <td>Mild Side Effects</td>\n",
       "      <td>management of congestive heart failure</td>\n",
       "      <td>slowed the progression of left ventricular dys...</td>\n",
       "      <td>cough, hypotension , proteinuria, impotence , ...</td>\n",
       "      <td>monitor blood pressure , weight and asses for ...</td>\n",
       "      <td>318440</td>\n",
       "      <td>398.0</td>\n",
       "    </tr>\n",
       "    <tr>\n",
       "      <th>1</th>\n",
       "      <td>ortho-tri-cyclen</td>\n",
       "      <td>1</td>\n",
       "      <td>Highly Effective</td>\n",
       "      <td>Severe Side Effects</td>\n",
       "      <td>birth prevention</td>\n",
       "      <td>Although this type of birth control has more c...</td>\n",
       "      <td>Heavy Cycle, Cramps, Hot Flashes, Fatigue, Lon...</td>\n",
       "      <td>I Hate This Birth Control, I Would Not Suggest...</td>\n",
       "      <td>888949</td>\n",
       "      <td>909.0</td>\n",
       "    </tr>\n",
       "    <tr>\n",
       "      <th>2</th>\n",
       "      <td>ponstel</td>\n",
       "      <td>10</td>\n",
       "      <td>Highly Effective</td>\n",
       "      <td>No Side Effects</td>\n",
       "      <td>menstrual cramps</td>\n",
       "      <td>I was used to having cramps so badly that they...</td>\n",
       "      <td>Heavier bleeding and clotting than normal.</td>\n",
       "      <td>I took 2 pills at the onset of my menstrual cr...</td>\n",
       "      <td>264077</td>\n",
       "      <td>465.0</td>\n",
       "    </tr>\n",
       "    <tr>\n",
       "      <th>3</th>\n",
       "      <td>prilosec</td>\n",
       "      <td>3</td>\n",
       "      <td>Marginally Effective</td>\n",
       "      <td>Mild Side Effects</td>\n",
       "      <td>acid reflux</td>\n",
       "      <td>The acid reflux went away for a few months aft...</td>\n",
       "      <td>Constipation, dry mouth and some mild dizzines...</td>\n",
       "      <td>I was given Prilosec prescription at a dose of...</td>\n",
       "      <td>542110</td>\n",
       "      <td>602.0</td>\n",
       "    </tr>\n",
       "    <tr>\n",
       "      <th>4</th>\n",
       "      <td>lyrica</td>\n",
       "      <td>2</td>\n",
       "      <td>Marginally Effective</td>\n",
       "      <td>Severe Side Effects</td>\n",
       "      <td>fibromyalgia</td>\n",
       "      <td>I think that the Lyrica was starting to help w...</td>\n",
       "      <td>I felt extremely drugged and dopey.  Could not...</td>\n",
       "      <td>See above</td>\n",
       "      <td>83761</td>\n",
       "      <td>124.0</td>\n",
       "    </tr>\n",
       "  </tbody>\n",
       "</table>\n",
       "</div>\n",
       "    <div class=\"colab-df-buttons\">\n",
       "\n",
       "  <div class=\"colab-df-container\">\n",
       "    <button class=\"colab-df-convert\" onclick=\"convertToInteractive('df-b4c176d0-2a9b-408d-ad0f-2bf3b39d83da')\"\n",
       "            title=\"Convert this dataframe to an interactive table.\"\n",
       "            style=\"display:none;\">\n",
       "\n",
       "  <svg xmlns=\"http://www.w3.org/2000/svg\" height=\"24px\" viewBox=\"0 -960 960 960\">\n",
       "    <path d=\"M120-120v-720h720v720H120Zm60-500h600v-160H180v160Zm220 220h160v-160H400v160Zm0 220h160v-160H400v160ZM180-400h160v-160H180v160Zm440 0h160v-160H620v160ZM180-180h160v-160H180v160Zm440 0h160v-160H620v160Z\"/>\n",
       "  </svg>\n",
       "    </button>\n",
       "\n",
       "  <style>\n",
       "    .colab-df-container {\n",
       "      display:flex;\n",
       "      gap: 12px;\n",
       "    }\n",
       "\n",
       "    .colab-df-convert {\n",
       "      background-color: #E8F0FE;\n",
       "      border: none;\n",
       "      border-radius: 50%;\n",
       "      cursor: pointer;\n",
       "      display: none;\n",
       "      fill: #1967D2;\n",
       "      height: 32px;\n",
       "      padding: 0 0 0 0;\n",
       "      width: 32px;\n",
       "    }\n",
       "\n",
       "    .colab-df-convert:hover {\n",
       "      background-color: #E2EBFA;\n",
       "      box-shadow: 0px 1px 2px rgba(60, 64, 67, 0.3), 0px 1px 3px 1px rgba(60, 64, 67, 0.15);\n",
       "      fill: #174EA6;\n",
       "    }\n",
       "\n",
       "    .colab-df-buttons div {\n",
       "      margin-bottom: 4px;\n",
       "    }\n",
       "\n",
       "    [theme=dark] .colab-df-convert {\n",
       "      background-color: #3B4455;\n",
       "      fill: #D2E3FC;\n",
       "    }\n",
       "\n",
       "    [theme=dark] .colab-df-convert:hover {\n",
       "      background-color: #434B5C;\n",
       "      box-shadow: 0px 1px 3px 1px rgba(0, 0, 0, 0.15);\n",
       "      filter: drop-shadow(0px 1px 2px rgba(0, 0, 0, 0.3));\n",
       "      fill: #FFFFFF;\n",
       "    }\n",
       "  </style>\n",
       "\n",
       "    <script>\n",
       "      const buttonEl =\n",
       "        document.querySelector('#df-b4c176d0-2a9b-408d-ad0f-2bf3b39d83da button.colab-df-convert');\n",
       "      buttonEl.style.display =\n",
       "        google.colab.kernel.accessAllowed ? 'block' : 'none';\n",
       "\n",
       "      async function convertToInteractive(key) {\n",
       "        const element = document.querySelector('#df-b4c176d0-2a9b-408d-ad0f-2bf3b39d83da');\n",
       "        const dataTable =\n",
       "          await google.colab.kernel.invokeFunction('convertToInteractive',\n",
       "                                                    [key], {});\n",
       "        if (!dataTable) return;\n",
       "\n",
       "        const docLinkHtml = 'Like what you see? Visit the ' +\n",
       "          '<a target=\"_blank\" href=https://colab.research.google.com/notebooks/data_table.ipynb>data table notebook</a>'\n",
       "          + ' to learn more about interactive tables.';\n",
       "        element.innerHTML = '';\n",
       "        dataTable['output_type'] = 'display_data';\n",
       "        await google.colab.output.renderOutput(dataTable, element);\n",
       "        const docLink = document.createElement('div');\n",
       "        docLink.innerHTML = docLinkHtml;\n",
       "        element.appendChild(docLink);\n",
       "      }\n",
       "    </script>\n",
       "  </div>\n",
       "\n",
       "\n",
       "<div id=\"df-4b99f666-b3fa-45f9-b5f4-cf956fad8c78\">\n",
       "  <button class=\"colab-df-quickchart\" onclick=\"quickchart('df-4b99f666-b3fa-45f9-b5f4-cf956fad8c78')\"\n",
       "            title=\"Suggest charts\"\n",
       "            style=\"display:none;\">\n",
       "\n",
       "<svg xmlns=\"http://www.w3.org/2000/svg\" height=\"24px\"viewBox=\"0 0 24 24\"\n",
       "     width=\"24px\">\n",
       "    <g>\n",
       "        <path d=\"M19 3H5c-1.1 0-2 .9-2 2v14c0 1.1.9 2 2 2h14c1.1 0 2-.9 2-2V5c0-1.1-.9-2-2-2zM9 17H7v-7h2v7zm4 0h-2V7h2v10zm4 0h-2v-4h2v4z\"/>\n",
       "    </g>\n",
       "</svg>\n",
       "  </button>\n",
       "\n",
       "<style>\n",
       "  .colab-df-quickchart {\n",
       "      --bg-color: #E8F0FE;\n",
       "      --fill-color: #1967D2;\n",
       "      --hover-bg-color: #E2EBFA;\n",
       "      --hover-fill-color: #174EA6;\n",
       "      --disabled-fill-color: #AAA;\n",
       "      --disabled-bg-color: #DDD;\n",
       "  }\n",
       "\n",
       "  [theme=dark] .colab-df-quickchart {\n",
       "      --bg-color: #3B4455;\n",
       "      --fill-color: #D2E3FC;\n",
       "      --hover-bg-color: #434B5C;\n",
       "      --hover-fill-color: #FFFFFF;\n",
       "      --disabled-bg-color: #3B4455;\n",
       "      --disabled-fill-color: #666;\n",
       "  }\n",
       "\n",
       "  .colab-df-quickchart {\n",
       "    background-color: var(--bg-color);\n",
       "    border: none;\n",
       "    border-radius: 50%;\n",
       "    cursor: pointer;\n",
       "    display: none;\n",
       "    fill: var(--fill-color);\n",
       "    height: 32px;\n",
       "    padding: 0;\n",
       "    width: 32px;\n",
       "  }\n",
       "\n",
       "  .colab-df-quickchart:hover {\n",
       "    background-color: var(--hover-bg-color);\n",
       "    box-shadow: 0 1px 2px rgba(60, 64, 67, 0.3), 0 1px 3px 1px rgba(60, 64, 67, 0.15);\n",
       "    fill: var(--button-hover-fill-color);\n",
       "  }\n",
       "\n",
       "  .colab-df-quickchart-complete:disabled,\n",
       "  .colab-df-quickchart-complete:disabled:hover {\n",
       "    background-color: var(--disabled-bg-color);\n",
       "    fill: var(--disabled-fill-color);\n",
       "    box-shadow: none;\n",
       "  }\n",
       "\n",
       "  .colab-df-spinner {\n",
       "    border: 2px solid var(--fill-color);\n",
       "    border-color: transparent;\n",
       "    border-bottom-color: var(--fill-color);\n",
       "    animation:\n",
       "      spin 1s steps(1) infinite;\n",
       "  }\n",
       "\n",
       "  @keyframes spin {\n",
       "    0% {\n",
       "      border-color: transparent;\n",
       "      border-bottom-color: var(--fill-color);\n",
       "      border-left-color: var(--fill-color);\n",
       "    }\n",
       "    20% {\n",
       "      border-color: transparent;\n",
       "      border-left-color: var(--fill-color);\n",
       "      border-top-color: var(--fill-color);\n",
       "    }\n",
       "    30% {\n",
       "      border-color: transparent;\n",
       "      border-left-color: var(--fill-color);\n",
       "      border-top-color: var(--fill-color);\n",
       "      border-right-color: var(--fill-color);\n",
       "    }\n",
       "    40% {\n",
       "      border-color: transparent;\n",
       "      border-right-color: var(--fill-color);\n",
       "      border-top-color: var(--fill-color);\n",
       "    }\n",
       "    60% {\n",
       "      border-color: transparent;\n",
       "      border-right-color: var(--fill-color);\n",
       "    }\n",
       "    80% {\n",
       "      border-color: transparent;\n",
       "      border-right-color: var(--fill-color);\n",
       "      border-bottom-color: var(--fill-color);\n",
       "    }\n",
       "    90% {\n",
       "      border-color: transparent;\n",
       "      border-bottom-color: var(--fill-color);\n",
       "    }\n",
       "  }\n",
       "</style>\n",
       "\n",
       "  <script>\n",
       "    async function quickchart(key) {\n",
       "      const quickchartButtonEl =\n",
       "        document.querySelector('#' + key + ' button');\n",
       "      quickchartButtonEl.disabled = true;  // To prevent multiple clicks.\n",
       "      quickchartButtonEl.classList.add('colab-df-spinner');\n",
       "      try {\n",
       "        const charts = await google.colab.kernel.invokeFunction(\n",
       "            'suggestCharts', [key], {});\n",
       "      } catch (error) {\n",
       "        console.error('Error during call to suggestCharts:', error);\n",
       "      }\n",
       "      quickchartButtonEl.classList.remove('colab-df-spinner');\n",
       "      quickchartButtonEl.classList.add('colab-df-quickchart-complete');\n",
       "    }\n",
       "    (() => {\n",
       "      let quickchartButtonEl =\n",
       "        document.querySelector('#df-4b99f666-b3fa-45f9-b5f4-cf956fad8c78 button');\n",
       "      quickchartButtonEl.style.display =\n",
       "        google.colab.kernel.accessAllowed ? 'block' : 'none';\n",
       "    })();\n",
       "  </script>\n",
       "</div>\n",
       "\n",
       "    </div>\n",
       "  </div>\n"
      ],
      "text/plain": [
       "        urlDrugName  rating         effectiveness          sideEffects  \\\n",
       "0         enalapril       4      Highly Effective    Mild Side Effects   \n",
       "1  ortho-tri-cyclen       1      Highly Effective  Severe Side Effects   \n",
       "2           ponstel      10      Highly Effective      No Side Effects   \n",
       "3          prilosec       3  Marginally Effective    Mild Side Effects   \n",
       "4            lyrica       2  Marginally Effective  Severe Side Effects   \n",
       "\n",
       "                                condition  \\\n",
       "0  management of congestive heart failure   \n",
       "1                        birth prevention   \n",
       "2                        menstrual cramps   \n",
       "3                             acid reflux   \n",
       "4                            fibromyalgia   \n",
       "\n",
       "                                      benefitsReview  \\\n",
       "0  slowed the progression of left ventricular dys...   \n",
       "1  Although this type of birth control has more c...   \n",
       "2  I was used to having cramps so badly that they...   \n",
       "3  The acid reflux went away for a few months aft...   \n",
       "4  I think that the Lyrica was starting to help w...   \n",
       "\n",
       "                                   sideEffectsReview  \\\n",
       "0  cough, hypotension , proteinuria, impotence , ...   \n",
       "1  Heavy Cycle, Cramps, Hot Flashes, Fatigue, Lon...   \n",
       "2         Heavier bleeding and clotting than normal.   \n",
       "3  Constipation, dry mouth and some mild dizzines...   \n",
       "4  I felt extremely drugged and dopey.  Could not...   \n",
       "\n",
       "                                      commentsReview   Sales  Production  \n",
       "0  monitor blood pressure , weight and asses for ...  318440       398.0  \n",
       "1  I Hate This Birth Control, I Would Not Suggest...  888949       909.0  \n",
       "2  I took 2 pills at the onset of my menstrual cr...  264077       465.0  \n",
       "3  I was given Prilosec prescription at a dose of...  542110       602.0  \n",
       "4                                          See above   83761       124.0  "
      ]
     },
     "execution_count": 2,
     "metadata": {},
     "output_type": "execute_result"
    }
   ],
   "source": [
    "# url_github = \"https://raw.githubusercontent.com/rodolso/DS_Online_Octubre24/refs/heads/main/05_Deep_Learning/Sprint_18/Unidad_02_Otras_Capas_y_Embeddings/data/pharma_full.csv\"\n",
    "path = \"./data/pharma_full.csv\"\n",
    "\n",
    "df = pd.read_csv(path)\n",
    "df.head()"
   ]
  },
  {
   "cell_type": "code",
   "execution_count": 3,
   "metadata": {
    "colab": {
     "base_uri": "https://localhost:8080/"
    },
    "id": "_ddMq1OgUYrA",
    "outputId": "ce1ecc68-1842-487e-8be4-c205656a8f9b",
    "scrolled": true
   },
   "outputs": [
    {
     "name": "stdout",
     "output_type": "stream",
     "text": [
      "<class 'pandas.core.frame.DataFrame'>\n",
      "RangeIndex: 3107 entries, 0 to 3106\n",
      "Data columns (total 10 columns):\n",
      " #   Column             Non-Null Count  Dtype  \n",
      "---  ------             --------------  -----  \n",
      " 0   urlDrugName        3107 non-null   object \n",
      " 1   rating             3107 non-null   int64  \n",
      " 2   effectiveness      3107 non-null   object \n",
      " 3   sideEffects        3107 non-null   object \n",
      " 4   condition          3106 non-null   object \n",
      " 5   benefitsReview     3089 non-null   object \n",
      " 6   sideEffectsReview  3032 non-null   object \n",
      " 7   commentsReview     3095 non-null   object \n",
      " 8   Sales              3107 non-null   int64  \n",
      " 9   Production         3107 non-null   float64\n",
      "dtypes: float64(1), int64(2), object(7)\n",
      "memory usage: 242.9+ KB\n"
     ]
    }
   ],
   "source": [
    "df.info()"
   ]
  },
  {
   "cell_type": "markdown",
   "metadata": {
    "id": "sHgkHyyRUYrA"
   },
   "source": [
    "Las prepararemos un poco para que podamos emplear todos los tipos de capas"
   ]
  },
  {
   "cell_type": "markdown",
   "metadata": {
    "id": "ckjaNcS6UYrA"
   },
   "source": [
    "Los missings seguiremos tratándolos, por ahora, a parte"
   ]
  },
  {
   "cell_type": "code",
   "execution_count": 4,
   "metadata": {
    "id": "tdHt6m5CUYrA"
   },
   "outputs": [],
   "source": [
    "df_clean = df.fillna(\"No Value\")"
   ]
  },
  {
   "cell_type": "code",
   "execution_count": 5,
   "metadata": {
    "colab": {
     "base_uri": "https://localhost:8080/"
    },
    "id": "dVkC8m5cUYrA",
    "outputId": "79a673b2-af38-4f8c-f38d-4ca205166dc7",
    "scrolled": true
   },
   "outputs": [
    {
     "name": "stdout",
     "output_type": "stream",
     "text": [
      "<class 'pandas.core.frame.DataFrame'>\n",
      "RangeIndex: 3107 entries, 0 to 3106\n",
      "Data columns (total 10 columns):\n",
      " #   Column             Non-Null Count  Dtype  \n",
      "---  ------             --------------  -----  \n",
      " 0   urlDrugName        3107 non-null   object \n",
      " 1   rating             3107 non-null   int64  \n",
      " 2   effectiveness      3107 non-null   object \n",
      " 3   sideEffects        3107 non-null   object \n",
      " 4   condition          3107 non-null   object \n",
      " 5   benefitsReview     3107 non-null   object \n",
      " 6   sideEffectsReview  3107 non-null   object \n",
      " 7   commentsReview     3107 non-null   object \n",
      " 8   Sales              3107 non-null   int64  \n",
      " 9   Production         3107 non-null   float64\n",
      "dtypes: float64(1), int64(2), object(7)\n",
      "memory usage: 242.9+ KB\n"
     ]
    }
   ],
   "source": [
    "df_clean.info()"
   ]
  },
  {
   "cell_type": "markdown",
   "metadata": {
    "id": "2RjxsMs0UYrB"
   },
   "source": [
    "Claramente el target es \"rating\""
   ]
  },
  {
   "cell_type": "code",
   "execution_count": 6,
   "metadata": {
    "id": "tq0DFiUXUYrB"
   },
   "outputs": [],
   "source": [
    "target = \"rating\""
   ]
  },
  {
   "cell_type": "markdown",
   "metadata": {
    "id": "o0qDVabtUYrB"
   },
   "source": [
    "### Split train/test"
   ]
  },
  {
   "cell_type": "code",
   "execution_count": 7,
   "metadata": {
    "id": "F0tXj_cJUYrB"
   },
   "outputs": [],
   "source": [
    "train_set, test_set  = train_test_split(df_clean, test_size= 0.2, random_state= 42)"
   ]
  },
  {
   "cell_type": "code",
   "execution_count": 8,
   "metadata": {
    "colab": {
     "base_uri": "https://localhost:8080/"
    },
    "id": "M3B0t2gvUYrB",
    "outputId": "3fdb85a3-4e8d-49bc-e295-3aa3d341ec8a"
   },
   "outputs": [
    {
     "data": {
      "text/plain": [
       "(2485, 10)"
      ]
     },
     "execution_count": 8,
     "metadata": {},
     "output_type": "execute_result"
    }
   ],
   "source": [
    "train_set.shape"
   ]
  },
  {
   "cell_type": "code",
   "execution_count": 9,
   "metadata": {
    "colab": {
     "base_uri": "https://localhost:8080/"
    },
    "id": "DtCS8rQjUYrB",
    "outputId": "70fbc262-00ef-465e-9825-ed4bdff50c15"
   },
   "outputs": [
    {
     "data": {
      "text/plain": [
       "(622, 10)"
      ]
     },
     "execution_count": 9,
     "metadata": {},
     "output_type": "execute_result"
    }
   ],
   "source": [
    "test_set.shape"
   ]
  },
  {
   "cell_type": "markdown",
   "metadata": {
    "id": "ThcLbyEOUYrB"
   },
   "source": [
    "### MiniEda"
   ]
  },
  {
   "cell_type": "markdown",
   "metadata": {
    "id": "4TictYKaUYrB"
   },
   "source": [
    "Del miniEDA sólo vamos a hacer el análisis del target, nos vamos a quedar y a tratar todas las variables como features."
   ]
  },
  {
   "cell_type": "code",
   "execution_count": 10,
   "metadata": {
    "colab": {
     "base_uri": "https://localhost:8080/",
     "height": 429
    },
    "id": "avJRN4c4UYrB",
    "outputId": "3978cf86-2b64-486d-cb82-eacf584345c2"
   },
   "outputs": [
    {
     "data": {
      "text/html": [
       "<div>\n",
       "<style scoped>\n",
       "    .dataframe tbody tr th:only-of-type {\n",
       "        vertical-align: middle;\n",
       "    }\n",
       "\n",
       "    .dataframe tbody tr th {\n",
       "        vertical-align: top;\n",
       "    }\n",
       "\n",
       "    .dataframe thead th {\n",
       "        text-align: right;\n",
       "    }\n",
       "</style>\n",
       "<table border=\"1\" class=\"dataframe\">\n",
       "  <thead>\n",
       "    <tr style=\"text-align: right;\">\n",
       "      <th></th>\n",
       "      <th>count</th>\n",
       "    </tr>\n",
       "    <tr>\n",
       "      <th>rating</th>\n",
       "      <th></th>\n",
       "    </tr>\n",
       "  </thead>\n",
       "  <tbody>\n",
       "    <tr>\n",
       "      <th>10</th>\n",
       "      <td>591</td>\n",
       "    </tr>\n",
       "    <tr>\n",
       "      <th>8</th>\n",
       "      <td>464</td>\n",
       "    </tr>\n",
       "    <tr>\n",
       "      <th>9</th>\n",
       "      <td>370</td>\n",
       "    </tr>\n",
       "    <tr>\n",
       "      <th>7</th>\n",
       "      <td>267</td>\n",
       "    </tr>\n",
       "    <tr>\n",
       "      <th>1</th>\n",
       "      <td>243</td>\n",
       "    </tr>\n",
       "    <tr>\n",
       "      <th>5</th>\n",
       "      <td>132</td>\n",
       "    </tr>\n",
       "    <tr>\n",
       "      <th>3</th>\n",
       "      <td>123</td>\n",
       "    </tr>\n",
       "    <tr>\n",
       "      <th>6</th>\n",
       "      <td>119</td>\n",
       "    </tr>\n",
       "    <tr>\n",
       "      <th>4</th>\n",
       "      <td>89</td>\n",
       "    </tr>\n",
       "    <tr>\n",
       "      <th>2</th>\n",
       "      <td>87</td>\n",
       "    </tr>\n",
       "  </tbody>\n",
       "</table>\n",
       "</div><br><label><b>dtype:</b> int64</label>"
      ],
      "text/plain": [
       "rating\n",
       "10    591\n",
       "8     464\n",
       "9     370\n",
       "7     267\n",
       "1     243\n",
       "5     132\n",
       "3     123\n",
       "6     119\n",
       "4      89\n",
       "2      87\n",
       "Name: count, dtype: int64"
      ]
     },
     "execution_count": 10,
     "metadata": {},
     "output_type": "execute_result"
    }
   ],
   "source": [
    "train_set[target].value_counts()"
   ]
  },
  {
   "cell_type": "markdown",
   "metadata": {
    "id": "bGrazTFVUYrB"
   },
   "source": [
    "Es un dataset desbalanceado en el target. Luego veremos como equilibrarlo dentro de lo posible sin aplicar SMOTE ni undersampling (con campos con texto además tiene aún menos utilidad, en general)"
   ]
  },
  {
   "cell_type": "markdown",
   "metadata": {
    "id": "pTFVsr4CUYrB"
   },
   "source": [
    "Como ya sabrás a keras le gusta que las clases empiecen en cero así que lo tratamos rápido:"
   ]
  },
  {
   "cell_type": "code",
   "execution_count": 11,
   "metadata": {
    "id": "S547IhfsUYrB"
   },
   "outputs": [],
   "source": [
    "train_set[target] = train_set[target] -1\n",
    "test_set[target] = test_set[target] - 1"
   ]
  },
  {
   "cell_type": "markdown",
   "metadata": {
    "id": "ne8z5GCzUYrC"
   },
   "source": [
    "### Tratamiento de Features"
   ]
  },
  {
   "cell_type": "markdown",
   "metadata": {
    "id": "SMcpGfbTUYrC"
   },
   "source": [
    "Vamos a hacer lo siguiente:  \n",
    "1- Crear features nuevas (conteos de palabras por campo de texto libre)  \n",
    "2- Escalado de las features numéricas  \n",
    "3- Conversión de las categóricas  \n",
    "4- Vectorización de las features de texto  "
   ]
  },
  {
   "cell_type": "markdown",
   "metadata": {
    "id": "1luk8fs9UYrC"
   },
   "source": [
    "#### #1 Creación de features nuevas"
   ]
  },
  {
   "cell_type": "markdown",
   "metadata": {
    "id": "fE0hetwuUYrC"
   },
   "source": [
    "Existen varios campos con texto libre y en breve los vectorizaremos pero antes puede ser interesante crear una serie de features nuevas que cuenten el número aproximado de palabras que hay en cada uno de esos campos. Estos campos son básicamente lo que tienen en su nombre la palabra \"Review\""
   ]
  },
  {
   "cell_type": "code",
   "execution_count": 12,
   "metadata": {
    "id": "ENJ4MUoKUYrC"
   },
   "outputs": [],
   "source": [
    "for col in [col for col in train_set.columns if \"Review\" in col]:\n",
    "    train_set[col + \"_wc\"] = train_set[col].apply(lambda value: len(value.split()))\n",
    "    test_set[col + \"_wc\"] = test_set[col].apply(lambda value: len(value.split()))\n"
   ]
  },
  {
   "cell_type": "code",
   "execution_count": 13,
   "metadata": {
    "colab": {
     "base_uri": "https://localhost:8080/",
     "height": 929
    },
    "id": "w2jnn7sUUYrC",
    "outputId": "065aec52-c109-43b9-8213-28e32636093e"
   },
   "outputs": [
    {
     "data": {
      "application/vnd.google.colaboratory.intrinsic+json": {
       "summary": "{\n  \"name\": \"train_set\",\n  \"rows\": 2485,\n  \"fields\": [\n    {\n      \"column\": \"urlDrugName\",\n      \"properties\": {\n        \"dtype\": \"category\",\n        \"num_unique_values\": 463,\n        \"samples\": [\n          \"baciim\",\n          \"tequin\",\n          \"oxycodone\"\n        ],\n        \"semantic_type\": \"\",\n        \"description\": \"\"\n      }\n    },\n    {\n      \"column\": \"rating\",\n      \"properties\": {\n        \"dtype\": \"number\",\n        \"std\": 2,\n        \"min\": 0,\n        \"max\": 9,\n        \"num_unique_values\": 10,\n        \"samples\": [\n          4,\n          7,\n          1\n        ],\n        \"semantic_type\": \"\",\n        \"description\": \"\"\n      }\n    },\n    {\n      \"column\": \"effectiveness\",\n      \"properties\": {\n        \"dtype\": \"category\",\n        \"num_unique_values\": 5,\n        \"samples\": [\n          \"Moderately Effective\",\n          \"Marginally Effective\",\n          \"Considerably Effective\"\n        ],\n        \"semantic_type\": \"\",\n        \"description\": \"\"\n      }\n    },\n    {\n      \"column\": \"sideEffects\",\n      \"properties\": {\n        \"dtype\": \"category\",\n        \"num_unique_values\": 5,\n        \"samples\": [\n          \"Mild Side Effects\",\n          \"Extremely Severe Side Effects\",\n          \"Severe Side Effects\"\n        ],\n        \"semantic_type\": \"\",\n        \"description\": \"\"\n      }\n    },\n    {\n      \"column\": \"condition\",\n      \"properties\": {\n        \"dtype\": \"category\",\n        \"num_unique_values\": 1203,\n        \"samples\": [\n          \"oral infection\",\n          \"sinus allergy\",\n          \"inflammation of throat during bacteria bronchitis\"\n        ],\n        \"semantic_type\": \"\",\n        \"description\": \"\"\n      }\n    },\n    {\n      \"column\": \"benefitsReview\",\n      \"properties\": {\n        \"dtype\": \"string\",\n        \"num_unique_values\": 2433,\n        \"samples\": [\n          \"It helped with depression and suicidal thoughts.  I was able to sleep better and deal with anxiety and stress better.\",\n          \"The Differin did seem to help clear up the occasional blemishes I would get. made a slight improvement in the size of blackheads on my nose and cheeks but didn't aleviate them entirely.\",\n          \"Having taken a four other drugs for depression over the last 15 years (all of the SSRI category) or so, and I can say without doubt that this drug was amazing as removing my depression, as well as substantially reducing remaining anxiety left over.\"\n        ],\n        \"semantic_type\": \"\",\n        \"description\": \"\"\n      }\n    },\n    {\n      \"column\": \"sideEffectsReview\",\n      \"properties\": {\n        \"dtype\": \"string\",\n        \"num_unique_values\": 2268,\n        \"samples\": [\n          \"If I miss a pill r two, my acidic sensitivity is much greater than it was before I started to take to medication at all.\",\n          \"The only side effect I have is IF i skip a night it seems that my problem is much worse.\",\n          \"slight headache\"\n        ],\n        \"semantic_type\": \"\",\n        \"description\": \"\"\n      }\n    },\n    {\n      \"column\": \"commentsReview\",\n      \"properties\": {\n        \"dtype\": \"string\",\n        \"num_unique_values\": 2449,\n        \"samples\": [\n          \"one shot every 4 months,it's fairly painless...\\r\\r\\nit's a great form of contraceptive.\\r\\r\\nbecause it basically makes you abstinent..the side effects just aren't worth it.\",\n          \"I started with half a 10mg pill a day. It was the increased to a full 10mg a day.  I then went to a 10mg and a half pill a day. Then went to 20mg a day.\\r\\r\\nI then went off Paxil entirely. My blood pressure went down and I lost a good anount of wieght but not all that I had gained. I did have some very high axiety at first but then it subsided.\",\n          \"Originally I started taking it to see if it would have any positive effect on the number and size of brain lesions I had. I had experienced an increasing inability to handle job stress, was losing my concentration abilities and was becoming increasingly forgetful. I believe it did have some positive effect in reducing the size and number of brain lesions, but not to the effect of improving my cognitive thinking ability to the extent I could return to work. Two years later, my doctor wanted me to increase the dosage to reduce my cholesterol levels.  Shortly after increasing my dosage, I started to experience chronic pain in my arms.  I finally did some research and discovered muscle pain to be a \\\"side effect\\\" when taking statin drugs.  When I stopped taking Lovastatin, the pain went away after a few months.\"\n        ],\n        \"semantic_type\": \"\",\n        \"description\": \"\"\n      }\n    },\n    {\n      \"column\": \"Sales\",\n      \"properties\": {\n        \"dtype\": \"number\",\n        \"std\": 258599,\n        \"min\": 55,\n        \"max\": 2100431,\n        \"num_unique_values\": 2484,\n        \"samples\": [\n          411292,\n          499092,\n          602786\n        ],\n        \"semantic_type\": \"\",\n        \"description\": \"\"\n      }\n    },\n    {\n      \"column\": \"Production\",\n      \"properties\": {\n        \"dtype\": \"number\",\n        \"std\": 265.8257203851115,\n        \"min\": 20.0,\n        \"max\": 2300.0,\n        \"num_unique_values\": 913,\n        \"samples\": [\n          276.0,\n          1055.0,\n          641.0\n        ],\n        \"semantic_type\": \"\",\n        \"description\": \"\"\n      }\n    },\n    {\n      \"column\": \"benefitsReview_wc\",\n      \"properties\": {\n        \"dtype\": \"number\",\n        \"std\": 34,\n        \"min\": 1,\n        \"max\": 385,\n        \"num_unique_values\": 158,\n        \"samples\": [\n          77,\n          68,\n          131\n        ],\n        \"semantic_type\": \"\",\n        \"description\": \"\"\n      }\n    },\n    {\n      \"column\": \"sideEffectsReview_wc\",\n      \"properties\": {\n        \"dtype\": \"number\",\n        \"std\": 36,\n        \"min\": 1,\n        \"max\": 478,\n        \"num_unique_values\": 175,\n        \"samples\": [\n          308,\n          138,\n          65\n        ],\n        \"semantic_type\": \"\",\n        \"description\": \"\"\n      }\n    },\n    {\n      \"column\": \"commentsReview_wc\",\n      \"properties\": {\n        \"dtype\": \"number\",\n        \"std\": 50,\n        \"min\": 1,\n        \"max\": 740,\n        \"num_unique_values\": 217,\n        \"samples\": [\n          254,\n          215,\n          90\n        ],\n        \"semantic_type\": \"\",\n        \"description\": \"\"\n      }\n    }\n  ]\n}",
       "type": "dataframe",
       "variable_name": "train_set"
      },
      "text/html": [
       "\n",
       "  <div id=\"df-c8425fff-a042-46d4-8902-0a2edf0daaa6\" class=\"colab-df-container\">\n",
       "    <div>\n",
       "<style scoped>\n",
       "    .dataframe tbody tr th:only-of-type {\n",
       "        vertical-align: middle;\n",
       "    }\n",
       "\n",
       "    .dataframe tbody tr th {\n",
       "        vertical-align: top;\n",
       "    }\n",
       "\n",
       "    .dataframe thead th {\n",
       "        text-align: right;\n",
       "    }\n",
       "</style>\n",
       "<table border=\"1\" class=\"dataframe\">\n",
       "  <thead>\n",
       "    <tr style=\"text-align: right;\">\n",
       "      <th></th>\n",
       "      <th>urlDrugName</th>\n",
       "      <th>rating</th>\n",
       "      <th>effectiveness</th>\n",
       "      <th>sideEffects</th>\n",
       "      <th>condition</th>\n",
       "      <th>benefitsReview</th>\n",
       "      <th>sideEffectsReview</th>\n",
       "      <th>commentsReview</th>\n",
       "      <th>Sales</th>\n",
       "      <th>Production</th>\n",
       "      <th>benefitsReview_wc</th>\n",
       "      <th>sideEffectsReview_wc</th>\n",
       "      <th>commentsReview_wc</th>\n",
       "    </tr>\n",
       "  </thead>\n",
       "  <tbody>\n",
       "    <tr>\n",
       "      <th>2686</th>\n",
       "      <td>zoloft</td>\n",
       "      <td>9</td>\n",
       "      <td>Highly Effective</td>\n",
       "      <td>No Side Effects</td>\n",
       "      <td>anxiety</td>\n",
       "      <td>becoming a normal functioning individual. it h...</td>\n",
       "      <td>I had no real side effects unless you consider...</td>\n",
       "      <td>taken once daily.</td>\n",
       "      <td>135166</td>\n",
       "      <td>335.0</td>\n",
       "      <td>62</td>\n",
       "      <td>15</td>\n",
       "      <td>3</td>\n",
       "    </tr>\n",
       "    <tr>\n",
       "      <th>1192</th>\n",
       "      <td>adipex-p</td>\n",
       "      <td>9</td>\n",
       "      <td>Highly Effective</td>\n",
       "      <td>Mild Side Effects</td>\n",
       "      <td>to lose 30 pounds</td>\n",
       "      <td>When BMI rating is over 27 its time to get tha...</td>\n",
       "      <td>jittery.. sometimes euphoric.. tired but cant ...</td>\n",
       "      <td>last results 3 months on adipex-p lost 30 poun...</td>\n",
       "      <td>739564</td>\n",
       "      <td>939.0</td>\n",
       "      <td>163</td>\n",
       "      <td>10</td>\n",
       "      <td>248</td>\n",
       "    </tr>\n",
       "    <tr>\n",
       "      <th>2738</th>\n",
       "      <td>tri-luma</td>\n",
       "      <td>7</td>\n",
       "      <td>Moderately Effective</td>\n",
       "      <td>Severe Side Effects</td>\n",
       "      <td>hyperpigmentation</td>\n",
       "      <td>lightening of acne scars</td>\n",
       "      <td>redness, dryness, breakdown of skin</td>\n",
       "      <td>this topical compound was used to reduce hyper...</td>\n",
       "      <td>683247</td>\n",
       "      <td>843.0</td>\n",
       "      <td>4</td>\n",
       "      <td>5</td>\n",
       "      <td>42</td>\n",
       "    </tr>\n",
       "    <tr>\n",
       "      <th>2780</th>\n",
       "      <td>yasmin</td>\n",
       "      <td>2</td>\n",
       "      <td>Highly Effective</td>\n",
       "      <td>Moderate Side Effects</td>\n",
       "      <td>birth control</td>\n",
       "      <td>There was no chance of pregancy because i lost...</td>\n",
       "      <td>no libido what so ever. My breasts hurt like n...</td>\n",
       "      <td>I was given this to prevent pregnancy and i am...</td>\n",
       "      <td>222295</td>\n",
       "      <td>282.0</td>\n",
       "      <td>22</td>\n",
       "      <td>50</td>\n",
       "      <td>27</td>\n",
       "    </tr>\n",
       "    <tr>\n",
       "      <th>1735</th>\n",
       "      <td>requip</td>\n",
       "      <td>7</td>\n",
       "      <td>Considerably Effective</td>\n",
       "      <td>No Side Effects</td>\n",
       "      <td>restless leg syndrome</td>\n",
       "      <td>I took this medication to treat restless leg s...</td>\n",
       "      <td>I did need to take more as time went on, and I...</td>\n",
       "      <td>I took one milligram at night to treat the sym...</td>\n",
       "      <td>344748</td>\n",
       "      <td>505.0</td>\n",
       "      <td>93</td>\n",
       "      <td>69</td>\n",
       "      <td>106</td>\n",
       "    </tr>\n",
       "    <tr>\n",
       "      <th>...</th>\n",
       "      <td>...</td>\n",
       "      <td>...</td>\n",
       "      <td>...</td>\n",
       "      <td>...</td>\n",
       "      <td>...</td>\n",
       "      <td>...</td>\n",
       "      <td>...</td>\n",
       "      <td>...</td>\n",
       "      <td>...</td>\n",
       "      <td>...</td>\n",
       "      <td>...</td>\n",
       "      <td>...</td>\n",
       "      <td>...</td>\n",
       "    </tr>\n",
       "    <tr>\n",
       "      <th>3092</th>\n",
       "      <td>zyrtec</td>\n",
       "      <td>9</td>\n",
       "      <td>Highly Effective</td>\n",
       "      <td>Mild Side Effects</td>\n",
       "      <td>atopic eczema</td>\n",
       "      <td>The drug was very effective in counteracting s...</td>\n",
       "      <td>I felt slightly tired after taking Zyrtec. How...</td>\n",
       "      <td>This is a non-prescription drug and I took it ...</td>\n",
       "      <td>156028</td>\n",
       "      <td>356.0</td>\n",
       "      <td>74</td>\n",
       "      <td>54</td>\n",
       "      <td>51</td>\n",
       "    </tr>\n",
       "    <tr>\n",
       "      <th>1095</th>\n",
       "      <td>neurontin</td>\n",
       "      <td>0</td>\n",
       "      <td>Ineffective</td>\n",
       "      <td>Severe Side Effects</td>\n",
       "      <td>all over and various type pain</td>\n",
       "      <td>No Value</td>\n",
       "      <td>Nausea, extreme sleepiness,severe headache, ji...</td>\n",
       "      <td>Day one I felt negative side effects after tak...</td>\n",
       "      <td>317886</td>\n",
       "      <td>337.0</td>\n",
       "      <td>2</td>\n",
       "      <td>10</td>\n",
       "      <td>120</td>\n",
       "    </tr>\n",
       "    <tr>\n",
       "      <th>1130</th>\n",
       "      <td>wellbutrin</td>\n",
       "      <td>6</td>\n",
       "      <td>Moderately Effective</td>\n",
       "      <td>Mild Side Effects</td>\n",
       "      <td>depression</td>\n",
       "      <td>I experienced less depression, increased libid...</td>\n",
       "      <td>I have a dry mouth and eyes. Drug has decrease...</td>\n",
       "      <td>Prescribed at 300 mg per day, have taken as mu...</td>\n",
       "      <td>556187</td>\n",
       "      <td>696.0</td>\n",
       "      <td>15</td>\n",
       "      <td>15</td>\n",
       "      <td>24</td>\n",
       "    </tr>\n",
       "    <tr>\n",
       "      <th>1294</th>\n",
       "      <td>wellbutrin</td>\n",
       "      <td>2</td>\n",
       "      <td>Considerably Effective</td>\n",
       "      <td>Moderate Side Effects</td>\n",
       "      <td>stop smoking</td>\n",
       "      <td>The treatment was effective in reducing my \"ap...</td>\n",
       "      <td>After a while, I began to notice that NOTHING ...</td>\n",
       "      <td>I was taking the Bupropion as an aide to break...</td>\n",
       "      <td>728338</td>\n",
       "      <td>789.0</td>\n",
       "      <td>44</td>\n",
       "      <td>105</td>\n",
       "      <td>92</td>\n",
       "    </tr>\n",
       "    <tr>\n",
       "      <th>860</th>\n",
       "      <td>accutane</td>\n",
       "      <td>4</td>\n",
       "      <td>Highly Effective</td>\n",
       "      <td>Extremely Severe Side Effects</td>\n",
       "      <td>cystic acne</td>\n",
       "      <td>The drug cleared my skin and even reduced some...</td>\n",
       "      <td>severe sexual side effects began about 2 month...</td>\n",
       "      <td>treatment began with two 40mg tablets twice a ...</td>\n",
       "      <td>154819</td>\n",
       "      <td>255.0</td>\n",
       "      <td>24</td>\n",
       "      <td>70</td>\n",
       "      <td>145</td>\n",
       "    </tr>\n",
       "  </tbody>\n",
       "</table>\n",
       "<p>2485 rows × 13 columns</p>\n",
       "</div>\n",
       "    <div class=\"colab-df-buttons\">\n",
       "\n",
       "  <div class=\"colab-df-container\">\n",
       "    <button class=\"colab-df-convert\" onclick=\"convertToInteractive('df-c8425fff-a042-46d4-8902-0a2edf0daaa6')\"\n",
       "            title=\"Convert this dataframe to an interactive table.\"\n",
       "            style=\"display:none;\">\n",
       "\n",
       "  <svg xmlns=\"http://www.w3.org/2000/svg\" height=\"24px\" viewBox=\"0 -960 960 960\">\n",
       "    <path d=\"M120-120v-720h720v720H120Zm60-500h600v-160H180v160Zm220 220h160v-160H400v160Zm0 220h160v-160H400v160ZM180-400h160v-160H180v160Zm440 0h160v-160H620v160ZM180-180h160v-160H180v160Zm440 0h160v-160H620v160Z\"/>\n",
       "  </svg>\n",
       "    </button>\n",
       "\n",
       "  <style>\n",
       "    .colab-df-container {\n",
       "      display:flex;\n",
       "      gap: 12px;\n",
       "    }\n",
       "\n",
       "    .colab-df-convert {\n",
       "      background-color: #E8F0FE;\n",
       "      border: none;\n",
       "      border-radius: 50%;\n",
       "      cursor: pointer;\n",
       "      display: none;\n",
       "      fill: #1967D2;\n",
       "      height: 32px;\n",
       "      padding: 0 0 0 0;\n",
       "      width: 32px;\n",
       "    }\n",
       "\n",
       "    .colab-df-convert:hover {\n",
       "      background-color: #E2EBFA;\n",
       "      box-shadow: 0px 1px 2px rgba(60, 64, 67, 0.3), 0px 1px 3px 1px rgba(60, 64, 67, 0.15);\n",
       "      fill: #174EA6;\n",
       "    }\n",
       "\n",
       "    .colab-df-buttons div {\n",
       "      margin-bottom: 4px;\n",
       "    }\n",
       "\n",
       "    [theme=dark] .colab-df-convert {\n",
       "      background-color: #3B4455;\n",
       "      fill: #D2E3FC;\n",
       "    }\n",
       "\n",
       "    [theme=dark] .colab-df-convert:hover {\n",
       "      background-color: #434B5C;\n",
       "      box-shadow: 0px 1px 3px 1px rgba(0, 0, 0, 0.15);\n",
       "      filter: drop-shadow(0px 1px 2px rgba(0, 0, 0, 0.3));\n",
       "      fill: #FFFFFF;\n",
       "    }\n",
       "  </style>\n",
       "\n",
       "    <script>\n",
       "      const buttonEl =\n",
       "        document.querySelector('#df-c8425fff-a042-46d4-8902-0a2edf0daaa6 button.colab-df-convert');\n",
       "      buttonEl.style.display =\n",
       "        google.colab.kernel.accessAllowed ? 'block' : 'none';\n",
       "\n",
       "      async function convertToInteractive(key) {\n",
       "        const element = document.querySelector('#df-c8425fff-a042-46d4-8902-0a2edf0daaa6');\n",
       "        const dataTable =\n",
       "          await google.colab.kernel.invokeFunction('convertToInteractive',\n",
       "                                                    [key], {});\n",
       "        if (!dataTable) return;\n",
       "\n",
       "        const docLinkHtml = 'Like what you see? Visit the ' +\n",
       "          '<a target=\"_blank\" href=https://colab.research.google.com/notebooks/data_table.ipynb>data table notebook</a>'\n",
       "          + ' to learn more about interactive tables.';\n",
       "        element.innerHTML = '';\n",
       "        dataTable['output_type'] = 'display_data';\n",
       "        await google.colab.output.renderOutput(dataTable, element);\n",
       "        const docLink = document.createElement('div');\n",
       "        docLink.innerHTML = docLinkHtml;\n",
       "        element.appendChild(docLink);\n",
       "      }\n",
       "    </script>\n",
       "  </div>\n",
       "\n",
       "\n",
       "<div id=\"df-f41670cc-39ab-4172-9665-04a8c0714c77\">\n",
       "  <button class=\"colab-df-quickchart\" onclick=\"quickchart('df-f41670cc-39ab-4172-9665-04a8c0714c77')\"\n",
       "            title=\"Suggest charts\"\n",
       "            style=\"display:none;\">\n",
       "\n",
       "<svg xmlns=\"http://www.w3.org/2000/svg\" height=\"24px\"viewBox=\"0 0 24 24\"\n",
       "     width=\"24px\">\n",
       "    <g>\n",
       "        <path d=\"M19 3H5c-1.1 0-2 .9-2 2v14c0 1.1.9 2 2 2h14c1.1 0 2-.9 2-2V5c0-1.1-.9-2-2-2zM9 17H7v-7h2v7zm4 0h-2V7h2v10zm4 0h-2v-4h2v4z\"/>\n",
       "    </g>\n",
       "</svg>\n",
       "  </button>\n",
       "\n",
       "<style>\n",
       "  .colab-df-quickchart {\n",
       "      --bg-color: #E8F0FE;\n",
       "      --fill-color: #1967D2;\n",
       "      --hover-bg-color: #E2EBFA;\n",
       "      --hover-fill-color: #174EA6;\n",
       "      --disabled-fill-color: #AAA;\n",
       "      --disabled-bg-color: #DDD;\n",
       "  }\n",
       "\n",
       "  [theme=dark] .colab-df-quickchart {\n",
       "      --bg-color: #3B4455;\n",
       "      --fill-color: #D2E3FC;\n",
       "      --hover-bg-color: #434B5C;\n",
       "      --hover-fill-color: #FFFFFF;\n",
       "      --disabled-bg-color: #3B4455;\n",
       "      --disabled-fill-color: #666;\n",
       "  }\n",
       "\n",
       "  .colab-df-quickchart {\n",
       "    background-color: var(--bg-color);\n",
       "    border: none;\n",
       "    border-radius: 50%;\n",
       "    cursor: pointer;\n",
       "    display: none;\n",
       "    fill: var(--fill-color);\n",
       "    height: 32px;\n",
       "    padding: 0;\n",
       "    width: 32px;\n",
       "  }\n",
       "\n",
       "  .colab-df-quickchart:hover {\n",
       "    background-color: var(--hover-bg-color);\n",
       "    box-shadow: 0 1px 2px rgba(60, 64, 67, 0.3), 0 1px 3px 1px rgba(60, 64, 67, 0.15);\n",
       "    fill: var(--button-hover-fill-color);\n",
       "  }\n",
       "\n",
       "  .colab-df-quickchart-complete:disabled,\n",
       "  .colab-df-quickchart-complete:disabled:hover {\n",
       "    background-color: var(--disabled-bg-color);\n",
       "    fill: var(--disabled-fill-color);\n",
       "    box-shadow: none;\n",
       "  }\n",
       "\n",
       "  .colab-df-spinner {\n",
       "    border: 2px solid var(--fill-color);\n",
       "    border-color: transparent;\n",
       "    border-bottom-color: var(--fill-color);\n",
       "    animation:\n",
       "      spin 1s steps(1) infinite;\n",
       "  }\n",
       "\n",
       "  @keyframes spin {\n",
       "    0% {\n",
       "      border-color: transparent;\n",
       "      border-bottom-color: var(--fill-color);\n",
       "      border-left-color: var(--fill-color);\n",
       "    }\n",
       "    20% {\n",
       "      border-color: transparent;\n",
       "      border-left-color: var(--fill-color);\n",
       "      border-top-color: var(--fill-color);\n",
       "    }\n",
       "    30% {\n",
       "      border-color: transparent;\n",
       "      border-left-color: var(--fill-color);\n",
       "      border-top-color: var(--fill-color);\n",
       "      border-right-color: var(--fill-color);\n",
       "    }\n",
       "    40% {\n",
       "      border-color: transparent;\n",
       "      border-right-color: var(--fill-color);\n",
       "      border-top-color: var(--fill-color);\n",
       "    }\n",
       "    60% {\n",
       "      border-color: transparent;\n",
       "      border-right-color: var(--fill-color);\n",
       "    }\n",
       "    80% {\n",
       "      border-color: transparent;\n",
       "      border-right-color: var(--fill-color);\n",
       "      border-bottom-color: var(--fill-color);\n",
       "    }\n",
       "    90% {\n",
       "      border-color: transparent;\n",
       "      border-bottom-color: var(--fill-color);\n",
       "    }\n",
       "  }\n",
       "</style>\n",
       "\n",
       "  <script>\n",
       "    async function quickchart(key) {\n",
       "      const quickchartButtonEl =\n",
       "        document.querySelector('#' + key + ' button');\n",
       "      quickchartButtonEl.disabled = true;  // To prevent multiple clicks.\n",
       "      quickchartButtonEl.classList.add('colab-df-spinner');\n",
       "      try {\n",
       "        const charts = await google.colab.kernel.invokeFunction(\n",
       "            'suggestCharts', [key], {});\n",
       "      } catch (error) {\n",
       "        console.error('Error during call to suggestCharts:', error);\n",
       "      }\n",
       "      quickchartButtonEl.classList.remove('colab-df-spinner');\n",
       "      quickchartButtonEl.classList.add('colab-df-quickchart-complete');\n",
       "    }\n",
       "    (() => {\n",
       "      let quickchartButtonEl =\n",
       "        document.querySelector('#df-f41670cc-39ab-4172-9665-04a8c0714c77 button');\n",
       "      quickchartButtonEl.style.display =\n",
       "        google.colab.kernel.accessAllowed ? 'block' : 'none';\n",
       "    })();\n",
       "  </script>\n",
       "</div>\n",
       "\n",
       "  <div id=\"id_5d743b44-5053-4af1-bb88-234b0199d77a\">\n",
       "    <style>\n",
       "      .colab-df-generate {\n",
       "        background-color: #E8F0FE;\n",
       "        border: none;\n",
       "        border-radius: 50%;\n",
       "        cursor: pointer;\n",
       "        display: none;\n",
       "        fill: #1967D2;\n",
       "        height: 32px;\n",
       "        padding: 0 0 0 0;\n",
       "        width: 32px;\n",
       "      }\n",
       "\n",
       "      .colab-df-generate:hover {\n",
       "        background-color: #E2EBFA;\n",
       "        box-shadow: 0px 1px 2px rgba(60, 64, 67, 0.3), 0px 1px 3px 1px rgba(60, 64, 67, 0.15);\n",
       "        fill: #174EA6;\n",
       "      }\n",
       "\n",
       "      [theme=dark] .colab-df-generate {\n",
       "        background-color: #3B4455;\n",
       "        fill: #D2E3FC;\n",
       "      }\n",
       "\n",
       "      [theme=dark] .colab-df-generate:hover {\n",
       "        background-color: #434B5C;\n",
       "        box-shadow: 0px 1px 3px 1px rgba(0, 0, 0, 0.15);\n",
       "        filter: drop-shadow(0px 1px 2px rgba(0, 0, 0, 0.3));\n",
       "        fill: #FFFFFF;\n",
       "      }\n",
       "    </style>\n",
       "    <button class=\"colab-df-generate\" onclick=\"generateWithVariable('train_set')\"\n",
       "            title=\"Generate code using this dataframe.\"\n",
       "            style=\"display:none;\">\n",
       "\n",
       "  <svg xmlns=\"http://www.w3.org/2000/svg\" height=\"24px\"viewBox=\"0 0 24 24\"\n",
       "       width=\"24px\">\n",
       "    <path d=\"M7,19H8.4L18.45,9,17,7.55,7,17.6ZM5,21V16.75L18.45,3.32a2,2,0,0,1,2.83,0l1.4,1.43a1.91,1.91,0,0,1,.58,1.4,1.91,1.91,0,0,1-.58,1.4L9.25,21ZM18.45,9,17,7.55Zm-12,3A5.31,5.31,0,0,0,4.9,8.1,5.31,5.31,0,0,0,1,6.5,5.31,5.31,0,0,0,4.9,4.9,5.31,5.31,0,0,0,6.5,1,5.31,5.31,0,0,0,8.1,4.9,5.31,5.31,0,0,0,12,6.5,5.46,5.46,0,0,0,6.5,12Z\"/>\n",
       "  </svg>\n",
       "    </button>\n",
       "    <script>\n",
       "      (() => {\n",
       "      const buttonEl =\n",
       "        document.querySelector('#id_5d743b44-5053-4af1-bb88-234b0199d77a button.colab-df-generate');\n",
       "      buttonEl.style.display =\n",
       "        google.colab.kernel.accessAllowed ? 'block' : 'none';\n",
       "\n",
       "      buttonEl.onclick = () => {\n",
       "        google.colab.notebook.generateWithVariable('train_set');\n",
       "      }\n",
       "      })();\n",
       "    </script>\n",
       "  </div>\n",
       "\n",
       "    </div>\n",
       "  </div>\n"
      ],
      "text/plain": [
       "     urlDrugName  rating           effectiveness  \\\n",
       "2686      zoloft       9        Highly Effective   \n",
       "1192    adipex-p       9        Highly Effective   \n",
       "2738    tri-luma       7    Moderately Effective   \n",
       "2780      yasmin       2        Highly Effective   \n",
       "1735      requip       7  Considerably Effective   \n",
       "...          ...     ...                     ...   \n",
       "3092      zyrtec       9        Highly Effective   \n",
       "1095   neurontin       0             Ineffective   \n",
       "1130  wellbutrin       6    Moderately Effective   \n",
       "1294  wellbutrin       2  Considerably Effective   \n",
       "860     accutane       4        Highly Effective   \n",
       "\n",
       "                        sideEffects                       condition  \\\n",
       "2686                No Side Effects                         anxiety   \n",
       "1192              Mild Side Effects               to lose 30 pounds   \n",
       "2738            Severe Side Effects               hyperpigmentation   \n",
       "2780          Moderate Side Effects                   birth control   \n",
       "1735                No Side Effects           restless leg syndrome   \n",
       "...                             ...                             ...   \n",
       "3092              Mild Side Effects                   atopic eczema   \n",
       "1095            Severe Side Effects  all over and various type pain   \n",
       "1130              Mild Side Effects                      depression   \n",
       "1294          Moderate Side Effects                    stop smoking   \n",
       "860   Extremely Severe Side Effects                     cystic acne   \n",
       "\n",
       "                                         benefitsReview  \\\n",
       "2686  becoming a normal functioning individual. it h...   \n",
       "1192  When BMI rating is over 27 its time to get tha...   \n",
       "2738                           lightening of acne scars   \n",
       "2780  There was no chance of pregancy because i lost...   \n",
       "1735  I took this medication to treat restless leg s...   \n",
       "...                                                 ...   \n",
       "3092  The drug was very effective in counteracting s...   \n",
       "1095                                           No Value   \n",
       "1130  I experienced less depression, increased libid...   \n",
       "1294  The treatment was effective in reducing my \"ap...   \n",
       "860   The drug cleared my skin and even reduced some...   \n",
       "\n",
       "                                      sideEffectsReview  \\\n",
       "2686  I had no real side effects unless you consider...   \n",
       "1192  jittery.. sometimes euphoric.. tired but cant ...   \n",
       "2738                redness, dryness, breakdown of skin   \n",
       "2780  no libido what so ever. My breasts hurt like n...   \n",
       "1735  I did need to take more as time went on, and I...   \n",
       "...                                                 ...   \n",
       "3092  I felt slightly tired after taking Zyrtec. How...   \n",
       "1095  Nausea, extreme sleepiness,severe headache, ji...   \n",
       "1130  I have a dry mouth and eyes. Drug has decrease...   \n",
       "1294  After a while, I began to notice that NOTHING ...   \n",
       "860   severe sexual side effects began about 2 month...   \n",
       "\n",
       "                                         commentsReview   Sales  Production  \\\n",
       "2686                                  taken once daily.  135166       335.0   \n",
       "1192  last results 3 months on adipex-p lost 30 poun...  739564       939.0   \n",
       "2738  this topical compound was used to reduce hyper...  683247       843.0   \n",
       "2780  I was given this to prevent pregnancy and i am...  222295       282.0   \n",
       "1735  I took one milligram at night to treat the sym...  344748       505.0   \n",
       "...                                                 ...     ...         ...   \n",
       "3092  This is a non-prescription drug and I took it ...  156028       356.0   \n",
       "1095  Day one I felt negative side effects after tak...  317886       337.0   \n",
       "1130  Prescribed at 300 mg per day, have taken as mu...  556187       696.0   \n",
       "1294  I was taking the Bupropion as an aide to break...  728338       789.0   \n",
       "860   treatment began with two 40mg tablets twice a ...  154819       255.0   \n",
       "\n",
       "      benefitsReview_wc  sideEffectsReview_wc  commentsReview_wc  \n",
       "2686                 62                    15                  3  \n",
       "1192                163                    10                248  \n",
       "2738                  4                     5                 42  \n",
       "2780                 22                    50                 27  \n",
       "1735                 93                    69                106  \n",
       "...                 ...                   ...                ...  \n",
       "3092                 74                    54                 51  \n",
       "1095                  2                    10                120  \n",
       "1130                 15                    15                 24  \n",
       "1294                 44                   105                 92  \n",
       "860                  24                    70                145  \n",
       "\n",
       "[2485 rows x 13 columns]"
      ]
     },
     "execution_count": 13,
     "metadata": {},
     "output_type": "execute_result"
    }
   ],
   "source": [
    "train_set"
   ]
  },
  {
   "cell_type": "markdown",
   "metadata": {
    "id": "UqeY7RaHUYrC"
   },
   "source": [
    "***"
   ]
  },
  {
   "cell_type": "markdown",
   "metadata": {
    "id": "pu_y3pUQUYrC"
   },
   "source": [
    "#### Escalado/Normalización"
   ]
  },
  {
   "cell_type": "markdown",
   "metadata": {
    "id": "cC3nO9gWUYrC"
   },
   "source": [
    "Lo primero es quedarnos con las columnas numéricas"
   ]
  },
  {
   "cell_type": "code",
   "execution_count": 14,
   "metadata": {
    "colab": {
     "base_uri": "https://localhost:8080/"
    },
    "id": "5RaBUu-SUYrC",
    "outputId": "f5a91646-664a-47a8-ed7a-676f09a92d5b"
   },
   "outputs": [
    {
     "name": "stdout",
     "output_type": "stream",
     "text": [
      "<class 'pandas.core.frame.DataFrame'>\n",
      "Index: 2485 entries, 2686 to 860\n",
      "Data columns (total 13 columns):\n",
      " #   Column                Non-Null Count  Dtype  \n",
      "---  ------                --------------  -----  \n",
      " 0   urlDrugName           2485 non-null   object \n",
      " 1   rating                2485 non-null   int64  \n",
      " 2   effectiveness         2485 non-null   object \n",
      " 3   sideEffects           2485 non-null   object \n",
      " 4   condition             2485 non-null   object \n",
      " 5   benefitsReview        2485 non-null   object \n",
      " 6   sideEffectsReview     2485 non-null   object \n",
      " 7   commentsReview        2485 non-null   object \n",
      " 8   Sales                 2485 non-null   int64  \n",
      " 9   Production            2485 non-null   float64\n",
      " 10  benefitsReview_wc     2485 non-null   int64  \n",
      " 11  sideEffectsReview_wc  2485 non-null   int64  \n",
      " 12  commentsReview_wc     2485 non-null   int64  \n",
      "dtypes: float64(1), int64(5), object(7)\n",
      "memory usage: 271.8+ KB\n"
     ]
    }
   ],
   "source": [
    "train_set.info()"
   ]
  },
  {
   "cell_type": "markdown",
   "metadata": {
    "id": "lhZWTrVFUYrC"
   },
   "source": [
    "Son claramente las que no son tipo `object`"
   ]
  },
  {
   "cell_type": "code",
   "execution_count": 15,
   "metadata": {
    "colab": {
     "base_uri": "https://localhost:8080/"
    },
    "id": "5B0AA88XUYrC",
    "outputId": "fa0f0b79-9390-4eb7-f554-30419b006673"
   },
   "outputs": [
    {
     "data": {
      "text/plain": [
       "['Sales',\n",
       " 'Production',\n",
       " 'benefitsReview_wc',\n",
       " 'sideEffectsReview_wc',\n",
       " 'commentsReview_wc']"
      ]
     },
     "execution_count": 15,
     "metadata": {},
     "output_type": "execute_result"
    }
   ],
   "source": [
    "numericas = [col for col in train_set.columns if train_set[col].dtype != \"object\" and col != target]\n",
    "numericas"
   ]
  },
  {
   "cell_type": "markdown",
   "metadata": {
    "id": "JzysmB2nUYrC"
   },
   "source": [
    "Y ahora las vamos a normalizar usando keras, y además vamos a entrenar un modelo baseline solo con estas features la numéricas."
   ]
  },
  {
   "cell_type": "markdown",
   "metadata": {
    "id": "H5W_JwohUYrG"
   },
   "source": [
    "### Normalization Layer"
   ]
  },
  {
   "cell_type": "code",
   "execution_count": 16,
   "metadata": {
    "id": "NeNduRJvUYrG"
   },
   "outputs": [],
   "source": [
    "X_num = train_set[numericas].copy()\n",
    "y_num = train_set[target]"
   ]
  },
  {
   "cell_type": "markdown",
   "metadata": {
    "id": "mFELEjs9UYrG"
   },
   "source": [
    "Probemos primero sin normalizar, creando un diccionario para compensar las clases:\n"
   ]
  },
  {
   "cell_type": "code",
   "execution_count": 17,
   "metadata": {
    "id": "dwa6yyCsUYrH"
   },
   "outputs": [],
   "source": [
    "tf.random.set_seed(42)  # extra code – ensures reproducibility\n",
    "model = tf.keras.models.Sequential([\n",
    "    tf.keras.layers.Dense(100, activation = \"relu\"),\n",
    "    tf.keras.layers.Dense(10, activation = \"softmax\")\n",
    "])\n",
    "\n",
    "earlyS = tf.keras.callbacks.EarlyStopping(patience = 30, restore_best_weights= True, monitor = \"val_acc\")\n",
    "model.compile(loss=\"sparse_categorical_crossentropy\", \\\n",
    "              optimizer=tf.keras.optimizers.SGD(learning_rate=0.01),\\\n",
    "              metrics =[\"acc\"])\n"
   ]
  },
  {
   "cell_type": "code",
   "execution_count": 18,
   "metadata": {
    "colab": {
     "base_uri": "https://localhost:8080/"
    },
    "id": "dZMhq5IqUYrH",
    "outputId": "ecd753b8-113a-4470-e6f2-364cf695a38c"
   },
   "outputs": [
    {
     "name": "stdout",
     "output_type": "stream",
     "text": [
      "Epoch 1/300\n",
      "\u001b[1m63/63\u001b[0m \u001b[32m━━━━━━━━━━━━━━━━━━━━\u001b[0m\u001b[37m\u001b[0m \u001b[1m3s\u001b[0m 19ms/step - acc: 0.1929 - loss: 8118301184.0000 - val_acc: 0.2233 - val_loss: 2.2776\n",
      "Epoch 2/300\n",
      "\u001b[1m63/63\u001b[0m \u001b[32m━━━━━━━━━━━━━━━━━━━━\u001b[0m\u001b[37m\u001b[0m \u001b[1m0s\u001b[0m 4ms/step - acc: 0.2408 - loss: 2.2795 - val_acc: 0.2233 - val_loss: 2.2552\n",
      "Epoch 3/300\n",
      "\u001b[1m63/63\u001b[0m \u001b[32m━━━━━━━━━━━━━━━━━━━━\u001b[0m\u001b[37m\u001b[0m \u001b[1m0s\u001b[0m 6ms/step - acc: 0.2408 - loss: 2.2505 - val_acc: 0.2233 - val_loss: 2.2356\n",
      "Epoch 4/300\n",
      "\u001b[1m63/63\u001b[0m \u001b[32m━━━━━━━━━━━━━━━━━━━━\u001b[0m\u001b[37m\u001b[0m \u001b[1m1s\u001b[0m 5ms/step - acc: 0.2414 - loss: 2.2291 - val_acc: 0.2233 - val_loss: 2.2186\n",
      "Epoch 5/300\n",
      "\u001b[1m63/63\u001b[0m \u001b[32m━━━━━━━━━━━━━━━━━━━━\u001b[0m\u001b[37m\u001b[0m \u001b[1m0s\u001b[0m 6ms/step - acc: 0.2414 - loss: 2.2124 - val_acc: 0.2233 - val_loss: 2.2038\n",
      "Epoch 6/300\n",
      "\u001b[1m63/63\u001b[0m \u001b[32m━━━━━━━━━━━━━━━━━━━━\u001b[0m\u001b[37m\u001b[0m \u001b[1m0s\u001b[0m 3ms/step - acc: 0.2414 - loss: 2.1979 - val_acc: 0.2233 - val_loss: 2.1911\n",
      "Epoch 7/300\n",
      "\u001b[1m63/63\u001b[0m \u001b[32m━━━━━━━━━━━━━━━━━━━━\u001b[0m\u001b[37m\u001b[0m \u001b[1m0s\u001b[0m 3ms/step - acc: 0.2414 - loss: 2.1854 - val_acc: 0.2233 - val_loss: 2.1800\n",
      "Epoch 8/300\n",
      "\u001b[1m63/63\u001b[0m \u001b[32m━━━━━━━━━━━━━━━━━━━━\u001b[0m\u001b[37m\u001b[0m \u001b[1m0s\u001b[0m 3ms/step - acc: 0.2414 - loss: 2.1746 - val_acc: 0.2233 - val_loss: 2.1705\n",
      "Epoch 9/300\n",
      "\u001b[1m63/63\u001b[0m \u001b[32m━━━━━━━━━━━━━━━━━━━━\u001b[0m\u001b[37m\u001b[0m \u001b[1m0s\u001b[0m 3ms/step - acc: 0.2414 - loss: 2.1652 - val_acc: 0.2233 - val_loss: 2.1623\n",
      "Epoch 10/300\n",
      "\u001b[1m63/63\u001b[0m \u001b[32m━━━━━━━━━━━━━━━━━━━━\u001b[0m\u001b[37m\u001b[0m \u001b[1m0s\u001b[0m 3ms/step - acc: 0.2414 - loss: 2.1572 - val_acc: 0.2233 - val_loss: 2.1553\n",
      "Epoch 11/300\n",
      "\u001b[1m63/63\u001b[0m \u001b[32m━━━━━━━━━━━━━━━━━━━━\u001b[0m\u001b[37m\u001b[0m \u001b[1m0s\u001b[0m 4ms/step - acc: 0.2414 - loss: 2.1503 - val_acc: 0.2233 - val_loss: 2.1492\n",
      "Epoch 12/300\n",
      "\u001b[1m63/63\u001b[0m \u001b[32m━━━━━━━━━━━━━━━━━━━━\u001b[0m\u001b[37m\u001b[0m \u001b[1m0s\u001b[0m 3ms/step - acc: 0.2414 - loss: 2.1443 - val_acc: 0.2233 - val_loss: 2.1439\n",
      "Epoch 13/300\n",
      "\u001b[1m63/63\u001b[0m \u001b[32m━━━━━━━━━━━━━━━━━━━━\u001b[0m\u001b[37m\u001b[0m \u001b[1m0s\u001b[0m 3ms/step - acc: 0.2414 - loss: 2.1392 - val_acc: 0.2233 - val_loss: 2.1393\n",
      "Epoch 14/300\n",
      "\u001b[1m63/63\u001b[0m \u001b[32m━━━━━━━━━━━━━━━━━━━━\u001b[0m\u001b[37m\u001b[0m \u001b[1m0s\u001b[0m 3ms/step - acc: 0.2414 - loss: 2.1348 - val_acc: 0.2233 - val_loss: 2.1353\n",
      "Epoch 15/300\n",
      "\u001b[1m63/63\u001b[0m \u001b[32m━━━━━━━━━━━━━━━━━━━━\u001b[0m\u001b[37m\u001b[0m \u001b[1m0s\u001b[0m 4ms/step - acc: 0.2414 - loss: 2.1309 - val_acc: 0.2233 - val_loss: 2.1319\n",
      "Epoch 16/300\n",
      "\u001b[1m63/63\u001b[0m \u001b[32m━━━━━━━━━━━━━━━━━━━━\u001b[0m\u001b[37m\u001b[0m \u001b[1m0s\u001b[0m 3ms/step - acc: 0.2414 - loss: 2.1276 - val_acc: 0.2233 - val_loss: 2.1289\n",
      "Epoch 17/300\n",
      "\u001b[1m63/63\u001b[0m \u001b[32m━━━━━━━━━━━━━━━━━━━━\u001b[0m\u001b[37m\u001b[0m \u001b[1m0s\u001b[0m 3ms/step - acc: 0.2414 - loss: 2.1247 - val_acc: 0.2233 - val_loss: 2.1262\n",
      "Epoch 18/300\n",
      "\u001b[1m63/63\u001b[0m \u001b[32m━━━━━━━━━━━━━━━━━━━━\u001b[0m\u001b[37m\u001b[0m \u001b[1m0s\u001b[0m 3ms/step - acc: 0.2414 - loss: 2.1222 - val_acc: 0.2233 - val_loss: 2.1239\n",
      "Epoch 19/300\n",
      "\u001b[1m63/63\u001b[0m \u001b[32m━━━━━━━━━━━━━━━━━━━━\u001b[0m\u001b[37m\u001b[0m \u001b[1m0s\u001b[0m 3ms/step - acc: 0.2414 - loss: 2.1200 - val_acc: 0.2233 - val_loss: 2.1219\n",
      "Epoch 20/300\n",
      "\u001b[1m63/63\u001b[0m \u001b[32m━━━━━━━━━━━━━━━━━━━━\u001b[0m\u001b[37m\u001b[0m \u001b[1m0s\u001b[0m 3ms/step - acc: 0.2414 - loss: 2.1181 - val_acc: 0.2233 - val_loss: 2.1201\n",
      "Epoch 21/300\n",
      "\u001b[1m63/63\u001b[0m \u001b[32m━━━━━━━━━━━━━━━━━━━━\u001b[0m\u001b[37m\u001b[0m \u001b[1m0s\u001b[0m 3ms/step - acc: 0.2414 - loss: 2.1164 - val_acc: 0.2233 - val_loss: 2.1185\n",
      "Epoch 22/300\n",
      "\u001b[1m63/63\u001b[0m \u001b[32m━━━━━━━━━━━━━━━━━━━━\u001b[0m\u001b[37m\u001b[0m \u001b[1m0s\u001b[0m 3ms/step - acc: 0.2414 - loss: 2.1149 - val_acc: 0.2233 - val_loss: 2.1170\n",
      "Epoch 23/300\n",
      "\u001b[1m63/63\u001b[0m \u001b[32m━━━━━━━━━━━━━━━━━━━━\u001b[0m\u001b[37m\u001b[0m \u001b[1m0s\u001b[0m 4ms/step - acc: 0.2414 - loss: 2.1136 - val_acc: 0.2233 - val_loss: 2.1158\n",
      "Epoch 24/300\n",
      "\u001b[1m63/63\u001b[0m \u001b[32m━━━━━━━━━━━━━━━━━━━━\u001b[0m\u001b[37m\u001b[0m \u001b[1m0s\u001b[0m 3ms/step - acc: 0.2414 - loss: 2.1125 - val_acc: 0.2233 - val_loss: 2.1147\n",
      "Epoch 25/300\n",
      "\u001b[1m63/63\u001b[0m \u001b[32m━━━━━━━━━━━━━━━━━━━━\u001b[0m\u001b[37m\u001b[0m \u001b[1m0s\u001b[0m 4ms/step - acc: 0.2414 - loss: 2.1114 - val_acc: 0.2233 - val_loss: 2.1136\n",
      "Epoch 26/300\n",
      "\u001b[1m63/63\u001b[0m \u001b[32m━━━━━━━━━━━━━━━━━━━━\u001b[0m\u001b[37m\u001b[0m \u001b[1m0s\u001b[0m 3ms/step - acc: 0.2414 - loss: 2.1105 - val_acc: 0.2233 - val_loss: 2.1127\n",
      "Epoch 27/300\n",
      "\u001b[1m63/63\u001b[0m \u001b[32m━━━━━━━━━━━━━━━━━━━━\u001b[0m\u001b[37m\u001b[0m \u001b[1m0s\u001b[0m 4ms/step - acc: 0.2414 - loss: 2.1097 - val_acc: 0.2233 - val_loss: 2.1119\n",
      "Epoch 28/300\n",
      "\u001b[1m63/63\u001b[0m \u001b[32m━━━━━━━━━━━━━━━━━━━━\u001b[0m\u001b[37m\u001b[0m \u001b[1m0s\u001b[0m 3ms/step - acc: 0.2414 - loss: 2.1090 - val_acc: 0.2233 - val_loss: 2.1112\n",
      "Epoch 29/300\n",
      "\u001b[1m63/63\u001b[0m \u001b[32m━━━━━━━━━━━━━━━━━━━━\u001b[0m\u001b[37m\u001b[0m \u001b[1m0s\u001b[0m 4ms/step - acc: 0.2414 - loss: 2.1084 - val_acc: 0.2233 - val_loss: 2.1105\n",
      "Epoch 30/300\n",
      "\u001b[1m63/63\u001b[0m \u001b[32m━━━━━━━━━━━━━━━━━━━━\u001b[0m\u001b[37m\u001b[0m \u001b[1m0s\u001b[0m 4ms/step - acc: 0.2414 - loss: 2.1078 - val_acc: 0.2233 - val_loss: 2.1099\n",
      "Epoch 31/300\n",
      "\u001b[1m63/63\u001b[0m \u001b[32m━━━━━━━━━━━━━━━━━━━━\u001b[0m\u001b[37m\u001b[0m \u001b[1m0s\u001b[0m 3ms/step - acc: 0.2414 - loss: 2.1073 - val_acc: 0.2233 - val_loss: 2.1094\n"
     ]
    }
   ],
   "source": [
    "history = model.fit(X_num, y_num, validation_split= 0.2, epochs=300, callbacks= earlyS)"
   ]
  },
  {
   "cell_type": "code",
   "execution_count": 19,
   "metadata": {
    "colab": {
     "base_uri": "https://localhost:8080/"
    },
    "id": "yJCxV_RFUYrH",
    "outputId": "822d58c1-f8a7-4f46-b316-148427d47ce2"
   },
   "outputs": [
    {
     "name": "stdout",
     "output_type": "stream",
     "text": [
      "\u001b[1m20/20\u001b[0m \u001b[32m━━━━━━━━━━━━━━━━━━━━\u001b[0m\u001b[37m\u001b[0m \u001b[1m0s\u001b[0m 19ms/step - acc: 0.2603 - loss: 2.2806\n"
     ]
    },
    {
     "data": {
      "text/plain": [
       "[2.2852752208709717, 0.24437299370765686]"
      ]
     },
     "execution_count": 19,
     "metadata": {},
     "output_type": "execute_result"
    }
   ],
   "source": [
    "model.evaluate(test_set[numericas], test_set[target])"
   ]
  },
  {
   "cell_type": "markdown",
   "metadata": {
    "id": "gX2gc5wtUYrH"
   },
   "source": [
    "La cosa está fácil... Vamos con la normalización"
   ]
  },
  {
   "cell_type": "code",
   "execution_count": 20,
   "metadata": {
    "colab": {
     "base_uri": "https://localhost:8080/"
    },
    "id": "-31AGSMVUYrH",
    "outputId": "04d544d9-539e-47b0-b219-d6082349cb48"
   },
   "outputs": [
    {
     "name": "stdout",
     "output_type": "stream",
     "text": [
      "Epoch 1/300\n",
      "\u001b[1m63/63\u001b[0m \u001b[32m━━━━━━━━━━━━━━━━━━━━\u001b[0m\u001b[37m\u001b[0m \u001b[1m2s\u001b[0m 19ms/step - acc: 0.0876 - loss: 2.3289 - val_acc: 0.1811 - val_loss: 2.2601\n",
      "Epoch 2/300\n",
      "\u001b[1m63/63\u001b[0m \u001b[32m━━━━━━━━━━━━━━━━━━━━\u001b[0m\u001b[37m\u001b[0m \u001b[1m0s\u001b[0m 6ms/step - acc: 0.2067 - loss: 2.2415 - val_acc: 0.2274 - val_loss: 2.1991\n",
      "Epoch 3/300\n",
      "\u001b[1m63/63\u001b[0m \u001b[32m━━━━━━━━━━━━━━━━━━━━\u001b[0m\u001b[37m\u001b[0m \u001b[1m0s\u001b[0m 5ms/step - acc: 0.2349 - loss: 2.1818 - val_acc: 0.2435 - val_loss: 2.1554\n",
      "Epoch 4/300\n",
      "\u001b[1m63/63\u001b[0m \u001b[32m━━━━━━━━━━━━━━━━━━━━\u001b[0m\u001b[37m\u001b[0m \u001b[1m1s\u001b[0m 6ms/step - acc: 0.2443 - loss: 2.1392 - val_acc: 0.2455 - val_loss: 2.1231\n",
      "Epoch 5/300\n",
      "\u001b[1m63/63\u001b[0m \u001b[32m━━━━━━━━━━━━━━━━━━━━\u001b[0m\u001b[37m\u001b[0m \u001b[1m0s\u001b[0m 3ms/step - acc: 0.2500 - loss: 2.1078 - val_acc: 0.2535 - val_loss: 2.0983\n",
      "Epoch 6/300\n",
      "\u001b[1m63/63\u001b[0m \u001b[32m━━━━━━━━━━━━━━━━━━━━\u001b[0m\u001b[37m\u001b[0m \u001b[1m0s\u001b[0m 3ms/step - acc: 0.2573 - loss: 2.0837 - val_acc: 0.2495 - val_loss: 2.0787\n",
      "Epoch 7/300\n",
      "\u001b[1m63/63\u001b[0m \u001b[32m━━━━━━━━━━━━━━━━━━━━\u001b[0m\u001b[37m\u001b[0m \u001b[1m0s\u001b[0m 4ms/step - acc: 0.2609 - loss: 2.0646 - val_acc: 0.2535 - val_loss: 2.0628\n",
      "Epoch 8/300\n",
      "\u001b[1m63/63\u001b[0m \u001b[32m━━━━━━━━━━━━━━━━━━━━\u001b[0m\u001b[37m\u001b[0m \u001b[1m0s\u001b[0m 4ms/step - acc: 0.2653 - loss: 2.0491 - val_acc: 0.2555 - val_loss: 2.0496\n",
      "Epoch 9/300\n",
      "\u001b[1m63/63\u001b[0m \u001b[32m━━━━━━━━━━━━━━━━━━━━\u001b[0m\u001b[37m\u001b[0m \u001b[1m0s\u001b[0m 3ms/step - acc: 0.2709 - loss: 2.0361 - val_acc: 0.2616 - val_loss: 2.0383\n",
      "Epoch 10/300\n",
      "\u001b[1m63/63\u001b[0m \u001b[32m━━━━━━━━━━━━━━━━━━━━\u001b[0m\u001b[37m\u001b[0m \u001b[1m0s\u001b[0m 4ms/step - acc: 0.2742 - loss: 2.0251 - val_acc: 0.2616 - val_loss: 2.0287\n",
      "Epoch 11/300\n",
      "\u001b[1m63/63\u001b[0m \u001b[32m━━━━━━━━━━━━━━━━━━━━\u001b[0m\u001b[37m\u001b[0m \u001b[1m0s\u001b[0m 3ms/step - acc: 0.2817 - loss: 2.0155 - val_acc: 0.2656 - val_loss: 2.0201\n",
      "Epoch 12/300\n",
      "\u001b[1m63/63\u001b[0m \u001b[32m━━━━━━━━━━━━━━━━━━━━\u001b[0m\u001b[37m\u001b[0m \u001b[1m0s\u001b[0m 3ms/step - acc: 0.2878 - loss: 2.0069 - val_acc: 0.2616 - val_loss: 2.0124\n",
      "Epoch 13/300\n",
      "\u001b[1m63/63\u001b[0m \u001b[32m━━━━━━━━━━━━━━━━━━━━\u001b[0m\u001b[37m\u001b[0m \u001b[1m0s\u001b[0m 4ms/step - acc: 0.2913 - loss: 1.9991 - val_acc: 0.2616 - val_loss: 2.0054\n",
      "Epoch 14/300\n",
      "\u001b[1m63/63\u001b[0m \u001b[32m━━━━━━━━━━━━━━━━━━━━\u001b[0m\u001b[37m\u001b[0m \u001b[1m0s\u001b[0m 3ms/step - acc: 0.2935 - loss: 1.9919 - val_acc: 0.2676 - val_loss: 1.9989\n",
      "Epoch 15/300\n",
      "\u001b[1m63/63\u001b[0m \u001b[32m━━━━━━━━━━━━━━━━━━━━\u001b[0m\u001b[37m\u001b[0m \u001b[1m0s\u001b[0m 3ms/step - acc: 0.2976 - loss: 1.9852 - val_acc: 0.2676 - val_loss: 1.9928\n",
      "Epoch 16/300\n",
      "\u001b[1m63/63\u001b[0m \u001b[32m━━━━━━━━━━━━━━━━━━━━\u001b[0m\u001b[37m\u001b[0m \u001b[1m0s\u001b[0m 4ms/step - acc: 0.2989 - loss: 1.9787 - val_acc: 0.2716 - val_loss: 1.9869\n",
      "Epoch 17/300\n",
      "\u001b[1m63/63\u001b[0m \u001b[32m━━━━━━━━━━━━━━━━━━━━\u001b[0m\u001b[37m\u001b[0m \u001b[1m0s\u001b[0m 3ms/step - acc: 0.2994 - loss: 1.9725 - val_acc: 0.2757 - val_loss: 1.9813\n",
      "Epoch 18/300\n",
      "\u001b[1m63/63\u001b[0m \u001b[32m━━━━━━━━━━━━━━━━━━━━\u001b[0m\u001b[37m\u001b[0m \u001b[1m0s\u001b[0m 3ms/step - acc: 0.3025 - loss: 1.9665 - val_acc: 0.2817 - val_loss: 1.9759\n",
      "Epoch 19/300\n",
      "\u001b[1m63/63\u001b[0m \u001b[32m━━━━━━━━━━━━━━━━━━━━\u001b[0m\u001b[37m\u001b[0m \u001b[1m0s\u001b[0m 3ms/step - acc: 0.3056 - loss: 1.9606 - val_acc: 0.2857 - val_loss: 1.9706\n",
      "Epoch 20/300\n",
      "\u001b[1m63/63\u001b[0m \u001b[32m━━━━━━━━━━━━━━━━━━━━\u001b[0m\u001b[37m\u001b[0m \u001b[1m0s\u001b[0m 4ms/step - acc: 0.3096 - loss: 1.9548 - val_acc: 0.2857 - val_loss: 1.9654\n",
      "Epoch 21/300\n",
      "\u001b[1m63/63\u001b[0m \u001b[32m━━━━━━━━━━━━━━━━━━━━\u001b[0m\u001b[37m\u001b[0m \u001b[1m0s\u001b[0m 3ms/step - acc: 0.3105 - loss: 1.9491 - val_acc: 0.2877 - val_loss: 1.9602\n",
      "Epoch 22/300\n",
      "\u001b[1m63/63\u001b[0m \u001b[32m━━━━━━━━━━━━━━━━━━━━\u001b[0m\u001b[37m\u001b[0m \u001b[1m0s\u001b[0m 4ms/step - acc: 0.3109 - loss: 1.9433 - val_acc: 0.2897 - val_loss: 1.9551\n",
      "Epoch 23/300\n",
      "\u001b[1m63/63\u001b[0m \u001b[32m━━━━━━━━━━━━━━━━━━━━\u001b[0m\u001b[37m\u001b[0m \u001b[1m0s\u001b[0m 4ms/step - acc: 0.3126 - loss: 1.9377 - val_acc: 0.2918 - val_loss: 1.9499\n",
      "Epoch 24/300\n",
      "\u001b[1m63/63\u001b[0m \u001b[32m━━━━━━━━━━━━━━━━━━━━\u001b[0m\u001b[37m\u001b[0m \u001b[1m0s\u001b[0m 3ms/step - acc: 0.3161 - loss: 1.9319 - val_acc: 0.2918 - val_loss: 1.9448\n",
      "Epoch 25/300\n",
      "\u001b[1m63/63\u001b[0m \u001b[32m━━━━━━━━━━━━━━━━━━━━\u001b[0m\u001b[37m\u001b[0m \u001b[1m0s\u001b[0m 4ms/step - acc: 0.3186 - loss: 1.9262 - val_acc: 0.2958 - val_loss: 1.9396\n",
      "Epoch 26/300\n",
      "\u001b[1m63/63\u001b[0m \u001b[32m━━━━━━━━━━━━━━━━━━━━\u001b[0m\u001b[37m\u001b[0m \u001b[1m0s\u001b[0m 3ms/step - acc: 0.3218 - loss: 1.9204 - val_acc: 0.2978 - val_loss: 1.9343\n",
      "Epoch 27/300\n",
      "\u001b[1m63/63\u001b[0m \u001b[32m━━━━━━━━━━━━━━━━━━━━\u001b[0m\u001b[37m\u001b[0m \u001b[1m0s\u001b[0m 3ms/step - acc: 0.3233 - loss: 1.9146 - val_acc: 0.2978 - val_loss: 1.9290\n",
      "Epoch 28/300\n",
      "\u001b[1m63/63\u001b[0m \u001b[32m━━━━━━━━━━━━━━━━━━━━\u001b[0m\u001b[37m\u001b[0m \u001b[1m0s\u001b[0m 3ms/step - acc: 0.3262 - loss: 1.9087 - val_acc: 0.2998 - val_loss: 1.9237\n",
      "Epoch 29/300\n",
      "\u001b[1m63/63\u001b[0m \u001b[32m━━━━━━━━━━━━━━━━━━━━\u001b[0m\u001b[37m\u001b[0m \u001b[1m0s\u001b[0m 4ms/step - acc: 0.3283 - loss: 1.9029 - val_acc: 0.2998 - val_loss: 1.9183\n",
      "Epoch 30/300\n",
      "\u001b[1m63/63\u001b[0m \u001b[32m━━━━━━━━━━━━━━━━━━━━\u001b[0m\u001b[37m\u001b[0m \u001b[1m0s\u001b[0m 3ms/step - acc: 0.3342 - loss: 1.8970 - val_acc: 0.3038 - val_loss: 1.9129\n",
      "Epoch 31/300\n",
      "\u001b[1m63/63\u001b[0m \u001b[32m━━━━━━━━━━━━━━━━━━━━\u001b[0m\u001b[37m\u001b[0m \u001b[1m0s\u001b[0m 3ms/step - acc: 0.3341 - loss: 1.8910 - val_acc: 0.3038 - val_loss: 1.9074\n",
      "Epoch 32/300\n",
      "\u001b[1m63/63\u001b[0m \u001b[32m━━━━━━━━━━━━━━━━━━━━\u001b[0m\u001b[37m\u001b[0m \u001b[1m0s\u001b[0m 4ms/step - acc: 0.3347 - loss: 1.8849 - val_acc: 0.3058 - val_loss: 1.9018\n",
      "Epoch 33/300\n",
      "\u001b[1m63/63\u001b[0m \u001b[32m━━━━━━━━━━━━━━━━━━━━\u001b[0m\u001b[37m\u001b[0m \u001b[1m0s\u001b[0m 3ms/step - acc: 0.3350 - loss: 1.8788 - val_acc: 0.3078 - val_loss: 1.8962\n",
      "Epoch 34/300\n",
      "\u001b[1m63/63\u001b[0m \u001b[32m━━━━━━━━━━━━━━━━━━━━\u001b[0m\u001b[37m\u001b[0m \u001b[1m0s\u001b[0m 3ms/step - acc: 0.3377 - loss: 1.8726 - val_acc: 0.3078 - val_loss: 1.8905\n",
      "Epoch 35/300\n",
      "\u001b[1m63/63\u001b[0m \u001b[32m━━━━━━━━━━━━━━━━━━━━\u001b[0m\u001b[37m\u001b[0m \u001b[1m0s\u001b[0m 3ms/step - acc: 0.3357 - loss: 1.8663 - val_acc: 0.3119 - val_loss: 1.8846\n",
      "Epoch 36/300\n",
      "\u001b[1m63/63\u001b[0m \u001b[32m━━━━━━━━━━━━━━━━━━━━\u001b[0m\u001b[37m\u001b[0m \u001b[1m0s\u001b[0m 4ms/step - acc: 0.3369 - loss: 1.8598 - val_acc: 0.3139 - val_loss: 1.8787\n",
      "Epoch 37/300\n",
      "\u001b[1m63/63\u001b[0m \u001b[32m━━━━━━━━━━━━━━━━━━━━\u001b[0m\u001b[37m\u001b[0m \u001b[1m0s\u001b[0m 3ms/step - acc: 0.3395 - loss: 1.8533 - val_acc: 0.3199 - val_loss: 1.8727\n",
      "Epoch 38/300\n",
      "\u001b[1m63/63\u001b[0m \u001b[32m━━━━━━━━━━━━━━━━━━━━\u001b[0m\u001b[37m\u001b[0m \u001b[1m0s\u001b[0m 3ms/step - acc: 0.3405 - loss: 1.8467 - val_acc: 0.3239 - val_loss: 1.8666\n",
      "Epoch 39/300\n",
      "\u001b[1m63/63\u001b[0m \u001b[32m━━━━━━━━━━━━━━━━━━━━\u001b[0m\u001b[37m\u001b[0m \u001b[1m0s\u001b[0m 3ms/step - acc: 0.3420 - loss: 1.8399 - val_acc: 0.3260 - val_loss: 1.8604\n",
      "Epoch 40/300\n",
      "\u001b[1m63/63\u001b[0m \u001b[32m━━━━━━━━━━━━━━━━━━━━\u001b[0m\u001b[37m\u001b[0m \u001b[1m0s\u001b[0m 3ms/step - acc: 0.3430 - loss: 1.8330 - val_acc: 0.3320 - val_loss: 1.8541\n",
      "Epoch 41/300\n",
      "\u001b[1m63/63\u001b[0m \u001b[32m━━━━━━━━━━━━━━━━━━━━\u001b[0m\u001b[37m\u001b[0m \u001b[1m0s\u001b[0m 3ms/step - acc: 0.3465 - loss: 1.8261 - val_acc: 0.3320 - val_loss: 1.8476\n",
      "Epoch 42/300\n",
      "\u001b[1m63/63\u001b[0m \u001b[32m━━━━━━━━━━━━━━━━━━━━\u001b[0m\u001b[37m\u001b[0m \u001b[1m0s\u001b[0m 5ms/step - acc: 0.3523 - loss: 1.8190 - val_acc: 0.3340 - val_loss: 1.8410\n",
      "Epoch 43/300\n",
      "\u001b[1m63/63\u001b[0m \u001b[32m━━━━━━━━━━━━━━━━━━━━\u001b[0m\u001b[37m\u001b[0m \u001b[1m1s\u001b[0m 5ms/step - acc: 0.3531 - loss: 1.8119 - val_acc: 0.3340 - val_loss: 1.8343\n",
      "Epoch 44/300\n",
      "\u001b[1m63/63\u001b[0m \u001b[32m━━━━━━━━━━━━━━━━━━━━\u001b[0m\u001b[37m\u001b[0m \u001b[1m0s\u001b[0m 6ms/step - acc: 0.3539 - loss: 1.8046 - val_acc: 0.3360 - val_loss: 1.8275\n",
      "Epoch 45/300\n",
      "\u001b[1m63/63\u001b[0m \u001b[32m━━━━━━━━━━━━━━━━━━━━\u001b[0m\u001b[37m\u001b[0m \u001b[1m0s\u001b[0m 4ms/step - acc: 0.3543 - loss: 1.7973 - val_acc: 0.3400 - val_loss: 1.8206\n",
      "Epoch 46/300\n",
      "\u001b[1m63/63\u001b[0m \u001b[32m━━━━━━━━━━━━━━━━━━━━\u001b[0m\u001b[37m\u001b[0m \u001b[1m0s\u001b[0m 4ms/step - acc: 0.3551 - loss: 1.7898 - val_acc: 0.3421 - val_loss: 1.8135\n",
      "Epoch 47/300\n",
      "\u001b[1m63/63\u001b[0m \u001b[32m━━━━━━━━━━━━━━━━━━━━\u001b[0m\u001b[37m\u001b[0m \u001b[1m0s\u001b[0m 3ms/step - acc: 0.3563 - loss: 1.7823 - val_acc: 0.3421 - val_loss: 1.8064\n",
      "Epoch 48/300\n",
      "\u001b[1m63/63\u001b[0m \u001b[32m━━━━━━━━━━━━━━━━━━━━\u001b[0m\u001b[37m\u001b[0m \u001b[1m0s\u001b[0m 4ms/step - acc: 0.3574 - loss: 1.7747 - val_acc: 0.3421 - val_loss: 1.7992\n",
      "Epoch 49/300\n",
      "\u001b[1m63/63\u001b[0m \u001b[32m━━━━━━━━━━━━━━━━━━━━\u001b[0m\u001b[37m\u001b[0m \u001b[1m0s\u001b[0m 3ms/step - acc: 0.3610 - loss: 1.7671 - val_acc: 0.3421 - val_loss: 1.7920\n",
      "Epoch 50/300\n",
      "\u001b[1m63/63\u001b[0m \u001b[32m━━━━━━━━━━━━━━━━━━━━\u001b[0m\u001b[37m\u001b[0m \u001b[1m0s\u001b[0m 3ms/step - acc: 0.3658 - loss: 1.7594 - val_acc: 0.3441 - val_loss: 1.7846\n",
      "Epoch 51/300\n",
      "\u001b[1m63/63\u001b[0m \u001b[32m━━━━━━━━━━━━━━━━━━━━\u001b[0m\u001b[37m\u001b[0m \u001b[1m0s\u001b[0m 3ms/step - acc: 0.3682 - loss: 1.7517 - val_acc: 0.3461 - val_loss: 1.7772\n",
      "Epoch 52/300\n",
      "\u001b[1m63/63\u001b[0m \u001b[32m━━━━━━━━━━━━━━━━━━━━\u001b[0m\u001b[37m\u001b[0m \u001b[1m0s\u001b[0m 3ms/step - acc: 0.3684 - loss: 1.7440 - val_acc: 0.3461 - val_loss: 1.7698\n",
      "Epoch 53/300\n",
      "\u001b[1m63/63\u001b[0m \u001b[32m━━━━━━━━━━━━━━━━━━━━\u001b[0m\u001b[37m\u001b[0m \u001b[1m0s\u001b[0m 4ms/step - acc: 0.3723 - loss: 1.7362 - val_acc: 0.3461 - val_loss: 1.7624\n",
      "Epoch 54/300\n",
      "\u001b[1m63/63\u001b[0m \u001b[32m━━━━━━━━━━━━━━━━━━━━\u001b[0m\u001b[37m\u001b[0m \u001b[1m0s\u001b[0m 3ms/step - acc: 0.3729 - loss: 1.7285 - val_acc: 0.3481 - val_loss: 1.7549\n",
      "Epoch 55/300\n",
      "\u001b[1m63/63\u001b[0m \u001b[32m━━━━━━━━━━━━━━━━━━━━\u001b[0m\u001b[37m\u001b[0m \u001b[1m0s\u001b[0m 4ms/step - acc: 0.3740 - loss: 1.7207 - val_acc: 0.3521 - val_loss: 1.7474\n",
      "Epoch 56/300\n",
      "\u001b[1m63/63\u001b[0m \u001b[32m━━━━━━━━━━━━━━━━━━━━\u001b[0m\u001b[37m\u001b[0m \u001b[1m0s\u001b[0m 3ms/step - acc: 0.3745 - loss: 1.7129 - val_acc: 0.3521 - val_loss: 1.7398\n",
      "Epoch 57/300\n",
      "\u001b[1m63/63\u001b[0m \u001b[32m━━━━━━━━━━━━━━━━━━━━\u001b[0m\u001b[37m\u001b[0m \u001b[1m0s\u001b[0m 4ms/step - acc: 0.3758 - loss: 1.7052 - val_acc: 0.3541 - val_loss: 1.7323\n",
      "Epoch 58/300\n",
      "\u001b[1m63/63\u001b[0m \u001b[32m━━━━━━━━━━━━━━━━━━━━\u001b[0m\u001b[37m\u001b[0m \u001b[1m0s\u001b[0m 4ms/step - acc: 0.3795 - loss: 1.6974 - val_acc: 0.3561 - val_loss: 1.7247\n",
      "Epoch 59/300\n",
      "\u001b[1m63/63\u001b[0m \u001b[32m━━━━━━━━━━━━━━━━━━━━\u001b[0m\u001b[37m\u001b[0m \u001b[1m0s\u001b[0m 3ms/step - acc: 0.3833 - loss: 1.6896 - val_acc: 0.3541 - val_loss: 1.7172\n",
      "Epoch 60/300\n",
      "\u001b[1m63/63\u001b[0m \u001b[32m━━━━━━━━━━━━━━━━━━━━\u001b[0m\u001b[37m\u001b[0m \u001b[1m0s\u001b[0m 4ms/step - acc: 0.3881 - loss: 1.6818 - val_acc: 0.3541 - val_loss: 1.7096\n",
      "Epoch 61/300\n",
      "\u001b[1m63/63\u001b[0m \u001b[32m━━━━━━━━━━━━━━━━━━━━\u001b[0m\u001b[37m\u001b[0m \u001b[1m0s\u001b[0m 3ms/step - acc: 0.3897 - loss: 1.6740 - val_acc: 0.3541 - val_loss: 1.7020\n",
      "Epoch 62/300\n",
      "\u001b[1m63/63\u001b[0m \u001b[32m━━━━━━━━━━━━━━━━━━━━\u001b[0m\u001b[37m\u001b[0m \u001b[1m0s\u001b[0m 3ms/step - acc: 0.3899 - loss: 1.6663 - val_acc: 0.3541 - val_loss: 1.6944\n",
      "Epoch 63/300\n",
      "\u001b[1m63/63\u001b[0m \u001b[32m━━━━━━━━━━━━━━━━━━━━\u001b[0m\u001b[37m\u001b[0m \u001b[1m0s\u001b[0m 4ms/step - acc: 0.3911 - loss: 1.6585 - val_acc: 0.3541 - val_loss: 1.6868\n",
      "Epoch 64/300\n",
      "\u001b[1m63/63\u001b[0m \u001b[32m━━━━━━━━━━━━━━━━━━━━\u001b[0m\u001b[37m\u001b[0m \u001b[1m0s\u001b[0m 4ms/step - acc: 0.3929 - loss: 1.6508 - val_acc: 0.3581 - val_loss: 1.6792\n",
      "Epoch 65/300\n",
      "\u001b[1m63/63\u001b[0m \u001b[32m━━━━━━━━━━━━━━━━━━━━\u001b[0m\u001b[37m\u001b[0m \u001b[1m0s\u001b[0m 4ms/step - acc: 0.3948 - loss: 1.6431 - val_acc: 0.3622 - val_loss: 1.6717\n",
      "Epoch 66/300\n",
      "\u001b[1m63/63\u001b[0m \u001b[32m━━━━━━━━━━━━━━━━━━━━\u001b[0m\u001b[37m\u001b[0m \u001b[1m0s\u001b[0m 3ms/step - acc: 0.3991 - loss: 1.6355 - val_acc: 0.3622 - val_loss: 1.6642\n",
      "Epoch 67/300\n",
      "\u001b[1m63/63\u001b[0m \u001b[32m━━━━━━━━━━━━━━━━━━━━\u001b[0m\u001b[37m\u001b[0m \u001b[1m0s\u001b[0m 3ms/step - acc: 0.4005 - loss: 1.6279 - val_acc: 0.3622 - val_loss: 1.6567\n",
      "Epoch 68/300\n",
      "\u001b[1m63/63\u001b[0m \u001b[32m━━━━━━━━━━━━━━━━━━━━\u001b[0m\u001b[37m\u001b[0m \u001b[1m0s\u001b[0m 3ms/step - acc: 0.4024 - loss: 1.6204 - val_acc: 0.3642 - val_loss: 1.6493\n",
      "Epoch 69/300\n",
      "\u001b[1m63/63\u001b[0m \u001b[32m━━━━━━━━━━━━━━━━━━━━\u001b[0m\u001b[37m\u001b[0m \u001b[1m0s\u001b[0m 3ms/step - acc: 0.4031 - loss: 1.6129 - val_acc: 0.3682 - val_loss: 1.6419\n",
      "Epoch 70/300\n",
      "\u001b[1m63/63\u001b[0m \u001b[32m━━━━━━━━━━━━━━━━━━━━\u001b[0m\u001b[37m\u001b[0m \u001b[1m0s\u001b[0m 3ms/step - acc: 0.4036 - loss: 1.6055 - val_acc: 0.3702 - val_loss: 1.6345\n",
      "Epoch 71/300\n",
      "\u001b[1m63/63\u001b[0m \u001b[32m━━━━━━━━━━━━━━━━━━━━\u001b[0m\u001b[37m\u001b[0m \u001b[1m0s\u001b[0m 4ms/step - acc: 0.4057 - loss: 1.5981 - val_acc: 0.3722 - val_loss: 1.6272\n",
      "Epoch 72/300\n",
      "\u001b[1m63/63\u001b[0m \u001b[32m━━━━━━━━━━━━━━━━━━━━\u001b[0m\u001b[37m\u001b[0m \u001b[1m0s\u001b[0m 4ms/step - acc: 0.4111 - loss: 1.5908 - val_acc: 0.3722 - val_loss: 1.6199\n",
      "Epoch 73/300\n",
      "\u001b[1m63/63\u001b[0m \u001b[32m━━━━━━━━━━━━━━━━━━━━\u001b[0m\u001b[37m\u001b[0m \u001b[1m0s\u001b[0m 4ms/step - acc: 0.4140 - loss: 1.5835 - val_acc: 0.3742 - val_loss: 1.6127\n",
      "Epoch 74/300\n",
      "\u001b[1m63/63\u001b[0m \u001b[32m━━━━━━━━━━━━━━━━━━━━\u001b[0m\u001b[37m\u001b[0m \u001b[1m0s\u001b[0m 4ms/step - acc: 0.4154 - loss: 1.5762 - val_acc: 0.3803 - val_loss: 1.6056\n",
      "Epoch 75/300\n",
      "\u001b[1m63/63\u001b[0m \u001b[32m━━━━━━━━━━━━━━━━━━━━\u001b[0m\u001b[37m\u001b[0m \u001b[1m0s\u001b[0m 3ms/step - acc: 0.4206 - loss: 1.5690 - val_acc: 0.3843 - val_loss: 1.5985\n",
      "Epoch 76/300\n",
      "\u001b[1m63/63\u001b[0m \u001b[32m━━━━━━━━━━━━━━━━━━━━\u001b[0m\u001b[37m\u001b[0m \u001b[1m0s\u001b[0m 3ms/step - acc: 0.4207 - loss: 1.5619 - val_acc: 0.3903 - val_loss: 1.5914\n",
      "Epoch 77/300\n",
      "\u001b[1m63/63\u001b[0m \u001b[32m━━━━━━━━━━━━━━━━━━━━\u001b[0m\u001b[37m\u001b[0m \u001b[1m0s\u001b[0m 4ms/step - acc: 0.4224 - loss: 1.5548 - val_acc: 0.3903 - val_loss: 1.5844\n",
      "Epoch 78/300\n",
      "\u001b[1m63/63\u001b[0m \u001b[32m━━━━━━━━━━━━━━━━━━━━\u001b[0m\u001b[37m\u001b[0m \u001b[1m0s\u001b[0m 4ms/step - acc: 0.4231 - loss: 1.5478 - val_acc: 0.3944 - val_loss: 1.5774\n",
      "Epoch 79/300\n",
      "\u001b[1m63/63\u001b[0m \u001b[32m━━━━━━━━━━━━━━━━━━━━\u001b[0m\u001b[37m\u001b[0m \u001b[1m0s\u001b[0m 4ms/step - acc: 0.4246 - loss: 1.5408 - val_acc: 0.3984 - val_loss: 1.5706\n",
      "Epoch 80/300\n",
      "\u001b[1m63/63\u001b[0m \u001b[32m━━━━━━━━━━━━━━━━━━━━\u001b[0m\u001b[37m\u001b[0m \u001b[1m0s\u001b[0m 3ms/step - acc: 0.4246 - loss: 1.5340 - val_acc: 0.3984 - val_loss: 1.5638\n",
      "Epoch 81/300\n",
      "\u001b[1m63/63\u001b[0m \u001b[32m━━━━━━━━━━━━━━━━━━━━\u001b[0m\u001b[37m\u001b[0m \u001b[1m0s\u001b[0m 6ms/step - acc: 0.4259 - loss: 1.5272 - val_acc: 0.3984 - val_loss: 1.5570\n",
      "Epoch 82/300\n",
      "\u001b[1m63/63\u001b[0m \u001b[32m━━━━━━━━━━━━━━━━━━━━\u001b[0m\u001b[37m\u001b[0m \u001b[1m1s\u001b[0m 6ms/step - acc: 0.4277 - loss: 1.5205 - val_acc: 0.4064 - val_loss: 1.5504\n",
      "Epoch 83/300\n",
      "\u001b[1m63/63\u001b[0m \u001b[32m━━━━━━━━━━━━━━━━━━━━\u001b[0m\u001b[37m\u001b[0m \u001b[1m0s\u001b[0m 6ms/step - acc: 0.4277 - loss: 1.5139 - val_acc: 0.4085 - val_loss: 1.5438\n",
      "Epoch 84/300\n",
      "\u001b[1m63/63\u001b[0m \u001b[32m━━━━━━━━━━━━━━━━━━━━\u001b[0m\u001b[37m\u001b[0m \u001b[1m0s\u001b[0m 7ms/step - acc: 0.4280 - loss: 1.5073 - val_acc: 0.4125 - val_loss: 1.5373\n",
      "Epoch 85/300\n",
      "\u001b[1m63/63\u001b[0m \u001b[32m━━━━━━━━━━━━━━━━━━━━\u001b[0m\u001b[37m\u001b[0m \u001b[1m0s\u001b[0m 3ms/step - acc: 0.4292 - loss: 1.5009 - val_acc: 0.4145 - val_loss: 1.5309\n",
      "Epoch 86/300\n",
      "\u001b[1m63/63\u001b[0m \u001b[32m━━━━━━━━━━━━━━━━━━━━\u001b[0m\u001b[37m\u001b[0m \u001b[1m0s\u001b[0m 3ms/step - acc: 0.4301 - loss: 1.4945 - val_acc: 0.4185 - val_loss: 1.5245\n",
      "Epoch 87/300\n",
      "\u001b[1m63/63\u001b[0m \u001b[32m━━━━━━━━━━━━━━━━━━━━\u001b[0m\u001b[37m\u001b[0m \u001b[1m0s\u001b[0m 3ms/step - acc: 0.4315 - loss: 1.4882 - val_acc: 0.4225 - val_loss: 1.5183\n",
      "Epoch 88/300\n",
      "\u001b[1m63/63\u001b[0m \u001b[32m━━━━━━━━━━━━━━━━━━━━\u001b[0m\u001b[37m\u001b[0m \u001b[1m0s\u001b[0m 3ms/step - acc: 0.4320 - loss: 1.4819 - val_acc: 0.4225 - val_loss: 1.5120\n",
      "Epoch 89/300\n",
      "\u001b[1m63/63\u001b[0m \u001b[32m━━━━━━━━━━━━━━━━━━━━\u001b[0m\u001b[37m\u001b[0m \u001b[1m0s\u001b[0m 3ms/step - acc: 0.4329 - loss: 1.4757 - val_acc: 0.4245 - val_loss: 1.5059\n",
      "Epoch 90/300\n",
      "\u001b[1m63/63\u001b[0m \u001b[32m━━━━━━━━━━━━━━━━━━━━\u001b[0m\u001b[37m\u001b[0m \u001b[1m0s\u001b[0m 4ms/step - acc: 0.4356 - loss: 1.4696 - val_acc: 0.4245 - val_loss: 1.4998\n",
      "Epoch 91/300\n",
      "\u001b[1m63/63\u001b[0m \u001b[32m━━━━━━━━━━━━━━━━━━━━\u001b[0m\u001b[37m\u001b[0m \u001b[1m0s\u001b[0m 3ms/step - acc: 0.4364 - loss: 1.4635 - val_acc: 0.4266 - val_loss: 1.4938\n",
      "Epoch 92/300\n",
      "\u001b[1m63/63\u001b[0m \u001b[32m━━━━━━━━━━━━━━━━━━━━\u001b[0m\u001b[37m\u001b[0m \u001b[1m0s\u001b[0m 4ms/step - acc: 0.4407 - loss: 1.4575 - val_acc: 0.4286 - val_loss: 1.4878\n",
      "Epoch 93/300\n",
      "\u001b[1m63/63\u001b[0m \u001b[32m━━━━━━━━━━━━━━━━━━━━\u001b[0m\u001b[37m\u001b[0m \u001b[1m0s\u001b[0m 3ms/step - acc: 0.4412 - loss: 1.4515 - val_acc: 0.4306 - val_loss: 1.4819\n",
      "Epoch 94/300\n",
      "\u001b[1m63/63\u001b[0m \u001b[32m━━━━━━━━━━━━━━━━━━━━\u001b[0m\u001b[37m\u001b[0m \u001b[1m0s\u001b[0m 3ms/step - acc: 0.4414 - loss: 1.4456 - val_acc: 0.4326 - val_loss: 1.4760\n",
      "Epoch 95/300\n",
      "\u001b[1m63/63\u001b[0m \u001b[32m━━━━━━━━━━━━━━━━━━━━\u001b[0m\u001b[37m\u001b[0m \u001b[1m0s\u001b[0m 4ms/step - acc: 0.4441 - loss: 1.4397 - val_acc: 0.4366 - val_loss: 1.4702\n",
      "Epoch 96/300\n",
      "\u001b[1m63/63\u001b[0m \u001b[32m━━━━━━━━━━━━━━━━━━━━\u001b[0m\u001b[37m\u001b[0m \u001b[1m0s\u001b[0m 3ms/step - acc: 0.4493 - loss: 1.4339 - val_acc: 0.4427 - val_loss: 1.4645\n",
      "Epoch 97/300\n",
      "\u001b[1m63/63\u001b[0m \u001b[32m━━━━━━━━━━━━━━━━━━━━\u001b[0m\u001b[37m\u001b[0m \u001b[1m0s\u001b[0m 3ms/step - acc: 0.4516 - loss: 1.4281 - val_acc: 0.4447 - val_loss: 1.4587\n",
      "Epoch 98/300\n",
      "\u001b[1m63/63\u001b[0m \u001b[32m━━━━━━━━━━━━━━━━━━━━\u001b[0m\u001b[37m\u001b[0m \u001b[1m0s\u001b[0m 4ms/step - acc: 0.4547 - loss: 1.4224 - val_acc: 0.4467 - val_loss: 1.4530\n",
      "Epoch 99/300\n",
      "\u001b[1m63/63\u001b[0m \u001b[32m━━━━━━━━━━━━━━━━━━━━\u001b[0m\u001b[37m\u001b[0m \u001b[1m0s\u001b[0m 3ms/step - acc: 0.4557 - loss: 1.4167 - val_acc: 0.4487 - val_loss: 1.4473\n",
      "Epoch 100/300\n",
      "\u001b[1m63/63\u001b[0m \u001b[32m━━━━━━━━━━━━━━━━━━━━\u001b[0m\u001b[37m\u001b[0m \u001b[1m0s\u001b[0m 3ms/step - acc: 0.4603 - loss: 1.4111 - val_acc: 0.4527 - val_loss: 1.4417\n",
      "Epoch 101/300\n",
      "\u001b[1m63/63\u001b[0m \u001b[32m━━━━━━━━━━━━━━━━━━━━\u001b[0m\u001b[37m\u001b[0m \u001b[1m0s\u001b[0m 3ms/step - acc: 0.4608 - loss: 1.4055 - val_acc: 0.4527 - val_loss: 1.4361\n",
      "Epoch 102/300\n",
      "\u001b[1m63/63\u001b[0m \u001b[32m━━━━━━━━━━━━━━━━━━━━\u001b[0m\u001b[37m\u001b[0m \u001b[1m0s\u001b[0m 4ms/step - acc: 0.4617 - loss: 1.3999 - val_acc: 0.4527 - val_loss: 1.4305\n",
      "Epoch 103/300\n",
      "\u001b[1m63/63\u001b[0m \u001b[32m━━━━━━━━━━━━━━━━━━━━\u001b[0m\u001b[37m\u001b[0m \u001b[1m0s\u001b[0m 3ms/step - acc: 0.4647 - loss: 1.3944 - val_acc: 0.4527 - val_loss: 1.4250\n",
      "Epoch 104/300\n",
      "\u001b[1m63/63\u001b[0m \u001b[32m━━━━━━━━━━━━━━━━━━━━\u001b[0m\u001b[37m\u001b[0m \u001b[1m0s\u001b[0m 4ms/step - acc: 0.4676 - loss: 1.3890 - val_acc: 0.4608 - val_loss: 1.4196\n",
      "Epoch 105/300\n",
      "\u001b[1m63/63\u001b[0m \u001b[32m━━━━━━━━━━━━━━━━━━━━\u001b[0m\u001b[37m\u001b[0m \u001b[1m0s\u001b[0m 3ms/step - acc: 0.4690 - loss: 1.3836 - val_acc: 0.4648 - val_loss: 1.4141\n",
      "Epoch 106/300\n",
      "\u001b[1m63/63\u001b[0m \u001b[32m━━━━━━━━━━━━━━━━━━━━\u001b[0m\u001b[37m\u001b[0m \u001b[1m0s\u001b[0m 4ms/step - acc: 0.4696 - loss: 1.3782 - val_acc: 0.4688 - val_loss: 1.4087\n",
      "Epoch 107/300\n",
      "\u001b[1m63/63\u001b[0m \u001b[32m━━━━━━━━━━━━━━━━━━━━\u001b[0m\u001b[37m\u001b[0m \u001b[1m0s\u001b[0m 4ms/step - acc: 0.4715 - loss: 1.3729 - val_acc: 0.4728 - val_loss: 1.4034\n",
      "Epoch 108/300\n",
      "\u001b[1m63/63\u001b[0m \u001b[32m━━━━━━━━━━━━━━━━━━━━\u001b[0m\u001b[37m\u001b[0m \u001b[1m0s\u001b[0m 4ms/step - acc: 0.4730 - loss: 1.3676 - val_acc: 0.4769 - val_loss: 1.3981\n",
      "Epoch 109/300\n",
      "\u001b[1m63/63\u001b[0m \u001b[32m━━━━━━━━━━━━━━━━━━━━\u001b[0m\u001b[37m\u001b[0m \u001b[1m0s\u001b[0m 4ms/step - acc: 0.4759 - loss: 1.3624 - val_acc: 0.4789 - val_loss: 1.3928\n",
      "Epoch 110/300\n",
      "\u001b[1m63/63\u001b[0m \u001b[32m━━━━━━━━━━━━━━━━━━━━\u001b[0m\u001b[37m\u001b[0m \u001b[1m0s\u001b[0m 3ms/step - acc: 0.4784 - loss: 1.3571 - val_acc: 0.4809 - val_loss: 1.3876\n",
      "Epoch 111/300\n",
      "\u001b[1m63/63\u001b[0m \u001b[32m━━━━━━━━━━━━━━━━━━━━\u001b[0m\u001b[37m\u001b[0m \u001b[1m0s\u001b[0m 3ms/step - acc: 0.4819 - loss: 1.3520 - val_acc: 0.4829 - val_loss: 1.3824\n",
      "Epoch 112/300\n",
      "\u001b[1m63/63\u001b[0m \u001b[32m━━━━━━━━━━━━━━━━━━━━\u001b[0m\u001b[37m\u001b[0m \u001b[1m0s\u001b[0m 4ms/step - acc: 0.4847 - loss: 1.3468 - val_acc: 0.4829 - val_loss: 1.3773\n",
      "Epoch 113/300\n",
      "\u001b[1m63/63\u001b[0m \u001b[32m━━━━━━━━━━━━━━━━━━━━\u001b[0m\u001b[37m\u001b[0m \u001b[1m0s\u001b[0m 4ms/step - acc: 0.4893 - loss: 1.3417 - val_acc: 0.4829 - val_loss: 1.3722\n",
      "Epoch 114/300\n",
      "\u001b[1m63/63\u001b[0m \u001b[32m━━━━━━━━━━━━━━━━━━━━\u001b[0m\u001b[37m\u001b[0m \u001b[1m0s\u001b[0m 4ms/step - acc: 0.4914 - loss: 1.3367 - val_acc: 0.4829 - val_loss: 1.3671\n",
      "Epoch 115/300\n",
      "\u001b[1m63/63\u001b[0m \u001b[32m━━━━━━━━━━━━━━━━━━━━\u001b[0m\u001b[37m\u001b[0m \u001b[1m0s\u001b[0m 4ms/step - acc: 0.4934 - loss: 1.3317 - val_acc: 0.4849 - val_loss: 1.3621\n",
      "Epoch 116/300\n",
      "\u001b[1m63/63\u001b[0m \u001b[32m━━━━━━━━━━━━━━━━━━━━\u001b[0m\u001b[37m\u001b[0m \u001b[1m0s\u001b[0m 4ms/step - acc: 0.4943 - loss: 1.3267 - val_acc: 0.4869 - val_loss: 1.3571\n",
      "Epoch 117/300\n",
      "\u001b[1m63/63\u001b[0m \u001b[32m━━━━━━━━━━━━━━━━━━━━\u001b[0m\u001b[37m\u001b[0m \u001b[1m0s\u001b[0m 4ms/step - acc: 0.4952 - loss: 1.3217 - val_acc: 0.4869 - val_loss: 1.3522\n",
      "Epoch 118/300\n",
      "\u001b[1m63/63\u001b[0m \u001b[32m━━━━━━━━━━━━━━━━━━━━\u001b[0m\u001b[37m\u001b[0m \u001b[1m0s\u001b[0m 3ms/step - acc: 0.4963 - loss: 1.3169 - val_acc: 0.4930 - val_loss: 1.3474\n",
      "Epoch 119/300\n",
      "\u001b[1m63/63\u001b[0m \u001b[32m━━━━━━━━━━━━━━━━━━━━\u001b[0m\u001b[37m\u001b[0m \u001b[1m0s\u001b[0m 3ms/step - acc: 0.5011 - loss: 1.3120 - val_acc: 0.4950 - val_loss: 1.3425\n",
      "Epoch 120/300\n",
      "\u001b[1m63/63\u001b[0m \u001b[32m━━━━━━━━━━━━━━━━━━━━\u001b[0m\u001b[37m\u001b[0m \u001b[1m0s\u001b[0m 3ms/step - acc: 0.5013 - loss: 1.3071 - val_acc: 0.4950 - val_loss: 1.3377\n",
      "Epoch 121/300\n",
      "\u001b[1m63/63\u001b[0m \u001b[32m━━━━━━━━━━━━━━━━━━━━\u001b[0m\u001b[37m\u001b[0m \u001b[1m0s\u001b[0m 6ms/step - acc: 0.5024 - loss: 1.3023 - val_acc: 0.4970 - val_loss: 1.3330\n",
      "Epoch 122/300\n",
      "\u001b[1m63/63\u001b[0m \u001b[32m━━━━━━━━━━━━━━━━━━━━\u001b[0m\u001b[37m\u001b[0m \u001b[1m0s\u001b[0m 5ms/step - acc: 0.5057 - loss: 1.2976 - val_acc: 0.4970 - val_loss: 1.3283\n",
      "Epoch 123/300\n",
      "\u001b[1m63/63\u001b[0m \u001b[32m━━━━━━━━━━━━━━━━━━━━\u001b[0m\u001b[37m\u001b[0m \u001b[1m1s\u001b[0m 6ms/step - acc: 0.5069 - loss: 1.2929 - val_acc: 0.4990 - val_loss: 1.3236\n",
      "Epoch 124/300\n",
      "\u001b[1m63/63\u001b[0m \u001b[32m━━━━━━━━━━━━━━━━━━━━\u001b[0m\u001b[37m\u001b[0m \u001b[1m0s\u001b[0m 7ms/step - acc: 0.5116 - loss: 1.2882 - val_acc: 0.4990 - val_loss: 1.3190\n",
      "Epoch 125/300\n",
      "\u001b[1m63/63\u001b[0m \u001b[32m━━━━━━━━━━━━━━━━━━━━\u001b[0m\u001b[37m\u001b[0m \u001b[1m0s\u001b[0m 4ms/step - acc: 0.5151 - loss: 1.2835 - val_acc: 0.5010 - val_loss: 1.3143\n",
      "Epoch 126/300\n",
      "\u001b[1m63/63\u001b[0m \u001b[32m━━━━━━━━━━━━━━━━━━━━\u001b[0m\u001b[37m\u001b[0m \u001b[1m0s\u001b[0m 4ms/step - acc: 0.5163 - loss: 1.2789 - val_acc: 0.5030 - val_loss: 1.3097\n",
      "Epoch 127/300\n",
      "\u001b[1m63/63\u001b[0m \u001b[32m━━━━━━━━━━━━━━━━━━━━\u001b[0m\u001b[37m\u001b[0m \u001b[1m0s\u001b[0m 3ms/step - acc: 0.5186 - loss: 1.2743 - val_acc: 0.5050 - val_loss: 1.3052\n",
      "Epoch 128/300\n",
      "\u001b[1m63/63\u001b[0m \u001b[32m━━━━━━━━━━━━━━━━━━━━\u001b[0m\u001b[37m\u001b[0m \u001b[1m0s\u001b[0m 4ms/step - acc: 0.5203 - loss: 1.2698 - val_acc: 0.5111 - val_loss: 1.3007\n",
      "Epoch 129/300\n",
      "\u001b[1m63/63\u001b[0m \u001b[32m━━━━━━━━━━━━━━━━━━━━\u001b[0m\u001b[37m\u001b[0m \u001b[1m0s\u001b[0m 4ms/step - acc: 0.5204 - loss: 1.2653 - val_acc: 0.5151 - val_loss: 1.2962\n",
      "Epoch 130/300\n",
      "\u001b[1m63/63\u001b[0m \u001b[32m━━━━━━━━━━━━━━━━━━━━\u001b[0m\u001b[37m\u001b[0m \u001b[1m0s\u001b[0m 3ms/step - acc: 0.5213 - loss: 1.2608 - val_acc: 0.5151 - val_loss: 1.2917\n",
      "Epoch 131/300\n",
      "\u001b[1m63/63\u001b[0m \u001b[32m━━━━━━━━━━━━━━━━━━━━\u001b[0m\u001b[37m\u001b[0m \u001b[1m0s\u001b[0m 3ms/step - acc: 0.5224 - loss: 1.2563 - val_acc: 0.5151 - val_loss: 1.2873\n",
      "Epoch 132/300\n",
      "\u001b[1m63/63\u001b[0m \u001b[32m━━━━━━━━━━━━━━━━━━━━\u001b[0m\u001b[37m\u001b[0m \u001b[1m0s\u001b[0m 4ms/step - acc: 0.5245 - loss: 1.2519 - val_acc: 0.5191 - val_loss: 1.2829\n",
      "Epoch 133/300\n",
      "\u001b[1m63/63\u001b[0m \u001b[32m━━━━━━━━━━━━━━━━━━━━\u001b[0m\u001b[37m\u001b[0m \u001b[1m0s\u001b[0m 4ms/step - acc: 0.5250 - loss: 1.2475 - val_acc: 0.5191 - val_loss: 1.2785\n",
      "Epoch 134/300\n",
      "\u001b[1m63/63\u001b[0m \u001b[32m━━━━━━━━━━━━━━━━━━━━\u001b[0m\u001b[37m\u001b[0m \u001b[1m0s\u001b[0m 3ms/step - acc: 0.5255 - loss: 1.2432 - val_acc: 0.5191 - val_loss: 1.2742\n",
      "Epoch 135/300\n",
      "\u001b[1m63/63\u001b[0m \u001b[32m━━━━━━━━━━━━━━━━━━━━\u001b[0m\u001b[37m\u001b[0m \u001b[1m0s\u001b[0m 3ms/step - acc: 0.5268 - loss: 1.2389 - val_acc: 0.5231 - val_loss: 1.2698\n",
      "Epoch 136/300\n",
      "\u001b[1m63/63\u001b[0m \u001b[32m━━━━━━━━━━━━━━━━━━━━\u001b[0m\u001b[37m\u001b[0m \u001b[1m0s\u001b[0m 3ms/step - acc: 0.5283 - loss: 1.2346 - val_acc: 0.5231 - val_loss: 1.2655\n",
      "Epoch 137/300\n",
      "\u001b[1m63/63\u001b[0m \u001b[32m━━━━━━━━━━━━━━━━━━━━\u001b[0m\u001b[37m\u001b[0m \u001b[1m0s\u001b[0m 4ms/step - acc: 0.5287 - loss: 1.2303 - val_acc: 0.5231 - val_loss: 1.2613\n",
      "Epoch 138/300\n",
      "\u001b[1m63/63\u001b[0m \u001b[32m━━━━━━━━━━━━━━━━━━━━\u001b[0m\u001b[37m\u001b[0m \u001b[1m0s\u001b[0m 3ms/step - acc: 0.5302 - loss: 1.2261 - val_acc: 0.5231 - val_loss: 1.2571\n",
      "Epoch 139/300\n",
      "\u001b[1m63/63\u001b[0m \u001b[32m━━━━━━━━━━━━━━━━━━━━\u001b[0m\u001b[37m\u001b[0m \u001b[1m0s\u001b[0m 4ms/step - acc: 0.5310 - loss: 1.2218 - val_acc: 0.5231 - val_loss: 1.2528\n",
      "Epoch 140/300\n",
      "\u001b[1m63/63\u001b[0m \u001b[32m━━━━━━━━━━━━━━━━━━━━\u001b[0m\u001b[37m\u001b[0m \u001b[1m0s\u001b[0m 3ms/step - acc: 0.5318 - loss: 1.2176 - val_acc: 0.5272 - val_loss: 1.2486\n",
      "Epoch 141/300\n",
      "\u001b[1m63/63\u001b[0m \u001b[32m━━━━━━━━━━━━━━━━━━━━\u001b[0m\u001b[37m\u001b[0m \u001b[1m0s\u001b[0m 4ms/step - acc: 0.5332 - loss: 1.2135 - val_acc: 0.5292 - val_loss: 1.2445\n",
      "Epoch 142/300\n",
      "\u001b[1m63/63\u001b[0m \u001b[32m━━━━━━━━━━━━━━━━━━━━\u001b[0m\u001b[37m\u001b[0m \u001b[1m0s\u001b[0m 3ms/step - acc: 0.5362 - loss: 1.2093 - val_acc: 0.5292 - val_loss: 1.2403\n",
      "Epoch 143/300\n",
      "\u001b[1m63/63\u001b[0m \u001b[32m━━━━━━━━━━━━━━━━━━━━\u001b[0m\u001b[37m\u001b[0m \u001b[1m0s\u001b[0m 4ms/step - acc: 0.5374 - loss: 1.2052 - val_acc: 0.5332 - val_loss: 1.2362\n",
      "Epoch 144/300\n",
      "\u001b[1m63/63\u001b[0m \u001b[32m━━━━━━━━━━━━━━━━━━━━\u001b[0m\u001b[37m\u001b[0m \u001b[1m0s\u001b[0m 3ms/step - acc: 0.5399 - loss: 1.2011 - val_acc: 0.5332 - val_loss: 1.2321\n",
      "Epoch 145/300\n",
      "\u001b[1m63/63\u001b[0m \u001b[32m━━━━━━━━━━━━━━━━━━━━\u001b[0m\u001b[37m\u001b[0m \u001b[1m0s\u001b[0m 4ms/step - acc: 0.5420 - loss: 1.1971 - val_acc: 0.5332 - val_loss: 1.2281\n",
      "Epoch 146/300\n",
      "\u001b[1m63/63\u001b[0m \u001b[32m━━━━━━━━━━━━━━━━━━━━\u001b[0m\u001b[37m\u001b[0m \u001b[1m0s\u001b[0m 4ms/step - acc: 0.5432 - loss: 1.1931 - val_acc: 0.5332 - val_loss: 1.2240\n",
      "Epoch 147/300\n",
      "\u001b[1m63/63\u001b[0m \u001b[32m━━━━━━━━━━━━━━━━━━━━\u001b[0m\u001b[37m\u001b[0m \u001b[1m0s\u001b[0m 4ms/step - acc: 0.5446 - loss: 1.1890 - val_acc: 0.5352 - val_loss: 1.2200\n",
      "Epoch 148/300\n",
      "\u001b[1m63/63\u001b[0m \u001b[32m━━━━━━━━━━━━━━━━━━━━\u001b[0m\u001b[37m\u001b[0m \u001b[1m0s\u001b[0m 3ms/step - acc: 0.5449 - loss: 1.1851 - val_acc: 0.5352 - val_loss: 1.2160\n",
      "Epoch 149/300\n",
      "\u001b[1m63/63\u001b[0m \u001b[32m━━━━━━━━━━━━━━━━━━━━\u001b[0m\u001b[37m\u001b[0m \u001b[1m0s\u001b[0m 3ms/step - acc: 0.5449 - loss: 1.1811 - val_acc: 0.5352 - val_loss: 1.2121\n",
      "Epoch 150/300\n",
      "\u001b[1m63/63\u001b[0m \u001b[32m━━━━━━━━━━━━━━━━━━━━\u001b[0m\u001b[37m\u001b[0m \u001b[1m0s\u001b[0m 3ms/step - acc: 0.5471 - loss: 1.1772 - val_acc: 0.5352 - val_loss: 1.2081\n",
      "Epoch 151/300\n",
      "\u001b[1m63/63\u001b[0m \u001b[32m━━━━━━━━━━━━━━━━━━━━\u001b[0m\u001b[37m\u001b[0m \u001b[1m0s\u001b[0m 3ms/step - acc: 0.5473 - loss: 1.1733 - val_acc: 0.5372 - val_loss: 1.2042\n",
      "Epoch 152/300\n",
      "\u001b[1m63/63\u001b[0m \u001b[32m━━━━━━━━━━━━━━━━━━━━\u001b[0m\u001b[37m\u001b[0m \u001b[1m0s\u001b[0m 4ms/step - acc: 0.5475 - loss: 1.1694 - val_acc: 0.5392 - val_loss: 1.2003\n",
      "Epoch 153/300\n",
      "\u001b[1m63/63\u001b[0m \u001b[32m━━━━━━━━━━━━━━━━━━━━\u001b[0m\u001b[37m\u001b[0m \u001b[1m0s\u001b[0m 4ms/step - acc: 0.5496 - loss: 1.1656 - val_acc: 0.5392 - val_loss: 1.1965\n",
      "Epoch 154/300\n",
      "\u001b[1m63/63\u001b[0m \u001b[32m━━━━━━━━━━━━━━━━━━━━\u001b[0m\u001b[37m\u001b[0m \u001b[1m0s\u001b[0m 4ms/step - acc: 0.5504 - loss: 1.1617 - val_acc: 0.5392 - val_loss: 1.1927\n",
      "Epoch 155/300\n",
      "\u001b[1m63/63\u001b[0m \u001b[32m━━━━━━━━━━━━━━━━━━━━\u001b[0m\u001b[37m\u001b[0m \u001b[1m0s\u001b[0m 3ms/step - acc: 0.5512 - loss: 1.1579 - val_acc: 0.5412 - val_loss: 1.1889\n",
      "Epoch 156/300\n",
      "\u001b[1m63/63\u001b[0m \u001b[32m━━━━━━━━━━━━━━━━━━━━\u001b[0m\u001b[37m\u001b[0m \u001b[1m0s\u001b[0m 3ms/step - acc: 0.5515 - loss: 1.1542 - val_acc: 0.5412 - val_loss: 1.1851\n",
      "Epoch 157/300\n",
      "\u001b[1m63/63\u001b[0m \u001b[32m━━━━━━━━━━━━━━━━━━━━\u001b[0m\u001b[37m\u001b[0m \u001b[1m0s\u001b[0m 4ms/step - acc: 0.5532 - loss: 1.1504 - val_acc: 0.5433 - val_loss: 1.1814\n",
      "Epoch 158/300\n",
      "\u001b[1m63/63\u001b[0m \u001b[32m━━━━━━━━━━━━━━━━━━━━\u001b[0m\u001b[37m\u001b[0m \u001b[1m0s\u001b[0m 4ms/step - acc: 0.5535 - loss: 1.1467 - val_acc: 0.5433 - val_loss: 1.1777\n",
      "Epoch 159/300\n",
      "\u001b[1m63/63\u001b[0m \u001b[32m━━━━━━━━━━━━━━━━━━━━\u001b[0m\u001b[37m\u001b[0m \u001b[1m0s\u001b[0m 3ms/step - acc: 0.5537 - loss: 1.1430 - val_acc: 0.5433 - val_loss: 1.1740\n",
      "Epoch 160/300\n",
      "\u001b[1m63/63\u001b[0m \u001b[32m━━━━━━━━━━━━━━━━━━━━\u001b[0m\u001b[37m\u001b[0m \u001b[1m0s\u001b[0m 4ms/step - acc: 0.5565 - loss: 1.1393 - val_acc: 0.5433 - val_loss: 1.1704\n",
      "Epoch 161/300\n",
      "\u001b[1m63/63\u001b[0m \u001b[32m━━━━━━━━━━━━━━━━━━━━\u001b[0m\u001b[37m\u001b[0m \u001b[1m0s\u001b[0m 3ms/step - acc: 0.5594 - loss: 1.1357 - val_acc: 0.5433 - val_loss: 1.1667\n",
      "Epoch 162/300\n",
      "\u001b[1m63/63\u001b[0m \u001b[32m━━━━━━━━━━━━━━━━━━━━\u001b[0m\u001b[37m\u001b[0m \u001b[1m0s\u001b[0m 4ms/step - acc: 0.5604 - loss: 1.1320 - val_acc: 0.5433 - val_loss: 1.1631\n",
      "Epoch 163/300\n",
      "\u001b[1m63/63\u001b[0m \u001b[32m━━━━━━━━━━━━━━━━━━━━\u001b[0m\u001b[37m\u001b[0m \u001b[1m0s\u001b[0m 6ms/step - acc: 0.5604 - loss: 1.1284 - val_acc: 0.5433 - val_loss: 1.1596\n",
      "Epoch 164/300\n",
      "\u001b[1m63/63\u001b[0m \u001b[32m━━━━━━━━━━━━━━━━━━━━\u001b[0m\u001b[37m\u001b[0m \u001b[1m0s\u001b[0m 6ms/step - acc: 0.5619 - loss: 1.1248 - val_acc: 0.5433 - val_loss: 1.1560\n",
      "Epoch 165/300\n",
      "\u001b[1m63/63\u001b[0m \u001b[32m━━━━━━━━━━━━━━━━━━━━\u001b[0m\u001b[37m\u001b[0m \u001b[1m1s\u001b[0m 6ms/step - acc: 0.5641 - loss: 1.1213 - val_acc: 0.5433 - val_loss: 1.1524\n",
      "Epoch 166/300\n",
      "\u001b[1m63/63\u001b[0m \u001b[32m━━━━━━━━━━━━━━━━━━━━\u001b[0m\u001b[37m\u001b[0m \u001b[1m0s\u001b[0m 4ms/step - acc: 0.5645 - loss: 1.1178 - val_acc: 0.5453 - val_loss: 1.1489\n",
      "Epoch 167/300\n",
      "\u001b[1m63/63\u001b[0m \u001b[32m━━━━━━━━━━━━━━━━━━━━\u001b[0m\u001b[37m\u001b[0m \u001b[1m0s\u001b[0m 4ms/step - acc: 0.5655 - loss: 1.1143 - val_acc: 0.5473 - val_loss: 1.1453\n",
      "Epoch 168/300\n",
      "\u001b[1m63/63\u001b[0m \u001b[32m━━━━━━━━━━━━━━━━━━━━\u001b[0m\u001b[37m\u001b[0m \u001b[1m0s\u001b[0m 4ms/step - acc: 0.5665 - loss: 1.1108 - val_acc: 0.5493 - val_loss: 1.1418\n",
      "Epoch 169/300\n",
      "\u001b[1m63/63\u001b[0m \u001b[32m━━━━━━━━━━━━━━━━━━━━\u001b[0m\u001b[37m\u001b[0m \u001b[1m0s\u001b[0m 4ms/step - acc: 0.5665 - loss: 1.1073 - val_acc: 0.5533 - val_loss: 1.1384\n",
      "Epoch 170/300\n",
      "\u001b[1m63/63\u001b[0m \u001b[32m━━━━━━━━━━━━━━━━━━━━\u001b[0m\u001b[37m\u001b[0m \u001b[1m0s\u001b[0m 3ms/step - acc: 0.5667 - loss: 1.1039 - val_acc: 0.5533 - val_loss: 1.1349\n",
      "Epoch 171/300\n",
      "\u001b[1m63/63\u001b[0m \u001b[32m━━━━━━━━━━━━━━━━━━━━\u001b[0m\u001b[37m\u001b[0m \u001b[1m0s\u001b[0m 3ms/step - acc: 0.5684 - loss: 1.1005 - val_acc: 0.5533 - val_loss: 1.1315\n",
      "Epoch 172/300\n",
      "\u001b[1m63/63\u001b[0m \u001b[32m━━━━━━━━━━━━━━━━━━━━\u001b[0m\u001b[37m\u001b[0m \u001b[1m0s\u001b[0m 4ms/step - acc: 0.5702 - loss: 1.0971 - val_acc: 0.5533 - val_loss: 1.1281\n",
      "Epoch 173/300\n",
      "\u001b[1m63/63\u001b[0m \u001b[32m━━━━━━━━━━━━━━━━━━━━\u001b[0m\u001b[37m\u001b[0m \u001b[1m0s\u001b[0m 4ms/step - acc: 0.5720 - loss: 1.0937 - val_acc: 0.5553 - val_loss: 1.1247\n",
      "Epoch 174/300\n",
      "\u001b[1m63/63\u001b[0m \u001b[32m━━━━━━━━━━━━━━━━━━━━\u001b[0m\u001b[37m\u001b[0m \u001b[1m0s\u001b[0m 3ms/step - acc: 0.5734 - loss: 1.0904 - val_acc: 0.5594 - val_loss: 1.1214\n",
      "Epoch 175/300\n",
      "\u001b[1m63/63\u001b[0m \u001b[32m━━━━━━━━━━━━━━━━━━━━\u001b[0m\u001b[37m\u001b[0m \u001b[1m0s\u001b[0m 3ms/step - acc: 0.5739 - loss: 1.0871 - val_acc: 0.5594 - val_loss: 1.1180\n",
      "Epoch 176/300\n",
      "\u001b[1m63/63\u001b[0m \u001b[32m━━━━━━━━━━━━━━━━━━━━\u001b[0m\u001b[37m\u001b[0m \u001b[1m0s\u001b[0m 4ms/step - acc: 0.5742 - loss: 1.0838 - val_acc: 0.5614 - val_loss: 1.1147\n",
      "Epoch 177/300\n",
      "\u001b[1m63/63\u001b[0m \u001b[32m━━━━━━━━━━━━━━━━━━━━\u001b[0m\u001b[37m\u001b[0m \u001b[1m0s\u001b[0m 4ms/step - acc: 0.5750 - loss: 1.0805 - val_acc: 0.5634 - val_loss: 1.1114\n",
      "Epoch 178/300\n",
      "\u001b[1m63/63\u001b[0m \u001b[32m━━━━━━━━━━━━━━━━━━━━\u001b[0m\u001b[37m\u001b[0m \u001b[1m0s\u001b[0m 3ms/step - acc: 0.5764 - loss: 1.0772 - val_acc: 0.5634 - val_loss: 1.1081\n",
      "Epoch 179/300\n",
      "\u001b[1m63/63\u001b[0m \u001b[32m━━━━━━━━━━━━━━━━━━━━\u001b[0m\u001b[37m\u001b[0m \u001b[1m0s\u001b[0m 3ms/step - acc: 0.5768 - loss: 1.0740 - val_acc: 0.5654 - val_loss: 1.1049\n",
      "Epoch 180/300\n",
      "\u001b[1m63/63\u001b[0m \u001b[32m━━━━━━━━━━━━━━━━━━━━\u001b[0m\u001b[37m\u001b[0m \u001b[1m0s\u001b[0m 3ms/step - acc: 0.5769 - loss: 1.0708 - val_acc: 0.5654 - val_loss: 1.1016\n",
      "Epoch 181/300\n",
      "\u001b[1m63/63\u001b[0m \u001b[32m━━━━━━━━━━━━━━━━━━━━\u001b[0m\u001b[37m\u001b[0m \u001b[1m0s\u001b[0m 4ms/step - acc: 0.5769 - loss: 1.0676 - val_acc: 0.5694 - val_loss: 1.0984\n",
      "Epoch 182/300\n",
      "\u001b[1m63/63\u001b[0m \u001b[32m━━━━━━━━━━━━━━━━━━━━\u001b[0m\u001b[37m\u001b[0m \u001b[1m0s\u001b[0m 3ms/step - acc: 0.5775 - loss: 1.0644 - val_acc: 0.5714 - val_loss: 1.0952\n",
      "Epoch 183/300\n",
      "\u001b[1m63/63\u001b[0m \u001b[32m━━━━━━━━━━━━━━━━━━━━\u001b[0m\u001b[37m\u001b[0m \u001b[1m0s\u001b[0m 4ms/step - acc: 0.5775 - loss: 1.0613 - val_acc: 0.5714 - val_loss: 1.0921\n",
      "Epoch 184/300\n",
      "\u001b[1m63/63\u001b[0m \u001b[32m━━━━━━━━━━━━━━━━━━━━\u001b[0m\u001b[37m\u001b[0m \u001b[1m0s\u001b[0m 4ms/step - acc: 0.5775 - loss: 1.0582 - val_acc: 0.5714 - val_loss: 1.0889\n",
      "Epoch 185/300\n",
      "\u001b[1m63/63\u001b[0m \u001b[32m━━━━━━━━━━━━━━━━━━━━\u001b[0m\u001b[37m\u001b[0m \u001b[1m0s\u001b[0m 4ms/step - acc: 0.5781 - loss: 1.0551 - val_acc: 0.5734 - val_loss: 1.0858\n",
      "Epoch 186/300\n",
      "\u001b[1m63/63\u001b[0m \u001b[32m━━━━━━━━━━━━━━━━━━━━\u001b[0m\u001b[37m\u001b[0m \u001b[1m0s\u001b[0m 3ms/step - acc: 0.5783 - loss: 1.0520 - val_acc: 0.5775 - val_loss: 1.0827\n",
      "Epoch 187/300\n",
      "\u001b[1m63/63\u001b[0m \u001b[32m━━━━━━━━━━━━━━━━━━━━\u001b[0m\u001b[37m\u001b[0m \u001b[1m0s\u001b[0m 3ms/step - acc: 0.5792 - loss: 1.0489 - val_acc: 0.5775 - val_loss: 1.0797\n",
      "Epoch 188/300\n",
      "\u001b[1m63/63\u001b[0m \u001b[32m━━━━━━━━━━━━━━━━━━━━\u001b[0m\u001b[37m\u001b[0m \u001b[1m0s\u001b[0m 4ms/step - acc: 0.5801 - loss: 1.0459 - val_acc: 0.5775 - val_loss: 1.0766\n",
      "Epoch 189/300\n",
      "\u001b[1m63/63\u001b[0m \u001b[32m━━━━━━━━━━━━━━━━━━━━\u001b[0m\u001b[37m\u001b[0m \u001b[1m0s\u001b[0m 3ms/step - acc: 0.5835 - loss: 1.0429 - val_acc: 0.5775 - val_loss: 1.0735\n",
      "Epoch 190/300\n",
      "\u001b[1m63/63\u001b[0m \u001b[32m━━━━━━━━━━━━━━━━━━━━\u001b[0m\u001b[37m\u001b[0m \u001b[1m0s\u001b[0m 3ms/step - acc: 0.5836 - loss: 1.0399 - val_acc: 0.5875 - val_loss: 1.0705\n",
      "Epoch 191/300\n",
      "\u001b[1m63/63\u001b[0m \u001b[32m━━━━━━━━━━━━━━━━━━━━\u001b[0m\u001b[37m\u001b[0m \u001b[1m0s\u001b[0m 3ms/step - acc: 0.5861 - loss: 1.0369 - val_acc: 0.5875 - val_loss: 1.0675\n",
      "Epoch 192/300\n",
      "\u001b[1m63/63\u001b[0m \u001b[32m━━━━━━━━━━━━━━━━━━━━\u001b[0m\u001b[37m\u001b[0m \u001b[1m0s\u001b[0m 4ms/step - acc: 0.5897 - loss: 1.0340 - val_acc: 0.5895 - val_loss: 1.0645\n",
      "Epoch 193/300\n",
      "\u001b[1m63/63\u001b[0m \u001b[32m━━━━━━━━━━━━━━━━━━━━\u001b[0m\u001b[37m\u001b[0m \u001b[1m0s\u001b[0m 3ms/step - acc: 0.5907 - loss: 1.0310 - val_acc: 0.5915 - val_loss: 1.0615\n",
      "Epoch 194/300\n",
      "\u001b[1m63/63\u001b[0m \u001b[32m━━━━━━━━━━━━━━━━━━━━\u001b[0m\u001b[37m\u001b[0m \u001b[1m0s\u001b[0m 4ms/step - acc: 0.5912 - loss: 1.0281 - val_acc: 0.5936 - val_loss: 1.0586\n",
      "Epoch 195/300\n",
      "\u001b[1m63/63\u001b[0m \u001b[32m━━━━━━━━━━━━━━━━━━━━\u001b[0m\u001b[37m\u001b[0m \u001b[1m0s\u001b[0m 3ms/step - acc: 0.5925 - loss: 1.0252 - val_acc: 0.5936 - val_loss: 1.0557\n",
      "Epoch 196/300\n",
      "\u001b[1m63/63\u001b[0m \u001b[32m━━━━━━━━━━━━━━━━━━━━\u001b[0m\u001b[37m\u001b[0m \u001b[1m0s\u001b[0m 4ms/step - acc: 0.5940 - loss: 1.0223 - val_acc: 0.5936 - val_loss: 1.0527\n",
      "Epoch 197/300\n",
      "\u001b[1m63/63\u001b[0m \u001b[32m━━━━━━━━━━━━━━━━━━━━\u001b[0m\u001b[37m\u001b[0m \u001b[1m0s\u001b[0m 3ms/step - acc: 0.5940 - loss: 1.0195 - val_acc: 0.5956 - val_loss: 1.0498\n",
      "Epoch 198/300\n",
      "\u001b[1m63/63\u001b[0m \u001b[32m━━━━━━━━━━━━━━━━━━━━\u001b[0m\u001b[37m\u001b[0m \u001b[1m0s\u001b[0m 4ms/step - acc: 0.5965 - loss: 1.0166 - val_acc: 0.5976 - val_loss: 1.0469\n",
      "Epoch 199/300\n",
      "\u001b[1m63/63\u001b[0m \u001b[32m━━━━━━━━━━━━━━━━━━━━\u001b[0m\u001b[37m\u001b[0m \u001b[1m0s\u001b[0m 3ms/step - acc: 0.5975 - loss: 1.0138 - val_acc: 0.5976 - val_loss: 1.0441\n",
      "Epoch 200/300\n",
      "\u001b[1m63/63\u001b[0m \u001b[32m━━━━━━━━━━━━━━━━━━━━\u001b[0m\u001b[37m\u001b[0m \u001b[1m0s\u001b[0m 3ms/step - acc: 0.5994 - loss: 1.0110 - val_acc: 0.5996 - val_loss: 1.0412\n",
      "Epoch 201/300\n",
      "\u001b[1m63/63\u001b[0m \u001b[32m━━━━━━━━━━━━━━━━━━━━\u001b[0m\u001b[37m\u001b[0m \u001b[1m0s\u001b[0m 3ms/step - acc: 0.6005 - loss: 1.0082 - val_acc: 0.6016 - val_loss: 1.0384\n",
      "Epoch 202/300\n",
      "\u001b[1m63/63\u001b[0m \u001b[32m━━━━━━━━━━━━━━━━━━━━\u001b[0m\u001b[37m\u001b[0m \u001b[1m0s\u001b[0m 3ms/step - acc: 0.6009 - loss: 1.0054 - val_acc: 0.6016 - val_loss: 1.0355\n",
      "Epoch 203/300\n",
      "\u001b[1m63/63\u001b[0m \u001b[32m━━━━━━━━━━━━━━━━━━━━\u001b[0m\u001b[37m\u001b[0m \u001b[1m0s\u001b[0m 5ms/step - acc: 0.6017 - loss: 1.0026 - val_acc: 0.6016 - val_loss: 1.0327\n",
      "Epoch 204/300\n",
      "\u001b[1m63/63\u001b[0m \u001b[32m━━━━━━━━━━━━━━━━━━━━\u001b[0m\u001b[37m\u001b[0m \u001b[1m0s\u001b[0m 6ms/step - acc: 0.6017 - loss: 0.9999 - val_acc: 0.6036 - val_loss: 1.0299\n",
      "Epoch 205/300\n",
      "\u001b[1m63/63\u001b[0m \u001b[32m━━━━━━━━━━━━━━━━━━━━\u001b[0m\u001b[37m\u001b[0m \u001b[1m0s\u001b[0m 6ms/step - acc: 0.6026 - loss: 0.9972 - val_acc: 0.6097 - val_loss: 1.0271\n",
      "Epoch 206/300\n",
      "\u001b[1m63/63\u001b[0m \u001b[32m━━━━━━━━━━━━━━━━━━━━\u001b[0m\u001b[37m\u001b[0m \u001b[1m0s\u001b[0m 6ms/step - acc: 0.6062 - loss: 0.9945 - val_acc: 0.6117 - val_loss: 1.0243\n",
      "Epoch 207/300\n",
      "\u001b[1m63/63\u001b[0m \u001b[32m━━━━━━━━━━━━━━━━━━━━\u001b[0m\u001b[37m\u001b[0m \u001b[1m0s\u001b[0m 6ms/step - acc: 0.6065 - loss: 0.9918 - val_acc: 0.6117 - val_loss: 1.0216\n",
      "Epoch 208/300\n",
      "\u001b[1m63/63\u001b[0m \u001b[32m━━━━━━━━━━━━━━━━━━━━\u001b[0m\u001b[37m\u001b[0m \u001b[1m0s\u001b[0m 4ms/step - acc: 0.6098 - loss: 0.9891 - val_acc: 0.6137 - val_loss: 1.0189\n",
      "Epoch 209/300\n",
      "\u001b[1m63/63\u001b[0m \u001b[32m━━━━━━━━━━━━━━━━━━━━\u001b[0m\u001b[37m\u001b[0m \u001b[1m0s\u001b[0m 3ms/step - acc: 0.6100 - loss: 0.9864 - val_acc: 0.6177 - val_loss: 1.0162\n",
      "Epoch 210/300\n",
      "\u001b[1m63/63\u001b[0m \u001b[32m━━━━━━━━━━━━━━━━━━━━\u001b[0m\u001b[37m\u001b[0m \u001b[1m0s\u001b[0m 3ms/step - acc: 0.6106 - loss: 0.9838 - val_acc: 0.6177 - val_loss: 1.0135\n",
      "Epoch 211/300\n",
      "\u001b[1m63/63\u001b[0m \u001b[32m━━━━━━━━━━━━━━━━━━━━\u001b[0m\u001b[37m\u001b[0m \u001b[1m0s\u001b[0m 3ms/step - acc: 0.6116 - loss: 0.9811 - val_acc: 0.6177 - val_loss: 1.0108\n",
      "Epoch 212/300\n",
      "\u001b[1m63/63\u001b[0m \u001b[32m━━━━━━━━━━━━━━━━━━━━\u001b[0m\u001b[37m\u001b[0m \u001b[1m0s\u001b[0m 4ms/step - acc: 0.6156 - loss: 0.9785 - val_acc: 0.6177 - val_loss: 1.0081\n",
      "Epoch 213/300\n",
      "\u001b[1m63/63\u001b[0m \u001b[32m━━━━━━━━━━━━━━━━━━━━\u001b[0m\u001b[37m\u001b[0m \u001b[1m0s\u001b[0m 4ms/step - acc: 0.6180 - loss: 0.9759 - val_acc: 0.6197 - val_loss: 1.0055\n",
      "Epoch 214/300\n",
      "\u001b[1m63/63\u001b[0m \u001b[32m━━━━━━━━━━━━━━━━━━━━\u001b[0m\u001b[37m\u001b[0m \u001b[1m0s\u001b[0m 4ms/step - acc: 0.6203 - loss: 0.9733 - val_acc: 0.6197 - val_loss: 1.0028\n",
      "Epoch 215/300\n",
      "\u001b[1m63/63\u001b[0m \u001b[32m━━━━━━━━━━━━━━━━━━━━\u001b[0m\u001b[37m\u001b[0m \u001b[1m0s\u001b[0m 4ms/step - acc: 0.6210 - loss: 0.9708 - val_acc: 0.6258 - val_loss: 1.0002\n",
      "Epoch 216/300\n",
      "\u001b[1m63/63\u001b[0m \u001b[32m━━━━━━━━━━━━━━━━━━━━\u001b[0m\u001b[37m\u001b[0m \u001b[1m0s\u001b[0m 4ms/step - acc: 0.6210 - loss: 0.9682 - val_acc: 0.6258 - val_loss: 0.9976\n",
      "Epoch 217/300\n",
      "\u001b[1m63/63\u001b[0m \u001b[32m━━━━━━━━━━━━━━━━━━━━\u001b[0m\u001b[37m\u001b[0m \u001b[1m0s\u001b[0m 4ms/step - acc: 0.6244 - loss: 0.9657 - val_acc: 0.6278 - val_loss: 0.9950\n",
      "Epoch 218/300\n",
      "\u001b[1m63/63\u001b[0m \u001b[32m━━━━━━━━━━━━━━━━━━━━\u001b[0m\u001b[37m\u001b[0m \u001b[1m0s\u001b[0m 4ms/step - acc: 0.6256 - loss: 0.9631 - val_acc: 0.6318 - val_loss: 0.9925\n",
      "Epoch 219/300\n",
      "\u001b[1m63/63\u001b[0m \u001b[32m━━━━━━━━━━━━━━━━━━━━\u001b[0m\u001b[37m\u001b[0m \u001b[1m0s\u001b[0m 4ms/step - acc: 0.6260 - loss: 0.9606 - val_acc: 0.6338 - val_loss: 0.9899\n",
      "Epoch 220/300\n",
      "\u001b[1m63/63\u001b[0m \u001b[32m━━━━━━━━━━━━━━━━━━━━\u001b[0m\u001b[37m\u001b[0m \u001b[1m0s\u001b[0m 4ms/step - acc: 0.6274 - loss: 0.9581 - val_acc: 0.6358 - val_loss: 0.9874\n",
      "Epoch 221/300\n",
      "\u001b[1m63/63\u001b[0m \u001b[32m━━━━━━━━━━━━━━━━━━━━\u001b[0m\u001b[37m\u001b[0m \u001b[1m0s\u001b[0m 3ms/step - acc: 0.6282 - loss: 0.9557 - val_acc: 0.6358 - val_loss: 0.9849\n",
      "Epoch 222/300\n",
      "\u001b[1m63/63\u001b[0m \u001b[32m━━━━━━━━━━━━━━━━━━━━\u001b[0m\u001b[37m\u001b[0m \u001b[1m0s\u001b[0m 3ms/step - acc: 0.6336 - loss: 0.9532 - val_acc: 0.6358 - val_loss: 0.9824\n",
      "Epoch 223/300\n",
      "\u001b[1m63/63\u001b[0m \u001b[32m━━━━━━━━━━━━━━━━━━━━\u001b[0m\u001b[37m\u001b[0m \u001b[1m0s\u001b[0m 4ms/step - acc: 0.6380 - loss: 0.9507 - val_acc: 0.6419 - val_loss: 0.9799\n",
      "Epoch 224/300\n",
      "\u001b[1m63/63\u001b[0m \u001b[32m━━━━━━━━━━━━━━━━━━━━\u001b[0m\u001b[37m\u001b[0m \u001b[1m0s\u001b[0m 3ms/step - acc: 0.6394 - loss: 0.9483 - val_acc: 0.6419 - val_loss: 0.9774\n",
      "Epoch 225/300\n",
      "\u001b[1m63/63\u001b[0m \u001b[32m━━━━━━━━━━━━━━━━━━━━\u001b[0m\u001b[37m\u001b[0m \u001b[1m0s\u001b[0m 4ms/step - acc: 0.6403 - loss: 0.9458 - val_acc: 0.6439 - val_loss: 0.9750\n",
      "Epoch 226/300\n",
      "\u001b[1m63/63\u001b[0m \u001b[32m━━━━━━━━━━━━━━━━━━━━\u001b[0m\u001b[37m\u001b[0m \u001b[1m0s\u001b[0m 3ms/step - acc: 0.6423 - loss: 0.9434 - val_acc: 0.6459 - val_loss: 0.9725\n",
      "Epoch 227/300\n",
      "\u001b[1m63/63\u001b[0m \u001b[32m━━━━━━━━━━━━━━━━━━━━\u001b[0m\u001b[37m\u001b[0m \u001b[1m0s\u001b[0m 4ms/step - acc: 0.6454 - loss: 0.9410 - val_acc: 0.6499 - val_loss: 0.9701\n",
      "Epoch 228/300\n",
      "\u001b[1m63/63\u001b[0m \u001b[32m━━━━━━━━━━━━━━━━━━━━\u001b[0m\u001b[37m\u001b[0m \u001b[1m0s\u001b[0m 3ms/step - acc: 0.6475 - loss: 0.9386 - val_acc: 0.6519 - val_loss: 0.9677\n",
      "Epoch 229/300\n",
      "\u001b[1m63/63\u001b[0m \u001b[32m━━━━━━━━━━━━━━━━━━━━\u001b[0m\u001b[37m\u001b[0m \u001b[1m0s\u001b[0m 3ms/step - acc: 0.6488 - loss: 0.9363 - val_acc: 0.6579 - val_loss: 0.9653\n",
      "Epoch 230/300\n",
      "\u001b[1m63/63\u001b[0m \u001b[32m━━━━━━━━━━━━━━━━━━━━\u001b[0m\u001b[37m\u001b[0m \u001b[1m0s\u001b[0m 4ms/step - acc: 0.6492 - loss: 0.9339 - val_acc: 0.6600 - val_loss: 0.9629\n",
      "Epoch 231/300\n",
      "\u001b[1m63/63\u001b[0m \u001b[32m━━━━━━━━━━━━━━━━━━━━\u001b[0m\u001b[37m\u001b[0m \u001b[1m0s\u001b[0m 4ms/step - acc: 0.6533 - loss: 0.9316 - val_acc: 0.6640 - val_loss: 0.9606\n",
      "Epoch 232/300\n",
      "\u001b[1m63/63\u001b[0m \u001b[32m━━━━━━━━━━━━━━━━━━━━\u001b[0m\u001b[37m\u001b[0m \u001b[1m0s\u001b[0m 3ms/step - acc: 0.6575 - loss: 0.9292 - val_acc: 0.6660 - val_loss: 0.9582\n",
      "Epoch 233/300\n",
      "\u001b[1m63/63\u001b[0m \u001b[32m━━━━━━━━━━━━━━━━━━━━\u001b[0m\u001b[37m\u001b[0m \u001b[1m0s\u001b[0m 3ms/step - acc: 0.6591 - loss: 0.9269 - val_acc: 0.6680 - val_loss: 0.9558\n",
      "Epoch 234/300\n",
      "\u001b[1m63/63\u001b[0m \u001b[32m━━━━━━━━━━━━━━━━━━━━\u001b[0m\u001b[37m\u001b[0m \u001b[1m0s\u001b[0m 3ms/step - acc: 0.6603 - loss: 0.9246 - val_acc: 0.6700 - val_loss: 0.9535\n",
      "Epoch 235/300\n",
      "\u001b[1m63/63\u001b[0m \u001b[32m━━━━━━━━━━━━━━━━━━━━\u001b[0m\u001b[37m\u001b[0m \u001b[1m0s\u001b[0m 3ms/step - acc: 0.6625 - loss: 0.9223 - val_acc: 0.6720 - val_loss: 0.9512\n",
      "Epoch 236/300\n",
      "\u001b[1m63/63\u001b[0m \u001b[32m━━━━━━━━━━━━━━━━━━━━\u001b[0m\u001b[37m\u001b[0m \u001b[1m0s\u001b[0m 4ms/step - acc: 0.6654 - loss: 0.9200 - val_acc: 0.6781 - val_loss: 0.9489\n",
      "Epoch 237/300\n",
      "\u001b[1m63/63\u001b[0m \u001b[32m━━━━━━━━━━━━━━━━━━━━\u001b[0m\u001b[37m\u001b[0m \u001b[1m0s\u001b[0m 4ms/step - acc: 0.6683 - loss: 0.9177 - val_acc: 0.6821 - val_loss: 0.9466\n",
      "Epoch 238/300\n",
      "\u001b[1m63/63\u001b[0m \u001b[32m━━━━━━━━━━━━━━━━━━━━\u001b[0m\u001b[37m\u001b[0m \u001b[1m0s\u001b[0m 4ms/step - acc: 0.6723 - loss: 0.9155 - val_acc: 0.6841 - val_loss: 0.9443\n",
      "Epoch 239/300\n",
      "\u001b[1m63/63\u001b[0m \u001b[32m━━━━━━━━━━━━━━━━━━━━\u001b[0m\u001b[37m\u001b[0m \u001b[1m0s\u001b[0m 4ms/step - acc: 0.6751 - loss: 0.9132 - val_acc: 0.6881 - val_loss: 0.9420\n",
      "Epoch 240/300\n",
      "\u001b[1m63/63\u001b[0m \u001b[32m━━━━━━━━━━━━━━━━━━━━\u001b[0m\u001b[37m\u001b[0m \u001b[1m0s\u001b[0m 4ms/step - acc: 0.6768 - loss: 0.9110 - val_acc: 0.6881 - val_loss: 0.9398\n",
      "Epoch 241/300\n",
      "\u001b[1m63/63\u001b[0m \u001b[32m━━━━━━━━━━━━━━━━━━━━\u001b[0m\u001b[37m\u001b[0m \u001b[1m0s\u001b[0m 4ms/step - acc: 0.6820 - loss: 0.9088 - val_acc: 0.6901 - val_loss: 0.9375\n",
      "Epoch 242/300\n",
      "\u001b[1m63/63\u001b[0m \u001b[32m━━━━━━━━━━━━━━━━━━━━\u001b[0m\u001b[37m\u001b[0m \u001b[1m0s\u001b[0m 3ms/step - acc: 0.6826 - loss: 0.9066 - val_acc: 0.6901 - val_loss: 0.9353\n",
      "Epoch 243/300\n",
      "\u001b[1m63/63\u001b[0m \u001b[32m━━━━━━━━━━━━━━━━━━━━\u001b[0m\u001b[37m\u001b[0m \u001b[1m0s\u001b[0m 4ms/step - acc: 0.6856 - loss: 0.9044 - val_acc: 0.6922 - val_loss: 0.9331\n",
      "Epoch 244/300\n",
      "\u001b[1m63/63\u001b[0m \u001b[32m━━━━━━━━━━━━━━━━━━━━\u001b[0m\u001b[37m\u001b[0m \u001b[1m0s\u001b[0m 6ms/step - acc: 0.6879 - loss: 0.9022 - val_acc: 0.6942 - val_loss: 0.9309\n",
      "Epoch 245/300\n",
      "\u001b[1m63/63\u001b[0m \u001b[32m━━━━━━━━━━━━━━━━━━━━\u001b[0m\u001b[37m\u001b[0m \u001b[1m0s\u001b[0m 6ms/step - acc: 0.6904 - loss: 0.9000 - val_acc: 0.7022 - val_loss: 0.9287\n",
      "Epoch 246/300\n",
      "\u001b[1m63/63\u001b[0m \u001b[32m━━━━━━━━━━━━━━━━━━━━\u001b[0m\u001b[37m\u001b[0m \u001b[1m0s\u001b[0m 5ms/step - acc: 0.6914 - loss: 0.8978 - val_acc: 0.7042 - val_loss: 0.9265\n",
      "Epoch 247/300\n",
      "\u001b[1m63/63\u001b[0m \u001b[32m━━━━━━━━━━━━━━━━━━━━\u001b[0m\u001b[37m\u001b[0m \u001b[1m1s\u001b[0m 6ms/step - acc: 0.6962 - loss: 0.8957 - val_acc: 0.7062 - val_loss: 0.9243\n",
      "Epoch 248/300\n",
      "\u001b[1m63/63\u001b[0m \u001b[32m━━━━━━━━━━━━━━━━━━━━\u001b[0m\u001b[37m\u001b[0m \u001b[1m0s\u001b[0m 4ms/step - acc: 0.6983 - loss: 0.8935 - val_acc: 0.7082 - val_loss: 0.9221\n",
      "Epoch 249/300\n",
      "\u001b[1m63/63\u001b[0m \u001b[32m━━━━━━━━━━━━━━━━━━━━\u001b[0m\u001b[37m\u001b[0m \u001b[1m0s\u001b[0m 3ms/step - acc: 0.6993 - loss: 0.8914 - val_acc: 0.7103 - val_loss: 0.9199\n",
      "Epoch 250/300\n",
      "\u001b[1m63/63\u001b[0m \u001b[32m━━━━━━━━━━━━━━━━━━━━\u001b[0m\u001b[37m\u001b[0m \u001b[1m0s\u001b[0m 4ms/step - acc: 0.7041 - loss: 0.8893 - val_acc: 0.7123 - val_loss: 0.9178\n",
      "Epoch 251/300\n",
      "\u001b[1m63/63\u001b[0m \u001b[32m━━━━━━━━━━━━━━━━━━━━\u001b[0m\u001b[37m\u001b[0m \u001b[1m0s\u001b[0m 4ms/step - acc: 0.7055 - loss: 0.8871 - val_acc: 0.7163 - val_loss: 0.9156\n",
      "Epoch 252/300\n",
      "\u001b[1m63/63\u001b[0m \u001b[32m━━━━━━━━━━━━━━━━━━━━\u001b[0m\u001b[37m\u001b[0m \u001b[1m0s\u001b[0m 4ms/step - acc: 0.7087 - loss: 0.8850 - val_acc: 0.7163 - val_loss: 0.9135\n",
      "Epoch 253/300\n",
      "\u001b[1m63/63\u001b[0m \u001b[32m━━━━━━━━━━━━━━━━━━━━\u001b[0m\u001b[37m\u001b[0m \u001b[1m0s\u001b[0m 4ms/step - acc: 0.7091 - loss: 0.8829 - val_acc: 0.7203 - val_loss: 0.9114\n",
      "Epoch 254/300\n",
      "\u001b[1m63/63\u001b[0m \u001b[32m━━━━━━━━━━━━━━━━━━━━\u001b[0m\u001b[37m\u001b[0m \u001b[1m1s\u001b[0m 8ms/step - acc: 0.7142 - loss: 0.8809 - val_acc: 0.7203 - val_loss: 0.9093\n",
      "Epoch 255/300\n",
      "\u001b[1m63/63\u001b[0m \u001b[32m━━━━━━━━━━━━━━━━━━━━\u001b[0m\u001b[37m\u001b[0m \u001b[1m0s\u001b[0m 5ms/step - acc: 0.7179 - loss: 0.8788 - val_acc: 0.7264 - val_loss: 0.9072\n",
      "Epoch 256/300\n",
      "\u001b[1m63/63\u001b[0m \u001b[32m━━━━━━━━━━━━━━━━━━━━\u001b[0m\u001b[37m\u001b[0m \u001b[1m1s\u001b[0m 8ms/step - acc: 0.7212 - loss: 0.8767 - val_acc: 0.7284 - val_loss: 0.9051\n",
      "Epoch 257/300\n",
      "\u001b[1m63/63\u001b[0m \u001b[32m━━━━━━━━━━━━━━━━━━━━\u001b[0m\u001b[37m\u001b[0m \u001b[1m0s\u001b[0m 3ms/step - acc: 0.7222 - loss: 0.8747 - val_acc: 0.7304 - val_loss: 0.9031\n",
      "Epoch 258/300\n",
      "\u001b[1m63/63\u001b[0m \u001b[32m━━━━━━━━━━━━━━━━━━━━\u001b[0m\u001b[37m\u001b[0m \u001b[1m0s\u001b[0m 4ms/step - acc: 0.7232 - loss: 0.8726 - val_acc: 0.7344 - val_loss: 0.9010\n",
      "Epoch 259/300\n",
      "\u001b[1m63/63\u001b[0m \u001b[32m━━━━━━━━━━━━━━━━━━━━\u001b[0m\u001b[37m\u001b[0m \u001b[1m0s\u001b[0m 3ms/step - acc: 0.7233 - loss: 0.8706 - val_acc: 0.7344 - val_loss: 0.8990\n",
      "Epoch 260/300\n",
      "\u001b[1m63/63\u001b[0m \u001b[32m━━━━━━━━━━━━━━━━━━━━\u001b[0m\u001b[37m\u001b[0m \u001b[1m0s\u001b[0m 3ms/step - acc: 0.7248 - loss: 0.8685 - val_acc: 0.7364 - val_loss: 0.8969\n",
      "Epoch 261/300\n",
      "\u001b[1m63/63\u001b[0m \u001b[32m━━━━━━━━━━━━━━━━━━━━\u001b[0m\u001b[37m\u001b[0m \u001b[1m0s\u001b[0m 3ms/step - acc: 0.7251 - loss: 0.8665 - val_acc: 0.7364 - val_loss: 0.8949\n",
      "Epoch 262/300\n",
      "\u001b[1m63/63\u001b[0m \u001b[32m━━━━━━━━━━━━━━━━━━━━\u001b[0m\u001b[37m\u001b[0m \u001b[1m0s\u001b[0m 4ms/step - acc: 0.7262 - loss: 0.8645 - val_acc: 0.7364 - val_loss: 0.8929\n",
      "Epoch 263/300\n",
      "\u001b[1m63/63\u001b[0m \u001b[32m━━━━━━━━━━━━━━━━━━━━\u001b[0m\u001b[37m\u001b[0m \u001b[1m0s\u001b[0m 4ms/step - acc: 0.7282 - loss: 0.8625 - val_acc: 0.7364 - val_loss: 0.8909\n",
      "Epoch 264/300\n",
      "\u001b[1m63/63\u001b[0m \u001b[32m━━━━━━━━━━━━━━━━━━━━\u001b[0m\u001b[37m\u001b[0m \u001b[1m0s\u001b[0m 4ms/step - acc: 0.7299 - loss: 0.8605 - val_acc: 0.7384 - val_loss: 0.8889\n",
      "Epoch 265/300\n",
      "\u001b[1m63/63\u001b[0m \u001b[32m━━━━━━━━━━━━━━━━━━━━\u001b[0m\u001b[37m\u001b[0m \u001b[1m0s\u001b[0m 3ms/step - acc: 0.7311 - loss: 0.8586 - val_acc: 0.7445 - val_loss: 0.8869\n",
      "Epoch 266/300\n",
      "\u001b[1m63/63\u001b[0m \u001b[32m━━━━━━━━━━━━━━━━━━━━\u001b[0m\u001b[37m\u001b[0m \u001b[1m0s\u001b[0m 4ms/step - acc: 0.7330 - loss: 0.8566 - val_acc: 0.7445 - val_loss: 0.8849\n",
      "Epoch 267/300\n",
      "\u001b[1m63/63\u001b[0m \u001b[32m━━━━━━━━━━━━━━━━━━━━\u001b[0m\u001b[37m\u001b[0m \u001b[1m0s\u001b[0m 4ms/step - acc: 0.7330 - loss: 0.8546 - val_acc: 0.7445 - val_loss: 0.8829\n",
      "Epoch 268/300\n",
      "\u001b[1m63/63\u001b[0m \u001b[32m━━━━━━━━━━━━━━━━━━━━\u001b[0m\u001b[37m\u001b[0m \u001b[1m0s\u001b[0m 4ms/step - acc: 0.7370 - loss: 0.8527 - val_acc: 0.7465 - val_loss: 0.8809\n",
      "Epoch 269/300\n",
      "\u001b[1m63/63\u001b[0m \u001b[32m━━━━━━━━━━━━━━━━━━━━\u001b[0m\u001b[37m\u001b[0m \u001b[1m0s\u001b[0m 4ms/step - acc: 0.7451 - loss: 0.8508 - val_acc: 0.7505 - val_loss: 0.8790\n",
      "Epoch 270/300\n",
      "\u001b[1m63/63\u001b[0m \u001b[32m━━━━━━━━━━━━━━━━━━━━\u001b[0m\u001b[37m\u001b[0m \u001b[1m0s\u001b[0m 4ms/step - acc: 0.7463 - loss: 0.8488 - val_acc: 0.7505 - val_loss: 0.8770\n",
      "Epoch 271/300\n",
      "\u001b[1m63/63\u001b[0m \u001b[32m━━━━━━━━━━━━━━━━━━━━\u001b[0m\u001b[37m\u001b[0m \u001b[1m0s\u001b[0m 4ms/step - acc: 0.7478 - loss: 0.8469 - val_acc: 0.7505 - val_loss: 0.8751\n",
      "Epoch 272/300\n",
      "\u001b[1m63/63\u001b[0m \u001b[32m━━━━━━━━━━━━━━━━━━━━\u001b[0m\u001b[37m\u001b[0m \u001b[1m0s\u001b[0m 3ms/step - acc: 0.7493 - loss: 0.8450 - val_acc: 0.7505 - val_loss: 0.8732\n",
      "Epoch 273/300\n",
      "\u001b[1m63/63\u001b[0m \u001b[32m━━━━━━━━━━━━━━━━━━━━\u001b[0m\u001b[37m\u001b[0m \u001b[1m0s\u001b[0m 4ms/step - acc: 0.7503 - loss: 0.8431 - val_acc: 0.7505 - val_loss: 0.8712\n",
      "Epoch 274/300\n",
      "\u001b[1m63/63\u001b[0m \u001b[32m━━━━━━━━━━━━━━━━━━━━\u001b[0m\u001b[37m\u001b[0m \u001b[1m0s\u001b[0m 4ms/step - acc: 0.7515 - loss: 0.8412 - val_acc: 0.7505 - val_loss: 0.8693\n",
      "Epoch 275/300\n",
      "\u001b[1m63/63\u001b[0m \u001b[32m━━━━━━━━━━━━━━━━━━━━\u001b[0m\u001b[37m\u001b[0m \u001b[1m0s\u001b[0m 4ms/step - acc: 0.7529 - loss: 0.8393 - val_acc: 0.7565 - val_loss: 0.8674\n",
      "Epoch 276/300\n",
      "\u001b[1m63/63\u001b[0m \u001b[32m━━━━━━━━━━━━━━━━━━━━\u001b[0m\u001b[37m\u001b[0m \u001b[1m0s\u001b[0m 4ms/step - acc: 0.7535 - loss: 0.8374 - val_acc: 0.7586 - val_loss: 0.8655\n",
      "Epoch 277/300\n",
      "\u001b[1m63/63\u001b[0m \u001b[32m━━━━━━━━━━━━━━━━━━━━\u001b[0m\u001b[37m\u001b[0m \u001b[1m0s\u001b[0m 4ms/step - acc: 0.7560 - loss: 0.8356 - val_acc: 0.7586 - val_loss: 0.8637\n",
      "Epoch 278/300\n",
      "\u001b[1m63/63\u001b[0m \u001b[32m━━━━━━━━━━━━━━━━━━━━\u001b[0m\u001b[37m\u001b[0m \u001b[1m0s\u001b[0m 4ms/step - acc: 0.7561 - loss: 0.8337 - val_acc: 0.7626 - val_loss: 0.8618\n",
      "Epoch 279/300\n",
      "\u001b[1m63/63\u001b[0m \u001b[32m━━━━━━━━━━━━━━━━━━━━\u001b[0m\u001b[37m\u001b[0m \u001b[1m0s\u001b[0m 4ms/step - acc: 0.7581 - loss: 0.8319 - val_acc: 0.7646 - val_loss: 0.8599\n",
      "Epoch 280/300\n",
      "\u001b[1m63/63\u001b[0m \u001b[32m━━━━━━━━━━━━━━━━━━━━\u001b[0m\u001b[37m\u001b[0m \u001b[1m0s\u001b[0m 4ms/step - acc: 0.7581 - loss: 0.8300 - val_acc: 0.7666 - val_loss: 0.8580\n",
      "Epoch 281/300\n",
      "\u001b[1m63/63\u001b[0m \u001b[32m━━━━━━━━━━━━━━━━━━━━\u001b[0m\u001b[37m\u001b[0m \u001b[1m0s\u001b[0m 6ms/step - acc: 0.7633 - loss: 0.8282 - val_acc: 0.7666 - val_loss: 0.8562\n",
      "Epoch 282/300\n",
      "\u001b[1m63/63\u001b[0m \u001b[32m━━━━━━━━━━━━━━━━━━━━\u001b[0m\u001b[37m\u001b[0m \u001b[1m1s\u001b[0m 6ms/step - acc: 0.7653 - loss: 0.8264 - val_acc: 0.7666 - val_loss: 0.8543\n",
      "Epoch 283/300\n",
      "\u001b[1m63/63\u001b[0m \u001b[32m━━━━━━━━━━━━━━━━━━━━\u001b[0m\u001b[37m\u001b[0m \u001b[1m0s\u001b[0m 5ms/step - acc: 0.7658 - loss: 0.8246 - val_acc: 0.7686 - val_loss: 0.8525\n",
      "Epoch 284/300\n",
      "\u001b[1m63/63\u001b[0m \u001b[32m━━━━━━━━━━━━━━━━━━━━\u001b[0m\u001b[37m\u001b[0m \u001b[1m1s\u001b[0m 4ms/step - acc: 0.7677 - loss: 0.8227 - val_acc: 0.7706 - val_loss: 0.8507\n",
      "Epoch 285/300\n",
      "\u001b[1m63/63\u001b[0m \u001b[32m━━━━━━━━━━━━━━━━━━━━\u001b[0m\u001b[37m\u001b[0m \u001b[1m0s\u001b[0m 4ms/step - acc: 0.7693 - loss: 0.8209 - val_acc: 0.7706 - val_loss: 0.8488\n",
      "Epoch 286/300\n",
      "\u001b[1m63/63\u001b[0m \u001b[32m━━━━━━━━━━━━━━━━━━━━\u001b[0m\u001b[37m\u001b[0m \u001b[1m0s\u001b[0m 4ms/step - acc: 0.7693 - loss: 0.8191 - val_acc: 0.7706 - val_loss: 0.8470\n",
      "Epoch 287/300\n",
      "\u001b[1m63/63\u001b[0m \u001b[32m━━━━━━━━━━━━━━━━━━━━\u001b[0m\u001b[37m\u001b[0m \u001b[1m0s\u001b[0m 4ms/step - acc: 0.7696 - loss: 0.8174 - val_acc: 0.7706 - val_loss: 0.8452\n",
      "Epoch 288/300\n",
      "\u001b[1m63/63\u001b[0m \u001b[32m━━━━━━━━━━━━━━━━━━━━\u001b[0m\u001b[37m\u001b[0m \u001b[1m0s\u001b[0m 4ms/step - acc: 0.7712 - loss: 0.8156 - val_acc: 0.7726 - val_loss: 0.8434\n",
      "Epoch 289/300\n",
      "\u001b[1m63/63\u001b[0m \u001b[32m━━━━━━━━━━━━━━━━━━━━\u001b[0m\u001b[37m\u001b[0m \u001b[1m0s\u001b[0m 4ms/step - acc: 0.7712 - loss: 0.8138 - val_acc: 0.7726 - val_loss: 0.8416\n",
      "Epoch 290/300\n",
      "\u001b[1m63/63\u001b[0m \u001b[32m━━━━━━━━━━━━━━━━━━━━\u001b[0m\u001b[37m\u001b[0m \u001b[1m0s\u001b[0m 4ms/step - acc: 0.7723 - loss: 0.8120 - val_acc: 0.7726 - val_loss: 0.8398\n",
      "Epoch 291/300\n",
      "\u001b[1m63/63\u001b[0m \u001b[32m━━━━━━━━━━━━━━━━━━━━\u001b[0m\u001b[37m\u001b[0m \u001b[1m0s\u001b[0m 4ms/step - acc: 0.7733 - loss: 0.8103 - val_acc: 0.7767 - val_loss: 0.8381\n",
      "Epoch 292/300\n",
      "\u001b[1m63/63\u001b[0m \u001b[32m━━━━━━━━━━━━━━━━━━━━\u001b[0m\u001b[37m\u001b[0m \u001b[1m0s\u001b[0m 4ms/step - acc: 0.7733 - loss: 0.8085 - val_acc: 0.7807 - val_loss: 0.8363\n",
      "Epoch 293/300\n",
      "\u001b[1m63/63\u001b[0m \u001b[32m━━━━━━━━━━━━━━━━━━━━\u001b[0m\u001b[37m\u001b[0m \u001b[1m0s\u001b[0m 4ms/step - acc: 0.7735 - loss: 0.8068 - val_acc: 0.7807 - val_loss: 0.8345\n",
      "Epoch 294/300\n",
      "\u001b[1m63/63\u001b[0m \u001b[32m━━━━━━━━━━━━━━━━━━━━\u001b[0m\u001b[37m\u001b[0m \u001b[1m0s\u001b[0m 4ms/step - acc: 0.7752 - loss: 0.8051 - val_acc: 0.7807 - val_loss: 0.8328\n",
      "Epoch 295/300\n",
      "\u001b[1m63/63\u001b[0m \u001b[32m━━━━━━━━━━━━━━━━━━━━\u001b[0m\u001b[37m\u001b[0m \u001b[1m0s\u001b[0m 4ms/step - acc: 0.7783 - loss: 0.8033 - val_acc: 0.7807 - val_loss: 0.8310\n",
      "Epoch 296/300\n",
      "\u001b[1m63/63\u001b[0m \u001b[32m━━━━━━━━━━━━━━━━━━━━\u001b[0m\u001b[37m\u001b[0m \u001b[1m0s\u001b[0m 4ms/step - acc: 0.7797 - loss: 0.8016 - val_acc: 0.7807 - val_loss: 0.8293\n",
      "Epoch 297/300\n",
      "\u001b[1m63/63\u001b[0m \u001b[32m━━━━━━━━━━━━━━━━━━━━\u001b[0m\u001b[37m\u001b[0m \u001b[1m0s\u001b[0m 4ms/step - acc: 0.7824 - loss: 0.7999 - val_acc: 0.7827 - val_loss: 0.8276\n",
      "Epoch 298/300\n",
      "\u001b[1m63/63\u001b[0m \u001b[32m━━━━━━━━━━━━━━━━━━━━\u001b[0m\u001b[37m\u001b[0m \u001b[1m0s\u001b[0m 3ms/step - acc: 0.7836 - loss: 0.7982 - val_acc: 0.7847 - val_loss: 0.8258\n",
      "Epoch 299/300\n",
      "\u001b[1m63/63\u001b[0m \u001b[32m━━━━━━━━━━━━━━━━━━━━\u001b[0m\u001b[37m\u001b[0m \u001b[1m0s\u001b[0m 4ms/step - acc: 0.7851 - loss: 0.7965 - val_acc: 0.7847 - val_loss: 0.8242\n",
      "Epoch 300/300\n",
      "\u001b[1m63/63\u001b[0m \u001b[32m━━━━━━━━━━━━━━━━━━━━\u001b[0m\u001b[37m\u001b[0m \u001b[1m0s\u001b[0m 3ms/step - acc: 0.7877 - loss: 0.7948 - val_acc: 0.7847 - val_loss: 0.8224\n"
     ]
    }
   ],
   "source": [
    "tf.random.set_seed(42)  # extra code – ensures reproducibility\n",
    "norm_layer = tf.keras.layers.Normalization() # Realmente hace una estandarización\n",
    "\n",
    "model = tf.keras.models.Sequential([\n",
    "    norm_layer,\n",
    "    tf.keras.layers.Dense(100, activation = \"relu\"),\n",
    "    tf.keras.layers.Dense(10, activation = \"softmax\")\n",
    "])\n",
    "model.compile(loss=\"sparse_categorical_crossentropy\", \\\n",
    "              optimizer=tf.keras.optimizers.SGD(learning_rate=0.01),\\\n",
    "              metrics =[\"acc\"])\n",
    "\n",
    "norm_layer.adapt(X_num.to_numpy()) # Necestiamos hacer un \"fit\" previo como con el StandardScaler\n",
    "history = model.fit(X_num, y_num, validation_split = 0.2, epochs=300, callbacks= earlyS)\n"
   ]
  },
  {
   "cell_type": "code",
   "execution_count": 21,
   "metadata": {
    "colab": {
     "base_uri": "https://localhost:8080/"
    },
    "id": "ZydSpUQUUYrH",
    "outputId": "2b02f6b7-9816-4108-ad16-7a33c5be5451"
   },
   "outputs": [
    {
     "name": "stdout",
     "output_type": "stream",
     "text": [
      "\u001b[1m20/20\u001b[0m \u001b[32m━━━━━━━━━━━━━━━━━━━━\u001b[0m\u001b[37m\u001b[0m \u001b[1m0s\u001b[0m 15ms/step - acc: 0.7332 - loss: 0.8306\n"
     ]
    },
    {
     "data": {
      "text/plain": [
       "[0.8392449617385864, 0.7315112352371216]"
      ]
     },
     "execution_count": 21,
     "metadata": {},
     "output_type": "execute_result"
    }
   ],
   "source": [
    "model.evaluate(test_set[numericas], test_set[target])"
   ]
  },
  {
   "cell_type": "code",
   "execution_count": 22,
   "metadata": {
    "colab": {
     "base_uri": "https://localhost:8080/"
    },
    "id": "pcI9_b57UYrH",
    "outputId": "5f3f1bc1-2226-40e9-aa90-601b79c64f95"
   },
   "outputs": [
    {
     "name": "stdout",
     "output_type": "stream",
     "text": [
      "\u001b[1m20/20\u001b[0m \u001b[32m━━━━━━━━━━━━━━━━━━━━\u001b[0m\u001b[37m\u001b[0m \u001b[1m0s\u001b[0m 10ms/step\n"
     ]
    }
   ],
   "source": [
    "y_pred  = [np.argmax(pred) for pred in model.predict(test_set[numericas])]"
   ]
  },
  {
   "cell_type": "code",
   "execution_count": 23,
   "metadata": {
    "id": "k_GILBS0UYrH"
   },
   "outputs": [],
   "source": [
    "from sklearn.metrics import classification_report"
   ]
  },
  {
   "cell_type": "code",
   "execution_count": 24,
   "metadata": {
    "colab": {
     "base_uri": "https://localhost:8080/"
    },
    "id": "YGwPsPC0UYrI",
    "outputId": "632bc6f7-aab2-4774-edda-7f126a082045",
    "scrolled": true
   },
   "outputs": [
    {
     "name": "stdout",
     "output_type": "stream",
     "text": [
      "              precision    recall  f1-score   support\n",
      "\n",
      "           0       0.81      1.00      0.89        62\n",
      "           1       0.00      0.00      0.00        16\n",
      "           2       0.70      0.83      0.76        23\n",
      "           3       0.62      0.28      0.38        18\n",
      "           4       0.65      0.63      0.64        27\n",
      "           5       1.00      0.03      0.05        38\n",
      "           6       0.22      0.14      0.18        83\n",
      "           7       0.53      0.98      0.69        94\n",
      "           8       0.99      0.87      0.93       110\n",
      "           9       0.96      1.00      0.98       151\n",
      "\n",
      "    accuracy                           0.73       622\n",
      "   macro avg       0.65      0.58      0.55       622\n",
      "weighted avg       0.73      0.73      0.69       622\n",
      "\n"
     ]
    }
   ],
   "source": [
    "print(classification_report(test_set[target], y_pred))"
   ]
  },
  {
   "cell_type": "markdown",
   "metadata": {
    "id": "OIEoNUg_UYrI"
   },
   "source": [
    "Bien, pues ya tenemos baseline y una forma sencilla de incorporar la normalización a nuestro modelo, vamos con el resto de transformaciones, pero ya en la siguiente sesión."
   ]
  },
  {
   "cell_type": "markdown",
   "metadata": {
    "id": "5v7rrRUhUYrI"
   },
   "source": [
    "***"
   ]
  },
  {
   "cell_type": "markdown",
   "metadata": {
    "id": "mDh3ybE9UYrI"
   },
   "source": [
    "### Transformación de variables categóricas"
   ]
  },
  {
   "cell_type": "markdown",
   "metadata": {
    "id": "m8hE7ll4UYrI"
   },
   "source": [
    "Vamos a transformar las categóricas y lo vamos a hacer con un \"ordinal encoder\" por un lado y con un \"onehot\" por otro, eso sí, usando las capas de Keras,y cuáles son categóricas:"
   ]
  },
  {
   "cell_type": "code",
   "execution_count": 25,
   "metadata": {
    "colab": {
     "base_uri": "https://localhost:8080/"
    },
    "id": "FMdxxHGsUYrI",
    "outputId": "f60e6b94-e0d8-401f-f304-851c91374305"
   },
   "outputs": [
    {
     "name": "stdout",
     "output_type": "stream",
     "text": [
      "<class 'pandas.core.frame.DataFrame'>\n",
      "Index: 2485 entries, 2686 to 860\n",
      "Data columns (total 13 columns):\n",
      " #   Column                Non-Null Count  Dtype  \n",
      "---  ------                --------------  -----  \n",
      " 0   urlDrugName           2485 non-null   object \n",
      " 1   rating                2485 non-null   int64  \n",
      " 2   effectiveness         2485 non-null   object \n",
      " 3   sideEffects           2485 non-null   object \n",
      " 4   condition             2485 non-null   object \n",
      " 5   benefitsReview        2485 non-null   object \n",
      " 6   sideEffectsReview     2485 non-null   object \n",
      " 7   commentsReview        2485 non-null   object \n",
      " 8   Sales                 2485 non-null   int64  \n",
      " 9   Production            2485 non-null   float64\n",
      " 10  benefitsReview_wc     2485 non-null   int64  \n",
      " 11  sideEffectsReview_wc  2485 non-null   int64  \n",
      " 12  commentsReview_wc     2485 non-null   int64  \n",
      "dtypes: float64(1), int64(5), object(7)\n",
      "memory usage: 271.8+ KB\n"
     ]
    }
   ],
   "source": [
    "train_set.info()"
   ]
  },
  {
   "cell_type": "markdown",
   "metadata": {
    "id": "JLiLYifXUYrI"
   },
   "source": [
    "Tiene pinta de que todas las que son objetc que no son Review"
   ]
  },
  {
   "cell_type": "code",
   "execution_count": 26,
   "metadata": {
    "colab": {
     "base_uri": "https://localhost:8080/"
    },
    "id": "hY7d9NwfUYrI",
    "outputId": "6746ebe8-3bcc-4660-b32c-3a2f82a196e9"
   },
   "outputs": [
    {
     "data": {
      "text/plain": [
       "['urlDrugName', 'effectiveness', 'sideEffects', 'condition']"
      ]
     },
     "execution_count": 26,
     "metadata": {},
     "output_type": "execute_result"
    }
   ],
   "source": [
    "categoricals = [col for col in train_set.columns if \"Review\" not in col and train_set[col].dtype == \"object\"]\n",
    "categoricals"
   ]
  },
  {
   "cell_type": "markdown",
   "metadata": {
    "id": "PGYyayuvUYrI"
   },
   "source": [
    "Hagamos un check de cardinalidad:"
   ]
  },
  {
   "cell_type": "code",
   "execution_count": 27,
   "metadata": {
    "colab": {
     "base_uri": "https://localhost:8080/"
    },
    "id": "M9Nw-OFAUYrI",
    "outputId": "a742c3ed-75d5-4eba-bae2-d362bdaeba93"
   },
   "outputs": [
    {
     "name": "stdout",
     "output_type": "stream",
     "text": [
      "Para <urlDrugName>: 463\n",
      "Para <effectiveness>: 5\n",
      "Para <sideEffects>: 5\n",
      "Para <condition>: 1203\n"
     ]
    }
   ],
   "source": [
    "for col in categoricals:\n",
    "    print(f\"Para <{col}>: {train_set[col].nunique()}\")"
   ]
  },
  {
   "cell_type": "code",
   "execution_count": 28,
   "metadata": {
    "colab": {
     "base_uri": "https://localhost:8080/",
     "height": 489
    },
    "id": "idNldCKfUYrJ",
    "outputId": "d0718b38-94f6-464f-feb6-f569d84441cc"
   },
   "outputs": [
    {
     "data": {
      "text/html": [
       "<div>\n",
       "<style scoped>\n",
       "    .dataframe tbody tr th:only-of-type {\n",
       "        vertical-align: middle;\n",
       "    }\n",
       "\n",
       "    .dataframe tbody tr th {\n",
       "        vertical-align: top;\n",
       "    }\n",
       "\n",
       "    .dataframe thead th {\n",
       "        text-align: right;\n",
       "    }\n",
       "</style>\n",
       "<table border=\"1\" class=\"dataframe\">\n",
       "  <thead>\n",
       "    <tr style=\"text-align: right;\">\n",
       "      <th></th>\n",
       "      <th>count</th>\n",
       "    </tr>\n",
       "    <tr>\n",
       "      <th>condition</th>\n",
       "      <th></th>\n",
       "    </tr>\n",
       "  </thead>\n",
       "  <tbody>\n",
       "    <tr>\n",
       "      <th>depression</th>\n",
       "      <td>182</td>\n",
       "    </tr>\n",
       "    <tr>\n",
       "      <th>acne</th>\n",
       "      <td>135</td>\n",
       "    </tr>\n",
       "    <tr>\n",
       "      <th>anxiety</th>\n",
       "      <td>51</td>\n",
       "    </tr>\n",
       "    <tr>\n",
       "      <th>insomnia</th>\n",
       "      <td>41</td>\n",
       "    </tr>\n",
       "    <tr>\n",
       "      <th>birth control</th>\n",
       "      <td>34</td>\n",
       "    </tr>\n",
       "    <tr>\n",
       "      <th>...</th>\n",
       "      <td>...</td>\n",
       "    </tr>\n",
       "    <tr>\n",
       "      <th>cold sores/ herpes i</th>\n",
       "      <td>1</td>\n",
       "    </tr>\n",
       "    <tr>\n",
       "      <th>ezcema</th>\n",
       "      <td>1</td>\n",
       "    </tr>\n",
       "    <tr>\n",
       "      <th>depression and generalized anxiety</th>\n",
       "      <td>1</td>\n",
       "    </tr>\n",
       "    <tr>\n",
       "      <th>pain relief for arthritis and sleep aid</th>\n",
       "      <td>1</td>\n",
       "    </tr>\n",
       "    <tr>\n",
       "      <th>nausea/vomiting</th>\n",
       "      <td>1</td>\n",
       "    </tr>\n",
       "  </tbody>\n",
       "</table>\n",
       "<p>1203 rows × 1 columns</p>\n",
       "</div><br><label><b>dtype:</b> int64</label>"
      ],
      "text/plain": [
       "condition\n",
       "depression                                 182\n",
       "acne                                       135\n",
       "anxiety                                     51\n",
       "insomnia                                    41\n",
       "birth control                               34\n",
       "                                          ... \n",
       "cold sores/ herpes i                         1\n",
       "ezcema                                       1\n",
       "depression and generalized anxiety           1\n",
       "pain relief for arthritis and sleep aid      1\n",
       "nausea/vomiting                              1\n",
       "Name: count, Length: 1203, dtype: int64"
      ]
     },
     "execution_count": 28,
     "metadata": {},
     "output_type": "execute_result"
    }
   ],
   "source": [
    "train_set.condition.value_counts()"
   ]
  },
  {
   "cell_type": "markdown",
   "metadata": {
    "id": "9Fhjd9LtUYrJ"
   },
   "source": [
    "Tenemos que quitar la url y condition. Esta además tendría que tener un tratamiento particular (entre vectorización y compresión de categorías, que no vamos a hacer por tiempo y espacio)"
   ]
  },
  {
   "cell_type": "code",
   "execution_count": 29,
   "metadata": {
    "colab": {
     "base_uri": "https://localhost:8080/"
    },
    "id": "WE-lVGE7UYrJ",
    "outputId": "a28209be-0076-4712-b23e-0c722f86ae08"
   },
   "outputs": [
    {
     "data": {
      "text/plain": [
       "['effectiveness', 'sideEffects']"
      ]
     },
     "execution_count": 29,
     "metadata": {},
     "output_type": "execute_result"
    }
   ],
   "source": [
    "categoricals.remove(\"urlDrugName\")\n",
    "categoricals.remove(\"condition\")\n",
    "categoricals"
   ]
  },
  {
   "cell_type": "markdown",
   "metadata": {
    "id": "vf7bQD4oUYrJ"
   },
   "source": [
    "### Ordinal Encoding layer (aka StringLookup)"
   ]
  },
  {
   "cell_type": "markdown",
   "metadata": {
    "id": "26uNl2u9UYrJ"
   },
   "source": [
    "La forma de hacer el categórical encoding es unsar una capa de stringlookup que básicamente puede hacer ella el mapeo o se le puede dar (como en un ordinal de sklearn)"
   ]
  },
  {
   "cell_type": "markdown",
   "metadata": {
    "id": "XWwqXSzaUYrJ"
   },
   "source": [
    "Vamos a añadir las categóricas de dos formas, pero primero vamos a hacerles su ordinal encoding. El único pero es que hay que hacerlo feature a feature"
   ]
  },
  {
   "cell_type": "code",
   "execution_count": 30,
   "metadata": {
    "id": "o8U_BxIiUYrJ"
   },
   "outputs": [],
   "source": [
    "X_train = train_set[numericas + categoricals].copy()\n",
    "#X_train[categoricals] = ordinalEncoding(train_set[categoricals])\n",
    "X_test = test_set[numericas + categoricals].copy()\n",
    "#X_test[categoricals] = ordinalEncoding(test_set[categoricals])"
   ]
  },
  {
   "cell_type": "code",
   "execution_count": 38,
   "metadata": {
    "id": "pULWAVH4UYrJ"
   },
   "outputs": [],
   "source": [
    "tf.random.set_seed(42)\n",
    "normalization_layer = tf.keras.layers.Normalization()\n",
    "ordinalEncoding_layers = [tf.keras.layers.StringLookup() for cat in categoricals] # no le damos valor, pero aquí el argumento vocabulary permite pasar una lista,\n",
    "                                                 # una tupla, un array, un tensor con los strings ordenados de forma que el primero recibira la clase 0, etc\n",
    "\n",
    "#ordinalEncoding.adapt(train_set[categoricals])\n",
    "concat_layer = tf.keras.layers.Concatenate(axis = -1)\n",
    "hidden_layer1 = tf.keras.layers.Dense(100, activation=\"relu\")\n",
    "output_layer = tf.keras.layers.Dense(10, activation = \"softmax\")\n",
    "\n",
    "\n",
    "normalization_layer.adapt(train_set[numericas].to_numpy())\n",
    "_ = [ordinalEncoding_layers[indice].adapt(train_set[col]) for indice,col in enumerate(categoricals)]  # Al igual que la capa de normalización hay que hacerle su fit en este caso el método adapt\n",
    "\n",
    "earlyS = tf.keras.callbacks.EarlyStopping(patience=10, restore_best_weights= True)\n",
    "\n",
    "input_num = tf.keras.layers.Input(shape=(train_set[numericas].shape[1],))\n",
    "input_cats = [tf.keras.layers.Input(shape=(train_set[[col]].shape[1],), dtype = tf.string) for col in categoricals] # Importante decirle que entra una string\n",
    "normalized = normalization_layer(input_num)\n",
    "\n",
    "encoded = [ordinalEncoding_layers[i](input_cats[i]) for i in range(len(ordinalEncoding_layers))]\n",
    "# encoded = [tf.cast(ordinalEncoding_layers[i](input_cats[i]), dtype=tf.float32) for i in range(len(ordinalEncoding_layers))] # Soluciona error de casteo en Keras 2\n",
    "# encoded = [tf.keras.layers.Lambda(lambda x: tf.cast(x, dtype=tf.float32))(ordinalEncoding_layers[i](input_cats[i])) for i in range(len(ordinalEncoding_layers))] # Soluciona error de casteo de Keras 2 y es compatible con Keras 3\n",
    "\n",
    "concat = concat_layer([normalized] + encoded)\n",
    "hidden1 = hidden_layer1(concat)\n",
    "output = output_layer(hidden1)\n",
    "\n",
    "model = tf.keras.Model(inputs=[input_num] + input_cats, outputs=[output])\n"
   ]
  },
  {
   "cell_type": "code",
   "execution_count": 39,
   "metadata": {
    "id": "QEkPa06oUYrJ"
   },
   "outputs": [],
   "source": [
    "model.compile(loss=\"sparse_categorical_crossentropy\", \\\n",
    "              optimizer=tf.keras.optimizers.SGD(learning_rate=2e-1),\\\n",
    "              metrics =[\"acc\"])\n"
   ]
  },
  {
   "cell_type": "code",
   "execution_count": 40,
   "metadata": {
    "colab": {
     "base_uri": "https://localhost:8080/"
    },
    "id": "Axtb00S2UYrJ",
    "outputId": "82fbf6c9-e172-4c4e-e4dd-4a712b7185dd"
   },
   "outputs": [
    {
     "data": {
      "text/plain": [
       "[<tf.Tensor: shape=(2485, 1), dtype=int64, numpy=\n",
       " array([[1],\n",
       "        [1],\n",
       "        [3],\n",
       "        ...,\n",
       "        [3],\n",
       "        [2],\n",
       "        [1]])>,\n",
       " <tf.Tensor: shape=(2485, 1), dtype=int64, numpy=\n",
       " array([[2],\n",
       "        [1],\n",
       "        [4],\n",
       "        ...,\n",
       "        [1],\n",
       "        [3],\n",
       "        [5]])>]"
      ]
     },
     "execution_count": 40,
     "metadata": {},
     "output_type": "execute_result"
    }
   ],
   "source": [
    "salida = tf.keras.Model(inputs = input_cats, outputs = encoded)\n",
    "salida([X_train[col] for col in categoricals])"
   ]
  },
  {
   "cell_type": "code",
   "execution_count": 41,
   "metadata": {
    "colab": {
     "base_uri": "https://localhost:8080/",
     "height": 423
    },
    "id": "gziX64gNUYrJ",
    "outputId": "6c0cf6d8-ef3c-4eb3-b475-9d881a2dbe5d"
   },
   "outputs": [
    {
     "data": {
      "application/vnd.google.colaboratory.intrinsic+json": {
       "summary": "{\n  \"name\": \"X_train[[categoricals[0]]]\",\n  \"rows\": 2485,\n  \"fields\": [\n    {\n      \"column\": \"effectiveness\",\n      \"properties\": {\n        \"dtype\": \"category\",\n        \"num_unique_values\": 5,\n        \"samples\": [\n          \"Moderately Effective\",\n          \"Marginally Effective\",\n          \"Considerably Effective\"\n        ],\n        \"semantic_type\": \"\",\n        \"description\": \"\"\n      }\n    }\n  ]\n}",
       "type": "dataframe"
      },
      "text/html": [
       "\n",
       "  <div id=\"df-c138e489-0219-4b33-8620-b5c4a3cb1ee5\" class=\"colab-df-container\">\n",
       "    <div>\n",
       "<style scoped>\n",
       "    .dataframe tbody tr th:only-of-type {\n",
       "        vertical-align: middle;\n",
       "    }\n",
       "\n",
       "    .dataframe tbody tr th {\n",
       "        vertical-align: top;\n",
       "    }\n",
       "\n",
       "    .dataframe thead th {\n",
       "        text-align: right;\n",
       "    }\n",
       "</style>\n",
       "<table border=\"1\" class=\"dataframe\">\n",
       "  <thead>\n",
       "    <tr style=\"text-align: right;\">\n",
       "      <th></th>\n",
       "      <th>effectiveness</th>\n",
       "    </tr>\n",
       "  </thead>\n",
       "  <tbody>\n",
       "    <tr>\n",
       "      <th>2686</th>\n",
       "      <td>Highly Effective</td>\n",
       "    </tr>\n",
       "    <tr>\n",
       "      <th>1192</th>\n",
       "      <td>Highly Effective</td>\n",
       "    </tr>\n",
       "    <tr>\n",
       "      <th>2738</th>\n",
       "      <td>Moderately Effective</td>\n",
       "    </tr>\n",
       "    <tr>\n",
       "      <th>2780</th>\n",
       "      <td>Highly Effective</td>\n",
       "    </tr>\n",
       "    <tr>\n",
       "      <th>1735</th>\n",
       "      <td>Considerably Effective</td>\n",
       "    </tr>\n",
       "    <tr>\n",
       "      <th>...</th>\n",
       "      <td>...</td>\n",
       "    </tr>\n",
       "    <tr>\n",
       "      <th>3092</th>\n",
       "      <td>Highly Effective</td>\n",
       "    </tr>\n",
       "    <tr>\n",
       "      <th>1095</th>\n",
       "      <td>Ineffective</td>\n",
       "    </tr>\n",
       "    <tr>\n",
       "      <th>1130</th>\n",
       "      <td>Moderately Effective</td>\n",
       "    </tr>\n",
       "    <tr>\n",
       "      <th>1294</th>\n",
       "      <td>Considerably Effective</td>\n",
       "    </tr>\n",
       "    <tr>\n",
       "      <th>860</th>\n",
       "      <td>Highly Effective</td>\n",
       "    </tr>\n",
       "  </tbody>\n",
       "</table>\n",
       "<p>2485 rows × 1 columns</p>\n",
       "</div>\n",
       "    <div class=\"colab-df-buttons\">\n",
       "\n",
       "  <div class=\"colab-df-container\">\n",
       "    <button class=\"colab-df-convert\" onclick=\"convertToInteractive('df-c138e489-0219-4b33-8620-b5c4a3cb1ee5')\"\n",
       "            title=\"Convert this dataframe to an interactive table.\"\n",
       "            style=\"display:none;\">\n",
       "\n",
       "  <svg xmlns=\"http://www.w3.org/2000/svg\" height=\"24px\" viewBox=\"0 -960 960 960\">\n",
       "    <path d=\"M120-120v-720h720v720H120Zm60-500h600v-160H180v160Zm220 220h160v-160H400v160Zm0 220h160v-160H400v160ZM180-400h160v-160H180v160Zm440 0h160v-160H620v160ZM180-180h160v-160H180v160Zm440 0h160v-160H620v160Z\"/>\n",
       "  </svg>\n",
       "    </button>\n",
       "\n",
       "  <style>\n",
       "    .colab-df-container {\n",
       "      display:flex;\n",
       "      gap: 12px;\n",
       "    }\n",
       "\n",
       "    .colab-df-convert {\n",
       "      background-color: #E8F0FE;\n",
       "      border: none;\n",
       "      border-radius: 50%;\n",
       "      cursor: pointer;\n",
       "      display: none;\n",
       "      fill: #1967D2;\n",
       "      height: 32px;\n",
       "      padding: 0 0 0 0;\n",
       "      width: 32px;\n",
       "    }\n",
       "\n",
       "    .colab-df-convert:hover {\n",
       "      background-color: #E2EBFA;\n",
       "      box-shadow: 0px 1px 2px rgba(60, 64, 67, 0.3), 0px 1px 3px 1px rgba(60, 64, 67, 0.15);\n",
       "      fill: #174EA6;\n",
       "    }\n",
       "\n",
       "    .colab-df-buttons div {\n",
       "      margin-bottom: 4px;\n",
       "    }\n",
       "\n",
       "    [theme=dark] .colab-df-convert {\n",
       "      background-color: #3B4455;\n",
       "      fill: #D2E3FC;\n",
       "    }\n",
       "\n",
       "    [theme=dark] .colab-df-convert:hover {\n",
       "      background-color: #434B5C;\n",
       "      box-shadow: 0px 1px 3px 1px rgba(0, 0, 0, 0.15);\n",
       "      filter: drop-shadow(0px 1px 2px rgba(0, 0, 0, 0.3));\n",
       "      fill: #FFFFFF;\n",
       "    }\n",
       "  </style>\n",
       "\n",
       "    <script>\n",
       "      const buttonEl =\n",
       "        document.querySelector('#df-c138e489-0219-4b33-8620-b5c4a3cb1ee5 button.colab-df-convert');\n",
       "      buttonEl.style.display =\n",
       "        google.colab.kernel.accessAllowed ? 'block' : 'none';\n",
       "\n",
       "      async function convertToInteractive(key) {\n",
       "        const element = document.querySelector('#df-c138e489-0219-4b33-8620-b5c4a3cb1ee5');\n",
       "        const dataTable =\n",
       "          await google.colab.kernel.invokeFunction('convertToInteractive',\n",
       "                                                    [key], {});\n",
       "        if (!dataTable) return;\n",
       "\n",
       "        const docLinkHtml = 'Like what you see? Visit the ' +\n",
       "          '<a target=\"_blank\" href=https://colab.research.google.com/notebooks/data_table.ipynb>data table notebook</a>'\n",
       "          + ' to learn more about interactive tables.';\n",
       "        element.innerHTML = '';\n",
       "        dataTable['output_type'] = 'display_data';\n",
       "        await google.colab.output.renderOutput(dataTable, element);\n",
       "        const docLink = document.createElement('div');\n",
       "        docLink.innerHTML = docLinkHtml;\n",
       "        element.appendChild(docLink);\n",
       "      }\n",
       "    </script>\n",
       "  </div>\n",
       "\n",
       "\n",
       "<div id=\"df-9329e2d2-51f2-4b72-b3ca-f1842bf53589\">\n",
       "  <button class=\"colab-df-quickchart\" onclick=\"quickchart('df-9329e2d2-51f2-4b72-b3ca-f1842bf53589')\"\n",
       "            title=\"Suggest charts\"\n",
       "            style=\"display:none;\">\n",
       "\n",
       "<svg xmlns=\"http://www.w3.org/2000/svg\" height=\"24px\"viewBox=\"0 0 24 24\"\n",
       "     width=\"24px\">\n",
       "    <g>\n",
       "        <path d=\"M19 3H5c-1.1 0-2 .9-2 2v14c0 1.1.9 2 2 2h14c1.1 0 2-.9 2-2V5c0-1.1-.9-2-2-2zM9 17H7v-7h2v7zm4 0h-2V7h2v10zm4 0h-2v-4h2v4z\"/>\n",
       "    </g>\n",
       "</svg>\n",
       "  </button>\n",
       "\n",
       "<style>\n",
       "  .colab-df-quickchart {\n",
       "      --bg-color: #E8F0FE;\n",
       "      --fill-color: #1967D2;\n",
       "      --hover-bg-color: #E2EBFA;\n",
       "      --hover-fill-color: #174EA6;\n",
       "      --disabled-fill-color: #AAA;\n",
       "      --disabled-bg-color: #DDD;\n",
       "  }\n",
       "\n",
       "  [theme=dark] .colab-df-quickchart {\n",
       "      --bg-color: #3B4455;\n",
       "      --fill-color: #D2E3FC;\n",
       "      --hover-bg-color: #434B5C;\n",
       "      --hover-fill-color: #FFFFFF;\n",
       "      --disabled-bg-color: #3B4455;\n",
       "      --disabled-fill-color: #666;\n",
       "  }\n",
       "\n",
       "  .colab-df-quickchart {\n",
       "    background-color: var(--bg-color);\n",
       "    border: none;\n",
       "    border-radius: 50%;\n",
       "    cursor: pointer;\n",
       "    display: none;\n",
       "    fill: var(--fill-color);\n",
       "    height: 32px;\n",
       "    padding: 0;\n",
       "    width: 32px;\n",
       "  }\n",
       "\n",
       "  .colab-df-quickchart:hover {\n",
       "    background-color: var(--hover-bg-color);\n",
       "    box-shadow: 0 1px 2px rgba(60, 64, 67, 0.3), 0 1px 3px 1px rgba(60, 64, 67, 0.15);\n",
       "    fill: var(--button-hover-fill-color);\n",
       "  }\n",
       "\n",
       "  .colab-df-quickchart-complete:disabled,\n",
       "  .colab-df-quickchart-complete:disabled:hover {\n",
       "    background-color: var(--disabled-bg-color);\n",
       "    fill: var(--disabled-fill-color);\n",
       "    box-shadow: none;\n",
       "  }\n",
       "\n",
       "  .colab-df-spinner {\n",
       "    border: 2px solid var(--fill-color);\n",
       "    border-color: transparent;\n",
       "    border-bottom-color: var(--fill-color);\n",
       "    animation:\n",
       "      spin 1s steps(1) infinite;\n",
       "  }\n",
       "\n",
       "  @keyframes spin {\n",
       "    0% {\n",
       "      border-color: transparent;\n",
       "      border-bottom-color: var(--fill-color);\n",
       "      border-left-color: var(--fill-color);\n",
       "    }\n",
       "    20% {\n",
       "      border-color: transparent;\n",
       "      border-left-color: var(--fill-color);\n",
       "      border-top-color: var(--fill-color);\n",
       "    }\n",
       "    30% {\n",
       "      border-color: transparent;\n",
       "      border-left-color: var(--fill-color);\n",
       "      border-top-color: var(--fill-color);\n",
       "      border-right-color: var(--fill-color);\n",
       "    }\n",
       "    40% {\n",
       "      border-color: transparent;\n",
       "      border-right-color: var(--fill-color);\n",
       "      border-top-color: var(--fill-color);\n",
       "    }\n",
       "    60% {\n",
       "      border-color: transparent;\n",
       "      border-right-color: var(--fill-color);\n",
       "    }\n",
       "    80% {\n",
       "      border-color: transparent;\n",
       "      border-right-color: var(--fill-color);\n",
       "      border-bottom-color: var(--fill-color);\n",
       "    }\n",
       "    90% {\n",
       "      border-color: transparent;\n",
       "      border-bottom-color: var(--fill-color);\n",
       "    }\n",
       "  }\n",
       "</style>\n",
       "\n",
       "  <script>\n",
       "    async function quickchart(key) {\n",
       "      const quickchartButtonEl =\n",
       "        document.querySelector('#' + key + ' button');\n",
       "      quickchartButtonEl.disabled = true;  // To prevent multiple clicks.\n",
       "      quickchartButtonEl.classList.add('colab-df-spinner');\n",
       "      try {\n",
       "        const charts = await google.colab.kernel.invokeFunction(\n",
       "            'suggestCharts', [key], {});\n",
       "      } catch (error) {\n",
       "        console.error('Error during call to suggestCharts:', error);\n",
       "      }\n",
       "      quickchartButtonEl.classList.remove('colab-df-spinner');\n",
       "      quickchartButtonEl.classList.add('colab-df-quickchart-complete');\n",
       "    }\n",
       "    (() => {\n",
       "      let quickchartButtonEl =\n",
       "        document.querySelector('#df-9329e2d2-51f2-4b72-b3ca-f1842bf53589 button');\n",
       "      quickchartButtonEl.style.display =\n",
       "        google.colab.kernel.accessAllowed ? 'block' : 'none';\n",
       "    })();\n",
       "  </script>\n",
       "</div>\n",
       "\n",
       "    </div>\n",
       "  </div>\n"
      ],
      "text/plain": [
       "               effectiveness\n",
       "2686        Highly Effective\n",
       "1192        Highly Effective\n",
       "2738    Moderately Effective\n",
       "2780        Highly Effective\n",
       "1735  Considerably Effective\n",
       "...                      ...\n",
       "3092        Highly Effective\n",
       "1095             Ineffective\n",
       "1130    Moderately Effective\n",
       "1294  Considerably Effective\n",
       "860         Highly Effective\n",
       "\n",
       "[2485 rows x 1 columns]"
      ]
     },
     "execution_count": 41,
     "metadata": {},
     "output_type": "execute_result"
    }
   ],
   "source": [
    "X_train[[categoricals[0]]]"
   ]
  },
  {
   "cell_type": "code",
   "execution_count": 42,
   "metadata": {
    "colab": {
     "base_uri": "https://localhost:8080/"
    },
    "id": "zsvCy76d4UL9",
    "outputId": "b9c1576b-f467-4431-88c5-d2d6a09a680b"
   },
   "outputs": [
    {
     "data": {
      "text/plain": [
       "<tf.Tensor: shape=(2485, 1), dtype=string, numpy=\n",
       "array([[b'Highly Effective'],\n",
       "       [b'Highly Effective'],\n",
       "       [b'Moderately Effective'],\n",
       "       ...,\n",
       "       [b'Moderately Effective'],\n",
       "       [b'Considerably Effective'],\n",
       "       [b'Highly Effective']], dtype=object)>"
      ]
     },
     "execution_count": 42,
     "metadata": {},
     "output_type": "execute_result"
    }
   ],
   "source": [
    "tf.convert_to_tensor(X_train[[\"effectiveness\"]].astype(str), dtype=tf.string)"
   ]
  },
  {
   "cell_type": "code",
   "execution_count": 43,
   "metadata": {
    "id": "JcTummVc2mxb"
   },
   "outputs": [],
   "source": [
    "numerical_data = X_train[numericas]\n",
    "categorical_data = [tf.convert_to_tensor(X_train[col].astype(str), dtype=tf.string) for col in categoricals]\n",
    "\n",
    "entradas = [numerical_data] + categorical_data\n"
   ]
  },
  {
   "cell_type": "code",
   "execution_count": 44,
   "metadata": {
    "colab": {
     "base_uri": "https://localhost:8080/"
    },
    "id": "YXhe1Hk0UYrK",
    "outputId": "64bd941c-dc36-4d5a-eb02-c2936eea7d42"
   },
   "outputs": [
    {
     "name": "stdout",
     "output_type": "stream",
     "text": [
      "Epoch 1/100\n",
      "\u001b[1m63/63\u001b[0m \u001b[32m━━━━━━━━━━━━━━━━━━━━\u001b[0m\u001b[37m\u001b[0m \u001b[1m1s\u001b[0m 7ms/step - acc: 0.2738 - loss: 2.1561 - val_acc: 0.3099 - val_loss: 1.8927\n",
      "Epoch 2/100\n",
      "\u001b[1m63/63\u001b[0m \u001b[32m━━━━━━━━━━━━━━━━━━━━\u001b[0m\u001b[37m\u001b[0m \u001b[1m0s\u001b[0m 5ms/step - acc: 0.4097 - loss: 1.7341 - val_acc: 0.3441 - val_loss: 1.6957\n",
      "Epoch 3/100\n",
      "\u001b[1m63/63\u001b[0m \u001b[32m━━━━━━━━━━━━━━━━━━━━\u001b[0m\u001b[37m\u001b[0m \u001b[1m0s\u001b[0m 4ms/step - acc: 0.4286 - loss: 1.5615 - val_acc: 0.3642 - val_loss: 1.5954\n",
      "Epoch 4/100\n",
      "\u001b[1m63/63\u001b[0m \u001b[32m━━━━━━━━━━━━━━━━━━━━\u001b[0m\u001b[37m\u001b[0m \u001b[1m0s\u001b[0m 4ms/step - acc: 0.4471 - loss: 1.4669 - val_acc: 0.3803 - val_loss: 1.5441\n",
      "Epoch 5/100\n",
      "\u001b[1m63/63\u001b[0m \u001b[32m━━━━━━━━━━━━━━━━━━━━\u001b[0m\u001b[37m\u001b[0m \u001b[1m0s\u001b[0m 4ms/step - acc: 0.4573 - loss: 1.4071 - val_acc: 0.3883 - val_loss: 1.5058\n",
      "Epoch 6/100\n",
      "\u001b[1m63/63\u001b[0m \u001b[32m━━━━━━━━━━━━━━━━━━━━\u001b[0m\u001b[37m\u001b[0m \u001b[1m0s\u001b[0m 4ms/step - acc: 0.4734 - loss: 1.3614 - val_acc: 0.4004 - val_loss: 1.4742\n",
      "Epoch 7/100\n",
      "\u001b[1m63/63\u001b[0m \u001b[32m━━━━━━━━━━━━━━━━━━━━\u001b[0m\u001b[37m\u001b[0m \u001b[1m0s\u001b[0m 4ms/step - acc: 0.4814 - loss: 1.3232 - val_acc: 0.4105 - val_loss: 1.4559\n",
      "Epoch 8/100\n",
      "\u001b[1m63/63\u001b[0m \u001b[32m━━━━━━━━━━━━━━━━━━━━\u001b[0m\u001b[37m\u001b[0m \u001b[1m0s\u001b[0m 4ms/step - acc: 0.4857 - loss: 1.2916 - val_acc: 0.4205 - val_loss: 1.4193\n",
      "Epoch 9/100\n",
      "\u001b[1m63/63\u001b[0m \u001b[32m━━━━━━━━━━━━━━━━━━━━\u001b[0m\u001b[37m\u001b[0m \u001b[1m0s\u001b[0m 4ms/step - acc: 0.4888 - loss: 1.2595 - val_acc: 0.4205 - val_loss: 1.3952\n",
      "Epoch 10/100\n",
      "\u001b[1m63/63\u001b[0m \u001b[32m━━━━━━━━━━━━━━━━━━━━\u001b[0m\u001b[37m\u001b[0m \u001b[1m0s\u001b[0m 4ms/step - acc: 0.4994 - loss: 1.2322 - val_acc: 0.4306 - val_loss: 1.3682\n",
      "Epoch 11/100\n",
      "\u001b[1m63/63\u001b[0m \u001b[32m━━━━━━━━━━━━━━━━━━━━\u001b[0m\u001b[37m\u001b[0m \u001b[1m0s\u001b[0m 4ms/step - acc: 0.5014 - loss: 1.2081 - val_acc: 0.4346 - val_loss: 1.3573\n",
      "Epoch 12/100\n",
      "\u001b[1m63/63\u001b[0m \u001b[32m━━━━━━━━━━━━━━━━━━━━\u001b[0m\u001b[37m\u001b[0m \u001b[1m0s\u001b[0m 4ms/step - acc: 0.5023 - loss: 1.1882 - val_acc: 0.4346 - val_loss: 1.3316\n",
      "Epoch 13/100\n",
      "\u001b[1m63/63\u001b[0m \u001b[32m━━━━━━━━━━━━━━━━━━━━\u001b[0m\u001b[37m\u001b[0m \u001b[1m0s\u001b[0m 5ms/step - acc: 0.5088 - loss: 1.1659 - val_acc: 0.4467 - val_loss: 1.2923\n",
      "Epoch 14/100\n",
      "\u001b[1m63/63\u001b[0m \u001b[32m━━━━━━━━━━━━━━━━━━━━\u001b[0m\u001b[37m\u001b[0m \u001b[1m0s\u001b[0m 4ms/step - acc: 0.5165 - loss: 1.1440 - val_acc: 0.4507 - val_loss: 1.2658\n",
      "Epoch 15/100\n",
      "\u001b[1m63/63\u001b[0m \u001b[32m━━━━━━━━━━━━━━━━━━━━\u001b[0m\u001b[37m\u001b[0m \u001b[1m0s\u001b[0m 4ms/step - acc: 0.5228 - loss: 1.1266 - val_acc: 0.4588 - val_loss: 1.2409\n",
      "Epoch 16/100\n",
      "\u001b[1m63/63\u001b[0m \u001b[32m━━━━━━━━━━━━━━━━━━━━\u001b[0m\u001b[37m\u001b[0m \u001b[1m0s\u001b[0m 6ms/step - acc: 0.5340 - loss: 1.1070 - val_acc: 0.4728 - val_loss: 1.2143\n",
      "Epoch 17/100\n",
      "\u001b[1m63/63\u001b[0m \u001b[32m━━━━━━━━━━━━━━━━━━━━\u001b[0m\u001b[37m\u001b[0m \u001b[1m1s\u001b[0m 4ms/step - acc: 0.5426 - loss: 1.0874 - val_acc: 0.4708 - val_loss: 1.2055\n",
      "Epoch 18/100\n",
      "\u001b[1m63/63\u001b[0m \u001b[32m━━━━━━━━━━━━━━━━━━━━\u001b[0m\u001b[37m\u001b[0m \u001b[1m0s\u001b[0m 7ms/step - acc: 0.5478 - loss: 1.0702 - val_acc: 0.4809 - val_loss: 1.1802\n",
      "Epoch 19/100\n",
      "\u001b[1m63/63\u001b[0m \u001b[32m━━━━━━━━━━━━━━━━━━━━\u001b[0m\u001b[37m\u001b[0m \u001b[1m0s\u001b[0m 6ms/step - acc: 0.5535 - loss: 1.0521 - val_acc: 0.4869 - val_loss: 1.1601\n",
      "Epoch 20/100\n",
      "\u001b[1m63/63\u001b[0m \u001b[32m━━━━━━━━━━━━━━━━━━━━\u001b[0m\u001b[37m\u001b[0m \u001b[1m0s\u001b[0m 6ms/step - acc: 0.5631 - loss: 1.0369 - val_acc: 0.4970 - val_loss: 1.1398\n",
      "Epoch 21/100\n",
      "\u001b[1m63/63\u001b[0m \u001b[32m━━━━━━━━━━━━━━━━━━━━\u001b[0m\u001b[37m\u001b[0m \u001b[1m0s\u001b[0m 7ms/step - acc: 0.5735 - loss: 1.0200 - val_acc: 0.5111 - val_loss: 1.1161\n",
      "Epoch 22/100\n",
      "\u001b[1m63/63\u001b[0m \u001b[32m━━━━━━━━━━━━━━━━━━━━\u001b[0m\u001b[37m\u001b[0m \u001b[1m0s\u001b[0m 4ms/step - acc: 0.5844 - loss: 1.0025 - val_acc: 0.5231 - val_loss: 1.1010\n",
      "Epoch 23/100\n",
      "\u001b[1m63/63\u001b[0m \u001b[32m━━━━━━━━━━━━━━━━━━━━\u001b[0m\u001b[37m\u001b[0m \u001b[1m0s\u001b[0m 4ms/step - acc: 0.5996 - loss: 0.9842 - val_acc: 0.5312 - val_loss: 1.0926\n",
      "Epoch 24/100\n",
      "\u001b[1m63/63\u001b[0m \u001b[32m━━━━━━━━━━━━━━━━━━━━\u001b[0m\u001b[37m\u001b[0m \u001b[1m0s\u001b[0m 4ms/step - acc: 0.6021 - loss: 0.9702 - val_acc: 0.5171 - val_loss: 1.0964\n",
      "Epoch 25/100\n",
      "\u001b[1m63/63\u001b[0m \u001b[32m━━━━━━━━━━━━━━━━━━━━\u001b[0m\u001b[37m\u001b[0m \u001b[1m0s\u001b[0m 4ms/step - acc: 0.6061 - loss: 0.9576 - val_acc: 0.5231 - val_loss: 1.0847\n",
      "Epoch 26/100\n",
      "\u001b[1m63/63\u001b[0m \u001b[32m━━━━━━━━━━━━━━━━━━━━\u001b[0m\u001b[37m\u001b[0m \u001b[1m0s\u001b[0m 4ms/step - acc: 0.6198 - loss: 0.9438 - val_acc: 0.5272 - val_loss: 1.0689\n",
      "Epoch 27/100\n",
      "\u001b[1m63/63\u001b[0m \u001b[32m━━━━━━━━━━━━━━━━━━━━\u001b[0m\u001b[37m\u001b[0m \u001b[1m0s\u001b[0m 4ms/step - acc: 0.6268 - loss: 0.9278 - val_acc: 0.5292 - val_loss: 1.0643\n",
      "Epoch 28/100\n",
      "\u001b[1m63/63\u001b[0m \u001b[32m━━━━━━━━━━━━━━━━━━━━\u001b[0m\u001b[37m\u001b[0m \u001b[1m0s\u001b[0m 4ms/step - acc: 0.6432 - loss: 0.9120 - val_acc: 0.5453 - val_loss: 1.0541\n",
      "Epoch 29/100\n",
      "\u001b[1m63/63\u001b[0m \u001b[32m━━━━━━━━━━━━━━━━━━━━\u001b[0m\u001b[37m\u001b[0m \u001b[1m0s\u001b[0m 4ms/step - acc: 0.6453 - loss: 0.8990 - val_acc: 0.5513 - val_loss: 1.0363\n",
      "Epoch 30/100\n",
      "\u001b[1m63/63\u001b[0m \u001b[32m━━━━━━━━━━━━━━━━━━━━\u001b[0m\u001b[37m\u001b[0m \u001b[1m0s\u001b[0m 4ms/step - acc: 0.6647 - loss: 0.8821 - val_acc: 0.5795 - val_loss: 1.0061\n",
      "Epoch 31/100\n",
      "\u001b[1m63/63\u001b[0m \u001b[32m━━━━━━━━━━━━━━━━━━━━\u001b[0m\u001b[37m\u001b[0m \u001b[1m0s\u001b[0m 4ms/step - acc: 0.6686 - loss: 0.8653 - val_acc: 0.5915 - val_loss: 0.9825\n",
      "Epoch 32/100\n",
      "\u001b[1m63/63\u001b[0m \u001b[32m━━━━━━━━━━━━━━━━━━━━\u001b[0m\u001b[37m\u001b[0m \u001b[1m0s\u001b[0m 4ms/step - acc: 0.6759 - loss: 0.8528 - val_acc: 0.6036 - val_loss: 0.9634\n",
      "Epoch 33/100\n",
      "\u001b[1m63/63\u001b[0m \u001b[32m━━━━━━━━━━━━━━━━━━━━\u001b[0m\u001b[37m\u001b[0m \u001b[1m0s\u001b[0m 4ms/step - acc: 0.6769 - loss: 0.8432 - val_acc: 0.6097 - val_loss: 0.9458\n",
      "Epoch 34/100\n",
      "\u001b[1m63/63\u001b[0m \u001b[32m━━━━━━━━━━━━━━━━━━━━\u001b[0m\u001b[37m\u001b[0m \u001b[1m0s\u001b[0m 4ms/step - acc: 0.6964 - loss: 0.8200 - val_acc: 0.6318 - val_loss: 0.9143\n",
      "Epoch 35/100\n",
      "\u001b[1m63/63\u001b[0m \u001b[32m━━━━━━━━━━━━━━━━━━━━\u001b[0m\u001b[37m\u001b[0m \u001b[1m0s\u001b[0m 4ms/step - acc: 0.6927 - loss: 0.8133 - val_acc: 0.6499 - val_loss: 0.8835\n",
      "Epoch 36/100\n",
      "\u001b[1m63/63\u001b[0m \u001b[32m━━━━━━━━━━━━━━━━━━━━\u001b[0m\u001b[37m\u001b[0m \u001b[1m0s\u001b[0m 4ms/step - acc: 0.7005 - loss: 0.7965 - val_acc: 0.6539 - val_loss: 0.8598\n",
      "Epoch 37/100\n",
      "\u001b[1m63/63\u001b[0m \u001b[32m━━━━━━━━━━━━━━━━━━━━\u001b[0m\u001b[37m\u001b[0m \u001b[1m0s\u001b[0m 4ms/step - acc: 0.7137 - loss: 0.7814 - val_acc: 0.6720 - val_loss: 0.8171\n",
      "Epoch 38/100\n",
      "\u001b[1m63/63\u001b[0m \u001b[32m━━━━━━━━━━━━━━━━━━━━\u001b[0m\u001b[37m\u001b[0m \u001b[1m0s\u001b[0m 4ms/step - acc: 0.7127 - loss: 0.7692 - val_acc: 0.6720 - val_loss: 0.8156\n",
      "Epoch 39/100\n",
      "\u001b[1m63/63\u001b[0m \u001b[32m━━━━━━━━━━━━━━━━━━━━\u001b[0m\u001b[37m\u001b[0m \u001b[1m0s\u001b[0m 4ms/step - acc: 0.7193 - loss: 0.7607 - val_acc: 0.6761 - val_loss: 0.8102\n",
      "Epoch 40/100\n",
      "\u001b[1m63/63\u001b[0m \u001b[32m━━━━━━━━━━━━━━━━━━━━\u001b[0m\u001b[37m\u001b[0m \u001b[1m0s\u001b[0m 4ms/step - acc: 0.7259 - loss: 0.7444 - val_acc: 0.6761 - val_loss: 0.8015\n",
      "Epoch 41/100\n",
      "\u001b[1m63/63\u001b[0m \u001b[32m━━━━━━━━━━━━━━━━━━━━\u001b[0m\u001b[37m\u001b[0m \u001b[1m0s\u001b[0m 4ms/step - acc: 0.7228 - loss: 0.7435 - val_acc: 0.7022 - val_loss: 0.7689\n",
      "Epoch 42/100\n",
      "\u001b[1m63/63\u001b[0m \u001b[32m━━━━━━━━━━━━━━━━━━━━\u001b[0m\u001b[37m\u001b[0m \u001b[1m0s\u001b[0m 4ms/step - acc: 0.7312 - loss: 0.7277 - val_acc: 0.7022 - val_loss: 0.7650\n",
      "Epoch 43/100\n",
      "\u001b[1m63/63\u001b[0m \u001b[32m━━━━━━━━━━━━━━━━━━━━\u001b[0m\u001b[37m\u001b[0m \u001b[1m0s\u001b[0m 6ms/step - acc: 0.7443 - loss: 0.7108 - val_acc: 0.7284 - val_loss: 0.7451\n",
      "Epoch 44/100\n",
      "\u001b[1m63/63\u001b[0m \u001b[32m━━━━━━━━━━━━━━━━━━━━\u001b[0m\u001b[37m\u001b[0m \u001b[1m0s\u001b[0m 4ms/step - acc: 0.7454 - loss: 0.7074 - val_acc: 0.7284 - val_loss: 0.7347\n",
      "Epoch 45/100\n",
      "\u001b[1m63/63\u001b[0m \u001b[32m━━━━━━━━━━━━━━━━━━━━\u001b[0m\u001b[37m\u001b[0m \u001b[1m0s\u001b[0m 4ms/step - acc: 0.7508 - loss: 0.6946 - val_acc: 0.7364 - val_loss: 0.7243\n",
      "Epoch 46/100\n",
      "\u001b[1m63/63\u001b[0m \u001b[32m━━━━━━━━━━━━━━━━━━━━\u001b[0m\u001b[37m\u001b[0m \u001b[1m0s\u001b[0m 4ms/step - acc: 0.7624 - loss: 0.6759 - val_acc: 0.7445 - val_loss: 0.7093\n",
      "Epoch 47/100\n",
      "\u001b[1m63/63\u001b[0m \u001b[32m━━━━━━━━━━━━━━━━━━━━\u001b[0m\u001b[37m\u001b[0m \u001b[1m0s\u001b[0m 4ms/step - acc: 0.7631 - loss: 0.6753 - val_acc: 0.7465 - val_loss: 0.6961\n",
      "Epoch 48/100\n",
      "\u001b[1m63/63\u001b[0m \u001b[32m━━━━━━━━━━━━━━━━━━━━\u001b[0m\u001b[37m\u001b[0m \u001b[1m0s\u001b[0m 4ms/step - acc: 0.7747 - loss: 0.6551 - val_acc: 0.7324 - val_loss: 0.7123\n",
      "Epoch 49/100\n",
      "\u001b[1m63/63\u001b[0m \u001b[32m━━━━━━━━━━━━━━━━━━━━\u001b[0m\u001b[37m\u001b[0m \u001b[1m0s\u001b[0m 4ms/step - acc: 0.7716 - loss: 0.6527 - val_acc: 0.7324 - val_loss: 0.7037\n",
      "Epoch 50/100\n",
      "\u001b[1m63/63\u001b[0m \u001b[32m━━━━━━━━━━━━━━━━━━━━\u001b[0m\u001b[37m\u001b[0m \u001b[1m0s\u001b[0m 4ms/step - acc: 0.7787 - loss: 0.6534 - val_acc: 0.7183 - val_loss: 0.7383\n",
      "Epoch 51/100\n",
      "\u001b[1m63/63\u001b[0m \u001b[32m━━━━━━━━━━━━━━━━━━━━\u001b[0m\u001b[37m\u001b[0m \u001b[1m0s\u001b[0m 4ms/step - acc: 0.7971 - loss: 0.6390 - val_acc: 0.7445 - val_loss: 0.6874\n",
      "Epoch 52/100\n",
      "\u001b[1m63/63\u001b[0m \u001b[32m━━━━━━━━━━━━━━━━━━━━\u001b[0m\u001b[37m\u001b[0m \u001b[1m0s\u001b[0m 4ms/step - acc: 0.7817 - loss: 0.6346 - val_acc: 0.7062 - val_loss: 0.7580\n",
      "Epoch 53/100\n",
      "\u001b[1m63/63\u001b[0m \u001b[32m━━━━━━━━━━━━━━━━━━━━\u001b[0m\u001b[37m\u001b[0m \u001b[1m0s\u001b[0m 4ms/step - acc: 0.7925 - loss: 0.6331 - val_acc: 0.7404 - val_loss: 0.6957\n",
      "Epoch 54/100\n",
      "\u001b[1m63/63\u001b[0m \u001b[32m━━━━━━━━━━━━━━━━━━━━\u001b[0m\u001b[37m\u001b[0m \u001b[1m0s\u001b[0m 4ms/step - acc: 0.7807 - loss: 0.6288 - val_acc: 0.7243 - val_loss: 0.7115\n",
      "Epoch 55/100\n",
      "\u001b[1m63/63\u001b[0m \u001b[32m━━━━━━━━━━━━━━━━━━━━\u001b[0m\u001b[37m\u001b[0m \u001b[1m0s\u001b[0m 5ms/step - acc: 0.7949 - loss: 0.6273 - val_acc: 0.7525 - val_loss: 0.6802\n",
      "Epoch 56/100\n",
      "\u001b[1m63/63\u001b[0m \u001b[32m━━━━━━━━━━━━━━━━━━━━\u001b[0m\u001b[37m\u001b[0m \u001b[1m1s\u001b[0m 8ms/step - acc: 0.8027 - loss: 0.6076 - val_acc: 0.7726 - val_loss: 0.6333\n",
      "Epoch 57/100\n",
      "\u001b[1m63/63\u001b[0m \u001b[32m━━━━━━━━━━━━━━━━━━━━\u001b[0m\u001b[37m\u001b[0m \u001b[1m0s\u001b[0m 7ms/step - acc: 0.8041 - loss: 0.5932 - val_acc: 0.7787 - val_loss: 0.6275\n",
      "Epoch 58/100\n",
      "\u001b[1m63/63\u001b[0m \u001b[32m━━━━━━━━━━━━━━━━━━━━\u001b[0m\u001b[37m\u001b[0m \u001b[1m1s\u001b[0m 8ms/step - acc: 0.8097 - loss: 0.5824 - val_acc: 0.7827 - val_loss: 0.6129\n",
      "Epoch 59/100\n",
      "\u001b[1m63/63\u001b[0m \u001b[32m━━━━━━━━━━━━━━━━━━━━\u001b[0m\u001b[37m\u001b[0m \u001b[1m0s\u001b[0m 4ms/step - acc: 0.8150 - loss: 0.5685 - val_acc: 0.7867 - val_loss: 0.6052\n",
      "Epoch 60/100\n",
      "\u001b[1m63/63\u001b[0m \u001b[32m━━━━━━━━━━━━━━━━━━━━\u001b[0m\u001b[37m\u001b[0m \u001b[1m0s\u001b[0m 4ms/step - acc: 0.8160 - loss: 0.5647 - val_acc: 0.7867 - val_loss: 0.5998\n",
      "Epoch 61/100\n",
      "\u001b[1m63/63\u001b[0m \u001b[32m━━━━━━━━━━━━━━━━━━━━\u001b[0m\u001b[37m\u001b[0m \u001b[1m1s\u001b[0m 4ms/step - acc: 0.8141 - loss: 0.5705 - val_acc: 0.7767 - val_loss: 0.6091\n",
      "Epoch 62/100\n",
      "\u001b[1m63/63\u001b[0m \u001b[32m━━━━━━━━━━━━━━━━━━━━\u001b[0m\u001b[37m\u001b[0m \u001b[1m0s\u001b[0m 4ms/step - acc: 0.8271 - loss: 0.5578 - val_acc: 0.7847 - val_loss: 0.5935\n",
      "Epoch 63/100\n",
      "\u001b[1m63/63\u001b[0m \u001b[32m━━━━━━━━━━━━━━━━━━━━\u001b[0m\u001b[37m\u001b[0m \u001b[1m0s\u001b[0m 5ms/step - acc: 0.8328 - loss: 0.5367 - val_acc: 0.8089 - val_loss: 0.5686\n",
      "Epoch 64/100\n",
      "\u001b[1m63/63\u001b[0m \u001b[32m━━━━━━━━━━━━━━━━━━━━\u001b[0m\u001b[37m\u001b[0m \u001b[1m0s\u001b[0m 4ms/step - acc: 0.8335 - loss: 0.5370 - val_acc: 0.8048 - val_loss: 0.5650\n",
      "Epoch 65/100\n",
      "\u001b[1m63/63\u001b[0m \u001b[32m━━━━━━━━━━━━━━━━━━━━\u001b[0m\u001b[37m\u001b[0m \u001b[1m0s\u001b[0m 4ms/step - acc: 0.8328 - loss: 0.5302 - val_acc: 0.8048 - val_loss: 0.5624\n",
      "Epoch 66/100\n",
      "\u001b[1m63/63\u001b[0m \u001b[32m━━━━━━━━━━━━━━━━━━━━\u001b[0m\u001b[37m\u001b[0m \u001b[1m0s\u001b[0m 5ms/step - acc: 0.8370 - loss: 0.5161 - val_acc: 0.8149 - val_loss: 0.5487\n",
      "Epoch 67/100\n",
      "\u001b[1m63/63\u001b[0m \u001b[32m━━━━━━━━━━━━━━━━━━━━\u001b[0m\u001b[37m\u001b[0m \u001b[1m0s\u001b[0m 4ms/step - acc: 0.8421 - loss: 0.5132 - val_acc: 0.8209 - val_loss: 0.5424\n",
      "Epoch 68/100\n",
      "\u001b[1m63/63\u001b[0m \u001b[32m━━━━━━━━━━━━━━━━━━━━\u001b[0m\u001b[37m\u001b[0m \u001b[1m0s\u001b[0m 4ms/step - acc: 0.8362 - loss: 0.5245 - val_acc: 0.8169 - val_loss: 0.5426\n",
      "Epoch 69/100\n",
      "\u001b[1m63/63\u001b[0m \u001b[32m━━━━━━━━━━━━━━━━━━━━\u001b[0m\u001b[37m\u001b[0m \u001b[1m0s\u001b[0m 4ms/step - acc: 0.8524 - loss: 0.5020 - val_acc: 0.8290 - val_loss: 0.5247\n",
      "Epoch 70/100\n",
      "\u001b[1m63/63\u001b[0m \u001b[32m━━━━━━━━━━━━━━━━━━━━\u001b[0m\u001b[37m\u001b[0m \u001b[1m0s\u001b[0m 4ms/step - acc: 0.8552 - loss: 0.4741 - val_acc: 0.8270 - val_loss: 0.5236\n",
      "Epoch 71/100\n",
      "\u001b[1m63/63\u001b[0m \u001b[32m━━━━━━━━━━━━━━━━━━━━\u001b[0m\u001b[37m\u001b[0m \u001b[1m0s\u001b[0m 4ms/step - acc: 0.8491 - loss: 0.4904 - val_acc: 0.8350 - val_loss: 0.5131\n",
      "Epoch 72/100\n",
      "\u001b[1m63/63\u001b[0m \u001b[32m━━━━━━━━━━━━━━━━━━━━\u001b[0m\u001b[37m\u001b[0m \u001b[1m0s\u001b[0m 4ms/step - acc: 0.8584 - loss: 0.4693 - val_acc: 0.8350 - val_loss: 0.4996\n",
      "Epoch 73/100\n",
      "\u001b[1m63/63\u001b[0m \u001b[32m━━━━━━━━━━━━━━━━━━━━\u001b[0m\u001b[37m\u001b[0m \u001b[1m0s\u001b[0m 5ms/step - acc: 0.8671 - loss: 0.4442 - val_acc: 0.8451 - val_loss: 0.5054\n",
      "Epoch 74/100\n",
      "\u001b[1m63/63\u001b[0m \u001b[32m━━━━━━━━━━━━━━━━━━━━\u001b[0m\u001b[37m\u001b[0m \u001b[1m1s\u001b[0m 4ms/step - acc: 0.8326 - loss: 0.4988 - val_acc: 0.8431 - val_loss: 0.4886\n",
      "Epoch 75/100\n",
      "\u001b[1m63/63\u001b[0m \u001b[32m━━━━━━━━━━━━━━━━━━━━\u001b[0m\u001b[37m\u001b[0m \u001b[1m0s\u001b[0m 4ms/step - acc: 0.8647 - loss: 0.4511 - val_acc: 0.8511 - val_loss: 0.4867\n",
      "Epoch 76/100\n",
      "\u001b[1m63/63\u001b[0m \u001b[32m━━━━━━━━━━━━━━━━━━━━\u001b[0m\u001b[37m\u001b[0m \u001b[1m0s\u001b[0m 4ms/step - acc: 0.8706 - loss: 0.4268 - val_acc: 0.8491 - val_loss: 0.4793\n",
      "Epoch 77/100\n",
      "\u001b[1m63/63\u001b[0m \u001b[32m━━━━━━━━━━━━━━━━━━━━\u001b[0m\u001b[37m\u001b[0m \u001b[1m0s\u001b[0m 4ms/step - acc: 0.8738 - loss: 0.4197 - val_acc: 0.8551 - val_loss: 0.4757\n",
      "Epoch 78/100\n",
      "\u001b[1m63/63\u001b[0m \u001b[32m━━━━━━━━━━━━━━━━━━━━\u001b[0m\u001b[37m\u001b[0m \u001b[1m0s\u001b[0m 4ms/step - acc: 0.8475 - loss: 0.4457 - val_acc: 0.8531 - val_loss: 0.4631\n",
      "Epoch 79/100\n",
      "\u001b[1m63/63\u001b[0m \u001b[32m━━━━━━━━━━━━━━━━━━━━\u001b[0m\u001b[37m\u001b[0m \u001b[1m0s\u001b[0m 4ms/step - acc: 0.8662 - loss: 0.4212 - val_acc: 0.8592 - val_loss: 0.4599\n",
      "Epoch 80/100\n",
      "\u001b[1m63/63\u001b[0m \u001b[32m━━━━━━━━━━━━━━━━━━━━\u001b[0m\u001b[37m\u001b[0m \u001b[1m0s\u001b[0m 5ms/step - acc: 0.8678 - loss: 0.4152 - val_acc: 0.8612 - val_loss: 0.4532\n",
      "Epoch 81/100\n",
      "\u001b[1m63/63\u001b[0m \u001b[32m━━━━━━━━━━━━━━━━━━━━\u001b[0m\u001b[37m\u001b[0m \u001b[1m0s\u001b[0m 4ms/step - acc: 0.8813 - loss: 0.3866 - val_acc: 0.8652 - val_loss: 0.4531\n",
      "Epoch 82/100\n",
      "\u001b[1m63/63\u001b[0m \u001b[32m━━━━━━━━━━━━━━━━━━━━\u001b[0m\u001b[37m\u001b[0m \u001b[1m0s\u001b[0m 5ms/step - acc: 0.8391 - loss: 0.4490 - val_acc: 0.8612 - val_loss: 0.4423\n",
      "Epoch 83/100\n",
      "\u001b[1m63/63\u001b[0m \u001b[32m━━━━━━━━━━━━━━━━━━━━\u001b[0m\u001b[37m\u001b[0m \u001b[1m1s\u001b[0m 4ms/step - acc: 0.8843 - loss: 0.3864 - val_acc: 0.8712 - val_loss: 0.4368\n",
      "Epoch 84/100\n",
      "\u001b[1m63/63\u001b[0m \u001b[32m━━━━━━━━━━━━━━━━━━━━\u001b[0m\u001b[37m\u001b[0m \u001b[1m0s\u001b[0m 5ms/step - acc: 0.8908 - loss: 0.3641 - val_acc: 0.8793 - val_loss: 0.4345\n",
      "Epoch 85/100\n",
      "\u001b[1m63/63\u001b[0m \u001b[32m━━━━━━━━━━━━━━━━━━━━\u001b[0m\u001b[37m\u001b[0m \u001b[1m1s\u001b[0m 4ms/step - acc: 0.8349 - loss: 0.4390 - val_acc: 0.8652 - val_loss: 0.4233\n",
      "Epoch 86/100\n",
      "\u001b[1m63/63\u001b[0m \u001b[32m━━━━━━━━━━━━━━━━━━━━\u001b[0m\u001b[37m\u001b[0m \u001b[1m0s\u001b[0m 4ms/step - acc: 0.7785 - loss: 0.6650 - val_acc: 0.8330 - val_loss: 0.4607\n",
      "Epoch 87/100\n",
      "\u001b[1m63/63\u001b[0m \u001b[32m━━━━━━━━━━━━━━━━━━━━\u001b[0m\u001b[37m\u001b[0m \u001b[1m0s\u001b[0m 4ms/step - acc: 0.9152 - loss: 0.3234 - val_acc: 0.8732 - val_loss: 0.4217\n",
      "Epoch 88/100\n",
      "\u001b[1m63/63\u001b[0m \u001b[32m━━━━━━━━━━━━━━━━━━━━\u001b[0m\u001b[37m\u001b[0m \u001b[1m0s\u001b[0m 7ms/step - acc: 0.8920 - loss: 0.3496 - val_acc: 0.8793 - val_loss: 0.4087\n",
      "Epoch 89/100\n",
      "\u001b[1m63/63\u001b[0m \u001b[32m━━━━━━━━━━━━━━━━━━━━\u001b[0m\u001b[37m\u001b[0m \u001b[1m0s\u001b[0m 6ms/step - acc: 0.8981 - loss: 0.3439 - val_acc: 0.8793 - val_loss: 0.4086\n",
      "Epoch 90/100\n",
      "\u001b[1m63/63\u001b[0m \u001b[32m━━━━━━━━━━━━━━━━━━━━\u001b[0m\u001b[37m\u001b[0m \u001b[1m0s\u001b[0m 7ms/step - acc: 0.9098 - loss: 0.3182 - val_acc: 0.8853 - val_loss: 0.3965\n",
      "Epoch 91/100\n",
      "\u001b[1m63/63\u001b[0m \u001b[32m━━━━━━━━━━━━━━━━━━━━\u001b[0m\u001b[37m\u001b[0m \u001b[1m1s\u001b[0m 14ms/step - acc: 0.7951 - loss: 0.6334 - val_acc: 0.8592 - val_loss: 0.4099\n",
      "Epoch 92/100\n",
      "\u001b[1m63/63\u001b[0m \u001b[32m━━━━━━━━━━━━━━━━━━━━\u001b[0m\u001b[37m\u001b[0m \u001b[1m1s\u001b[0m 4ms/step - acc: 0.9241 - loss: 0.2927 - val_acc: 0.8793 - val_loss: 0.3842\n",
      "Epoch 93/100\n",
      "\u001b[1m63/63\u001b[0m \u001b[32m━━━━━━━━━━━━━━━━━━━━\u001b[0m\u001b[37m\u001b[0m \u001b[1m0s\u001b[0m 4ms/step - acc: 0.9189 - loss: 0.2961 - val_acc: 0.8853 - val_loss: 0.3800\n",
      "Epoch 94/100\n",
      "\u001b[1m63/63\u001b[0m \u001b[32m━━━━━━━━━━━━━━━━━━━━\u001b[0m\u001b[37m\u001b[0m \u001b[1m1s\u001b[0m 4ms/step - acc: 0.9039 - loss: 0.3204 - val_acc: 0.8853 - val_loss: 0.3743\n",
      "Epoch 95/100\n",
      "\u001b[1m63/63\u001b[0m \u001b[32m━━━━━━━━━━━━━━━━━━━━\u001b[0m\u001b[37m\u001b[0m \u001b[1m0s\u001b[0m 4ms/step - acc: 0.9051 - loss: 0.3203 - val_acc: 0.8934 - val_loss: 0.3671\n",
      "Epoch 96/100\n",
      "\u001b[1m63/63\u001b[0m \u001b[32m━━━━━━━━━━━━━━━━━━━━\u001b[0m\u001b[37m\u001b[0m \u001b[1m0s\u001b[0m 4ms/step - acc: 0.9208 - loss: 0.2871 - val_acc: 0.8913 - val_loss: 0.3613\n",
      "Epoch 97/100\n",
      "\u001b[1m63/63\u001b[0m \u001b[32m━━━━━━━━━━━━━━━━━━━━\u001b[0m\u001b[37m\u001b[0m \u001b[1m0s\u001b[0m 4ms/step - acc: 0.9154 - loss: 0.2895 - val_acc: 0.8974 - val_loss: 0.3501\n",
      "Epoch 98/100\n",
      "\u001b[1m63/63\u001b[0m \u001b[32m━━━━━━━━━━━━━━━━━━━━\u001b[0m\u001b[37m\u001b[0m \u001b[1m0s\u001b[0m 4ms/step - acc: 0.9082 - loss: 0.3054 - val_acc: 0.8954 - val_loss: 0.3443\n",
      "Epoch 99/100\n",
      "\u001b[1m63/63\u001b[0m \u001b[32m━━━━━━━━━━━━━━━━━━━━\u001b[0m\u001b[37m\u001b[0m \u001b[1m0s\u001b[0m 4ms/step - acc: 0.9279 - loss: 0.2719 - val_acc: 0.8974 - val_loss: 0.3397\n",
      "Epoch 100/100\n",
      "\u001b[1m63/63\u001b[0m \u001b[32m━━━━━━━━━━━━━━━━━━━━\u001b[0m\u001b[37m\u001b[0m \u001b[1m0s\u001b[0m 4ms/step - acc: 0.8083 - loss: 0.6291 - val_acc: 0.8692 - val_loss: 0.3756\n"
     ]
    }
   ],
   "source": [
    "history = model.fit(entradas, y_num, validation_split=0.2, epochs=100, callbacks= earlyS)"
   ]
  },
  {
   "cell_type": "code",
   "execution_count": 45,
   "metadata": {
    "id": "4ks_l7TSNDpw"
   },
   "outputs": [],
   "source": [
    "numerical_test = X_test[numericas]\n",
    "categorical_test = [tf.convert_to_tensor(X_test[col].astype(str), dtype=tf.string) for col in categoricals]\n",
    "\n",
    "entrada_test = [numerical_test] + categorical_test\n"
   ]
  },
  {
   "cell_type": "code",
   "execution_count": 46,
   "metadata": {
    "colab": {
     "base_uri": "https://localhost:8080/"
    },
    "id": "ZYzYCNxIUYrK",
    "outputId": "e0ee3191-6f04-41a8-abe5-6d2da589f272"
   },
   "outputs": [
    {
     "name": "stdout",
     "output_type": "stream",
     "text": [
      "\u001b[1m20/20\u001b[0m \u001b[32m━━━━━━━━━━━━━━━━━━━━\u001b[0m\u001b[37m\u001b[0m \u001b[1m0s\u001b[0m 6ms/step - acc: 0.9326 - loss: 0.2874\n"
     ]
    },
    {
     "data": {
      "text/plain": [
       "[0.31444841623306274, 0.9147909879684448]"
      ]
     },
     "execution_count": 46,
     "metadata": {},
     "output_type": "execute_result"
    }
   ],
   "source": [
    "model.evaluate(entrada_test, test_set[target])\n"
   ]
  },
  {
   "cell_type": "markdown",
   "metadata": {
    "id": "Ss4wsGuxUYrK"
   },
   "source": [
    "Algo hemos mejorado...¿no?"
   ]
  },
  {
   "cell_type": "code",
   "execution_count": 47,
   "metadata": {
    "colab": {
     "base_uri": "https://localhost:8080/"
    },
    "id": "T_tt218BUYrK",
    "outputId": "7e635d26-9806-4dea-e65d-2fae787f9689"
   },
   "outputs": [
    {
     "name": "stdout",
     "output_type": "stream",
     "text": [
      "\u001b[1m20/20\u001b[0m \u001b[32m━━━━━━━━━━━━━━━━━━━━\u001b[0m\u001b[37m\u001b[0m \u001b[1m0s\u001b[0m 5ms/step\n"
     ]
    }
   ],
   "source": [
    "y_pred  = [np.argmax(pred) for pred in model.predict(entrada_test)]\n"
   ]
  },
  {
   "cell_type": "code",
   "execution_count": 48,
   "metadata": {
    "colab": {
     "base_uri": "https://localhost:8080/"
    },
    "id": "QoYUPGH3UYrK",
    "outputId": "e15b93fb-32b6-4eca-a959-cb96e288eb5f"
   },
   "outputs": [
    {
     "name": "stdout",
     "output_type": "stream",
     "text": [
      "              precision    recall  f1-score   support\n",
      "\n",
      "           0       0.94      0.97      0.95        62\n",
      "           1       0.73      0.50      0.59        16\n",
      "           2       0.20      0.04      0.07        23\n",
      "           3       0.39      0.89      0.54        18\n",
      "           4       0.79      0.81      0.80        27\n",
      "           5       0.93      0.74      0.82        38\n",
      "           6       0.93      0.96      0.95        83\n",
      "           7       0.98      1.00      0.99        94\n",
      "           8       0.99      1.00      1.00       110\n",
      "           9       1.00      0.99      1.00       151\n",
      "\n",
      "    accuracy                           0.91       622\n",
      "   macro avg       0.79      0.79      0.77       622\n",
      "weighted avg       0.91      0.91      0.91       622\n",
      "\n"
     ]
    }
   ],
   "source": [
    "print(classification_report(test_set[target], y_pred))\n"
   ]
  },
  {
   "cell_type": "markdown",
   "metadata": {
    "id": "vIZQS8zpUYrK"
   },
   "source": [
    "#### Onehotencoding"
   ]
  },
  {
   "cell_type": "markdown",
   "metadata": {
    "id": "i6LZ1uWXUYrK"
   },
   "source": [
    "Pero podemos hacer el onehot encoding de una vez configurando la StringLookup layer debidamente.  Además ahora usaremos la functional API para incluir la capa dentro del modelo (y no tener que hacer la conversión por fuera)"
   ]
  },
  {
   "cell_type": "code",
   "execution_count": 49,
   "metadata": {
    "id": "2lUuCKLUUYrK"
   },
   "outputs": [],
   "source": [
    "tf.random.set_seed(42)\n",
    "normalization_layer = tf.keras.layers.Normalization()\n",
    "ordinalEncoding_layers = [tf.keras.layers.StringLookup(output_mode= \"one_hot\") for cat in categoricals] # no le damos valor, pero aquí el argumento vocabulary permite pasar una lista,\n",
    "                                                 # una tupla, un array, un tensor con los strings ordenados de forma que el primero recibira la clase 0, etc\n",
    "\n",
    "#ordinalEncoding.adapt(train_set[categoricals])\n",
    "concat_layer = tf.keras.layers.Concatenate(axis = -1)\n",
    "hidden_layer1 = tf.keras.layers.Dense(100, activation=\"relu\")\n",
    "output_layer = tf.keras.layers.Dense(10, activation = \"softmax\")\n",
    "\n",
    "\n",
    "normalization_layer.adapt(train_set[numericas].to_numpy())\n",
    "_ = [ordinalEncoding_layers[indice].adapt(train_set[col]) for indice,col in enumerate(categoricals)] # Al igual que la capa de normalización hay que hacerle su fit en este caso el método adapt\n",
    "\n",
    "earlyS = tf.keras.callbacks.EarlyStopping(patience=10, restore_best_weights= True)\n",
    "\n",
    "input_num = tf.keras.layers.Input(shape=(train_set[numericas].shape[1],))\n",
    "input_cats = [tf.keras.layers.Input(shape=(train_set[[col]].shape[1],), dtype = tf.string) for col in categoricals] # Importante decirle que entra una string\n",
    "normalized = normalization_layer(input_num)\n",
    "\n",
    "encoded = [ordinalEncoding_layers[i](input_cats[i]) for i in range(len(ordinalEncoding_layers))]\n",
    "\n",
    "concat = concat_layer([normalized] + encoded)\n",
    "hidden1 = hidden_layer1(concat)\n",
    "output = output_layer(hidden1)\n",
    "\n",
    "model = tf.keras.Model(inputs=[input_num] + input_cats, outputs=[output])\n"
   ]
  },
  {
   "cell_type": "code",
   "execution_count": 50,
   "metadata": {
    "colab": {
     "base_uri": "https://localhost:8080/"
    },
    "id": "c-iXuoWyUYrK",
    "outputId": "786de38f-3c49-4c3b-e4fc-a13632661fe6"
   },
   "outputs": [
    {
     "data": {
      "text/plain": [
       "[<tf.Tensor: shape=(2485, 6), dtype=int64, numpy=\n",
       " array([[0, 1, 0, 0, 0, 0],\n",
       "        [0, 1, 0, 0, 0, 0],\n",
       "        [0, 0, 0, 1, 0, 0],\n",
       "        ...,\n",
       "        [0, 0, 0, 1, 0, 0],\n",
       "        [0, 0, 1, 0, 0, 0],\n",
       "        [0, 1, 0, 0, 0, 0]])>,\n",
       " <tf.Tensor: shape=(2485, 6), dtype=int64, numpy=\n",
       " array([[0, 0, 1, 0, 0, 0],\n",
       "        [0, 1, 0, 0, 0, 0],\n",
       "        [0, 0, 0, 0, 1, 0],\n",
       "        ...,\n",
       "        [0, 1, 0, 0, 0, 0],\n",
       "        [0, 0, 0, 1, 0, 0],\n",
       "        [0, 0, 0, 0, 0, 1]])>]"
      ]
     },
     "execution_count": 50,
     "metadata": {},
     "output_type": "execute_result"
    }
   ],
   "source": [
    "salida = tf.keras.Model(inputs = input_cats, outputs = encoded)\n",
    "salida([X_train[col] for col in categoricals])"
   ]
  },
  {
   "cell_type": "code",
   "execution_count": 51,
   "metadata": {
    "colab": {
     "base_uri": "https://localhost:8080/",
     "height": 423
    },
    "id": "6pBMeOrWUYrK",
    "outputId": "d53d2a04-4209-4b28-a6ab-7305416328a0"
   },
   "outputs": [
    {
     "data": {
      "application/vnd.google.colaboratory.intrinsic+json": {
       "summary": "{\n  \"name\": \"X_train[[categoricals[1]]]\",\n  \"rows\": 2485,\n  \"fields\": [\n    {\n      \"column\": \"sideEffects\",\n      \"properties\": {\n        \"dtype\": \"category\",\n        \"num_unique_values\": 5,\n        \"samples\": [\n          \"Mild Side Effects\",\n          \"Extremely Severe Side Effects\",\n          \"Severe Side Effects\"\n        ],\n        \"semantic_type\": \"\",\n        \"description\": \"\"\n      }\n    }\n  ]\n}",
       "type": "dataframe"
      },
      "text/html": [
       "\n",
       "  <div id=\"df-4832b4ed-d734-4045-8794-84b8e81e346b\" class=\"colab-df-container\">\n",
       "    <div>\n",
       "<style scoped>\n",
       "    .dataframe tbody tr th:only-of-type {\n",
       "        vertical-align: middle;\n",
       "    }\n",
       "\n",
       "    .dataframe tbody tr th {\n",
       "        vertical-align: top;\n",
       "    }\n",
       "\n",
       "    .dataframe thead th {\n",
       "        text-align: right;\n",
       "    }\n",
       "</style>\n",
       "<table border=\"1\" class=\"dataframe\">\n",
       "  <thead>\n",
       "    <tr style=\"text-align: right;\">\n",
       "      <th></th>\n",
       "      <th>sideEffects</th>\n",
       "    </tr>\n",
       "  </thead>\n",
       "  <tbody>\n",
       "    <tr>\n",
       "      <th>2686</th>\n",
       "      <td>No Side Effects</td>\n",
       "    </tr>\n",
       "    <tr>\n",
       "      <th>1192</th>\n",
       "      <td>Mild Side Effects</td>\n",
       "    </tr>\n",
       "    <tr>\n",
       "      <th>2738</th>\n",
       "      <td>Severe Side Effects</td>\n",
       "    </tr>\n",
       "    <tr>\n",
       "      <th>2780</th>\n",
       "      <td>Moderate Side Effects</td>\n",
       "    </tr>\n",
       "    <tr>\n",
       "      <th>1735</th>\n",
       "      <td>No Side Effects</td>\n",
       "    </tr>\n",
       "    <tr>\n",
       "      <th>...</th>\n",
       "      <td>...</td>\n",
       "    </tr>\n",
       "    <tr>\n",
       "      <th>3092</th>\n",
       "      <td>Mild Side Effects</td>\n",
       "    </tr>\n",
       "    <tr>\n",
       "      <th>1095</th>\n",
       "      <td>Severe Side Effects</td>\n",
       "    </tr>\n",
       "    <tr>\n",
       "      <th>1130</th>\n",
       "      <td>Mild Side Effects</td>\n",
       "    </tr>\n",
       "    <tr>\n",
       "      <th>1294</th>\n",
       "      <td>Moderate Side Effects</td>\n",
       "    </tr>\n",
       "    <tr>\n",
       "      <th>860</th>\n",
       "      <td>Extremely Severe Side Effects</td>\n",
       "    </tr>\n",
       "  </tbody>\n",
       "</table>\n",
       "<p>2485 rows × 1 columns</p>\n",
       "</div>\n",
       "    <div class=\"colab-df-buttons\">\n",
       "\n",
       "  <div class=\"colab-df-container\">\n",
       "    <button class=\"colab-df-convert\" onclick=\"convertToInteractive('df-4832b4ed-d734-4045-8794-84b8e81e346b')\"\n",
       "            title=\"Convert this dataframe to an interactive table.\"\n",
       "            style=\"display:none;\">\n",
       "\n",
       "  <svg xmlns=\"http://www.w3.org/2000/svg\" height=\"24px\" viewBox=\"0 -960 960 960\">\n",
       "    <path d=\"M120-120v-720h720v720H120Zm60-500h600v-160H180v160Zm220 220h160v-160H400v160Zm0 220h160v-160H400v160ZM180-400h160v-160H180v160Zm440 0h160v-160H620v160ZM180-180h160v-160H180v160Zm440 0h160v-160H620v160Z\"/>\n",
       "  </svg>\n",
       "    </button>\n",
       "\n",
       "  <style>\n",
       "    .colab-df-container {\n",
       "      display:flex;\n",
       "      gap: 12px;\n",
       "    }\n",
       "\n",
       "    .colab-df-convert {\n",
       "      background-color: #E8F0FE;\n",
       "      border: none;\n",
       "      border-radius: 50%;\n",
       "      cursor: pointer;\n",
       "      display: none;\n",
       "      fill: #1967D2;\n",
       "      height: 32px;\n",
       "      padding: 0 0 0 0;\n",
       "      width: 32px;\n",
       "    }\n",
       "\n",
       "    .colab-df-convert:hover {\n",
       "      background-color: #E2EBFA;\n",
       "      box-shadow: 0px 1px 2px rgba(60, 64, 67, 0.3), 0px 1px 3px 1px rgba(60, 64, 67, 0.15);\n",
       "      fill: #174EA6;\n",
       "    }\n",
       "\n",
       "    .colab-df-buttons div {\n",
       "      margin-bottom: 4px;\n",
       "    }\n",
       "\n",
       "    [theme=dark] .colab-df-convert {\n",
       "      background-color: #3B4455;\n",
       "      fill: #D2E3FC;\n",
       "    }\n",
       "\n",
       "    [theme=dark] .colab-df-convert:hover {\n",
       "      background-color: #434B5C;\n",
       "      box-shadow: 0px 1px 3px 1px rgba(0, 0, 0, 0.15);\n",
       "      filter: drop-shadow(0px 1px 2px rgba(0, 0, 0, 0.3));\n",
       "      fill: #FFFFFF;\n",
       "    }\n",
       "  </style>\n",
       "\n",
       "    <script>\n",
       "      const buttonEl =\n",
       "        document.querySelector('#df-4832b4ed-d734-4045-8794-84b8e81e346b button.colab-df-convert');\n",
       "      buttonEl.style.display =\n",
       "        google.colab.kernel.accessAllowed ? 'block' : 'none';\n",
       "\n",
       "      async function convertToInteractive(key) {\n",
       "        const element = document.querySelector('#df-4832b4ed-d734-4045-8794-84b8e81e346b');\n",
       "        const dataTable =\n",
       "          await google.colab.kernel.invokeFunction('convertToInteractive',\n",
       "                                                    [key], {});\n",
       "        if (!dataTable) return;\n",
       "\n",
       "        const docLinkHtml = 'Like what you see? Visit the ' +\n",
       "          '<a target=\"_blank\" href=https://colab.research.google.com/notebooks/data_table.ipynb>data table notebook</a>'\n",
       "          + ' to learn more about interactive tables.';\n",
       "        element.innerHTML = '';\n",
       "        dataTable['output_type'] = 'display_data';\n",
       "        await google.colab.output.renderOutput(dataTable, element);\n",
       "        const docLink = document.createElement('div');\n",
       "        docLink.innerHTML = docLinkHtml;\n",
       "        element.appendChild(docLink);\n",
       "      }\n",
       "    </script>\n",
       "  </div>\n",
       "\n",
       "\n",
       "<div id=\"df-f3c8d95b-1615-4a46-9991-051a2ea51ff1\">\n",
       "  <button class=\"colab-df-quickchart\" onclick=\"quickchart('df-f3c8d95b-1615-4a46-9991-051a2ea51ff1')\"\n",
       "            title=\"Suggest charts\"\n",
       "            style=\"display:none;\">\n",
       "\n",
       "<svg xmlns=\"http://www.w3.org/2000/svg\" height=\"24px\"viewBox=\"0 0 24 24\"\n",
       "     width=\"24px\">\n",
       "    <g>\n",
       "        <path d=\"M19 3H5c-1.1 0-2 .9-2 2v14c0 1.1.9 2 2 2h14c1.1 0 2-.9 2-2V5c0-1.1-.9-2-2-2zM9 17H7v-7h2v7zm4 0h-2V7h2v10zm4 0h-2v-4h2v4z\"/>\n",
       "    </g>\n",
       "</svg>\n",
       "  </button>\n",
       "\n",
       "<style>\n",
       "  .colab-df-quickchart {\n",
       "      --bg-color: #E8F0FE;\n",
       "      --fill-color: #1967D2;\n",
       "      --hover-bg-color: #E2EBFA;\n",
       "      --hover-fill-color: #174EA6;\n",
       "      --disabled-fill-color: #AAA;\n",
       "      --disabled-bg-color: #DDD;\n",
       "  }\n",
       "\n",
       "  [theme=dark] .colab-df-quickchart {\n",
       "      --bg-color: #3B4455;\n",
       "      --fill-color: #D2E3FC;\n",
       "      --hover-bg-color: #434B5C;\n",
       "      --hover-fill-color: #FFFFFF;\n",
       "      --disabled-bg-color: #3B4455;\n",
       "      --disabled-fill-color: #666;\n",
       "  }\n",
       "\n",
       "  .colab-df-quickchart {\n",
       "    background-color: var(--bg-color);\n",
       "    border: none;\n",
       "    border-radius: 50%;\n",
       "    cursor: pointer;\n",
       "    display: none;\n",
       "    fill: var(--fill-color);\n",
       "    height: 32px;\n",
       "    padding: 0;\n",
       "    width: 32px;\n",
       "  }\n",
       "\n",
       "  .colab-df-quickchart:hover {\n",
       "    background-color: var(--hover-bg-color);\n",
       "    box-shadow: 0 1px 2px rgba(60, 64, 67, 0.3), 0 1px 3px 1px rgba(60, 64, 67, 0.15);\n",
       "    fill: var(--button-hover-fill-color);\n",
       "  }\n",
       "\n",
       "  .colab-df-quickchart-complete:disabled,\n",
       "  .colab-df-quickchart-complete:disabled:hover {\n",
       "    background-color: var(--disabled-bg-color);\n",
       "    fill: var(--disabled-fill-color);\n",
       "    box-shadow: none;\n",
       "  }\n",
       "\n",
       "  .colab-df-spinner {\n",
       "    border: 2px solid var(--fill-color);\n",
       "    border-color: transparent;\n",
       "    border-bottom-color: var(--fill-color);\n",
       "    animation:\n",
       "      spin 1s steps(1) infinite;\n",
       "  }\n",
       "\n",
       "  @keyframes spin {\n",
       "    0% {\n",
       "      border-color: transparent;\n",
       "      border-bottom-color: var(--fill-color);\n",
       "      border-left-color: var(--fill-color);\n",
       "    }\n",
       "    20% {\n",
       "      border-color: transparent;\n",
       "      border-left-color: var(--fill-color);\n",
       "      border-top-color: var(--fill-color);\n",
       "    }\n",
       "    30% {\n",
       "      border-color: transparent;\n",
       "      border-left-color: var(--fill-color);\n",
       "      border-top-color: var(--fill-color);\n",
       "      border-right-color: var(--fill-color);\n",
       "    }\n",
       "    40% {\n",
       "      border-color: transparent;\n",
       "      border-right-color: var(--fill-color);\n",
       "      border-top-color: var(--fill-color);\n",
       "    }\n",
       "    60% {\n",
       "      border-color: transparent;\n",
       "      border-right-color: var(--fill-color);\n",
       "    }\n",
       "    80% {\n",
       "      border-color: transparent;\n",
       "      border-right-color: var(--fill-color);\n",
       "      border-bottom-color: var(--fill-color);\n",
       "    }\n",
       "    90% {\n",
       "      border-color: transparent;\n",
       "      border-bottom-color: var(--fill-color);\n",
       "    }\n",
       "  }\n",
       "</style>\n",
       "\n",
       "  <script>\n",
       "    async function quickchart(key) {\n",
       "      const quickchartButtonEl =\n",
       "        document.querySelector('#' + key + ' button');\n",
       "      quickchartButtonEl.disabled = true;  // To prevent multiple clicks.\n",
       "      quickchartButtonEl.classList.add('colab-df-spinner');\n",
       "      try {\n",
       "        const charts = await google.colab.kernel.invokeFunction(\n",
       "            'suggestCharts', [key], {});\n",
       "      } catch (error) {\n",
       "        console.error('Error during call to suggestCharts:', error);\n",
       "      }\n",
       "      quickchartButtonEl.classList.remove('colab-df-spinner');\n",
       "      quickchartButtonEl.classList.add('colab-df-quickchart-complete');\n",
       "    }\n",
       "    (() => {\n",
       "      let quickchartButtonEl =\n",
       "        document.querySelector('#df-f3c8d95b-1615-4a46-9991-051a2ea51ff1 button');\n",
       "      quickchartButtonEl.style.display =\n",
       "        google.colab.kernel.accessAllowed ? 'block' : 'none';\n",
       "    })();\n",
       "  </script>\n",
       "</div>\n",
       "\n",
       "    </div>\n",
       "  </div>\n"
      ],
      "text/plain": [
       "                        sideEffects\n",
       "2686                No Side Effects\n",
       "1192              Mild Side Effects\n",
       "2738            Severe Side Effects\n",
       "2780          Moderate Side Effects\n",
       "1735                No Side Effects\n",
       "...                             ...\n",
       "3092              Mild Side Effects\n",
       "1095            Severe Side Effects\n",
       "1130              Mild Side Effects\n",
       "1294          Moderate Side Effects\n",
       "860   Extremely Severe Side Effects\n",
       "\n",
       "[2485 rows x 1 columns]"
      ]
     },
     "execution_count": 51,
     "metadata": {},
     "output_type": "execute_result"
    }
   ],
   "source": [
    "X_train[[categoricals[1]]]"
   ]
  },
  {
   "cell_type": "code",
   "execution_count": 52,
   "metadata": {
    "id": "VHA0vMN-UYrK"
   },
   "outputs": [],
   "source": [
    "model.compile(loss=\"sparse_categorical_crossentropy\",\n",
    "              optimizer=tf.keras.optimizers.SGD(learning_rate=2e-1),\n",
    "              metrics =[\"acc\"])\n"
   ]
  },
  {
   "cell_type": "code",
   "execution_count": 53,
   "metadata": {
    "id": "bjLawKesUYrK"
   },
   "outputs": [],
   "source": [
    "numerical_data = X_train[numericas]\n",
    "categorical_data = [tf.convert_to_tensor(X_train[col].astype(str), dtype=tf.string) for col in categoricals]\n",
    "\n",
    "entradas = [numerical_data] + categorical_data\n"
   ]
  },
  {
   "cell_type": "code",
   "execution_count": 54,
   "metadata": {
    "colab": {
     "base_uri": "https://localhost:8080/"
    },
    "id": "-u4OxnubUYrL",
    "outputId": "4c8fb8d0-e635-4992-bbc8-2c62c890279c"
   },
   "outputs": [
    {
     "name": "stdout",
     "output_type": "stream",
     "text": [
      "Epoch 1/100\n",
      "\u001b[1m63/63\u001b[0m \u001b[32m━━━━━━━━━━━━━━━━━━━━\u001b[0m\u001b[37m\u001b[0m \u001b[1m1s\u001b[0m 8ms/step - acc: 0.3002 - loss: 1.9895 - val_acc: 0.3642 - val_loss: 1.7003\n",
      "Epoch 2/100\n",
      "\u001b[1m63/63\u001b[0m \u001b[32m━━━━━━━━━━━━━━━━━━━━\u001b[0m\u001b[37m\u001b[0m \u001b[1m0s\u001b[0m 4ms/step - acc: 0.4309 - loss: 1.5488 - val_acc: 0.3984 - val_loss: 1.5552\n",
      "Epoch 3/100\n",
      "\u001b[1m63/63\u001b[0m \u001b[32m━━━━━━━━━━━━━━━━━━━━\u001b[0m\u001b[37m\u001b[0m \u001b[1m0s\u001b[0m 4ms/step - acc: 0.4724 - loss: 1.4047 - val_acc: 0.4064 - val_loss: 1.4869\n",
      "Epoch 4/100\n",
      "\u001b[1m63/63\u001b[0m \u001b[32m━━━━━━━━━━━━━━━━━━━━\u001b[0m\u001b[37m\u001b[0m \u001b[1m0s\u001b[0m 4ms/step - acc: 0.4873 - loss: 1.3318 - val_acc: 0.4245 - val_loss: 1.4448\n",
      "Epoch 5/100\n",
      "\u001b[1m63/63\u001b[0m \u001b[32m━━━━━━━━━━━━━━━━━━━━\u001b[0m\u001b[37m\u001b[0m \u001b[1m0s\u001b[0m 4ms/step - acc: 0.4986 - loss: 1.2865 - val_acc: 0.4306 - val_loss: 1.4182\n",
      "Epoch 6/100\n",
      "\u001b[1m63/63\u001b[0m \u001b[32m━━━━━━━━━━━━━━━━━━━━\u001b[0m\u001b[37m\u001b[0m \u001b[1m0s\u001b[0m 4ms/step - acc: 0.5048 - loss: 1.2530 - val_acc: 0.4427 - val_loss: 1.3958\n",
      "Epoch 7/100\n",
      "\u001b[1m63/63\u001b[0m \u001b[32m━━━━━━━━━━━━━━━━━━━━\u001b[0m\u001b[37m\u001b[0m \u001b[1m0s\u001b[0m 6ms/step - acc: 0.5179 - loss: 1.2247 - val_acc: 0.4527 - val_loss: 1.3749\n",
      "Epoch 8/100\n",
      "\u001b[1m63/63\u001b[0m \u001b[32m━━━━━━━━━━━━━━━━━━━━\u001b[0m\u001b[37m\u001b[0m \u001b[1m0s\u001b[0m 4ms/step - acc: 0.5216 - loss: 1.1988 - val_acc: 0.4527 - val_loss: 1.3539\n",
      "Epoch 9/100\n",
      "\u001b[1m63/63\u001b[0m \u001b[32m━━━━━━━━━━━━━━━━━━━━\u001b[0m\u001b[37m\u001b[0m \u001b[1m0s\u001b[0m 4ms/step - acc: 0.5286 - loss: 1.1730 - val_acc: 0.4507 - val_loss: 1.3325\n",
      "Epoch 10/100\n",
      "\u001b[1m63/63\u001b[0m \u001b[32m━━━━━━━━━━━━━━━━━━━━\u001b[0m\u001b[37m\u001b[0m \u001b[1m0s\u001b[0m 6ms/step - acc: 0.5380 - loss: 1.1480 - val_acc: 0.4628 - val_loss: 1.3126\n",
      "Epoch 11/100\n",
      "\u001b[1m63/63\u001b[0m \u001b[32m━━━━━━━━━━━━━━━━━━━━\u001b[0m\u001b[37m\u001b[0m \u001b[1m1s\u001b[0m 9ms/step - acc: 0.5480 - loss: 1.1224 - val_acc: 0.4728 - val_loss: 1.2916\n",
      "Epoch 12/100\n",
      "\u001b[1m63/63\u001b[0m \u001b[32m━━━━━━━━━━━━━━━━━━━━\u001b[0m\u001b[37m\u001b[0m \u001b[1m1s\u001b[0m 8ms/step - acc: 0.5522 - loss: 1.0961 - val_acc: 0.4809 - val_loss: 1.2737\n",
      "Epoch 13/100\n",
      "\u001b[1m63/63\u001b[0m \u001b[32m━━━━━━━━━━━━━━━━━━━━\u001b[0m\u001b[37m\u001b[0m \u001b[1m1s\u001b[0m 8ms/step - acc: 0.5615 - loss: 1.0695 - val_acc: 0.4829 - val_loss: 1.2506\n",
      "Epoch 14/100\n",
      "\u001b[1m63/63\u001b[0m \u001b[32m━━━━━━━━━━━━━━━━━━━━\u001b[0m\u001b[37m\u001b[0m \u001b[1m1s\u001b[0m 8ms/step - acc: 0.5669 - loss: 1.0411 - val_acc: 0.4950 - val_loss: 1.2257\n",
      "Epoch 15/100\n",
      "\u001b[1m63/63\u001b[0m \u001b[32m━━━━━━━━━━━━━━━━━━━━\u001b[0m\u001b[37m\u001b[0m \u001b[1m0s\u001b[0m 5ms/step - acc: 0.5837 - loss: 1.0123 - val_acc: 0.4950 - val_loss: 1.2137\n",
      "Epoch 16/100\n",
      "\u001b[1m63/63\u001b[0m \u001b[32m━━━━━━━━━━━━━━━━━━━━\u001b[0m\u001b[37m\u001b[0m \u001b[1m1s\u001b[0m 4ms/step - acc: 0.5927 - loss: 0.9846 - val_acc: 0.4990 - val_loss: 1.1926\n",
      "Epoch 17/100\n",
      "\u001b[1m63/63\u001b[0m \u001b[32m━━━━━━━━━━━━━━━━━━━━\u001b[0m\u001b[37m\u001b[0m \u001b[1m0s\u001b[0m 6ms/step - acc: 0.6061 - loss: 0.9555 - val_acc: 0.5070 - val_loss: 1.1753\n",
      "Epoch 18/100\n",
      "\u001b[1m63/63\u001b[0m \u001b[32m━━━━━━━━━━━━━━━━━━━━\u001b[0m\u001b[37m\u001b[0m \u001b[1m1s\u001b[0m 6ms/step - acc: 0.6212 - loss: 0.9277 - val_acc: 0.5091 - val_loss: 1.1638\n",
      "Epoch 19/100\n",
      "\u001b[1m63/63\u001b[0m \u001b[32m━━━━━━━━━━━━━━━━━━━━\u001b[0m\u001b[37m\u001b[0m \u001b[1m0s\u001b[0m 7ms/step - acc: 0.6374 - loss: 0.9005 - val_acc: 0.5252 - val_loss: 1.1388\n",
      "Epoch 20/100\n",
      "\u001b[1m63/63\u001b[0m \u001b[32m━━━━━━━━━━━━━━━━━━━━\u001b[0m\u001b[37m\u001b[0m \u001b[1m1s\u001b[0m 8ms/step - acc: 0.6507 - loss: 0.8732 - val_acc: 0.5392 - val_loss: 1.1246\n",
      "Epoch 21/100\n",
      "\u001b[1m63/63\u001b[0m \u001b[32m━━━━━━━━━━━━━━━━━━━━\u001b[0m\u001b[37m\u001b[0m \u001b[1m0s\u001b[0m 4ms/step - acc: 0.6675 - loss: 0.8465 - val_acc: 0.5533 - val_loss: 1.1003\n",
      "Epoch 22/100\n",
      "\u001b[1m63/63\u001b[0m \u001b[32m━━━━━━━━━━━━━━━━━━━━\u001b[0m\u001b[37m\u001b[0m \u001b[1m0s\u001b[0m 5ms/step - acc: 0.6843 - loss: 0.8200 - val_acc: 0.5594 - val_loss: 1.0725\n",
      "Epoch 23/100\n",
      "\u001b[1m63/63\u001b[0m \u001b[32m━━━━━━━━━━━━━━━━━━━━\u001b[0m\u001b[37m\u001b[0m \u001b[1m1s\u001b[0m 4ms/step - acc: 0.6953 - loss: 0.7935 - val_acc: 0.5714 - val_loss: 1.0514\n",
      "Epoch 24/100\n",
      "\u001b[1m63/63\u001b[0m \u001b[32m━━━━━━━━━━━━━━━━━━━━\u001b[0m\u001b[37m\u001b[0m \u001b[1m0s\u001b[0m 4ms/step - acc: 0.7220 - loss: 0.7689 - val_acc: 0.5875 - val_loss: 1.0214\n",
      "Epoch 25/100\n",
      "\u001b[1m63/63\u001b[0m \u001b[32m━━━━━━━━━━━━━━━━━━━━\u001b[0m\u001b[37m\u001b[0m \u001b[1m0s\u001b[0m 4ms/step - acc: 0.7317 - loss: 0.7445 - val_acc: 0.6036 - val_loss: 0.9864\n",
      "Epoch 26/100\n",
      "\u001b[1m63/63\u001b[0m \u001b[32m━━━━━━━━━━━━━━━━━━━━\u001b[0m\u001b[37m\u001b[0m \u001b[1m0s\u001b[0m 5ms/step - acc: 0.7476 - loss: 0.7203 - val_acc: 0.6338 - val_loss: 0.9566\n",
      "Epoch 27/100\n",
      "\u001b[1m63/63\u001b[0m \u001b[32m━━━━━━━━━━━━━━━━━━━━\u001b[0m\u001b[37m\u001b[0m \u001b[1m1s\u001b[0m 4ms/step - acc: 0.7643 - loss: 0.6975 - val_acc: 0.6459 - val_loss: 0.9210\n",
      "Epoch 28/100\n",
      "\u001b[1m63/63\u001b[0m \u001b[32m━━━━━━━━━━━━━━━━━━━━\u001b[0m\u001b[37m\u001b[0m \u001b[1m0s\u001b[0m 4ms/step - acc: 0.7770 - loss: 0.6750 - val_acc: 0.6700 - val_loss: 0.8931\n",
      "Epoch 29/100\n",
      "\u001b[1m63/63\u001b[0m \u001b[32m━━━━━━━━━━━━━━━━━━━━\u001b[0m\u001b[37m\u001b[0m \u001b[1m0s\u001b[0m 4ms/step - acc: 0.7856 - loss: 0.6540 - val_acc: 0.6861 - val_loss: 0.8594\n",
      "Epoch 30/100\n",
      "\u001b[1m63/63\u001b[0m \u001b[32m━━━━━━━━━━━━━━━━━━━━\u001b[0m\u001b[37m\u001b[0m \u001b[1m0s\u001b[0m 5ms/step - acc: 0.7996 - loss: 0.6335 - val_acc: 0.6942 - val_loss: 0.8330\n",
      "Epoch 31/100\n",
      "\u001b[1m63/63\u001b[0m \u001b[32m━━━━━━━━━━━━━━━━━━━━\u001b[0m\u001b[37m\u001b[0m \u001b[1m0s\u001b[0m 4ms/step - acc: 0.8135 - loss: 0.6140 - val_acc: 0.7163 - val_loss: 0.8097\n",
      "Epoch 32/100\n",
      "\u001b[1m63/63\u001b[0m \u001b[32m━━━━━━━━━━━━━━━━━━━━\u001b[0m\u001b[37m\u001b[0m \u001b[1m0s\u001b[0m 4ms/step - acc: 0.8231 - loss: 0.5961 - val_acc: 0.7243 - val_loss: 0.7857\n",
      "Epoch 33/100\n",
      "\u001b[1m63/63\u001b[0m \u001b[32m━━━━━━━━━━━━━━━━━━━━\u001b[0m\u001b[37m\u001b[0m \u001b[1m0s\u001b[0m 4ms/step - acc: 0.8305 - loss: 0.5780 - val_acc: 0.7404 - val_loss: 0.7608\n",
      "Epoch 34/100\n",
      "\u001b[1m63/63\u001b[0m \u001b[32m━━━━━━━━━━━━━━━━━━━━\u001b[0m\u001b[37m\u001b[0m \u001b[1m0s\u001b[0m 4ms/step - acc: 0.8373 - loss: 0.5609 - val_acc: 0.7445 - val_loss: 0.7412\n",
      "Epoch 35/100\n",
      "\u001b[1m63/63\u001b[0m \u001b[32m━━━━━━━━━━━━━━━━━━━━\u001b[0m\u001b[37m\u001b[0m \u001b[1m0s\u001b[0m 4ms/step - acc: 0.8471 - loss: 0.5444 - val_acc: 0.7525 - val_loss: 0.7206\n",
      "Epoch 36/100\n",
      "\u001b[1m63/63\u001b[0m \u001b[32m━━━━━━━━━━━━━━━━━━━━\u001b[0m\u001b[37m\u001b[0m \u001b[1m0s\u001b[0m 6ms/step - acc: 0.8536 - loss: 0.5286 - val_acc: 0.7565 - val_loss: 0.7011\n",
      "Epoch 37/100\n",
      "\u001b[1m63/63\u001b[0m \u001b[32m━━━━━━━━━━━━━━━━━━━━\u001b[0m\u001b[37m\u001b[0m \u001b[1m0s\u001b[0m 5ms/step - acc: 0.8626 - loss: 0.5130 - val_acc: 0.7686 - val_loss: 0.6828\n",
      "Epoch 38/100\n",
      "\u001b[1m63/63\u001b[0m \u001b[32m━━━━━━━━━━━━━━━━━━━━\u001b[0m\u001b[37m\u001b[0m \u001b[1m0s\u001b[0m 4ms/step - acc: 0.8707 - loss: 0.4981 - val_acc: 0.7787 - val_loss: 0.6652\n",
      "Epoch 39/100\n",
      "\u001b[1m63/63\u001b[0m \u001b[32m━━━━━━━━━━━━━━━━━━━━\u001b[0m\u001b[37m\u001b[0m \u001b[1m0s\u001b[0m 4ms/step - acc: 0.8790 - loss: 0.4836 - val_acc: 0.7867 - val_loss: 0.6504\n",
      "Epoch 40/100\n",
      "\u001b[1m63/63\u001b[0m \u001b[32m━━━━━━━━━━━━━━━━━━━━\u001b[0m\u001b[37m\u001b[0m \u001b[1m0s\u001b[0m 4ms/step - acc: 0.8875 - loss: 0.4697 - val_acc: 0.7928 - val_loss: 0.6368\n",
      "Epoch 41/100\n",
      "\u001b[1m63/63\u001b[0m \u001b[32m━━━━━━━━━━━━━━━━━━━━\u001b[0m\u001b[37m\u001b[0m \u001b[1m0s\u001b[0m 6ms/step - acc: 0.8943 - loss: 0.4567 - val_acc: 0.7968 - val_loss: 0.6204\n",
      "Epoch 42/100\n",
      "\u001b[1m63/63\u001b[0m \u001b[32m━━━━━━━━━━━━━━━━━━━━\u001b[0m\u001b[37m\u001b[0m \u001b[1m0s\u001b[0m 4ms/step - acc: 0.8965 - loss: 0.4435 - val_acc: 0.8068 - val_loss: 0.6073\n",
      "Epoch 43/100\n",
      "\u001b[1m63/63\u001b[0m \u001b[32m━━━━━━━━━━━━━━━━━━━━\u001b[0m\u001b[37m\u001b[0m \u001b[1m0s\u001b[0m 4ms/step - acc: 0.9040 - loss: 0.4314 - val_acc: 0.8109 - val_loss: 0.5942\n",
      "Epoch 44/100\n",
      "\u001b[1m63/63\u001b[0m \u001b[32m━━━━━━━━━━━━━━━━━━━━\u001b[0m\u001b[37m\u001b[0m \u001b[1m0s\u001b[0m 4ms/step - acc: 0.9083 - loss: 0.4196 - val_acc: 0.8109 - val_loss: 0.5814\n",
      "Epoch 45/100\n",
      "\u001b[1m63/63\u001b[0m \u001b[32m━━━━━━━━━━━━━━━━━━━━\u001b[0m\u001b[37m\u001b[0m \u001b[1m0s\u001b[0m 4ms/step - acc: 0.9103 - loss: 0.4082 - val_acc: 0.8189 - val_loss: 0.5697\n",
      "Epoch 46/100\n",
      "\u001b[1m63/63\u001b[0m \u001b[32m━━━━━━━━━━━━━━━━━━━━\u001b[0m\u001b[37m\u001b[0m \u001b[1m0s\u001b[0m 4ms/step - acc: 0.9134 - loss: 0.3973 - val_acc: 0.8270 - val_loss: 0.5574\n",
      "Epoch 47/100\n",
      "\u001b[1m63/63\u001b[0m \u001b[32m━━━━━━━━━━━━━━━━━━━━\u001b[0m\u001b[37m\u001b[0m \u001b[1m0s\u001b[0m 4ms/step - acc: 0.9164 - loss: 0.3866 - val_acc: 0.8330 - val_loss: 0.5461\n",
      "Epoch 48/100\n",
      "\u001b[1m63/63\u001b[0m \u001b[32m━━━━━━━━━━━━━━━━━━━━\u001b[0m\u001b[37m\u001b[0m \u001b[1m0s\u001b[0m 4ms/step - acc: 0.9189 - loss: 0.3765 - val_acc: 0.8370 - val_loss: 0.5344\n",
      "Epoch 49/100\n",
      "\u001b[1m63/63\u001b[0m \u001b[32m━━━━━━━━━━━━━━━━━━━━\u001b[0m\u001b[37m\u001b[0m \u001b[1m0s\u001b[0m 5ms/step - acc: 0.9222 - loss: 0.3667 - val_acc: 0.8410 - val_loss: 0.5234\n",
      "Epoch 50/100\n",
      "\u001b[1m63/63\u001b[0m \u001b[32m━━━━━━━━━━━━━━━━━━━━\u001b[0m\u001b[37m\u001b[0m \u001b[1m0s\u001b[0m 4ms/step - acc: 0.9255 - loss: 0.3571 - val_acc: 0.8390 - val_loss: 0.5136\n",
      "Epoch 51/100\n",
      "\u001b[1m63/63\u001b[0m \u001b[32m━━━━━━━━━━━━━━━━━━━━\u001b[0m\u001b[37m\u001b[0m \u001b[1m0s\u001b[0m 7ms/step - acc: 0.9292 - loss: 0.3481 - val_acc: 0.8471 - val_loss: 0.5027\n",
      "Epoch 52/100\n",
      "\u001b[1m63/63\u001b[0m \u001b[32m━━━━━━━━━━━━━━━━━━━━\u001b[0m\u001b[37m\u001b[0m \u001b[1m0s\u001b[0m 6ms/step - acc: 0.9321 - loss: 0.3391 - val_acc: 0.8491 - val_loss: 0.4931\n",
      "Epoch 53/100\n",
      "\u001b[1m63/63\u001b[0m \u001b[32m━━━━━━━━━━━━━━━━━━━━\u001b[0m\u001b[37m\u001b[0m \u001b[1m1s\u001b[0m 7ms/step - acc: 0.9360 - loss: 0.3306 - val_acc: 0.8531 - val_loss: 0.4838\n",
      "Epoch 54/100\n",
      "\u001b[1m63/63\u001b[0m \u001b[32m━━━━━━━━━━━━━━━━━━━━\u001b[0m\u001b[37m\u001b[0m \u001b[1m0s\u001b[0m 7ms/step - acc: 0.9397 - loss: 0.3224 - val_acc: 0.8551 - val_loss: 0.4754\n",
      "Epoch 55/100\n",
      "\u001b[1m63/63\u001b[0m \u001b[32m━━━━━━━━━━━━━━━━━━━━\u001b[0m\u001b[37m\u001b[0m \u001b[1m0s\u001b[0m 4ms/step - acc: 0.9411 - loss: 0.3146 - val_acc: 0.8612 - val_loss: 0.4665\n",
      "Epoch 56/100\n",
      "\u001b[1m63/63\u001b[0m \u001b[32m━━━━━━━━━━━━━━━━━━━━\u001b[0m\u001b[37m\u001b[0m \u001b[1m0s\u001b[0m 5ms/step - acc: 0.9434 - loss: 0.3069 - val_acc: 0.8732 - val_loss: 0.4572\n",
      "Epoch 57/100\n",
      "\u001b[1m63/63\u001b[0m \u001b[32m━━━━━━━━━━━━━━━━━━━━\u001b[0m\u001b[37m\u001b[0m \u001b[1m0s\u001b[0m 4ms/step - acc: 0.9446 - loss: 0.2995 - val_acc: 0.8753 - val_loss: 0.4495\n",
      "Epoch 58/100\n",
      "\u001b[1m63/63\u001b[0m \u001b[32m━━━━━━━━━━━━━━━━━━━━\u001b[0m\u001b[37m\u001b[0m \u001b[1m0s\u001b[0m 4ms/step - acc: 0.9484 - loss: 0.2925 - val_acc: 0.8753 - val_loss: 0.4408\n",
      "Epoch 59/100\n",
      "\u001b[1m63/63\u001b[0m \u001b[32m━━━━━━━━━━━━━━━━━━━━\u001b[0m\u001b[37m\u001b[0m \u001b[1m0s\u001b[0m 4ms/step - acc: 0.9499 - loss: 0.2855 - val_acc: 0.8793 - val_loss: 0.4339\n",
      "Epoch 60/100\n",
      "\u001b[1m63/63\u001b[0m \u001b[32m━━━━━━━━━━━━━━━━━━━━\u001b[0m\u001b[37m\u001b[0m \u001b[1m0s\u001b[0m 5ms/step - acc: 0.9507 - loss: 0.2788 - val_acc: 0.8833 - val_loss: 0.4264\n",
      "Epoch 61/100\n",
      "\u001b[1m63/63\u001b[0m \u001b[32m━━━━━━━━━━━━━━━━━━━━\u001b[0m\u001b[37m\u001b[0m \u001b[1m0s\u001b[0m 4ms/step - acc: 0.9510 - loss: 0.2725 - val_acc: 0.8833 - val_loss: 0.4190\n",
      "Epoch 62/100\n",
      "\u001b[1m63/63\u001b[0m \u001b[32m━━━━━━━━━━━━━━━━━━━━\u001b[0m\u001b[37m\u001b[0m \u001b[1m0s\u001b[0m 4ms/step - acc: 0.9529 - loss: 0.2663 - val_acc: 0.8893 - val_loss: 0.4129\n",
      "Epoch 63/100\n",
      "\u001b[1m63/63\u001b[0m \u001b[32m━━━━━━━━━━━━━━━━━━━━\u001b[0m\u001b[37m\u001b[0m \u001b[1m1s\u001b[0m 4ms/step - acc: 0.9530 - loss: 0.2604 - val_acc: 0.8913 - val_loss: 0.4060\n",
      "Epoch 64/100\n",
      "\u001b[1m63/63\u001b[0m \u001b[32m━━━━━━━━━━━━━━━━━━━━\u001b[0m\u001b[37m\u001b[0m \u001b[1m0s\u001b[0m 4ms/step - acc: 0.9566 - loss: 0.2545 - val_acc: 0.8934 - val_loss: 0.4000\n",
      "Epoch 65/100\n",
      "\u001b[1m63/63\u001b[0m \u001b[32m━━━━━━━━━━━━━━━━━━━━\u001b[0m\u001b[37m\u001b[0m \u001b[1m0s\u001b[0m 5ms/step - acc: 0.9573 - loss: 0.2490 - val_acc: 0.8974 - val_loss: 0.3935\n",
      "Epoch 66/100\n",
      "\u001b[1m63/63\u001b[0m \u001b[32m━━━━━━━━━━━━━━━━━━━━\u001b[0m\u001b[37m\u001b[0m \u001b[1m1s\u001b[0m 4ms/step - acc: 0.9606 - loss: 0.2435 - val_acc: 0.8994 - val_loss: 0.3878\n",
      "Epoch 67/100\n",
      "\u001b[1m63/63\u001b[0m \u001b[32m━━━━━━━━━━━━━━━━━━━━\u001b[0m\u001b[37m\u001b[0m \u001b[1m0s\u001b[0m 4ms/step - acc: 0.9624 - loss: 0.2382 - val_acc: 0.9034 - val_loss: 0.3821\n",
      "Epoch 68/100\n",
      "\u001b[1m63/63\u001b[0m \u001b[32m━━━━━━━━━━━━━━━━━━━━\u001b[0m\u001b[37m\u001b[0m \u001b[1m1s\u001b[0m 4ms/step - acc: 0.9630 - loss: 0.2331 - val_acc: 0.9014 - val_loss: 0.3763\n",
      "Epoch 69/100\n",
      "\u001b[1m63/63\u001b[0m \u001b[32m━━━━━━━━━━━━━━━━━━━━\u001b[0m\u001b[37m\u001b[0m \u001b[1m0s\u001b[0m 6ms/step - acc: 0.9649 - loss: 0.2280 - val_acc: 0.9054 - val_loss: 0.3704\n",
      "Epoch 70/100\n",
      "\u001b[1m63/63\u001b[0m \u001b[32m━━━━━━━━━━━━━━━━━━━━\u001b[0m\u001b[37m\u001b[0m \u001b[1m0s\u001b[0m 4ms/step - acc: 0.9662 - loss: 0.2232 - val_acc: 0.9054 - val_loss: 0.3648\n",
      "Epoch 71/100\n",
      "\u001b[1m63/63\u001b[0m \u001b[32m━━━━━━━━━━━━━━━━━━━━\u001b[0m\u001b[37m\u001b[0m \u001b[1m0s\u001b[0m 4ms/step - acc: 0.9664 - loss: 0.2184 - val_acc: 0.9074 - val_loss: 0.3601\n",
      "Epoch 72/100\n",
      "\u001b[1m63/63\u001b[0m \u001b[32m━━━━━━━━━━━━━━━━━━━━\u001b[0m\u001b[37m\u001b[0m \u001b[1m0s\u001b[0m 4ms/step - acc: 0.9682 - loss: 0.2140 - val_acc: 0.9074 - val_loss: 0.3554\n",
      "Epoch 73/100\n",
      "\u001b[1m63/63\u001b[0m \u001b[32m━━━━━━━━━━━━━━━━━━━━\u001b[0m\u001b[37m\u001b[0m \u001b[1m0s\u001b[0m 5ms/step - acc: 0.9688 - loss: 0.2095 - val_acc: 0.9074 - val_loss: 0.3509\n",
      "Epoch 74/100\n",
      "\u001b[1m63/63\u001b[0m \u001b[32m━━━━━━━━━━━━━━━━━━━━\u001b[0m\u001b[37m\u001b[0m \u001b[1m0s\u001b[0m 4ms/step - acc: 0.9691 - loss: 0.2053 - val_acc: 0.9074 - val_loss: 0.3466\n",
      "Epoch 75/100\n",
      "\u001b[1m63/63\u001b[0m \u001b[32m━━━━━━━━━━━━━━━━━━━━\u001b[0m\u001b[37m\u001b[0m \u001b[1m0s\u001b[0m 4ms/step - acc: 0.9691 - loss: 0.2012 - val_acc: 0.9115 - val_loss: 0.3421\n",
      "Epoch 76/100\n",
      "\u001b[1m63/63\u001b[0m \u001b[32m━━━━━━━━━━━━━━━━━━━━\u001b[0m\u001b[37m\u001b[0m \u001b[1m0s\u001b[0m 5ms/step - acc: 0.9703 - loss: 0.1972 - val_acc: 0.9115 - val_loss: 0.3375\n",
      "Epoch 77/100\n",
      "\u001b[1m63/63\u001b[0m \u001b[32m━━━━━━━━━━━━━━━━━━━━\u001b[0m\u001b[37m\u001b[0m \u001b[1m0s\u001b[0m 5ms/step - acc: 0.9703 - loss: 0.1932 - val_acc: 0.9115 - val_loss: 0.3333\n",
      "Epoch 78/100\n",
      "\u001b[1m63/63\u001b[0m \u001b[32m━━━━━━━━━━━━━━━━━━━━\u001b[0m\u001b[37m\u001b[0m \u001b[1m0s\u001b[0m 4ms/step - acc: 0.9713 - loss: 0.1895 - val_acc: 0.9115 - val_loss: 0.3292\n",
      "Epoch 79/100\n",
      "\u001b[1m63/63\u001b[0m \u001b[32m━━━━━━━━━━━━━━━━━━━━\u001b[0m\u001b[37m\u001b[0m \u001b[1m0s\u001b[0m 6ms/step - acc: 0.9720 - loss: 0.1857 - val_acc: 0.9135 - val_loss: 0.3261\n",
      "Epoch 80/100\n",
      "\u001b[1m63/63\u001b[0m \u001b[32m━━━━━━━━━━━━━━━━━━━━\u001b[0m\u001b[37m\u001b[0m \u001b[1m0s\u001b[0m 4ms/step - acc: 0.9734 - loss: 0.1822 - val_acc: 0.9155 - val_loss: 0.3217\n",
      "Epoch 81/100\n",
      "\u001b[1m63/63\u001b[0m \u001b[32m━━━━━━━━━━━━━━━━━━━━\u001b[0m\u001b[37m\u001b[0m \u001b[1m0s\u001b[0m 4ms/step - acc: 0.9750 - loss: 0.1785 - val_acc: 0.9195 - val_loss: 0.3186\n",
      "Epoch 82/100\n",
      "\u001b[1m63/63\u001b[0m \u001b[32m━━━━━━━━━━━━━━━━━━━━\u001b[0m\u001b[37m\u001b[0m \u001b[1m0s\u001b[0m 6ms/step - acc: 0.9751 - loss: 0.1753 - val_acc: 0.9195 - val_loss: 0.3153\n",
      "Epoch 83/100\n",
      "\u001b[1m63/63\u001b[0m \u001b[32m━━━━━━━━━━━━━━━━━━━━\u001b[0m\u001b[37m\u001b[0m \u001b[1m1s\u001b[0m 7ms/step - acc: 0.9765 - loss: 0.1719 - val_acc: 0.9195 - val_loss: 0.3112\n",
      "Epoch 84/100\n",
      "\u001b[1m63/63\u001b[0m \u001b[32m━━━━━━━━━━━━━━━━━━━━\u001b[0m\u001b[37m\u001b[0m \u001b[1m1s\u001b[0m 8ms/step - acc: 0.9789 - loss: 0.1686 - val_acc: 0.9195 - val_loss: 0.3079\n",
      "Epoch 85/100\n",
      "\u001b[1m63/63\u001b[0m \u001b[32m━━━━━━━━━━━━━━━━━━━━\u001b[0m\u001b[37m\u001b[0m \u001b[1m0s\u001b[0m 7ms/step - acc: 0.9789 - loss: 0.1655 - val_acc: 0.9215 - val_loss: 0.3050\n",
      "Epoch 86/100\n",
      "\u001b[1m63/63\u001b[0m \u001b[32m━━━━━━━━━━━━━━━━━━━━\u001b[0m\u001b[37m\u001b[0m \u001b[1m1s\u001b[0m 7ms/step - acc: 0.9803 - loss: 0.1624 - val_acc: 0.9195 - val_loss: 0.3016\n",
      "Epoch 87/100\n",
      "\u001b[1m63/63\u001b[0m \u001b[32m━━━━━━━━━━━━━━━━━━━━\u001b[0m\u001b[37m\u001b[0m \u001b[1m0s\u001b[0m 4ms/step - acc: 0.9803 - loss: 0.1594 - val_acc: 0.9215 - val_loss: 0.2985\n",
      "Epoch 88/100\n",
      "\u001b[1m63/63\u001b[0m \u001b[32m━━━━━━━━━━━━━━━━━━━━\u001b[0m\u001b[37m\u001b[0m \u001b[1m0s\u001b[0m 5ms/step - acc: 0.9805 - loss: 0.1565 - val_acc: 0.9235 - val_loss: 0.2957\n",
      "Epoch 89/100\n",
      "\u001b[1m63/63\u001b[0m \u001b[32m━━━━━━━━━━━━━━━━━━━━\u001b[0m\u001b[37m\u001b[0m \u001b[1m1s\u001b[0m 4ms/step - acc: 0.9820 - loss: 0.1537 - val_acc: 0.9235 - val_loss: 0.2919\n",
      "Epoch 90/100\n",
      "\u001b[1m63/63\u001b[0m \u001b[32m━━━━━━━━━━━━━━━━━━━━\u001b[0m\u001b[37m\u001b[0m \u001b[1m0s\u001b[0m 4ms/step - acc: 0.9820 - loss: 0.1508 - val_acc: 0.9235 - val_loss: 0.2900\n",
      "Epoch 91/100\n",
      "\u001b[1m63/63\u001b[0m \u001b[32m━━━━━━━━━━━━━━━━━━━━\u001b[0m\u001b[37m\u001b[0m \u001b[1m0s\u001b[0m 4ms/step - acc: 0.9829 - loss: 0.1481 - val_acc: 0.9235 - val_loss: 0.2872\n",
      "Epoch 92/100\n",
      "\u001b[1m63/63\u001b[0m \u001b[32m━━━━━━━━━━━━━━━━━━━━\u001b[0m\u001b[37m\u001b[0m \u001b[1m0s\u001b[0m 4ms/step - acc: 0.9842 - loss: 0.1455 - val_acc: 0.9235 - val_loss: 0.2844\n",
      "Epoch 93/100\n",
      "\u001b[1m63/63\u001b[0m \u001b[32m━━━━━━━━━━━━━━━━━━━━\u001b[0m\u001b[37m\u001b[0m \u001b[1m0s\u001b[0m 4ms/step - acc: 0.9835 - loss: 0.1429 - val_acc: 0.9235 - val_loss: 0.2813\n",
      "Epoch 94/100\n",
      "\u001b[1m63/63\u001b[0m \u001b[32m━━━━━━━━━━━━━━━━━━━━\u001b[0m\u001b[37m\u001b[0m \u001b[1m0s\u001b[0m 5ms/step - acc: 0.9856 - loss: 0.1403 - val_acc: 0.9235 - val_loss: 0.2799\n",
      "Epoch 95/100\n",
      "\u001b[1m63/63\u001b[0m \u001b[32m━━━━━━━━━━━━━━━━━━━━\u001b[0m\u001b[37m\u001b[0m \u001b[1m1s\u001b[0m 4ms/step - acc: 0.9856 - loss: 0.1379 - val_acc: 0.9235 - val_loss: 0.2773\n",
      "Epoch 96/100\n",
      "\u001b[1m63/63\u001b[0m \u001b[32m━━━━━━━━━━━━━━━━━━━━\u001b[0m\u001b[37m\u001b[0m \u001b[1m0s\u001b[0m 4ms/step - acc: 0.9860 - loss: 0.1356 - val_acc: 0.9235 - val_loss: 0.2744\n",
      "Epoch 97/100\n",
      "\u001b[1m63/63\u001b[0m \u001b[32m━━━━━━━━━━━━━━━━━━━━\u001b[0m\u001b[37m\u001b[0m \u001b[1m0s\u001b[0m 4ms/step - acc: 0.9860 - loss: 0.1332 - val_acc: 0.9235 - val_loss: 0.2721\n",
      "Epoch 98/100\n",
      "\u001b[1m63/63\u001b[0m \u001b[32m━━━━━━━━━━━━━━━━━━━━\u001b[0m\u001b[37m\u001b[0m \u001b[1m0s\u001b[0m 4ms/step - acc: 0.9860 - loss: 0.1309 - val_acc: 0.9235 - val_loss: 0.2697\n",
      "Epoch 99/100\n",
      "\u001b[1m63/63\u001b[0m \u001b[32m━━━━━━━━━━━━━━━━━━━━\u001b[0m\u001b[37m\u001b[0m \u001b[1m0s\u001b[0m 4ms/step - acc: 0.9861 - loss: 0.1288 - val_acc: 0.9276 - val_loss: 0.2671\n",
      "Epoch 100/100\n",
      "\u001b[1m63/63\u001b[0m \u001b[32m━━━━━━━━━━━━━━━━━━━━\u001b[0m\u001b[37m\u001b[0m \u001b[1m0s\u001b[0m 4ms/step - acc: 0.9861 - loss: 0.1266 - val_acc: 0.9235 - val_loss: 0.2654\n"
     ]
    }
   ],
   "source": [
    "history = model.fit(entradas, y_num, validation_split=0.2, epochs=100, callbacks= earlyS)"
   ]
  },
  {
   "cell_type": "code",
   "execution_count": 55,
   "metadata": {
    "colab": {
     "base_uri": "https://localhost:8080/"
    },
    "id": "ow9_s736UYrL",
    "outputId": "86e36c8d-30e7-49cb-9e65-8f0bd3a9cf9d"
   },
   "outputs": [
    {
     "name": "stdout",
     "output_type": "stream",
     "text": [
      "\u001b[1m20/20\u001b[0m \u001b[32m━━━━━━━━━━━━━━━━━━━━\u001b[0m\u001b[37m\u001b[0m \u001b[1m0s\u001b[0m 6ms/step - acc: 0.9477 - loss: 0.2236\n"
     ]
    },
    {
     "data": {
      "text/plain": [
       "[0.2389887422323227, 0.938906729221344]"
      ]
     },
     "execution_count": 55,
     "metadata": {},
     "output_type": "execute_result"
    }
   ],
   "source": [
    "model.evaluate(entrada_test, test_set[target])"
   ]
  },
  {
   "cell_type": "markdown",
   "metadata": {
    "id": "E0q6FiKwUYrL"
   },
   "source": [
    "Un poco mejor que con el ordinal, pero sin pasarse y además hay que ver el impacto del desbalanceo"
   ]
  },
  {
   "cell_type": "code",
   "execution_count": 56,
   "metadata": {
    "colab": {
     "base_uri": "https://localhost:8080/"
    },
    "id": "THaiH6KbUYrL",
    "outputId": "d4aa06d8-ca0a-443c-b500-f9c7eef94c02"
   },
   "outputs": [
    {
     "name": "stdout",
     "output_type": "stream",
     "text": [
      "\u001b[1m20/20\u001b[0m \u001b[32m━━━━━━━━━━━━━━━━━━━━\u001b[0m\u001b[37m\u001b[0m \u001b[1m0s\u001b[0m 6ms/step\n"
     ]
    }
   ],
   "source": [
    "y_pred  = [np.argmax(pred) for pred in model.predict(entrada_test)]"
   ]
  },
  {
   "cell_type": "code",
   "execution_count": 57,
   "metadata": {
    "colab": {
     "base_uri": "https://localhost:8080/"
    },
    "id": "_w5mH3vnUYrL",
    "outputId": "6812242d-d4b9-4979-f259-cd1a80e0f621"
   },
   "outputs": [
    {
     "name": "stdout",
     "output_type": "stream",
     "text": [
      "              precision    recall  f1-score   support\n",
      "\n",
      "           0       0.98      0.98      0.98        62\n",
      "           1       0.71      0.31      0.43        16\n",
      "           2       0.56      0.83      0.67        23\n",
      "           3       0.75      0.33      0.46        18\n",
      "           4       0.61      1.00      0.76        27\n",
      "           5       0.97      0.76      0.85        38\n",
      "           6       1.00      0.99      0.99        83\n",
      "           7       1.00      1.00      1.00        94\n",
      "           8       1.00      1.00      1.00       110\n",
      "           9       1.00      1.00      1.00       151\n",
      "\n",
      "    accuracy                           0.94       622\n",
      "   macro avg       0.86      0.82      0.82       622\n",
      "weighted avg       0.95      0.94      0.94       622\n",
      "\n"
     ]
    }
   ],
   "source": [
    "print(classification_report(test_set[target], y_pred))"
   ]
  },
  {
   "cell_type": "markdown",
   "metadata": {
    "id": "eulsjFwQUYrL"
   },
   "source": [
    "Se nos va de nuevo a la clase mayoritaria. En la siguiente sesión añadiremos la vectorización de las features de texto y te enseñare a configurar el class_weight para aliviar (no siempre mucho) el efecto del desbalanceo"
   ]
  },
  {
   "cell_type": "markdown",
   "metadata": {
    "id": "BwVVcvn5UYrL"
   },
   "source": [
    "***"
   ]
  },
  {
   "cell_type": "markdown",
   "metadata": {
    "id": "3s53sFSFUYrL"
   },
   "source": [
    "Primero vamos a mostrar rápidamente como funciona la capa de vectorizacion de texto de keras y luego aplicaremos el proceso completo (recuerda que hay que limpiar el texto y tokenizarlo antes de hacer su vectorización). Vamos con la(s) capa(s) de vectorización"
   ]
  },
  {
   "cell_type": "markdown",
   "metadata": {
    "id": "8RVLFqPDUYrL"
   },
   "source": [
    "## Capas de Vectorizacion"
   ]
  },
  {
   "cell_type": "markdown",
   "metadata": {
    "id": "LosbEZq7UYrL"
   },
   "source": [
    "El equivalente al CountVectorizer y al TfidfVectorizer de sklearn es la capa TextVectorization"
   ]
  },
  {
   "cell_type": "code",
   "execution_count": 58,
   "metadata": {
    "id": "-f81JpE6UYrL"
   },
   "outputs": [],
   "source": [
    "text_vec_layer_count = tf.keras.layers.TextVectorization(output_mode = \"count\") # output_mode = \"count\" -> Countvectorizer\n",
    "text_vec_layer_count.adapt(train_set[[\"sideEffectsReview\"]])"
   ]
  },
  {
   "cell_type": "code",
   "execution_count": 59,
   "metadata": {
    "colab": {
     "base_uri": "https://localhost:8080/"
    },
    "id": "Wycz_HVoUYrL",
    "outputId": "4b005270-44bf-4243-b9ac-b426fff97cda",
    "scrolled": true
   },
   "outputs": [
    {
     "data": {
      "text/plain": [
       "['[UNK]', 'i', 'the', 'and', 'to', 'a', 'of', 'my', 'it', 'was']"
      ]
     },
     "execution_count": 59,
     "metadata": {},
     "output_type": "execute_result"
    }
   ],
   "source": [
    "text_vec_layer_count.get_vocabulary()[:10]"
   ]
  },
  {
   "cell_type": "code",
   "execution_count": 60,
   "metadata": {
    "colab": {
     "base_uri": "https://localhost:8080/"
    },
    "id": "D-B7_uj8UYrL",
    "outputId": "c83485d1-379e-4673-aa56-924a70f99eb5"
   },
   "outputs": [
    {
     "name": "stdout",
     "output_type": "stream",
     "text": [
      "['redness, dryness, breakdown of skin']\n"
     ]
    }
   ],
   "source": [
    "texto = train_set[\"sideEffectsReview\"][2:3].values\n",
    "print(texto)"
   ]
  },
  {
   "cell_type": "code",
   "execution_count": 61,
   "metadata": {
    "id": "khQgyRNhUYrM"
   },
   "outputs": [],
   "source": [
    "text_vec_layer_tfidf = tf.keras.layers.TextVectorization(output_mode= \"tf_idf\") # output_mode = \"tf_idf\" -> TfIdfVectorizer, existe un tercer modo (el que viene por defecto que veremos un poco más adelante)\n",
    "text_vec_layer_tfidf.adapt(train_set[\"sideEffectsReview\"])"
   ]
  },
  {
   "cell_type": "code",
   "execution_count": 62,
   "metadata": {
    "id": "XxFhaEYPUYrM"
   },
   "outputs": [],
   "source": [
    "vectors = text_vec_layer_count(train_set[\"sideEffectsReview\"])"
   ]
  },
  {
   "cell_type": "code",
   "execution_count": 63,
   "metadata": {
    "colab": {
     "base_uri": "https://localhost:8080/"
    },
    "id": "z2-dptrLUYrM",
    "outputId": "b8dc2399-ba3f-4f69-8eb4-ff37d5b78449"
   },
   "outputs": [
    {
     "data": {
      "text/plain": [
       "<tf.Tensor: shape=(2485, 6564), dtype=int64, numpy=\n",
       "array([[0, 1, 0, ..., 0, 0, 0],\n",
       "       [0, 0, 0, ..., 0, 0, 0],\n",
       "       [0, 0, 0, ..., 0, 0, 0],\n",
       "       ...,\n",
       "       [0, 1, 0, ..., 0, 0, 0],\n",
       "       [0, 8, 3, ..., 0, 0, 0],\n",
       "       [0, 1, 2, ..., 0, 0, 0]])>"
      ]
     },
     "execution_count": 63,
     "metadata": {},
     "output_type": "execute_result"
    }
   ],
   "source": [
    "vectors"
   ]
  },
  {
   "cell_type": "code",
   "execution_count": 64,
   "metadata": {
    "id": "FbiNAnxhUYrM"
   },
   "outputs": [],
   "source": [
    "df_vectors = pd.DataFrame(vectors.numpy(),\\\n",
    "                          columns= text_vec_layer_count.get_vocabulary())"
   ]
  },
  {
   "cell_type": "code",
   "execution_count": 65,
   "metadata": {
    "colab": {
     "base_uri": "https://localhost:8080/",
     "height": 443
    },
    "id": "06qVKRAUUYrM",
    "outputId": "edf6ce44-f95c-4458-809a-f57a08c431d0",
    "scrolled": true
   },
   "outputs": [
    {
     "data": {
      "application/vnd.google.colaboratory.intrinsic+json": {
       "type": "dataframe",
       "variable_name": "df_vectors"
      },
      "text/html": [
       "\n",
       "  <div id=\"df-efce22b0-cdaf-4710-9047-98ca883f58ab\" class=\"colab-df-container\">\n",
       "    <div>\n",
       "<style scoped>\n",
       "    .dataframe tbody tr th:only-of-type {\n",
       "        vertical-align: middle;\n",
       "    }\n",
       "\n",
       "    .dataframe tbody tr th {\n",
       "        vertical-align: top;\n",
       "    }\n",
       "\n",
       "    .dataframe thead th {\n",
       "        text-align: right;\n",
       "    }\n",
       "</style>\n",
       "<table border=\"1\" class=\"dataframe\">\n",
       "  <thead>\n",
       "    <tr style=\"text-align: right;\">\n",
       "      <th></th>\n",
       "      <th>[UNK]</th>\n",
       "      <th>i</th>\n",
       "      <th>the</th>\n",
       "      <th>and</th>\n",
       "      <th>to</th>\n",
       "      <th>a</th>\n",
       "      <th>of</th>\n",
       "      <th>my</th>\n",
       "      <th>it</th>\n",
       "      <th>was</th>\n",
       "      <th>...</th>\n",
       "      <th>10142008</th>\n",
       "      <th>1014</th>\n",
       "      <th>1012</th>\n",
       "      <th>100mgthe</th>\n",
       "      <th>100mgs</th>\n",
       "      <th>100mgdoses</th>\n",
       "      <th>100110</th>\n",
       "      <th>1000mg</th>\n",
       "      <th>10000</th>\n",
       "      <th>072009</th>\n",
       "    </tr>\n",
       "  </thead>\n",
       "  <tbody>\n",
       "    <tr>\n",
       "      <th>0</th>\n",
       "      <td>0</td>\n",
       "      <td>1</td>\n",
       "      <td>0</td>\n",
       "      <td>0</td>\n",
       "      <td>0</td>\n",
       "      <td>0</td>\n",
       "      <td>1</td>\n",
       "      <td>0</td>\n",
       "      <td>0</td>\n",
       "      <td>0</td>\n",
       "      <td>...</td>\n",
       "      <td>0</td>\n",
       "      <td>0</td>\n",
       "      <td>0</td>\n",
       "      <td>0</td>\n",
       "      <td>0</td>\n",
       "      <td>0</td>\n",
       "      <td>0</td>\n",
       "      <td>0</td>\n",
       "      <td>0</td>\n",
       "      <td>0</td>\n",
       "    </tr>\n",
       "    <tr>\n",
       "      <th>1</th>\n",
       "      <td>0</td>\n",
       "      <td>0</td>\n",
       "      <td>0</td>\n",
       "      <td>0</td>\n",
       "      <td>0</td>\n",
       "      <td>1</td>\n",
       "      <td>0</td>\n",
       "      <td>0</td>\n",
       "      <td>0</td>\n",
       "      <td>0</td>\n",
       "      <td>...</td>\n",
       "      <td>0</td>\n",
       "      <td>0</td>\n",
       "      <td>0</td>\n",
       "      <td>0</td>\n",
       "      <td>0</td>\n",
       "      <td>0</td>\n",
       "      <td>0</td>\n",
       "      <td>0</td>\n",
       "      <td>0</td>\n",
       "      <td>0</td>\n",
       "    </tr>\n",
       "    <tr>\n",
       "      <th>2</th>\n",
       "      <td>0</td>\n",
       "      <td>0</td>\n",
       "      <td>0</td>\n",
       "      <td>0</td>\n",
       "      <td>0</td>\n",
       "      <td>0</td>\n",
       "      <td>1</td>\n",
       "      <td>0</td>\n",
       "      <td>0</td>\n",
       "      <td>0</td>\n",
       "      <td>...</td>\n",
       "      <td>0</td>\n",
       "      <td>0</td>\n",
       "      <td>0</td>\n",
       "      <td>0</td>\n",
       "      <td>0</td>\n",
       "      <td>0</td>\n",
       "      <td>0</td>\n",
       "      <td>0</td>\n",
       "      <td>0</td>\n",
       "      <td>0</td>\n",
       "    </tr>\n",
       "    <tr>\n",
       "      <th>3</th>\n",
       "      <td>0</td>\n",
       "      <td>2</td>\n",
       "      <td>3</td>\n",
       "      <td>2</td>\n",
       "      <td>0</td>\n",
       "      <td>0</td>\n",
       "      <td>0</td>\n",
       "      <td>2</td>\n",
       "      <td>0</td>\n",
       "      <td>0</td>\n",
       "      <td>...</td>\n",
       "      <td>0</td>\n",
       "      <td>0</td>\n",
       "      <td>0</td>\n",
       "      <td>0</td>\n",
       "      <td>0</td>\n",
       "      <td>0</td>\n",
       "      <td>0</td>\n",
       "      <td>0</td>\n",
       "      <td>0</td>\n",
       "      <td>0</td>\n",
       "    </tr>\n",
       "    <tr>\n",
       "      <th>4</th>\n",
       "      <td>0</td>\n",
       "      <td>4</td>\n",
       "      <td>7</td>\n",
       "      <td>3</td>\n",
       "      <td>3</td>\n",
       "      <td>0</td>\n",
       "      <td>2</td>\n",
       "      <td>0</td>\n",
       "      <td>2</td>\n",
       "      <td>2</td>\n",
       "      <td>...</td>\n",
       "      <td>0</td>\n",
       "      <td>0</td>\n",
       "      <td>0</td>\n",
       "      <td>0</td>\n",
       "      <td>0</td>\n",
       "      <td>0</td>\n",
       "      <td>0</td>\n",
       "      <td>0</td>\n",
       "      <td>0</td>\n",
       "      <td>0</td>\n",
       "    </tr>\n",
       "    <tr>\n",
       "      <th>...</th>\n",
       "      <td>...</td>\n",
       "      <td>...</td>\n",
       "      <td>...</td>\n",
       "      <td>...</td>\n",
       "      <td>...</td>\n",
       "      <td>...</td>\n",
       "      <td>...</td>\n",
       "      <td>...</td>\n",
       "      <td>...</td>\n",
       "      <td>...</td>\n",
       "      <td>...</td>\n",
       "      <td>...</td>\n",
       "      <td>...</td>\n",
       "      <td>...</td>\n",
       "      <td>...</td>\n",
       "      <td>...</td>\n",
       "      <td>...</td>\n",
       "      <td>...</td>\n",
       "      <td>...</td>\n",
       "      <td>...</td>\n",
       "      <td>...</td>\n",
       "    </tr>\n",
       "    <tr>\n",
       "      <th>2480</th>\n",
       "      <td>0</td>\n",
       "      <td>3</td>\n",
       "      <td>5</td>\n",
       "      <td>1</td>\n",
       "      <td>0</td>\n",
       "      <td>0</td>\n",
       "      <td>0</td>\n",
       "      <td>0</td>\n",
       "      <td>1</td>\n",
       "      <td>2</td>\n",
       "      <td>...</td>\n",
       "      <td>0</td>\n",
       "      <td>0</td>\n",
       "      <td>0</td>\n",
       "      <td>0</td>\n",
       "      <td>0</td>\n",
       "      <td>0</td>\n",
       "      <td>0</td>\n",
       "      <td>0</td>\n",
       "      <td>0</td>\n",
       "      <td>0</td>\n",
       "    </tr>\n",
       "    <tr>\n",
       "      <th>2481</th>\n",
       "      <td>0</td>\n",
       "      <td>0</td>\n",
       "      <td>0</td>\n",
       "      <td>0</td>\n",
       "      <td>0</td>\n",
       "      <td>0</td>\n",
       "      <td>0</td>\n",
       "      <td>0</td>\n",
       "      <td>0</td>\n",
       "      <td>0</td>\n",
       "      <td>...</td>\n",
       "      <td>0</td>\n",
       "      <td>0</td>\n",
       "      <td>0</td>\n",
       "      <td>0</td>\n",
       "      <td>0</td>\n",
       "      <td>0</td>\n",
       "      <td>0</td>\n",
       "      <td>0</td>\n",
       "      <td>0</td>\n",
       "      <td>0</td>\n",
       "    </tr>\n",
       "    <tr>\n",
       "      <th>2482</th>\n",
       "      <td>0</td>\n",
       "      <td>1</td>\n",
       "      <td>0</td>\n",
       "      <td>1</td>\n",
       "      <td>0</td>\n",
       "      <td>1</td>\n",
       "      <td>0</td>\n",
       "      <td>0</td>\n",
       "      <td>0</td>\n",
       "      <td>0</td>\n",
       "      <td>...</td>\n",
       "      <td>0</td>\n",
       "      <td>0</td>\n",
       "      <td>0</td>\n",
       "      <td>0</td>\n",
       "      <td>0</td>\n",
       "      <td>0</td>\n",
       "      <td>0</td>\n",
       "      <td>0</td>\n",
       "      <td>0</td>\n",
       "      <td>0</td>\n",
       "    </tr>\n",
       "    <tr>\n",
       "      <th>2483</th>\n",
       "      <td>0</td>\n",
       "      <td>8</td>\n",
       "      <td>3</td>\n",
       "      <td>1</td>\n",
       "      <td>7</td>\n",
       "      <td>3</td>\n",
       "      <td>3</td>\n",
       "      <td>2</td>\n",
       "      <td>1</td>\n",
       "      <td>3</td>\n",
       "      <td>...</td>\n",
       "      <td>0</td>\n",
       "      <td>0</td>\n",
       "      <td>0</td>\n",
       "      <td>0</td>\n",
       "      <td>0</td>\n",
       "      <td>0</td>\n",
       "      <td>0</td>\n",
       "      <td>0</td>\n",
       "      <td>0</td>\n",
       "      <td>0</td>\n",
       "    </tr>\n",
       "    <tr>\n",
       "      <th>2484</th>\n",
       "      <td>0</td>\n",
       "      <td>1</td>\n",
       "      <td>2</td>\n",
       "      <td>2</td>\n",
       "      <td>2</td>\n",
       "      <td>2</td>\n",
       "      <td>0</td>\n",
       "      <td>0</td>\n",
       "      <td>0</td>\n",
       "      <td>1</td>\n",
       "      <td>...</td>\n",
       "      <td>0</td>\n",
       "      <td>0</td>\n",
       "      <td>0</td>\n",
       "      <td>0</td>\n",
       "      <td>0</td>\n",
       "      <td>0</td>\n",
       "      <td>0</td>\n",
       "      <td>0</td>\n",
       "      <td>0</td>\n",
       "      <td>0</td>\n",
       "    </tr>\n",
       "  </tbody>\n",
       "</table>\n",
       "<p>2485 rows × 6564 columns</p>\n",
       "</div>\n",
       "    <div class=\"colab-df-buttons\">\n",
       "\n",
       "  <div class=\"colab-df-container\">\n",
       "    <button class=\"colab-df-convert\" onclick=\"convertToInteractive('df-efce22b0-cdaf-4710-9047-98ca883f58ab')\"\n",
       "            title=\"Convert this dataframe to an interactive table.\"\n",
       "            style=\"display:none;\">\n",
       "\n",
       "  <svg xmlns=\"http://www.w3.org/2000/svg\" height=\"24px\" viewBox=\"0 -960 960 960\">\n",
       "    <path d=\"M120-120v-720h720v720H120Zm60-500h600v-160H180v160Zm220 220h160v-160H400v160Zm0 220h160v-160H400v160ZM180-400h160v-160H180v160Zm440 0h160v-160H620v160ZM180-180h160v-160H180v160Zm440 0h160v-160H620v160Z\"/>\n",
       "  </svg>\n",
       "    </button>\n",
       "\n",
       "  <style>\n",
       "    .colab-df-container {\n",
       "      display:flex;\n",
       "      gap: 12px;\n",
       "    }\n",
       "\n",
       "    .colab-df-convert {\n",
       "      background-color: #E8F0FE;\n",
       "      border: none;\n",
       "      border-radius: 50%;\n",
       "      cursor: pointer;\n",
       "      display: none;\n",
       "      fill: #1967D2;\n",
       "      height: 32px;\n",
       "      padding: 0 0 0 0;\n",
       "      width: 32px;\n",
       "    }\n",
       "\n",
       "    .colab-df-convert:hover {\n",
       "      background-color: #E2EBFA;\n",
       "      box-shadow: 0px 1px 2px rgba(60, 64, 67, 0.3), 0px 1px 3px 1px rgba(60, 64, 67, 0.15);\n",
       "      fill: #174EA6;\n",
       "    }\n",
       "\n",
       "    .colab-df-buttons div {\n",
       "      margin-bottom: 4px;\n",
       "    }\n",
       "\n",
       "    [theme=dark] .colab-df-convert {\n",
       "      background-color: #3B4455;\n",
       "      fill: #D2E3FC;\n",
       "    }\n",
       "\n",
       "    [theme=dark] .colab-df-convert:hover {\n",
       "      background-color: #434B5C;\n",
       "      box-shadow: 0px 1px 3px 1px rgba(0, 0, 0, 0.15);\n",
       "      filter: drop-shadow(0px 1px 2px rgba(0, 0, 0, 0.3));\n",
       "      fill: #FFFFFF;\n",
       "    }\n",
       "  </style>\n",
       "\n",
       "    <script>\n",
       "      const buttonEl =\n",
       "        document.querySelector('#df-efce22b0-cdaf-4710-9047-98ca883f58ab button.colab-df-convert');\n",
       "      buttonEl.style.display =\n",
       "        google.colab.kernel.accessAllowed ? 'block' : 'none';\n",
       "\n",
       "      async function convertToInteractive(key) {\n",
       "        const element = document.querySelector('#df-efce22b0-cdaf-4710-9047-98ca883f58ab');\n",
       "        const dataTable =\n",
       "          await google.colab.kernel.invokeFunction('convertToInteractive',\n",
       "                                                    [key], {});\n",
       "        if (!dataTable) return;\n",
       "\n",
       "        const docLinkHtml = 'Like what you see? Visit the ' +\n",
       "          '<a target=\"_blank\" href=https://colab.research.google.com/notebooks/data_table.ipynb>data table notebook</a>'\n",
       "          + ' to learn more about interactive tables.';\n",
       "        element.innerHTML = '';\n",
       "        dataTable['output_type'] = 'display_data';\n",
       "        await google.colab.output.renderOutput(dataTable, element);\n",
       "        const docLink = document.createElement('div');\n",
       "        docLink.innerHTML = docLinkHtml;\n",
       "        element.appendChild(docLink);\n",
       "      }\n",
       "    </script>\n",
       "  </div>\n",
       "\n",
       "\n",
       "<div id=\"df-22ea8749-6942-4600-af3b-6920d69d9f6d\">\n",
       "  <button class=\"colab-df-quickchart\" onclick=\"quickchart('df-22ea8749-6942-4600-af3b-6920d69d9f6d')\"\n",
       "            title=\"Suggest charts\"\n",
       "            style=\"display:none;\">\n",
       "\n",
       "<svg xmlns=\"http://www.w3.org/2000/svg\" height=\"24px\"viewBox=\"0 0 24 24\"\n",
       "     width=\"24px\">\n",
       "    <g>\n",
       "        <path d=\"M19 3H5c-1.1 0-2 .9-2 2v14c0 1.1.9 2 2 2h14c1.1 0 2-.9 2-2V5c0-1.1-.9-2-2-2zM9 17H7v-7h2v7zm4 0h-2V7h2v10zm4 0h-2v-4h2v4z\"/>\n",
       "    </g>\n",
       "</svg>\n",
       "  </button>\n",
       "\n",
       "<style>\n",
       "  .colab-df-quickchart {\n",
       "      --bg-color: #E8F0FE;\n",
       "      --fill-color: #1967D2;\n",
       "      --hover-bg-color: #E2EBFA;\n",
       "      --hover-fill-color: #174EA6;\n",
       "      --disabled-fill-color: #AAA;\n",
       "      --disabled-bg-color: #DDD;\n",
       "  }\n",
       "\n",
       "  [theme=dark] .colab-df-quickchart {\n",
       "      --bg-color: #3B4455;\n",
       "      --fill-color: #D2E3FC;\n",
       "      --hover-bg-color: #434B5C;\n",
       "      --hover-fill-color: #FFFFFF;\n",
       "      --disabled-bg-color: #3B4455;\n",
       "      --disabled-fill-color: #666;\n",
       "  }\n",
       "\n",
       "  .colab-df-quickchart {\n",
       "    background-color: var(--bg-color);\n",
       "    border: none;\n",
       "    border-radius: 50%;\n",
       "    cursor: pointer;\n",
       "    display: none;\n",
       "    fill: var(--fill-color);\n",
       "    height: 32px;\n",
       "    padding: 0;\n",
       "    width: 32px;\n",
       "  }\n",
       "\n",
       "  .colab-df-quickchart:hover {\n",
       "    background-color: var(--hover-bg-color);\n",
       "    box-shadow: 0 1px 2px rgba(60, 64, 67, 0.3), 0 1px 3px 1px rgba(60, 64, 67, 0.15);\n",
       "    fill: var(--button-hover-fill-color);\n",
       "  }\n",
       "\n",
       "  .colab-df-quickchart-complete:disabled,\n",
       "  .colab-df-quickchart-complete:disabled:hover {\n",
       "    background-color: var(--disabled-bg-color);\n",
       "    fill: var(--disabled-fill-color);\n",
       "    box-shadow: none;\n",
       "  }\n",
       "\n",
       "  .colab-df-spinner {\n",
       "    border: 2px solid var(--fill-color);\n",
       "    border-color: transparent;\n",
       "    border-bottom-color: var(--fill-color);\n",
       "    animation:\n",
       "      spin 1s steps(1) infinite;\n",
       "  }\n",
       "\n",
       "  @keyframes spin {\n",
       "    0% {\n",
       "      border-color: transparent;\n",
       "      border-bottom-color: var(--fill-color);\n",
       "      border-left-color: var(--fill-color);\n",
       "    }\n",
       "    20% {\n",
       "      border-color: transparent;\n",
       "      border-left-color: var(--fill-color);\n",
       "      border-top-color: var(--fill-color);\n",
       "    }\n",
       "    30% {\n",
       "      border-color: transparent;\n",
       "      border-left-color: var(--fill-color);\n",
       "      border-top-color: var(--fill-color);\n",
       "      border-right-color: var(--fill-color);\n",
       "    }\n",
       "    40% {\n",
       "      border-color: transparent;\n",
       "      border-right-color: var(--fill-color);\n",
       "      border-top-color: var(--fill-color);\n",
       "    }\n",
       "    60% {\n",
       "      border-color: transparent;\n",
       "      border-right-color: var(--fill-color);\n",
       "    }\n",
       "    80% {\n",
       "      border-color: transparent;\n",
       "      border-right-color: var(--fill-color);\n",
       "      border-bottom-color: var(--fill-color);\n",
       "    }\n",
       "    90% {\n",
       "      border-color: transparent;\n",
       "      border-bottom-color: var(--fill-color);\n",
       "    }\n",
       "  }\n",
       "</style>\n",
       "\n",
       "  <script>\n",
       "    async function quickchart(key) {\n",
       "      const quickchartButtonEl =\n",
       "        document.querySelector('#' + key + ' button');\n",
       "      quickchartButtonEl.disabled = true;  // To prevent multiple clicks.\n",
       "      quickchartButtonEl.classList.add('colab-df-spinner');\n",
       "      try {\n",
       "        const charts = await google.colab.kernel.invokeFunction(\n",
       "            'suggestCharts', [key], {});\n",
       "      } catch (error) {\n",
       "        console.error('Error during call to suggestCharts:', error);\n",
       "      }\n",
       "      quickchartButtonEl.classList.remove('colab-df-spinner');\n",
       "      quickchartButtonEl.classList.add('colab-df-quickchart-complete');\n",
       "    }\n",
       "    (() => {\n",
       "      let quickchartButtonEl =\n",
       "        document.querySelector('#df-22ea8749-6942-4600-af3b-6920d69d9f6d button');\n",
       "      quickchartButtonEl.style.display =\n",
       "        google.colab.kernel.accessAllowed ? 'block' : 'none';\n",
       "    })();\n",
       "  </script>\n",
       "</div>\n",
       "\n",
       "  <div id=\"id_1742a2b3-9e64-4c96-af4b-08a4afdc31ce\">\n",
       "    <style>\n",
       "      .colab-df-generate {\n",
       "        background-color: #E8F0FE;\n",
       "        border: none;\n",
       "        border-radius: 50%;\n",
       "        cursor: pointer;\n",
       "        display: none;\n",
       "        fill: #1967D2;\n",
       "        height: 32px;\n",
       "        padding: 0 0 0 0;\n",
       "        width: 32px;\n",
       "      }\n",
       "\n",
       "      .colab-df-generate:hover {\n",
       "        background-color: #E2EBFA;\n",
       "        box-shadow: 0px 1px 2px rgba(60, 64, 67, 0.3), 0px 1px 3px 1px rgba(60, 64, 67, 0.15);\n",
       "        fill: #174EA6;\n",
       "      }\n",
       "\n",
       "      [theme=dark] .colab-df-generate {\n",
       "        background-color: #3B4455;\n",
       "        fill: #D2E3FC;\n",
       "      }\n",
       "\n",
       "      [theme=dark] .colab-df-generate:hover {\n",
       "        background-color: #434B5C;\n",
       "        box-shadow: 0px 1px 3px 1px rgba(0, 0, 0, 0.15);\n",
       "        filter: drop-shadow(0px 1px 2px rgba(0, 0, 0, 0.3));\n",
       "        fill: #FFFFFF;\n",
       "      }\n",
       "    </style>\n",
       "    <button class=\"colab-df-generate\" onclick=\"generateWithVariable('df_vectors')\"\n",
       "            title=\"Generate code using this dataframe.\"\n",
       "            style=\"display:none;\">\n",
       "\n",
       "  <svg xmlns=\"http://www.w3.org/2000/svg\" height=\"24px\"viewBox=\"0 0 24 24\"\n",
       "       width=\"24px\">\n",
       "    <path d=\"M7,19H8.4L18.45,9,17,7.55,7,17.6ZM5,21V16.75L18.45,3.32a2,2,0,0,1,2.83,0l1.4,1.43a1.91,1.91,0,0,1,.58,1.4,1.91,1.91,0,0,1-.58,1.4L9.25,21ZM18.45,9,17,7.55Zm-12,3A5.31,5.31,0,0,0,4.9,8.1,5.31,5.31,0,0,0,1,6.5,5.31,5.31,0,0,0,4.9,4.9,5.31,5.31,0,0,0,6.5,1,5.31,5.31,0,0,0,8.1,4.9,5.31,5.31,0,0,0,12,6.5,5.46,5.46,0,0,0,6.5,12Z\"/>\n",
       "  </svg>\n",
       "    </button>\n",
       "    <script>\n",
       "      (() => {\n",
       "      const buttonEl =\n",
       "        document.querySelector('#id_1742a2b3-9e64-4c96-af4b-08a4afdc31ce button.colab-df-generate');\n",
       "      buttonEl.style.display =\n",
       "        google.colab.kernel.accessAllowed ? 'block' : 'none';\n",
       "\n",
       "      buttonEl.onclick = () => {\n",
       "        google.colab.notebook.generateWithVariable('df_vectors');\n",
       "      }\n",
       "      })();\n",
       "    </script>\n",
       "  </div>\n",
       "\n",
       "    </div>\n",
       "  </div>\n"
      ],
      "text/plain": [
       "      [UNK]  i  the  and  to  a  of  my  it  was  ...  10142008  1014  1012  \\\n",
       "0         0  1    0    0   0  0   1   0   0    0  ...         0     0     0   \n",
       "1         0  0    0    0   0  1   0   0   0    0  ...         0     0     0   \n",
       "2         0  0    0    0   0  0   1   0   0    0  ...         0     0     0   \n",
       "3         0  2    3    2   0  0   0   2   0    0  ...         0     0     0   \n",
       "4         0  4    7    3   3  0   2   0   2    2  ...         0     0     0   \n",
       "...     ... ..  ...  ...  .. ..  ..  ..  ..  ...  ...       ...   ...   ...   \n",
       "2480      0  3    5    1   0  0   0   0   1    2  ...         0     0     0   \n",
       "2481      0  0    0    0   0  0   0   0   0    0  ...         0     0     0   \n",
       "2482      0  1    0    1   0  1   0   0   0    0  ...         0     0     0   \n",
       "2483      0  8    3    1   7  3   3   2   1    3  ...         0     0     0   \n",
       "2484      0  1    2    2   2  2   0   0   0    1  ...         0     0     0   \n",
       "\n",
       "      100mgthe  100mgs  100mgdoses  100110  1000mg  10000  072009  \n",
       "0            0       0           0       0       0      0       0  \n",
       "1            0       0           0       0       0      0       0  \n",
       "2            0       0           0       0       0      0       0  \n",
       "3            0       0           0       0       0      0       0  \n",
       "4            0       0           0       0       0      0       0  \n",
       "...        ...     ...         ...     ...     ...    ...     ...  \n",
       "2480         0       0           0       0       0      0       0  \n",
       "2481         0       0           0       0       0      0       0  \n",
       "2482         0       0           0       0       0      0       0  \n",
       "2483         0       0           0       0       0      0       0  \n",
       "2484         0       0           0       0       0      0       0  \n",
       "\n",
       "[2485 rows x 6564 columns]"
      ]
     },
     "execution_count": 65,
     "metadata": {},
     "output_type": "execute_result"
    }
   ],
   "source": [
    "df_vectors"
   ]
  },
  {
   "cell_type": "code",
   "execution_count": 66,
   "metadata": {
    "colab": {
     "base_uri": "https://localhost:8080/",
     "height": 36
    },
    "id": "9CD06e5FUYrM",
    "outputId": "6a02fe3f-66a8-4d93-9ba0-e44159f0b9c9"
   },
   "outputs": [
    {
     "data": {
      "application/vnd.google.colaboratory.intrinsic+json": {
       "type": "string"
      },
      "text/plain": [
       "'I had no real side effects unless you consider lack of fear or worry one.'"
      ]
     },
     "execution_count": 66,
     "metadata": {},
     "output_type": "execute_result"
    }
   ],
   "source": [
    "train_set.iloc[0][\"sideEffectsReview\"]"
   ]
  },
  {
   "cell_type": "code",
   "execution_count": 67,
   "metadata": {
    "colab": {
     "base_uri": "https://localhost:8080/",
     "height": 554
    },
    "id": "daj0xPLxUYrM",
    "outputId": "2e2cbda8-97f0-42d7-c471-6dd427e2d49d"
   },
   "outputs": [
    {
     "data": {
      "text/html": [
       "<div>\n",
       "<style scoped>\n",
       "    .dataframe tbody tr th:only-of-type {\n",
       "        vertical-align: middle;\n",
       "    }\n",
       "\n",
       "    .dataframe tbody tr th {\n",
       "        vertical-align: top;\n",
       "    }\n",
       "\n",
       "    .dataframe thead th {\n",
       "        text-align: right;\n",
       "    }\n",
       "</style>\n",
       "<table border=\"1\" class=\"dataframe\">\n",
       "  <thead>\n",
       "    <tr style=\"text-align: right;\">\n",
       "      <th></th>\n",
       "      <th>0</th>\n",
       "    </tr>\n",
       "  </thead>\n",
       "  <tbody>\n",
       "    <tr>\n",
       "      <th>i</th>\n",
       "      <td>1</td>\n",
       "    </tr>\n",
       "    <tr>\n",
       "      <th>of</th>\n",
       "      <td>1</td>\n",
       "    </tr>\n",
       "    <tr>\n",
       "      <th>side</th>\n",
       "      <td>1</td>\n",
       "    </tr>\n",
       "    <tr>\n",
       "      <th>effects</th>\n",
       "      <td>1</td>\n",
       "    </tr>\n",
       "    <tr>\n",
       "      <th>had</th>\n",
       "      <td>1</td>\n",
       "    </tr>\n",
       "    <tr>\n",
       "      <th>no</th>\n",
       "      <td>1</td>\n",
       "    </tr>\n",
       "    <tr>\n",
       "      <th>or</th>\n",
       "      <td>1</td>\n",
       "    </tr>\n",
       "    <tr>\n",
       "      <th>you</th>\n",
       "      <td>1</td>\n",
       "    </tr>\n",
       "    <tr>\n",
       "      <th>one</th>\n",
       "      <td>1</td>\n",
       "    </tr>\n",
       "    <tr>\n",
       "      <th>lack</th>\n",
       "      <td>1</td>\n",
       "    </tr>\n",
       "    <tr>\n",
       "      <th>real</th>\n",
       "      <td>1</td>\n",
       "    </tr>\n",
       "    <tr>\n",
       "      <th>unless</th>\n",
       "      <td>1</td>\n",
       "    </tr>\n",
       "    <tr>\n",
       "      <th>consider</th>\n",
       "      <td>1</td>\n",
       "    </tr>\n",
       "    <tr>\n",
       "      <th>fear</th>\n",
       "      <td>1</td>\n",
       "    </tr>\n",
       "    <tr>\n",
       "      <th>worry</th>\n",
       "      <td>1</td>\n",
       "    </tr>\n",
       "  </tbody>\n",
       "</table>\n",
       "</div><br><label><b>dtype:</b> int64</label>"
      ],
      "text/plain": [
       "i           1\n",
       "of          1\n",
       "side        1\n",
       "effects     1\n",
       "had         1\n",
       "no          1\n",
       "or          1\n",
       "you         1\n",
       "one         1\n",
       "lack        1\n",
       "real        1\n",
       "unless      1\n",
       "consider    1\n",
       "fear        1\n",
       "worry       1\n",
       "Name: 0, dtype: int64"
      ]
     },
     "execution_count": 67,
     "metadata": {},
     "output_type": "execute_result"
    }
   ],
   "source": [
    "df_vectors.T[df_vectors.T[0] != 0][0]\n"
   ]
  },
  {
   "cell_type": "markdown",
   "metadata": {
    "id": "1ZOHT_T4UYrM"
   },
   "source": [
    "#### Vectorizacion"
   ]
  },
  {
   "cell_type": "markdown",
   "metadata": {
    "id": "ZXTnUUvxUYrM"
   },
   "source": [
    "Tendremos que hacer la normalización/limpieza del texto y \"tokenizacion\""
   ]
  },
  {
   "cell_type": "code",
   "execution_count": 70,
   "metadata": {
    "colab": {
     "base_uri": "https://localhost:8080/"
    },
    "id": "yopbUUGnUYrM",
    "outputId": "9d757d3d-fbca-4195-f53d-3919c19302a5"
   },
   "outputs": [
    {
     "name": "stderr",
     "output_type": "stream",
     "text": [
      "[nltk_data] Downloading package stopwords to /root/nltk_data...\n",
      "[nltk_data]   Package stopwords is already up-to-date!\n"
     ]
    }
   ],
   "source": [
    "# Rescatando la que hicimos para la IMDB Reviews\n",
    "import nltk\n",
    "nltk.download('stopwords')\n",
    "\n",
    "from nltk.corpus import stopwords\n",
    "replace_no_space = \"(\\.)|(\\;)|(\\:)|(\\!)|(\\?)|(\\,)|(\\\")|(\\()|(\\))|(\\[)|(\\])|(\\d+)\"\n",
    "REPLACE_NO_SPACE = re.compile(replace_no_space)\n",
    "replace_with_space = \"(<br \\s*/><br\\s*/>)|(\\-)|(\\/)\"\n",
    "REPLACE_WITH_SPACE = re.compile(replace_with_space)\n",
    "NO_SPACE = \"\"\n",
    "SPACE = \" \"\n",
    "dictionary = stopwords.words(\"english\")\n",
    "\n",
    "\n",
    "def clean(row):\n",
    "    # Limpio signos y convierto a minúsculas\n",
    "    dato = REPLACE_NO_SPACE.sub(NO_SPACE, row.lower())\n",
    "    # Convierto los retornos de carro <br /><br /> en espacios y los guiones (\"-\")\n",
    "    dato = REPLACE_WITH_SPACE.sub(SPACE, dato)\n",
    "    # Quito cualquier link\n",
    "    dato = \" \".join([word for word in dato.split() if \"http\" not in word])\n",
    "    # Quito los stopwords\n",
    "    dato = \" \".join([word for word in dato.split(\" \") if word not in dictionary])\n",
    "    return dato\n",
    "\n",
    "\n"
   ]
  },
  {
   "cell_type": "markdown",
   "metadata": {
    "id": "c_jgCepJUYrM"
   },
   "source": [
    "Antes, identificamos las features que son texto natural:\n"
   ]
  },
  {
   "cell_type": "code",
   "execution_count": 71,
   "metadata": {
    "colab": {
     "base_uri": "https://localhost:8080/"
    },
    "id": "BzBCVMsXUYrM",
    "outputId": "4a97467a-9624-4a99-8f07-193f0f11e7f1"
   },
   "outputs": [
    {
     "data": {
      "text/plain": [
       "['benefitsReview', 'sideEffectsReview', 'commentsReview']"
      ]
     },
     "execution_count": 71,
     "metadata": {},
     "output_type": "execute_result"
    }
   ],
   "source": [
    "text_feats = [col for col in train_set.columns if \"Review\" in col and \"wc\" not in col]\n",
    "text_feats"
   ]
  },
  {
   "cell_type": "markdown",
   "metadata": {
    "id": "_iO7w9lkUYrM"
   },
   "source": [
    "\n",
    "Y ahora aplicamos"
   ]
  },
  {
   "cell_type": "code",
   "execution_count": 72,
   "metadata": {
    "id": "C0XGFOzaUYrN"
   },
   "outputs": [],
   "source": [
    "for col in text_feats:\n",
    "    train_set[col] = train_set[col].apply(clean)\n",
    "    test_set[col] = test_set[col].apply(clean)"
   ]
  },
  {
   "cell_type": "code",
   "execution_count": 73,
   "metadata": {
    "colab": {
     "base_uri": "https://localhost:8080/",
     "height": 895
    },
    "id": "2xIEC1TyUYrN",
    "outputId": "7ebacfd0-c921-4f6a-84a3-a621a44c98b5"
   },
   "outputs": [
    {
     "data": {
      "application/vnd.google.colaboratory.intrinsic+json": {
       "summary": "{\n  \"name\": \"train_set\",\n  \"rows\": 2485,\n  \"fields\": [\n    {\n      \"column\": \"urlDrugName\",\n      \"properties\": {\n        \"dtype\": \"category\",\n        \"num_unique_values\": 463,\n        \"samples\": [\n          \"baciim\",\n          \"tequin\",\n          \"oxycodone\"\n        ],\n        \"semantic_type\": \"\",\n        \"description\": \"\"\n      }\n    },\n    {\n      \"column\": \"rating\",\n      \"properties\": {\n        \"dtype\": \"number\",\n        \"std\": 2,\n        \"min\": 0,\n        \"max\": 9,\n        \"num_unique_values\": 10,\n        \"samples\": [\n          4,\n          7,\n          1\n        ],\n        \"semantic_type\": \"\",\n        \"description\": \"\"\n      }\n    },\n    {\n      \"column\": \"effectiveness\",\n      \"properties\": {\n        \"dtype\": \"category\",\n        \"num_unique_values\": 5,\n        \"samples\": [\n          \"Moderately Effective\",\n          \"Marginally Effective\",\n          \"Considerably Effective\"\n        ],\n        \"semantic_type\": \"\",\n        \"description\": \"\"\n      }\n    },\n    {\n      \"column\": \"sideEffects\",\n      \"properties\": {\n        \"dtype\": \"category\",\n        \"num_unique_values\": 5,\n        \"samples\": [\n          \"Mild Side Effects\",\n          \"Extremely Severe Side Effects\",\n          \"Severe Side Effects\"\n        ],\n        \"semantic_type\": \"\",\n        \"description\": \"\"\n      }\n    },\n    {\n      \"column\": \"condition\",\n      \"properties\": {\n        \"dtype\": \"category\",\n        \"num_unique_values\": 1203,\n        \"samples\": [\n          \"oral infection\",\n          \"sinus allergy\",\n          \"inflammation of throat during bacteria bronchitis\"\n        ],\n        \"semantic_type\": \"\",\n        \"description\": \"\"\n      }\n    },\n    {\n      \"column\": \"benefitsReview\",\n      \"properties\": {\n        \"dtype\": \"string\",\n        \"num_unique_values\": 2423,\n        \"samples\": [\n          \"able stay task finish start make many mistakes details work able concentrate consistantly project get easily distracted confident work done well timely manner\",\n          \"almost immediate relief allergy symptoms freer breathing\",\n          \"benefits\"\n        ],\n        \"semantic_type\": \"\",\n        \"description\": \"\"\n      }\n    },\n    {\n      \"column\": \"sideEffectsReview\",\n      \"properties\": {\n        \"dtype\": \"string\",\n        \"num_unique_values\": 2190,\n        \"samples\": [\n          \"always bad blood circulation would feel legs little bit swallow\",\n          \"beginning treatment noticed slightly elevated heart rate felt bit jittery however consume fairly high amount caffeine day told expect doctor another effect really connect medication lack motivation attribute specifically medication conversation best friend also taken wellbutrin one point asked specifically experienced diminshed motivation drug clicked entirely certain attributed solely medication since also symptom depression\",\n          \"suffered daily headaches also slight nausea every awhile also felt dried thirsty also affected lowering libido\"\n        ],\n        \"semantic_type\": \"\",\n        \"description\": \"\"\n      }\n    },\n    {\n      \"column\": \"commentsReview\",\n      \"properties\": {\n        \"dtype\": \"string\",\n        \"num_unique_values\": 2431,\n        \"samples\": [\n          \"augmentin administered dosage mg taken two times day total treatment time days within hours side effects antibiotic intolerable days drug terminated different antibiotic administered\",\n          \"x day\",\n          \"one puff twice day\"\n        ],\n        \"semantic_type\": \"\",\n        \"description\": \"\"\n      }\n    },\n    {\n      \"column\": \"Sales\",\n      \"properties\": {\n        \"dtype\": \"number\",\n        \"std\": 258599,\n        \"min\": 55,\n        \"max\": 2100431,\n        \"num_unique_values\": 2484,\n        \"samples\": [\n          411292,\n          499092,\n          602786\n        ],\n        \"semantic_type\": \"\",\n        \"description\": \"\"\n      }\n    },\n    {\n      \"column\": \"Production\",\n      \"properties\": {\n        \"dtype\": \"number\",\n        \"std\": 265.8257203851115,\n        \"min\": 20.0,\n        \"max\": 2300.0,\n        \"num_unique_values\": 913,\n        \"samples\": [\n          276.0,\n          1055.0,\n          641.0\n        ],\n        \"semantic_type\": \"\",\n        \"description\": \"\"\n      }\n    },\n    {\n      \"column\": \"benefitsReview_wc\",\n      \"properties\": {\n        \"dtype\": \"number\",\n        \"std\": 34,\n        \"min\": 1,\n        \"max\": 385,\n        \"num_unique_values\": 158,\n        \"samples\": [\n          77,\n          68,\n          131\n        ],\n        \"semantic_type\": \"\",\n        \"description\": \"\"\n      }\n    },\n    {\n      \"column\": \"sideEffectsReview_wc\",\n      \"properties\": {\n        \"dtype\": \"number\",\n        \"std\": 36,\n        \"min\": 1,\n        \"max\": 478,\n        \"num_unique_values\": 175,\n        \"samples\": [\n          308,\n          138,\n          65\n        ],\n        \"semantic_type\": \"\",\n        \"description\": \"\"\n      }\n    },\n    {\n      \"column\": \"commentsReview_wc\",\n      \"properties\": {\n        \"dtype\": \"number\",\n        \"std\": 50,\n        \"min\": 1,\n        \"max\": 740,\n        \"num_unique_values\": 217,\n        \"samples\": [\n          254,\n          215,\n          90\n        ],\n        \"semantic_type\": \"\",\n        \"description\": \"\"\n      }\n    }\n  ]\n}",
       "type": "dataframe",
       "variable_name": "train_set"
      },
      "text/html": [
       "\n",
       "  <div id=\"df-e3b556af-9ab8-42af-af59-d6ec2f1d4453\" class=\"colab-df-container\">\n",
       "    <div>\n",
       "<style scoped>\n",
       "    .dataframe tbody tr th:only-of-type {\n",
       "        vertical-align: middle;\n",
       "    }\n",
       "\n",
       "    .dataframe tbody tr th {\n",
       "        vertical-align: top;\n",
       "    }\n",
       "\n",
       "    .dataframe thead th {\n",
       "        text-align: right;\n",
       "    }\n",
       "</style>\n",
       "<table border=\"1\" class=\"dataframe\">\n",
       "  <thead>\n",
       "    <tr style=\"text-align: right;\">\n",
       "      <th></th>\n",
       "      <th>urlDrugName</th>\n",
       "      <th>rating</th>\n",
       "      <th>effectiveness</th>\n",
       "      <th>sideEffects</th>\n",
       "      <th>condition</th>\n",
       "      <th>benefitsReview</th>\n",
       "      <th>sideEffectsReview</th>\n",
       "      <th>commentsReview</th>\n",
       "      <th>Sales</th>\n",
       "      <th>Production</th>\n",
       "      <th>benefitsReview_wc</th>\n",
       "      <th>sideEffectsReview_wc</th>\n",
       "      <th>commentsReview_wc</th>\n",
       "    </tr>\n",
       "  </thead>\n",
       "  <tbody>\n",
       "    <tr>\n",
       "      <th>2686</th>\n",
       "      <td>zoloft</td>\n",
       "      <td>9</td>\n",
       "      <td>Highly Effective</td>\n",
       "      <td>No Side Effects</td>\n",
       "      <td>anxiety</td>\n",
       "      <td>becoming normal functioning individual helped ...</td>\n",
       "      <td>real side effects unless consider lack fear wo...</td>\n",
       "      <td>taken daily</td>\n",
       "      <td>135166</td>\n",
       "      <td>335.0</td>\n",
       "      <td>62</td>\n",
       "      <td>15</td>\n",
       "      <td>3</td>\n",
       "    </tr>\n",
       "    <tr>\n",
       "      <th>1192</th>\n",
       "      <td>adipex-p</td>\n",
       "      <td>9</td>\n",
       "      <td>Highly Effective</td>\n",
       "      <td>Mild Side Effects</td>\n",
       "      <td>to lose 30 pounds</td>\n",
       "      <td>bmi rating time get taken care goes beyond tak...</td>\n",
       "      <td>jittery sometimes euphoric tired cant sleep zone</td>\n",
       "      <td>last results months adipex p lost pounds gaine...</td>\n",
       "      <td>739564</td>\n",
       "      <td>939.0</td>\n",
       "      <td>163</td>\n",
       "      <td>10</td>\n",
       "      <td>248</td>\n",
       "    </tr>\n",
       "    <tr>\n",
       "      <th>2738</th>\n",
       "      <td>tri-luma</td>\n",
       "      <td>7</td>\n",
       "      <td>Moderately Effective</td>\n",
       "      <td>Severe Side Effects</td>\n",
       "      <td>hyperpigmentation</td>\n",
       "      <td>lightening acne scars</td>\n",
       "      <td>redness dryness breakdown skin</td>\n",
       "      <td>topical compound used reduce hyperpigmentation...</td>\n",
       "      <td>683247</td>\n",
       "      <td>843.0</td>\n",
       "      <td>4</td>\n",
       "      <td>5</td>\n",
       "      <td>42</td>\n",
       "    </tr>\n",
       "    <tr>\n",
       "      <th>2780</th>\n",
       "      <td>yasmin</td>\n",
       "      <td>2</td>\n",
       "      <td>Highly Effective</td>\n",
       "      <td>Moderate Side Effects</td>\n",
       "      <td>birth control</td>\n",
       "      <td>chance pregancy lost percent libido skin clear...</td>\n",
       "      <td>libido ever breasts hurt like got bigger itche...</td>\n",
       "      <td>given prevent pregnancy going rather child org...</td>\n",
       "      <td>222295</td>\n",
       "      <td>282.0</td>\n",
       "      <td>22</td>\n",
       "      <td>50</td>\n",
       "      <td>27</td>\n",
       "    </tr>\n",
       "    <tr>\n",
       "      <th>1735</th>\n",
       "      <td>requip</td>\n",
       "      <td>7</td>\n",
       "      <td>Considerably Effective</td>\n",
       "      <td>No Side Effects</td>\n",
       "      <td>restless leg syndrome</td>\n",
       "      <td>took medication treat restless leg syndrome ef...</td>\n",
       "      <td>need take time went experienced augmentation r...</td>\n",
       "      <td>took one milligram night treat symtoms restles...</td>\n",
       "      <td>344748</td>\n",
       "      <td>505.0</td>\n",
       "      <td>93</td>\n",
       "      <td>69</td>\n",
       "      <td>106</td>\n",
       "    </tr>\n",
       "    <tr>\n",
       "      <th>...</th>\n",
       "      <td>...</td>\n",
       "      <td>...</td>\n",
       "      <td>...</td>\n",
       "      <td>...</td>\n",
       "      <td>...</td>\n",
       "      <td>...</td>\n",
       "      <td>...</td>\n",
       "      <td>...</td>\n",
       "      <td>...</td>\n",
       "      <td>...</td>\n",
       "      <td>...</td>\n",
       "      <td>...</td>\n",
       "      <td>...</td>\n",
       "    </tr>\n",
       "    <tr>\n",
       "      <th>3092</th>\n",
       "      <td>zyrtec</td>\n",
       "      <td>9</td>\n",
       "      <td>Highly Effective</td>\n",
       "      <td>Mild Side Effects</td>\n",
       "      <td>atopic eczema</td>\n",
       "      <td>drug effective counteracting severe itching ca...</td>\n",
       "      <td>felt slightly tired taking zyrtec however seve...</td>\n",
       "      <td>non prescription drug took experiencing severe...</td>\n",
       "      <td>156028</td>\n",
       "      <td>356.0</td>\n",
       "      <td>74</td>\n",
       "      <td>54</td>\n",
       "      <td>51</td>\n",
       "    </tr>\n",
       "    <tr>\n",
       "      <th>1095</th>\n",
       "      <td>neurontin</td>\n",
       "      <td>0</td>\n",
       "      <td>Ineffective</td>\n",
       "      <td>Severe Side Effects</td>\n",
       "      <td>all over and various type pain</td>\n",
       "      <td>value</td>\n",
       "      <td>nausea extreme sleepinesssevere headache jitte...</td>\n",
       "      <td>day one felt negative side effects taking seco...</td>\n",
       "      <td>317886</td>\n",
       "      <td>337.0</td>\n",
       "      <td>2</td>\n",
       "      <td>10</td>\n",
       "      <td>120</td>\n",
       "    </tr>\n",
       "    <tr>\n",
       "      <th>1130</th>\n",
       "      <td>wellbutrin</td>\n",
       "      <td>6</td>\n",
       "      <td>Moderately Effective</td>\n",
       "      <td>Mild Side Effects</td>\n",
       "      <td>depression</td>\n",
       "      <td>experienced less depression increased libido p...</td>\n",
       "      <td>dry mouth eyes drug decreased effectiveness la...</td>\n",
       "      <td>prescribed mg per day taken much mg per day li...</td>\n",
       "      <td>556187</td>\n",
       "      <td>696.0</td>\n",
       "      <td>15</td>\n",
       "      <td>15</td>\n",
       "      <td>24</td>\n",
       "    </tr>\n",
       "    <tr>\n",
       "      <th>1294</th>\n",
       "      <td>wellbutrin</td>\n",
       "      <td>2</td>\n",
       "      <td>Considerably Effective</td>\n",
       "      <td>Moderate Side Effects</td>\n",
       "      <td>stop smoking</td>\n",
       "      <td>treatment effective reducing appetite smoking ...</td>\n",
       "      <td>began notice nothing seemed important also see...</td>\n",
       "      <td>taking bupropion aide break smoking habit also...</td>\n",
       "      <td>728338</td>\n",
       "      <td>789.0</td>\n",
       "      <td>44</td>\n",
       "      <td>105</td>\n",
       "      <td>92</td>\n",
       "    </tr>\n",
       "    <tr>\n",
       "      <th>860</th>\n",
       "      <td>accutane</td>\n",
       "      <td>4</td>\n",
       "      <td>Highly Effective</td>\n",
       "      <td>Extremely Severe Side Effects</td>\n",
       "      <td>cystic acne</td>\n",
       "      <td>drug cleared skin even reduced redness scarrin...</td>\n",
       "      <td>severe sexual side effects began months trial ...</td>\n",
       "      <td>treatment began two mg tablets twice day reduc...</td>\n",
       "      <td>154819</td>\n",
       "      <td>255.0</td>\n",
       "      <td>24</td>\n",
       "      <td>70</td>\n",
       "      <td>145</td>\n",
       "    </tr>\n",
       "  </tbody>\n",
       "</table>\n",
       "<p>2485 rows × 13 columns</p>\n",
       "</div>\n",
       "    <div class=\"colab-df-buttons\">\n",
       "\n",
       "  <div class=\"colab-df-container\">\n",
       "    <button class=\"colab-df-convert\" onclick=\"convertToInteractive('df-e3b556af-9ab8-42af-af59-d6ec2f1d4453')\"\n",
       "            title=\"Convert this dataframe to an interactive table.\"\n",
       "            style=\"display:none;\">\n",
       "\n",
       "  <svg xmlns=\"http://www.w3.org/2000/svg\" height=\"24px\" viewBox=\"0 -960 960 960\">\n",
       "    <path d=\"M120-120v-720h720v720H120Zm60-500h600v-160H180v160Zm220 220h160v-160H400v160Zm0 220h160v-160H400v160ZM180-400h160v-160H180v160Zm440 0h160v-160H620v160ZM180-180h160v-160H180v160Zm440 0h160v-160H620v160Z\"/>\n",
       "  </svg>\n",
       "    </button>\n",
       "\n",
       "  <style>\n",
       "    .colab-df-container {\n",
       "      display:flex;\n",
       "      gap: 12px;\n",
       "    }\n",
       "\n",
       "    .colab-df-convert {\n",
       "      background-color: #E8F0FE;\n",
       "      border: none;\n",
       "      border-radius: 50%;\n",
       "      cursor: pointer;\n",
       "      display: none;\n",
       "      fill: #1967D2;\n",
       "      height: 32px;\n",
       "      padding: 0 0 0 0;\n",
       "      width: 32px;\n",
       "    }\n",
       "\n",
       "    .colab-df-convert:hover {\n",
       "      background-color: #E2EBFA;\n",
       "      box-shadow: 0px 1px 2px rgba(60, 64, 67, 0.3), 0px 1px 3px 1px rgba(60, 64, 67, 0.15);\n",
       "      fill: #174EA6;\n",
       "    }\n",
       "\n",
       "    .colab-df-buttons div {\n",
       "      margin-bottom: 4px;\n",
       "    }\n",
       "\n",
       "    [theme=dark] .colab-df-convert {\n",
       "      background-color: #3B4455;\n",
       "      fill: #D2E3FC;\n",
       "    }\n",
       "\n",
       "    [theme=dark] .colab-df-convert:hover {\n",
       "      background-color: #434B5C;\n",
       "      box-shadow: 0px 1px 3px 1px rgba(0, 0, 0, 0.15);\n",
       "      filter: drop-shadow(0px 1px 2px rgba(0, 0, 0, 0.3));\n",
       "      fill: #FFFFFF;\n",
       "    }\n",
       "  </style>\n",
       "\n",
       "    <script>\n",
       "      const buttonEl =\n",
       "        document.querySelector('#df-e3b556af-9ab8-42af-af59-d6ec2f1d4453 button.colab-df-convert');\n",
       "      buttonEl.style.display =\n",
       "        google.colab.kernel.accessAllowed ? 'block' : 'none';\n",
       "\n",
       "      async function convertToInteractive(key) {\n",
       "        const element = document.querySelector('#df-e3b556af-9ab8-42af-af59-d6ec2f1d4453');\n",
       "        const dataTable =\n",
       "          await google.colab.kernel.invokeFunction('convertToInteractive',\n",
       "                                                    [key], {});\n",
       "        if (!dataTable) return;\n",
       "\n",
       "        const docLinkHtml = 'Like what you see? Visit the ' +\n",
       "          '<a target=\"_blank\" href=https://colab.research.google.com/notebooks/data_table.ipynb>data table notebook</a>'\n",
       "          + ' to learn more about interactive tables.';\n",
       "        element.innerHTML = '';\n",
       "        dataTable['output_type'] = 'display_data';\n",
       "        await google.colab.output.renderOutput(dataTable, element);\n",
       "        const docLink = document.createElement('div');\n",
       "        docLink.innerHTML = docLinkHtml;\n",
       "        element.appendChild(docLink);\n",
       "      }\n",
       "    </script>\n",
       "  </div>\n",
       "\n",
       "\n",
       "<div id=\"df-18c8c7b5-ce62-422a-a630-0ef107546ba3\">\n",
       "  <button class=\"colab-df-quickchart\" onclick=\"quickchart('df-18c8c7b5-ce62-422a-a630-0ef107546ba3')\"\n",
       "            title=\"Suggest charts\"\n",
       "            style=\"display:none;\">\n",
       "\n",
       "<svg xmlns=\"http://www.w3.org/2000/svg\" height=\"24px\"viewBox=\"0 0 24 24\"\n",
       "     width=\"24px\">\n",
       "    <g>\n",
       "        <path d=\"M19 3H5c-1.1 0-2 .9-2 2v14c0 1.1.9 2 2 2h14c1.1 0 2-.9 2-2V5c0-1.1-.9-2-2-2zM9 17H7v-7h2v7zm4 0h-2V7h2v10zm4 0h-2v-4h2v4z\"/>\n",
       "    </g>\n",
       "</svg>\n",
       "  </button>\n",
       "\n",
       "<style>\n",
       "  .colab-df-quickchart {\n",
       "      --bg-color: #E8F0FE;\n",
       "      --fill-color: #1967D2;\n",
       "      --hover-bg-color: #E2EBFA;\n",
       "      --hover-fill-color: #174EA6;\n",
       "      --disabled-fill-color: #AAA;\n",
       "      --disabled-bg-color: #DDD;\n",
       "  }\n",
       "\n",
       "  [theme=dark] .colab-df-quickchart {\n",
       "      --bg-color: #3B4455;\n",
       "      --fill-color: #D2E3FC;\n",
       "      --hover-bg-color: #434B5C;\n",
       "      --hover-fill-color: #FFFFFF;\n",
       "      --disabled-bg-color: #3B4455;\n",
       "      --disabled-fill-color: #666;\n",
       "  }\n",
       "\n",
       "  .colab-df-quickchart {\n",
       "    background-color: var(--bg-color);\n",
       "    border: none;\n",
       "    border-radius: 50%;\n",
       "    cursor: pointer;\n",
       "    display: none;\n",
       "    fill: var(--fill-color);\n",
       "    height: 32px;\n",
       "    padding: 0;\n",
       "    width: 32px;\n",
       "  }\n",
       "\n",
       "  .colab-df-quickchart:hover {\n",
       "    background-color: var(--hover-bg-color);\n",
       "    box-shadow: 0 1px 2px rgba(60, 64, 67, 0.3), 0 1px 3px 1px rgba(60, 64, 67, 0.15);\n",
       "    fill: var(--button-hover-fill-color);\n",
       "  }\n",
       "\n",
       "  .colab-df-quickchart-complete:disabled,\n",
       "  .colab-df-quickchart-complete:disabled:hover {\n",
       "    background-color: var(--disabled-bg-color);\n",
       "    fill: var(--disabled-fill-color);\n",
       "    box-shadow: none;\n",
       "  }\n",
       "\n",
       "  .colab-df-spinner {\n",
       "    border: 2px solid var(--fill-color);\n",
       "    border-color: transparent;\n",
       "    border-bottom-color: var(--fill-color);\n",
       "    animation:\n",
       "      spin 1s steps(1) infinite;\n",
       "  }\n",
       "\n",
       "  @keyframes spin {\n",
       "    0% {\n",
       "      border-color: transparent;\n",
       "      border-bottom-color: var(--fill-color);\n",
       "      border-left-color: var(--fill-color);\n",
       "    }\n",
       "    20% {\n",
       "      border-color: transparent;\n",
       "      border-left-color: var(--fill-color);\n",
       "      border-top-color: var(--fill-color);\n",
       "    }\n",
       "    30% {\n",
       "      border-color: transparent;\n",
       "      border-left-color: var(--fill-color);\n",
       "      border-top-color: var(--fill-color);\n",
       "      border-right-color: var(--fill-color);\n",
       "    }\n",
       "    40% {\n",
       "      border-color: transparent;\n",
       "      border-right-color: var(--fill-color);\n",
       "      border-top-color: var(--fill-color);\n",
       "    }\n",
       "    60% {\n",
       "      border-color: transparent;\n",
       "      border-right-color: var(--fill-color);\n",
       "    }\n",
       "    80% {\n",
       "      border-color: transparent;\n",
       "      border-right-color: var(--fill-color);\n",
       "      border-bottom-color: var(--fill-color);\n",
       "    }\n",
       "    90% {\n",
       "      border-color: transparent;\n",
       "      border-bottom-color: var(--fill-color);\n",
       "    }\n",
       "  }\n",
       "</style>\n",
       "\n",
       "  <script>\n",
       "    async function quickchart(key) {\n",
       "      const quickchartButtonEl =\n",
       "        document.querySelector('#' + key + ' button');\n",
       "      quickchartButtonEl.disabled = true;  // To prevent multiple clicks.\n",
       "      quickchartButtonEl.classList.add('colab-df-spinner');\n",
       "      try {\n",
       "        const charts = await google.colab.kernel.invokeFunction(\n",
       "            'suggestCharts', [key], {});\n",
       "      } catch (error) {\n",
       "        console.error('Error during call to suggestCharts:', error);\n",
       "      }\n",
       "      quickchartButtonEl.classList.remove('colab-df-spinner');\n",
       "      quickchartButtonEl.classList.add('colab-df-quickchart-complete');\n",
       "    }\n",
       "    (() => {\n",
       "      let quickchartButtonEl =\n",
       "        document.querySelector('#df-18c8c7b5-ce62-422a-a630-0ef107546ba3 button');\n",
       "      quickchartButtonEl.style.display =\n",
       "        google.colab.kernel.accessAllowed ? 'block' : 'none';\n",
       "    })();\n",
       "  </script>\n",
       "</div>\n",
       "\n",
       "  <div id=\"id_42afc879-ac01-4b5a-88b4-cf61918cd303\">\n",
       "    <style>\n",
       "      .colab-df-generate {\n",
       "        background-color: #E8F0FE;\n",
       "        border: none;\n",
       "        border-radius: 50%;\n",
       "        cursor: pointer;\n",
       "        display: none;\n",
       "        fill: #1967D2;\n",
       "        height: 32px;\n",
       "        padding: 0 0 0 0;\n",
       "        width: 32px;\n",
       "      }\n",
       "\n",
       "      .colab-df-generate:hover {\n",
       "        background-color: #E2EBFA;\n",
       "        box-shadow: 0px 1px 2px rgba(60, 64, 67, 0.3), 0px 1px 3px 1px rgba(60, 64, 67, 0.15);\n",
       "        fill: #174EA6;\n",
       "      }\n",
       "\n",
       "      [theme=dark] .colab-df-generate {\n",
       "        background-color: #3B4455;\n",
       "        fill: #D2E3FC;\n",
       "      }\n",
       "\n",
       "      [theme=dark] .colab-df-generate:hover {\n",
       "        background-color: #434B5C;\n",
       "        box-shadow: 0px 1px 3px 1px rgba(0, 0, 0, 0.15);\n",
       "        filter: drop-shadow(0px 1px 2px rgba(0, 0, 0, 0.3));\n",
       "        fill: #FFFFFF;\n",
       "      }\n",
       "    </style>\n",
       "    <button class=\"colab-df-generate\" onclick=\"generateWithVariable('train_set')\"\n",
       "            title=\"Generate code using this dataframe.\"\n",
       "            style=\"display:none;\">\n",
       "\n",
       "  <svg xmlns=\"http://www.w3.org/2000/svg\" height=\"24px\"viewBox=\"0 0 24 24\"\n",
       "       width=\"24px\">\n",
       "    <path d=\"M7,19H8.4L18.45,9,17,7.55,7,17.6ZM5,21V16.75L18.45,3.32a2,2,0,0,1,2.83,0l1.4,1.43a1.91,1.91,0,0,1,.58,1.4,1.91,1.91,0,0,1-.58,1.4L9.25,21ZM18.45,9,17,7.55Zm-12,3A5.31,5.31,0,0,0,4.9,8.1,5.31,5.31,0,0,0,1,6.5,5.31,5.31,0,0,0,4.9,4.9,5.31,5.31,0,0,0,6.5,1,5.31,5.31,0,0,0,8.1,4.9,5.31,5.31,0,0,0,12,6.5,5.46,5.46,0,0,0,6.5,12Z\"/>\n",
       "  </svg>\n",
       "    </button>\n",
       "    <script>\n",
       "      (() => {\n",
       "      const buttonEl =\n",
       "        document.querySelector('#id_42afc879-ac01-4b5a-88b4-cf61918cd303 button.colab-df-generate');\n",
       "      buttonEl.style.display =\n",
       "        google.colab.kernel.accessAllowed ? 'block' : 'none';\n",
       "\n",
       "      buttonEl.onclick = () => {\n",
       "        google.colab.notebook.generateWithVariable('train_set');\n",
       "      }\n",
       "      })();\n",
       "    </script>\n",
       "  </div>\n",
       "\n",
       "    </div>\n",
       "  </div>\n"
      ],
      "text/plain": [
       "     urlDrugName  rating           effectiveness  \\\n",
       "2686      zoloft       9        Highly Effective   \n",
       "1192    adipex-p       9        Highly Effective   \n",
       "2738    tri-luma       7    Moderately Effective   \n",
       "2780      yasmin       2        Highly Effective   \n",
       "1735      requip       7  Considerably Effective   \n",
       "...          ...     ...                     ...   \n",
       "3092      zyrtec       9        Highly Effective   \n",
       "1095   neurontin       0             Ineffective   \n",
       "1130  wellbutrin       6    Moderately Effective   \n",
       "1294  wellbutrin       2  Considerably Effective   \n",
       "860     accutane       4        Highly Effective   \n",
       "\n",
       "                        sideEffects                       condition  \\\n",
       "2686                No Side Effects                         anxiety   \n",
       "1192              Mild Side Effects               to lose 30 pounds   \n",
       "2738            Severe Side Effects               hyperpigmentation   \n",
       "2780          Moderate Side Effects                   birth control   \n",
       "1735                No Side Effects           restless leg syndrome   \n",
       "...                             ...                             ...   \n",
       "3092              Mild Side Effects                   atopic eczema   \n",
       "1095            Severe Side Effects  all over and various type pain   \n",
       "1130              Mild Side Effects                      depression   \n",
       "1294          Moderate Side Effects                    stop smoking   \n",
       "860   Extremely Severe Side Effects                     cystic acne   \n",
       "\n",
       "                                         benefitsReview  \\\n",
       "2686  becoming normal functioning individual helped ...   \n",
       "1192  bmi rating time get taken care goes beyond tak...   \n",
       "2738                              lightening acne scars   \n",
       "2780  chance pregancy lost percent libido skin clear...   \n",
       "1735  took medication treat restless leg syndrome ef...   \n",
       "...                                                 ...   \n",
       "3092  drug effective counteracting severe itching ca...   \n",
       "1095                                              value   \n",
       "1130  experienced less depression increased libido p...   \n",
       "1294  treatment effective reducing appetite smoking ...   \n",
       "860   drug cleared skin even reduced redness scarrin...   \n",
       "\n",
       "                                      sideEffectsReview  \\\n",
       "2686  real side effects unless consider lack fear wo...   \n",
       "1192   jittery sometimes euphoric tired cant sleep zone   \n",
       "2738                     redness dryness breakdown skin   \n",
       "2780  libido ever breasts hurt like got bigger itche...   \n",
       "1735  need take time went experienced augmentation r...   \n",
       "...                                                 ...   \n",
       "3092  felt slightly tired taking zyrtec however seve...   \n",
       "1095  nausea extreme sleepinesssevere headache jitte...   \n",
       "1130  dry mouth eyes drug decreased effectiveness la...   \n",
       "1294  began notice nothing seemed important also see...   \n",
       "860   severe sexual side effects began months trial ...   \n",
       "\n",
       "                                         commentsReview   Sales  Production  \\\n",
       "2686                                        taken daily  135166       335.0   \n",
       "1192  last results months adipex p lost pounds gaine...  739564       939.0   \n",
       "2738  topical compound used reduce hyperpigmentation...  683247       843.0   \n",
       "2780  given prevent pregnancy going rather child org...  222295       282.0   \n",
       "1735  took one milligram night treat symtoms restles...  344748       505.0   \n",
       "...                                                 ...     ...         ...   \n",
       "3092  non prescription drug took experiencing severe...  156028       356.0   \n",
       "1095  day one felt negative side effects taking seco...  317886       337.0   \n",
       "1130  prescribed mg per day taken much mg per day li...  556187       696.0   \n",
       "1294  taking bupropion aide break smoking habit also...  728338       789.0   \n",
       "860   treatment began two mg tablets twice day reduc...  154819       255.0   \n",
       "\n",
       "      benefitsReview_wc  sideEffectsReview_wc  commentsReview_wc  \n",
       "2686                 62                    15                  3  \n",
       "1192                163                    10                248  \n",
       "2738                  4                     5                 42  \n",
       "2780                 22                    50                 27  \n",
       "1735                 93                    69                106  \n",
       "...                 ...                   ...                ...  \n",
       "3092                 74                    54                 51  \n",
       "1095                  2                    10                120  \n",
       "1130                 15                    15                 24  \n",
       "1294                 44                   105                 92  \n",
       "860                  24                    70                145  \n",
       "\n",
       "[2485 rows x 13 columns]"
      ]
     },
     "execution_count": 73,
     "metadata": {},
     "output_type": "execute_result"
    }
   ],
   "source": [
    "train_set"
   ]
  },
  {
   "cell_type": "code",
   "execution_count": 74,
   "metadata": {
    "colab": {
     "base_uri": "https://localhost:8080/"
    },
    "id": "4GcRuK_WUYrN",
    "outputId": "82246f88-bf32-4efc-82d7-6a14e62e3ab8"
   },
   "outputs": [
    {
     "name": "stdout",
     "output_type": "stream",
     "text": [
      "real side effects unless consider lack fear worry one\n",
      "\n",
      "jittery sometimes euphoric tired cant sleep zone\n"
     ]
    }
   ],
   "source": [
    "print(\"\\n\\n\".join(train_set[\"sideEffectsReview\"][0:2].values))"
   ]
  },
  {
   "cell_type": "markdown",
   "metadata": {
    "id": "oyXlHL6jUYrN"
   },
   "source": [
    "Es hora de aplicar la \"capa\" de vectorizacion, pero keras sólo admite una entrada o feature por capa así que hay que crear tres"
   ]
  },
  {
   "cell_type": "code",
   "execution_count": 75,
   "metadata": {
    "id": "J7GSyEljUYrN"
   },
   "outputs": [],
   "source": [
    "vectorizer_layers = []\n",
    "for indice,col in enumerate(text_feats):\n",
    "    vectorizer_layers.append(tf.keras.layers.TextVectorization(output_mode=\"count\"))\n",
    "    vectorizer_layers[indice].adapt(train_set[col])"
   ]
  },
  {
   "cell_type": "markdown",
   "metadata": {
    "id": "yxCgso23UYrN"
   },
   "source": [
    "Y ahora creamos el modelo con la API funcional para intregarlo todo"
   ]
  },
  {
   "cell_type": "code",
   "execution_count": 78,
   "metadata": {
    "id": "mXo6duVMUYrN"
   },
   "outputs": [],
   "source": [
    "tf.random.set_seed(43)\n",
    "normalization_layer = tf.keras.layers.Normalization()\n",
    "ordinalEncoding_layers = [tf.keras.layers.StringLookup(output_mode= \"one_hot\") for cat in categoricals] # no le damos valor, pero aquí el argumento vocabulary permite pasar una lista,\n",
    "                                                 # una tupla, un array, un tensor con los strings ordenados de forma que el primero recibira la clase 0, etc\n",
    "\n",
    "#ordinalEncoding.adapt(train_set[categoricals])\n",
    "concat_layer = tf.keras.layers.Concatenate(axis = -1)\n",
    "hidden_layer1 = tf.keras.layers.Dense(100, activation=\"relu\")\n",
    "output_layer = tf.keras.layers.Dense(10, activation = \"softmax\")\n",
    "\n",
    "\n",
    "normalization_layer.adapt(train_set[numericas].to_numpy())\n",
    "_ = [ordinalEncoding_layers[indice].adapt(train_set[col]) for indice,col in enumerate(categoricals)] # Al igual que la capa de normalización hay que hacerle su fit en este caso el método adapt\n",
    "\n",
    "earlyS = tf.keras.callbacks.EarlyStopping(patience=15, restore_best_weights= True)\n",
    "input_num = tf.keras.layers.Input(shape=(train_set[numericas].shape[1],))\n",
    "input_cats = [tf.keras.layers.Input(shape=(train_set[[col]].shape[1],), dtype = tf.string) for col in categoricals] # Importante decirle que entra una string\n",
    "\n",
    "# Añadimos las entradas para las capas de vectorizacion\n",
    "input_vects = [tf.keras.layers.Input(shape = train_set[col].shape[1:], dtype = tf.string) for col in text_feats]\n",
    "normalized = normalization_layer(input_num)\n",
    "encoded = [ordinalEncoding_layers[i](input_cats[i]) for i in range(len(ordinalEncoding_layers))]\n",
    "\n",
    "# Ahora vectorizamos\n",
    "vectorized = [vectorizer_layers[i](input_vects[i]) for i in range(len(text_feats))]\n",
    "concat = concat_layer([normalized] + encoded + vectorized)\n",
    "hidden1 = hidden_layer1(concat)\n",
    "output = output_layer(hidden1)\n",
    "\n",
    "model = tf.keras.Model(inputs=[input_num] + input_cats + input_vects, outputs=[output])\n"
   ]
  },
  {
   "cell_type": "code",
   "execution_count": 79,
   "metadata": {
    "id": "-HMwbIxUPLax"
   },
   "outputs": [],
   "source": [
    "model.compile(loss=\"sparse_categorical_crossentropy\", \\\n",
    "              optimizer=tf.keras.optimizers.SGD(learning_rate= 2e-2, momentum = 0.9),\\\n",
    "              metrics =[\"acc\"])\n"
   ]
  },
  {
   "cell_type": "code",
   "execution_count": 80,
   "metadata": {
    "id": "waK7bMrjPM4j"
   },
   "outputs": [],
   "source": [
    "numerical_data = train_set[numericas]\n",
    "categorical_data = [tf.convert_to_tensor(train_set[col].astype(str), dtype=tf.string) for col in categoricals]\n",
    "text_feat_data = [tf.convert_to_tensor(train_set[col].astype(str), dtype=tf.string) for col in text_feats]\n",
    "\n",
    "entradas = [numerical_data] + categorical_data + text_feat_data\n"
   ]
  },
  {
   "cell_type": "code",
   "execution_count": 81,
   "metadata": {
    "colab": {
     "base_uri": "https://localhost:8080/"
    },
    "id": "8TVIxqQVUYrN",
    "outputId": "5875e92a-5319-43c4-9d77-17839e50bfcc"
   },
   "outputs": [
    {
     "name": "stdout",
     "output_type": "stream",
     "text": [
      "Epoch 1/150\n",
      "\u001b[1m63/63\u001b[0m \u001b[32m━━━━━━━━━━━━━━━━━━━━\u001b[0m\u001b[37m\u001b[0m \u001b[1m2s\u001b[0m 16ms/step - acc: 0.2478 - loss: 2.0905 - val_acc: 0.3964 - val_loss: 1.7003\n",
      "Epoch 2/150\n",
      "\u001b[1m63/63\u001b[0m \u001b[32m━━━━━━━━━━━━━━━━━━━━\u001b[0m\u001b[37m\u001b[0m \u001b[1m1s\u001b[0m 9ms/step - acc: 0.4957 - loss: 1.3615 - val_acc: 0.4205 - val_loss: 1.5721\n",
      "Epoch 3/150\n",
      "\u001b[1m63/63\u001b[0m \u001b[32m━━━━━━━━━━━━━━━━━━━━\u001b[0m\u001b[37m\u001b[0m \u001b[1m1s\u001b[0m 9ms/step - acc: 0.7307 - loss: 0.8921 - val_acc: 0.4266 - val_loss: 1.6116\n",
      "Epoch 4/150\n",
      "\u001b[1m63/63\u001b[0m \u001b[32m━━━━━━━━━━━━━━━━━━━━\u001b[0m\u001b[37m\u001b[0m \u001b[1m1s\u001b[0m 9ms/step - acc: 0.8866 - loss: 0.5388 - val_acc: 0.4326 - val_loss: 1.7215\n",
      "Epoch 5/150\n",
      "\u001b[1m63/63\u001b[0m \u001b[32m━━━━━━━━━━━━━━━━━━━━\u001b[0m\u001b[37m\u001b[0m \u001b[1m1s\u001b[0m 8ms/step - acc: 0.9644 - loss: 0.3119 - val_acc: 0.4366 - val_loss: 1.7768\n",
      "Epoch 6/150\n",
      "\u001b[1m63/63\u001b[0m \u001b[32m━━━━━━━━━━━━━━━━━━━━\u001b[0m\u001b[37m\u001b[0m \u001b[1m1s\u001b[0m 9ms/step - acc: 0.9839 - loss: 0.1888 - val_acc: 0.4447 - val_loss: 1.7829\n",
      "Epoch 7/150\n",
      "\u001b[1m63/63\u001b[0m \u001b[32m━━━━━━━━━━━━━━━━━━━━\u001b[0m\u001b[37m\u001b[0m \u001b[1m1s\u001b[0m 9ms/step - acc: 0.9933 - loss: 0.1221 - val_acc: 0.4245 - val_loss: 1.7928\n",
      "Epoch 8/150\n",
      "\u001b[1m63/63\u001b[0m \u001b[32m━━━━━━━━━━━━━━━━━━━━\u001b[0m\u001b[37m\u001b[0m \u001b[1m1s\u001b[0m 16ms/step - acc: 0.9962 - loss: 0.0868 - val_acc: 0.4245 - val_loss: 1.8725\n",
      "Epoch 9/150\n",
      "\u001b[1m63/63\u001b[0m \u001b[32m━━━━━━━━━━━━━━━━━━━━\u001b[0m\u001b[37m\u001b[0m \u001b[1m1s\u001b[0m 12ms/step - acc: 0.9980 - loss: 0.0629 - val_acc: 0.4386 - val_loss: 1.9912\n",
      "Epoch 10/150\n",
      "\u001b[1m63/63\u001b[0m \u001b[32m━━━━━━━━━━━━━━━━━━━━\u001b[0m\u001b[37m\u001b[0m \u001b[1m1s\u001b[0m 8ms/step - acc: 0.9988 - loss: 0.0480 - val_acc: 0.4427 - val_loss: 2.0439\n",
      "Epoch 11/150\n",
      "\u001b[1m63/63\u001b[0m \u001b[32m━━━━━━━━━━━━━━━━━━━━\u001b[0m\u001b[37m\u001b[0m \u001b[1m1s\u001b[0m 16ms/step - acc: 1.0000 - loss: 0.0391 - val_acc: 0.4346 - val_loss: 2.0844\n",
      "Epoch 12/150\n",
      "\u001b[1m63/63\u001b[0m \u001b[32m━━━━━━━━━━━━━━━━━━━━\u001b[0m\u001b[37m\u001b[0m \u001b[1m1s\u001b[0m 14ms/step - acc: 1.0000 - loss: 0.0325 - val_acc: 0.4346 - val_loss: 2.1171\n",
      "Epoch 13/150\n",
      "\u001b[1m63/63\u001b[0m \u001b[32m━━━━━━━━━━━━━━━━━━━━\u001b[0m\u001b[37m\u001b[0m \u001b[1m1s\u001b[0m 9ms/step - acc: 1.0000 - loss: 0.0276 - val_acc: 0.4326 - val_loss: 2.1434\n",
      "Epoch 14/150\n",
      "\u001b[1m63/63\u001b[0m \u001b[32m━━━━━━━━━━━━━━━━━━━━\u001b[0m\u001b[37m\u001b[0m \u001b[1m1s\u001b[0m 8ms/step - acc: 1.0000 - loss: 0.0238 - val_acc: 0.4326 - val_loss: 2.1624\n",
      "Epoch 15/150\n",
      "\u001b[1m63/63\u001b[0m \u001b[32m━━━━━━━━━━━━━━━━━━━━\u001b[0m\u001b[37m\u001b[0m \u001b[1m1s\u001b[0m 9ms/step - acc: 1.0000 - loss: 0.0208 - val_acc: 0.4346 - val_loss: 2.1782\n",
      "Epoch 16/150\n",
      "\u001b[1m63/63\u001b[0m \u001b[32m━━━━━━━━━━━━━━━━━━━━\u001b[0m\u001b[37m\u001b[0m \u001b[1m1s\u001b[0m 8ms/step - acc: 1.0000 - loss: 0.0184 - val_acc: 0.4306 - val_loss: 2.1934\n",
      "Epoch 17/150\n",
      "\u001b[1m63/63\u001b[0m \u001b[32m━━━━━━━━━━━━━━━━━━━━\u001b[0m\u001b[37m\u001b[0m \u001b[1m1s\u001b[0m 8ms/step - acc: 1.0000 - loss: 0.0164 - val_acc: 0.4266 - val_loss: 2.2089\n"
     ]
    }
   ],
   "source": [
    "history = model.fit(entradas, y_num, validation_split = 0.2, epochs=150, callbacks= earlyS)\n"
   ]
  },
  {
   "cell_type": "code",
   "execution_count": 82,
   "metadata": {
    "id": "9jQa5F8SQJEE"
   },
   "outputs": [],
   "source": [
    "numerical_test = test_set[numericas]\n",
    "categorical_test = [tf.convert_to_tensor(test_set[col].astype(str), dtype=tf.string) for col in categoricals]\n",
    "text_feat_test = [tf.convert_to_tensor(test_set[col].astype(str), dtype=tf.string) for col in text_feats]\n",
    "\n",
    "entradas_test = [numerical_test] + categorical_test + text_feat_test\n"
   ]
  },
  {
   "cell_type": "code",
   "execution_count": 83,
   "metadata": {
    "colab": {
     "base_uri": "https://localhost:8080/"
    },
    "id": "tf4WjTH4UYrN",
    "outputId": "7221c395-4e4a-4720-a9c0-eb82dd82c5bd"
   },
   "outputs": [
    {
     "name": "stdout",
     "output_type": "stream",
     "text": [
      "\u001b[1m20/20\u001b[0m \u001b[32m━━━━━━━━━━━━━━━━━━━━\u001b[0m\u001b[37m\u001b[0m \u001b[1m0s\u001b[0m 7ms/step - acc: 0.4277 - loss: 1.5014\n"
     ]
    },
    {
     "data": {
      "text/plain": [
       "[1.5271323919296265, 0.4276527464389801]"
      ]
     },
     "execution_count": 83,
     "metadata": {},
     "output_type": "execute_result"
    }
   ],
   "source": [
    "model.evaluate(entradas_test, test_set[target])\n"
   ]
  },
  {
   "cell_type": "code",
   "execution_count": 84,
   "metadata": {
    "colab": {
     "base_uri": "https://localhost:8080/"
    },
    "id": "PXY6K7HaUYrN",
    "outputId": "048658ab-6f05-457e-cbbc-f17bf07aa896"
   },
   "outputs": [
    {
     "name": "stdout",
     "output_type": "stream",
     "text": [
      "\u001b[1m20/20\u001b[0m \u001b[32m━━━━━━━━━━━━━━━━━━━━\u001b[0m\u001b[37m\u001b[0m \u001b[1m1s\u001b[0m 16ms/step\n"
     ]
    }
   ],
   "source": [
    "y_pred = [np.argmax(pred) for pred in model.predict(entradas_test)]"
   ]
  },
  {
   "cell_type": "code",
   "execution_count": 85,
   "metadata": {
    "colab": {
     "base_uri": "https://localhost:8080/"
    },
    "id": "cX95MF0DUYrN",
    "outputId": "dcadf50a-c4d4-4b5f-8745-847fceaa580b",
    "scrolled": true
   },
   "outputs": [
    {
     "name": "stdout",
     "output_type": "stream",
     "text": [
      "              precision    recall  f1-score   support\n",
      "\n",
      "           0       0.61      0.89      0.72        62\n",
      "           1       0.00      0.00      0.00        16\n",
      "           2       1.00      0.09      0.16        23\n",
      "           3       0.00      0.00      0.00        18\n",
      "           4       0.00      0.00      0.00        27\n",
      "           5       1.00      0.05      0.10        38\n",
      "           6       0.24      0.14      0.18        83\n",
      "           7       0.25      0.64      0.36        94\n",
      "           8       0.43      0.05      0.10       110\n",
      "           9       0.59      0.85      0.70       151\n",
      "\n",
      "    accuracy                           0.43       622\n",
      "   macro avg       0.41      0.27      0.23       622\n",
      "weighted avg       0.45      0.43      0.35       622\n",
      "\n"
     ]
    },
    {
     "name": "stderr",
     "output_type": "stream",
     "text": [
      "/usr/local/lib/python3.11/dist-packages/sklearn/metrics/_classification.py:1565: UndefinedMetricWarning: Precision is ill-defined and being set to 0.0 in labels with no predicted samples. Use `zero_division` parameter to control this behavior.\n",
      "  _warn_prf(average, modifier, f\"{metric.capitalize()} is\", len(result))\n",
      "/usr/local/lib/python3.11/dist-packages/sklearn/metrics/_classification.py:1565: UndefinedMetricWarning: Precision is ill-defined and being set to 0.0 in labels with no predicted samples. Use `zero_division` parameter to control this behavior.\n",
      "  _warn_prf(average, modifier, f\"{metric.capitalize()} is\", len(result))\n",
      "/usr/local/lib/python3.11/dist-packages/sklearn/metrics/_classification.py:1565: UndefinedMetricWarning: Precision is ill-defined and being set to 0.0 in labels with no predicted samples. Use `zero_division` parameter to control this behavior.\n",
      "  _warn_prf(average, modifier, f\"{metric.capitalize()} is\", len(result))\n"
     ]
    }
   ],
   "source": [
    "print(classification_report(test_set[target], y_pred))"
   ]
  },
  {
   "cell_type": "markdown",
   "metadata": {
    "id": "7oX20nZfUYrN"
   },
   "source": [
    "Desbalanceado y el recall medio cae. Además son demasiadas features.  \n",
    "\n",
    "En el siguiente notebook, de caracter muy teórico, veremos una forma más potente de vectorizar texto y para terminar esta veamos como \"compensar\"."
   ]
  },
  {
   "cell_type": "code",
   "execution_count": 86,
   "metadata": {
    "colab": {
     "base_uri": "https://localhost:8080/",
     "height": 429
    },
    "id": "8nCYL3EfUYrN",
    "outputId": "77a31b32-c92e-4263-86c7-58d33db2a6f5"
   },
   "outputs": [
    {
     "data": {
      "text/html": [
       "<div>\n",
       "<style scoped>\n",
       "    .dataframe tbody tr th:only-of-type {\n",
       "        vertical-align: middle;\n",
       "    }\n",
       "\n",
       "    .dataframe tbody tr th {\n",
       "        vertical-align: top;\n",
       "    }\n",
       "\n",
       "    .dataframe thead th {\n",
       "        text-align: right;\n",
       "    }\n",
       "</style>\n",
       "<table border=\"1\" class=\"dataframe\">\n",
       "  <thead>\n",
       "    <tr style=\"text-align: right;\">\n",
       "      <th></th>\n",
       "      <th>proportion</th>\n",
       "    </tr>\n",
       "    <tr>\n",
       "      <th>rating</th>\n",
       "      <th></th>\n",
       "    </tr>\n",
       "  </thead>\n",
       "  <tbody>\n",
       "    <tr>\n",
       "      <th>9</th>\n",
       "      <td>0.237827</td>\n",
       "    </tr>\n",
       "    <tr>\n",
       "      <th>7</th>\n",
       "      <td>0.186720</td>\n",
       "    </tr>\n",
       "    <tr>\n",
       "      <th>8</th>\n",
       "      <td>0.148893</td>\n",
       "    </tr>\n",
       "    <tr>\n",
       "      <th>6</th>\n",
       "      <td>0.107445</td>\n",
       "    </tr>\n",
       "    <tr>\n",
       "      <th>0</th>\n",
       "      <td>0.097787</td>\n",
       "    </tr>\n",
       "    <tr>\n",
       "      <th>4</th>\n",
       "      <td>0.053119</td>\n",
       "    </tr>\n",
       "    <tr>\n",
       "      <th>2</th>\n",
       "      <td>0.049497</td>\n",
       "    </tr>\n",
       "    <tr>\n",
       "      <th>5</th>\n",
       "      <td>0.047887</td>\n",
       "    </tr>\n",
       "    <tr>\n",
       "      <th>3</th>\n",
       "      <td>0.035815</td>\n",
       "    </tr>\n",
       "    <tr>\n",
       "      <th>1</th>\n",
       "      <td>0.035010</td>\n",
       "    </tr>\n",
       "  </tbody>\n",
       "</table>\n",
       "</div><br><label><b>dtype:</b> float64</label>"
      ],
      "text/plain": [
       "rating\n",
       "9    0.237827\n",
       "7    0.186720\n",
       "8    0.148893\n",
       "6    0.107445\n",
       "0    0.097787\n",
       "4    0.053119\n",
       "2    0.049497\n",
       "5    0.047887\n",
       "3    0.035815\n",
       "1    0.035010\n",
       "Name: proportion, dtype: float64"
      ]
     },
     "execution_count": 86,
     "metadata": {},
     "output_type": "execute_result"
    }
   ],
   "source": [
    "y_num.value_counts(True)"
   ]
  },
  {
   "cell_type": "code",
   "execution_count": 87,
   "metadata": {
    "colab": {
     "base_uri": "https://localhost:8080/"
    },
    "id": "xLSeUTMvUYrO",
    "outputId": "47cddc36-2356-40cd-8053-2348f3c26c7f"
   },
   "outputs": [
    {
     "data": {
      "text/plain": [
       "array([0, 1, 2, 3, 4, 5, 6, 7, 8, 9])"
      ]
     },
     "execution_count": 87,
     "metadata": {},
     "output_type": "execute_result"
    }
   ],
   "source": [
    "from sklearn.utils.class_weight import compute_class_weight\n",
    "\n",
    "clases = np.array(sorted(y_num.unique()))\n",
    "clases"
   ]
  },
  {
   "cell_type": "code",
   "execution_count": 88,
   "metadata": {
    "colab": {
     "base_uri": "https://localhost:8080/"
    },
    "id": "DJrmFe_hUYrO",
    "outputId": "e886afac-afbe-4b3f-a0c2-5c29e36aafca"
   },
   "outputs": [
    {
     "data": {
      "text/plain": [
       "{0: 1.022633744855967,\n",
       " 1: 2.8563218390804597,\n",
       " 2: 2.0203252032520327,\n",
       " 3: 2.792134831460674,\n",
       " 4: 1.8825757575757576,\n",
       " 5: 2.088235294117647,\n",
       " 6: 0.9307116104868914,\n",
       " 7: 0.5355603448275862,\n",
       " 8: 0.6716216216216216,\n",
       " 9: 0.42047377326565144}"
      ]
     },
     "execution_count": 88,
     "metadata": {},
     "output_type": "execute_result"
    }
   ],
   "source": [
    "dict_weight = {clases[i]:peso for i,peso in enumerate(compute_class_weight(\"balanced\",classes= clases, y = y_num))}\n",
    "dict_weight"
   ]
  },
  {
   "cell_type": "code",
   "execution_count": 89,
   "metadata": {
    "id": "UEZ7oayZQjEA"
   },
   "outputs": [],
   "source": [
    "model.compile(loss=\"sparse_categorical_crossentropy\", \\\n",
    "              optimizer=tf.keras.optimizers.SGD(learning_rate= 1e-1, momentum = 0.9, nesterov = True),\\\n",
    "              metrics =[\"acc\"])\n"
   ]
  },
  {
   "cell_type": "code",
   "execution_count": 90,
   "metadata": {
    "colab": {
     "base_uri": "https://localhost:8080/"
    },
    "id": "RLVbxUPjUYrO",
    "outputId": "24061026-497c-4346-80e7-03b8f07b886f",
    "scrolled": true
   },
   "outputs": [
    {
     "name": "stdout",
     "output_type": "stream",
     "text": [
      "Epoch 1/10\n",
      "\u001b[1m63/63\u001b[0m \u001b[32m━━━━━━━━━━━━━━━━━━━━\u001b[0m\u001b[37m\u001b[0m \u001b[1m3s\u001b[0m 17ms/step - acc: 0.6231 - loss: 1.3116 - val_acc: 0.3924 - val_loss: 1.8081\n",
      "Epoch 2/10\n",
      "\u001b[1m63/63\u001b[0m \u001b[32m━━━━━━━━━━━━━━━━━━━━\u001b[0m\u001b[37m\u001b[0m \u001b[1m1s\u001b[0m 9ms/step - acc: 0.8747 - loss: 0.4068 - val_acc: 0.3964 - val_loss: 2.3721\n",
      "Epoch 3/10\n",
      "\u001b[1m63/63\u001b[0m \u001b[32m━━━━━━━━━━━━━━━━━━━━\u001b[0m\u001b[37m\u001b[0m \u001b[1m1s\u001b[0m 9ms/step - acc: 0.9717 - loss: 0.0801 - val_acc: 0.4205 - val_loss: 2.6479\n",
      "Epoch 4/10\n",
      "\u001b[1m63/63\u001b[0m \u001b[32m━━━━━━━━━━━━━━━━━━━━\u001b[0m\u001b[37m\u001b[0m \u001b[1m1s\u001b[0m 9ms/step - acc: 0.9938 - loss: 0.0256 - val_acc: 0.4205 - val_loss: 2.6747\n",
      "Epoch 5/10\n",
      "\u001b[1m63/63\u001b[0m \u001b[32m━━━━━━━━━━━━━━━━━━━━\u001b[0m\u001b[37m\u001b[0m \u001b[1m1s\u001b[0m 10ms/step - acc: 0.9992 - loss: 0.0112 - val_acc: 0.4125 - val_loss: 2.7043\n",
      "Epoch 6/10\n",
      "\u001b[1m63/63\u001b[0m \u001b[32m━━━━━━━━━━━━━━━━━━━━\u001b[0m\u001b[37m\u001b[0m \u001b[1m1s\u001b[0m 10ms/step - acc: 0.9989 - loss: 0.0060 - val_acc: 0.4306 - val_loss: 2.7474\n",
      "Epoch 7/10\n",
      "\u001b[1m63/63\u001b[0m \u001b[32m━━━━━━━━━━━━━━━━━━━━\u001b[0m\u001b[37m\u001b[0m \u001b[1m1s\u001b[0m 9ms/step - acc: 1.0000 - loss: 0.0032 - val_acc: 0.4306 - val_loss: 2.8156\n",
      "Epoch 8/10\n",
      "\u001b[1m63/63\u001b[0m \u001b[32m━━━━━━━━━━━━━━━━━━━━\u001b[0m\u001b[37m\u001b[0m \u001b[1m1s\u001b[0m 9ms/step - acc: 1.0000 - loss: 0.0025 - val_acc: 0.4326 - val_loss: 2.8348\n",
      "Epoch 9/10\n",
      "\u001b[1m63/63\u001b[0m \u001b[32m━━━━━━━━━━━━━━━━━━━━\u001b[0m\u001b[37m\u001b[0m \u001b[1m1s\u001b[0m 9ms/step - acc: 1.0000 - loss: 0.0021 - val_acc: 0.4326 - val_loss: 2.8482\n",
      "Epoch 10/10\n",
      "\u001b[1m63/63\u001b[0m \u001b[32m━━━━━━━━━━━━━━━━━━━━\u001b[0m\u001b[37m\u001b[0m \u001b[1m1s\u001b[0m 9ms/step - acc: 1.0000 - loss: 0.0018 - val_acc: 0.4326 - val_loss: 2.8641\n"
     ]
    }
   ],
   "source": [
    "history = model.fit(entradas,\n",
    "                    y_num.to_numpy(),\n",
    "                    validation_split = 0.2,\n",
    "                    epochs=10,\n",
    "                    callbacks= earlyS,\n",
    "                    class_weight= dict_weight)"
   ]
  },
  {
   "cell_type": "code",
   "execution_count": 91,
   "metadata": {
    "colab": {
     "base_uri": "https://localhost:8080/"
    },
    "id": "3yCEj9FsUYrO",
    "outputId": "b14853eb-16a9-47b4-88fd-9158cc5eeb41"
   },
   "outputs": [
    {
     "name": "stdout",
     "output_type": "stream",
     "text": [
      "\u001b[1m20/20\u001b[0m \u001b[32m━━━━━━━━━━━━━━━━━━━━\u001b[0m\u001b[37m\u001b[0m \u001b[1m0s\u001b[0m 11ms/step - acc: 0.4218 - loss: 1.6723\n"
     ]
    },
    {
     "data": {
      "text/plain": [
       "[1.753362774848938, 0.40353697538375854]"
      ]
     },
     "execution_count": 91,
     "metadata": {},
     "output_type": "execute_result"
    }
   ],
   "source": [
    "model.evaluate(entradas_test, test_set[target].to_numpy())"
   ]
  },
  {
   "cell_type": "code",
   "execution_count": 92,
   "metadata": {
    "colab": {
     "base_uri": "https://localhost:8080/"
    },
    "id": "3FJ6yWT7UYrO",
    "outputId": "c1bab449-4110-4873-edcb-a9c296998e72"
   },
   "outputs": [
    {
     "name": "stdout",
     "output_type": "stream",
     "text": [
      "\u001b[1m20/20\u001b[0m \u001b[32m━━━━━━━━━━━━━━━━━━━━\u001b[0m\u001b[37m\u001b[0m \u001b[1m1s\u001b[0m 18ms/step\n"
     ]
    }
   ],
   "source": [
    "y_pred = [np.argmax(pred) for pred in model.predict(entradas_test)]"
   ]
  },
  {
   "cell_type": "code",
   "execution_count": 93,
   "metadata": {
    "colab": {
     "base_uri": "https://localhost:8080/"
    },
    "id": "cb1zuwz7UYrO",
    "outputId": "0063603b-4b12-4462-f101-3d19095fabb3"
   },
   "outputs": [
    {
     "name": "stdout",
     "output_type": "stream",
     "text": [
      "              precision    recall  f1-score   support\n",
      "\n",
      "           0       0.73      0.76      0.75        62\n",
      "           1       0.18      0.12      0.15        16\n",
      "           2       0.19      0.22      0.20        23\n",
      "           3       0.09      0.17      0.12        18\n",
      "           4       0.12      0.41      0.19        27\n",
      "           5       0.36      0.32      0.34        38\n",
      "           6       0.12      0.04      0.06        83\n",
      "           7       0.31      0.47      0.37        94\n",
      "           8       0.46      0.12      0.19       110\n",
      "           9       0.65      0.74      0.69       151\n",
      "\n",
      "    accuracy                           0.40       622\n",
      "   macro avg       0.32      0.33      0.30       622\n",
      "weighted avg       0.42      0.40      0.38       622\n",
      "\n"
     ]
    }
   ],
   "source": [
    "print(classification_report(test_set[target], y_pred))"
   ]
  },
  {
   "cell_type": "code",
   "execution_count": null,
   "metadata": {
    "id": "kHG5cv5TUYrO"
   },
   "outputs": [],
   "source": []
  }
 ],
 "metadata": {
  "accelerator": "GPU",
  "colab": {
   "gpuType": "T4",
   "provenance": [],
   "toc_visible": true
  },
  "kernelspec": {
   "display_name": "Python 3 (ipykernel)",
   "language": "python",
   "name": "python3"
  },
  "language_info": {
   "codemirror_mode": {
    "name": "ipython",
    "version": 3
   },
   "file_extension": ".py",
   "mimetype": "text/x-python",
   "name": "python",
   "nbconvert_exporter": "python",
   "pygments_lexer": "ipython3",
   "version": "3.12.6"
  }
 },
 "nbformat": 4,
 "nbformat_minor": 4
}
